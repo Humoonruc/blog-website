{
 "cells": [
  {
   "cell_type": "markdown",
   "id": "aab03581-8051-481f-831e-e97bb4a64516",
   "metadata": {},
   "source": [
    "# pygame"
   ]
  },
  {
   "cell_type": "code",
   "execution_count": 1,
   "id": "2f6962e7-20ec-490f-8ff0-9c9e0fe39903",
   "metadata": {},
   "outputs": [
    {
     "name": "stdout",
     "output_type": "stream",
     "text": [
      "pygame 2.1.2 (SDL 2.0.18, Python 3.10.5)\n",
      "Hello from the pygame community. https://www.pygame.org/contribute.html\n"
     ]
    }
   ],
   "source": [
    "import time\n",
    "import pygame\n",
    "import random\n",
    "import os"
   ]
  },
  {
   "cell_type": "code",
   "execution_count": 2,
   "id": "f28afc90-de19-42b4-8dec-9966480d8964",
   "metadata": {},
   "outputs": [],
   "source": [
    "def play_music(file):\n",
    "    pygame.mixer.init()\n",
    "    pygame.mixer.music.load(file)\n",
    "    pygame.mixer.music.play()\n",
    "    time.sleep(10)\n",
    "    pygame.mixer.music.stop()"
   ]
  },
  {
   "cell_type": "code",
   "execution_count": 3,
   "id": "c1e0e073-0704-4ea8-89a0-2a1586dd8ed4",
   "metadata": {},
   "outputs": [],
   "source": [
    "def shuffle_play():\n",
    "    dir_list = os.listdir(r\"C:\\Users\\humoo\\OneDrive\\ICT\\Website\\static\\notes\\Programming-Language\\Python\\Modules\\music\")\n",
    "    random.shuffle(dir_list)\n",
    "    file = r\"C:\\Users\\humoo\\OneDrive\\ICT\\Website\\static\\notes\\Programming-Language\\Python\\Modules\\music/\" + random.choice(dir_list)\n",
    "    play_music(file)"
   ]
  },
  {
   "cell_type": "code",
   "execution_count": 4,
   "id": "c0ea2965-d123-430c-b759-6b7cb97be027",
   "metadata": {},
   "outputs": [],
   "source": [
    "def specific_play():\n",
    "    file = r\"C:\\Users\\humoo\\OneDrive\\ICT\\Website\\static\\notes\\Programming-Language\\Python\\Modules\\music/杭州-西子夜.mp3\"\n",
    "    play_music(file)"
   ]
  },
  {
   "cell_type": "code",
   "execution_count": 5,
   "id": "5257c968-0a79-4535-9568-7c26184dd486",
   "metadata": {},
   "outputs": [],
   "source": [
    "def display():\n",
    "    print(\"本程序由 Humoon 制作\")"
   ]
  },
  {
   "cell_type": "code",
   "execution_count": 8,
   "id": "2baec21e-0d3d-461f-9547-98b208eafbe9",
   "metadata": {},
   "outputs": [],
   "source": [
    "def main():\n",
    "    display()\n",
    "    while True:\n",
    "        time.sleep(1)\n",
    "        task_time = time.strftime(\"%H:%M:%S\")\n",
    "        print(\"\\r当前系统时间为\", task_time, end = \"\")\n",
    "        if task_time == \"11:55:00\":\n",
    "            specific_play()\n",
    "            break\n",
    "        if task_time == \"16:00:00\":\n",
    "            shuffle_play\n",
    "            break"
   ]
  },
  {
   "cell_type": "code",
   "execution_count": 9,
   "id": "609a2dd9-8b89-4309-a60f-d3c93e0ae776",
   "metadata": {},
   "outputs": [
    {
     "name": "stdout",
     "output_type": "stream",
     "text": [
      "本程序由 Humoon 制作\n",
      "当前系统时间为 11:41:00"
     ]
    }
   ],
   "source": [
    "main()"
   ]
  }
 ],
 "metadata": {
  "kernelspec": {
   "display_name": "Python 3 (ipykernel)",
   "language": "python",
   "name": "python3"
  },
  "language_info": {
   "codemirror_mode": {
    "name": "ipython",
    "version": 3
   },
   "file_extension": ".py",
   "mimetype": "text/x-python",
   "name": "python",
   "nbconvert_exporter": "python",
   "pygments_lexer": "ipython3",
   "version": "3.10.5"
  },
  "toc-autonumbering": true
 },
 "nbformat": 4,
 "nbformat_minor": 5
}
