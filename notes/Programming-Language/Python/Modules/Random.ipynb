{
 "cells": [
  {
   "cell_type": "markdown",
   "id": "bcd63f90-a057-48a5-822a-7b06166ce0da",
   "metadata": {},
   "source": [
    "# random\n",
    "\n",
    "| 函数                        | 描述                                    |\n",
    "| --------------------------- | --------------------------------------- |\n",
    "| random.seed()               | 设置随机种子                            |\n",
    "| random.random()             | 获得 [0, 1] 之间的随机数                |\n",
    "| random.randint(a, b)        | 生成一个[a, b]之间的整数                |\n",
    "| random.randrange(m, n[, k]) | 生成一个[m, n)之间以 k 为步长的随机整数 |\n",
    "| random.getrandbits(k)       | 生成一个 k 比特长的随机整数             |\n",
    "| random.uniform(a, b)        | 生成一个[a, b]之间的随机小数            |\n",
    "| random.choice(seq)          | 从序列 seq 中随机选取一个元素           |\n",
    "| random.shuffle(seq)         | 元素随机排列，返回打乱后的序列          |\n",
    "| random.sample(seq, n)       | 随机抽样，size 为 n                    |\n"
   ]
  },
  {
   "cell_type": "code",
   "execution_count": 12,
   "id": "5d3689b4-031f-4439-a6d6-5296397f0652",
   "metadata": {},
   "outputs": [
    {
     "name": "stdout",
     "output_type": "stream",
     "text": [
      "0.26523812446358286\n",
      "0.25306257180673375\n",
      "0.5337784261242314\n",
      "0.7925810407290259\n",
      "0.9430766966744943\n",
      "0.6236885118054234\n",
      "0.2521863949248154\n",
      "0.4417958718247661\n",
      "0.9129336288376008\n",
      "0.48811666965828293\n",
      "\n",
      "g\n"
     ]
    }
   ],
   "source": [
    "import random\n",
    "\n",
    "\n",
    "for i in range(10) :\n",
    "    num = random.random()\n",
    "    print(num)\n",
    "\n",
    "print(\"\\n\" + random.choice(\"asdfghjkl;\"))"
   ]
  },
  {
   "cell_type": "code",
   "execution_count": null,
   "id": "c57cb8f1-7d6a-4d01-a60e-49425d541b0b",
   "metadata": {},
   "outputs": [],
   "source": []
  },
  {
   "cell_type": "code",
   "execution_count": null,
   "id": "aa73858f-5d8f-474c-a6b0-b5c68803036e",
   "metadata": {},
   "outputs": [],
   "source": []
  }
 ],
 "metadata": {
  "kernelspec": {
   "display_name": "Python 3 (ipykernel)",
   "language": "python",
   "name": "python3"
  },
  "language_info": {
   "codemirror_mode": {
    "name": "ipython",
    "version": 3
   },
   "file_extension": ".py",
   "mimetype": "text/x-python",
   "name": "python",
   "nbconvert_exporter": "python",
   "pygments_lexer": "ipython3",
   "version": "3.10.5"
  },
  "toc-autonumbering": true
 },
 "nbformat": 4,
 "nbformat_minor": 5
}
