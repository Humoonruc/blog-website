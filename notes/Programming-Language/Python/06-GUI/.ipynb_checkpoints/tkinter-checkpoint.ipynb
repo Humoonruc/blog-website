{
 "cells": [
  {
   "cell_type": "markdown",
   "id": "6a2c627d-3a0e-4a28-8466-012b57ead282",
   "metadata": {},
   "source": [
    "# Basic"
   ]
  },
  {
   "cell_type": "code",
   "execution_count": 1,
   "id": "4d09be28-9362-4510-838a-a6ab421c1759",
   "metadata": {},
   "outputs": [],
   "source": [
    "import tkinter as tk\n",
    "\n",
    "window = tk.Tk()\n",
    "window.title(\"My window\")\n",
    "window.geometry(\"800x600\")\n",
    "\n",
    "var = tk.StringVar()\n",
    "var.set(\"你打我呀？\")\n",
    "\n",
    "label = tk.Label(window,\n",
    "                 textvariable=var,\n",
    "                 bg=\"orange\",\n",
    "                 font=(\"Consolas\", 12),\n",
    "                 width=30,\n",
    "                 height=2)\n",
    "label.pack()\n",
    "\n",
    "on_hit = False\n",
    "\n",
    "\n",
    "def hit_me():\n",
    "    global on_hit\n",
    "    # 不断切换 on_hit 的状态\n",
    "    if on_hit == False:\n",
    "        on_hit = True\n",
    "        var.set(\"你居然真的打我\")\n",
    "    else:\n",
    "        on_hit = False\n",
    "        var.set(\"啊\")\n",
    "\n",
    "\n",
    "button = tk.Button(window,\n",
    "                   text=\"打头\",\n",
    "                   font=(\"黑体\", 12),\n",
    "                   width=20,\n",
    "                   height=1,\n",
    "                   command=hit_me)\n",
    "button.pack()\n",
    "\n",
    "e = tk.Entry(window, show=\"*\") # 输入会被 \"*\" 遮挡；show 为 None 时显示明文\n",
    "e.pack()\n",
    "\n",
    "window.mainloop()"
   ]
  },
  {
   "cell_type": "markdown",
   "id": "82c05945-412f-413c-83ae-bd38c1a9e517",
   "metadata": {},
   "source": [
    "# 行列布局"
   ]
  },
  {
   "cell_type": "code",
   "execution_count": 2,
   "id": "5e55f5a1-5d8d-4981-a2dc-329999eae567",
   "metadata": {},
   "outputs": [],
   "source": [
    "import tkinter as tk\n",
    "\n",
    "window = tk.Tk()\n",
    "window.title(\"My window\")\n",
    "window.geometry(\"800x600\")\n",
    "\n",
    "label1 = tk.Label(window,\n",
    "                  text=\"一号标签\",\n",
    "                  bg=\"Pink\",\n",
    "                  font=(\"Consolas\", 12),\n",
    "                  width=30,\n",
    "                  height=2)\n",
    "\n",
    "label2 = tk.Label(window,\n",
    "                  text=\"二号标签\",\n",
    "                  bg=\"red\",\n",
    "                  font=(\"Consolas\", 12),\n",
    "                  width=30,\n",
    "                  height=2)\n",
    "\n",
    "label3 = tk.Label(window,\n",
    "                  text=\"三号标签\",\n",
    "                  bg=\"green\",\n",
    "                  font=(\"Consolas\", 12),\n",
    "                  width=30,\n",
    "                  height=2)\n",
    "\n",
    "\n",
    "# .grid() 不能和 .pack() 一起用\n",
    "label1.grid(column=0, row=0, ipadx=50, padx=60, pady=60, columnspan=2)\n",
    "label2.grid(column=0, row=1)\n",
    "label3.grid(column=1, row=1)\n",
    "\n",
    "window.mainloop()"
   ]
  }
 ],
 "metadata": {
  "kernelspec": {
   "display_name": "Python 3 (ipykernel)",
   "language": "python",
   "name": "python3"
  },
  "language_info": {
   "codemirror_mode": {
    "name": "ipython",
    "version": 3
   },
   "file_extension": ".py",
   "mimetype": "text/x-python",
   "name": "python",
   "nbconvert_exporter": "python",
   "pygments_lexer": "ipython3",
   "version": "3.10.5"
  }
 },
 "nbformat": 4,
 "nbformat_minor": 5
}
