import tkinter as tk

window = tk.Tk()
window.title("My window")
window.geometry("800x600")

var = tk.StringVar()
var.set("你打我呀？")

label = tk.Label(window,
                 textvariable=var,
                 bg="orange",
                 font=("Consolas", 12),
                 width=30,
                 height=2)
label.pack()

on_hit = False


def hit_me():
    global on_hit
    # 不断切换 on_hit 的状态
    if on_hit == False:
        on_hit = True
        var.set("你居然真的打我")
    else:
        on_hit = False
        var.set("啊")


button = tk.Button(window,
                   text="打头",
                   font=("黑体", 12),
                   width=20,
                   height=1,
                   command=hit_me)
button.pack()

e = tk.Entry(window, show="*") # 输入会被 "*" 遮挡；show 为 None 时显示明文
e.pack()

window.mainloop()


import tkinter as tk

window = tk.Tk()
window.title("My window")
window.geometry("800x600")

label1 = tk.Label(window,
                  text="一号标签",
                  bg="Pink",
                  font=("Consolas", 12),
                  width=30,
                  height=2)

label2 = tk.Label(window,
                  text="二号标签",
                  bg="red",
                  font=("Consolas", 12),
                  width=30,
                  height=2)

label3 = tk.Label(window,
                  text="三号标签",
                  bg="green",
                  font=("Consolas", 12),
                  width=30,
                  height=2)


# .grid() 不能和 .pack() 一起用
label1.grid(column=0, row=0, ipadx=50, padx=60, pady=60, columnspan=2)
label2.grid(column=0, row=1)
label3.grid(column=1, row=1)

window.mainloop()
