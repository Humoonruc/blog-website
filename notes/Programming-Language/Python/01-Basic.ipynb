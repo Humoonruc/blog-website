{
 "cells": [
  {
   "cell_type": "markdown",
   "id": "65f8a044-6942-49bd-9efc-522e775c24af",
   "metadata": {},
   "source": [
    "# Basic Grammar"
   ]
  },
  {
   "cell_type": "markdown",
   "id": "1a638679-7cf9-41ff-81ad-e760a8e151dc",
   "metadata": {
    "tags": []
   },
   "source": [
    "## 标识符\n",
    "\n",
    "Python 3 中，允许非 ASCII 标识符"
   ]
  },
  {
   "cell_type": "code",
   "execution_count": 1,
   "id": "f4cf299e-73be-46b2-af8a-7bf6ba5d7004",
   "metadata": {},
   "outputs": [
    {
     "name": "stdout",
     "output_type": "stream",
     "text": [
      "5\n"
     ]
    }
   ],
   "source": [
    "θ = 5\n",
    "print(θ)"
   ]
  },
  {
   "cell_type": "markdown",
   "id": "0f94b5a1-3ca3-4c5c-981c-b876481c9e69",
   "metadata": {
    "jp-MarkdownHeadingCollapsed": true,
    "tags": []
   },
   "source": [
    "## 保留字"
   ]
  },
  {
   "cell_type": "code",
   "execution_count": 2,
   "id": "7a7ea0cf-97b2-49d8-88ff-91fbf9ae795a",
   "metadata": {},
   "outputs": [
    {
     "data": {
      "text/plain": [
       "['False',\n",
       " 'None',\n",
       " 'True',\n",
       " 'and',\n",
       " 'as',\n",
       " 'assert',\n",
       " 'async',\n",
       " 'await',\n",
       " 'break',\n",
       " 'class',\n",
       " 'continue',\n",
       " 'def',\n",
       " 'del',\n",
       " 'elif',\n",
       " 'else',\n",
       " 'except',\n",
       " 'finally',\n",
       " 'for',\n",
       " 'from',\n",
       " 'global',\n",
       " 'if',\n",
       " 'import',\n",
       " 'in',\n",
       " 'is',\n",
       " 'lambda',\n",
       " 'nonlocal',\n",
       " 'not',\n",
       " 'or',\n",
       " 'pass',\n",
       " 'raise',\n",
       " 'return',\n",
       " 'try',\n",
       " 'while',\n",
       " 'with',\n",
       " 'yield']"
      ]
     },
     "execution_count": 2,
     "metadata": {},
     "output_type": "execute_result"
    }
   ],
   "source": [
    "import keyword\n",
    "keyword.kwlist # 所有的保留字"
   ]
  },
  {
   "cell_type": "markdown",
   "id": "896c8a46-bc95-4c50-b6ec-287d7fd94373",
   "metadata": {
    "jp-MarkdownHeadingCollapsed": true,
    "tags": []
   },
   "source": [
    "## 变量\n",
    "\n",
    "自定义的变量名首尾不能都有双下划线\n",
    "\n",
    "链式赋值，一个值可以赋给多个变量（标签/指针）"
   ]
  },
  {
   "cell_type": "code",
   "execution_count": 3,
   "id": "7157a9e2-ed1c-4dfe-961a-2d8ef8edc8aa",
   "metadata": {},
   "outputs": [
    {
     "name": "stdout",
     "output_type": "stream",
     "text": [
      "183 183 183\n"
     ]
    }
   ],
   "source": [
    "n = age = chest = 183\n",
    "print(n, age, chest)"
   ]
  },
  {
   "cell_type": "markdown",
   "id": "70ba02be-3076-471d-bed3-cd3ebafb836f",
   "metadata": {},
   "source": [
    "交换赋值"
   ]
  },
  {
   "cell_type": "code",
   "execution_count": 4,
   "id": "42494e62-140f-405e-b5bb-b164b002262e",
   "metadata": {},
   "outputs": [
    {
     "name": "stdout",
     "output_type": "stream",
     "text": [
      "20 15\n"
     ]
    }
   ],
   "source": [
    "age = 15\n",
    "chest = 20\n",
    "age, chest = chest, age\n",
    "print(age, chest)"
   ]
  },
  {
   "cell_type": "markdown",
   "id": "ad2875a0-c5d3-40ed-b757-ce4301bc585b",
   "metadata": {},
   "source": [
    "## 注释\n",
    "\n",
    "单行以 `#` 开头\n",
    "\n",
    "多行注释可以用多个 `#`，还可以用一对 `'''` 或 `\"\"\"`"
   ]
  },
  {
   "cell_type": "markdown",
   "id": "d0ebe45d-af3d-45d2-8dd9-bc5247ad8eb2",
   "metadata": {},
   "source": [
    "## 缩进与空行\n",
    "\n",
    "用 `:` 和缩进表示代码块\n",
    "\n",
    "函数之间或类的方法之间用空行分隔，表示一段新的代码的开始。类和函数入口之间也用一行空行分隔，以突出函数入口的开始。\n",
    "\n",
    "空行与代码缩进不同，空行并不是 Python 语法的一部分。书写时不插入空行，Python 解释器运行也不会出错。但是空行的作用在于分隔两段不同功能或含义的代码，便于日后代码的维护或重构。"
   ]
  },
  {
   "cell_type": "markdown",
   "id": "aecd8888-d571-4db0-8854-f0986f5968cc",
   "metadata": {
    "tags": []
   },
   "source": [
    "## 表达式\n",
    "\n",
    "python 的赋值表达式没有返回值，既不能 return，也不能 print"
   ]
  },
  {
   "cell_type": "code",
   "execution_count": null,
   "id": "e9d8651d-4f9e-4859-a666-5b7c6214b32d",
   "metadata": {},
   "outputs": [],
   "source": []
  },
  {
   "cell_type": "markdown",
   "id": "5219a72e-ad05-40e2-b434-13d7352e78aa",
   "metadata": {},
   "source": [
    "## 语句\n",
    "\n",
    "### 行中语句\n",
    "\n",
    "同一行中可以使用多条语句，语句之间使用分号 `;` 分割"
   ]
  },
  {
   "cell_type": "code",
   "execution_count": 5,
   "id": "3b13de9d-d951-4c12-8503-376d1af5ec8c",
   "metadata": {},
   "outputs": [
    {
     "name": "stdout",
     "output_type": "stream",
     "text": [
      "runoob\n"
     ]
    },
    {
     "data": {
      "text/plain": [
       "7"
      ]
     },
     "execution_count": 5,
     "metadata": {},
     "output_type": "execute_result"
    }
   ],
   "source": [
    "import sys; x = 'runoob'; sys.stdout.write(x + '\\n')"
   ]
  },
  {
   "cell_type": "markdown",
   "id": "b8196f5b-6ed6-49d4-8e1c-a25c6bd1f245",
   "metadata": {},
   "source": [
    "其中 7 表示字符数：`'runoob'` 有 6 个字符，`\\n` 表示一个字符，加起来 7 个字符"
   ]
  },
  {
   "cell_type": "markdown",
   "id": "7feaecc2-b4c1-4a8e-b3f0-5f5452745129",
   "metadata": {},
   "source": [
    "### 多行语句\n",
    "\n",
    "反斜杠 `\\` 代表换行\n",
    "\n",
    "在 `[]`, `{}`, 或 `()` 中的多行语句，不需要使用反斜杠 `\\`"
   ]
  },
  {
   "cell_type": "code",
   "execution_count": 6,
   "id": "e9cdce3a-b842-47df-809f-d7c9615e62b1",
   "metadata": {},
   "outputs": [
    {
     "name": "stdout",
     "output_type": "stream",
     "text": [
      "6\n"
     ]
    }
   ],
   "source": [
    "total = 1 + \\\n",
    "        2 + \\\n",
    "        3\n",
    "print(total)"
   ]
  },
  {
   "cell_type": "code",
   "execution_count": 7,
   "id": "6cfa3fa5-4b38-4c66-ae21-bb3065f8386b",
   "metadata": {},
   "outputs": [],
   "source": [
    "total = ['item_one', 'item_two', 'item_three',\n",
    "        'item_four', 'item_five']"
   ]
  },
  {
   "cell_type": "markdown",
   "id": "a7dab4d4-646e-4713-a367-8229e8f4640e",
   "metadata": {},
   "source": [
    "## 模块\n",
    "\n",
    "- 导入模块 `import somemodule`\n",
    "- 导入函数 `from somemodule import firstfun, secondfun, ...`\n",
    "- 导入模块中的全部函数 `from somemodule import *`"
   ]
  },
  {
   "cell_type": "code",
   "execution_count": 8,
   "id": "e489a7ea-572f-40c6-8357-e9207a89d568",
   "metadata": {},
   "outputs": [
    {
     "name": "stdout",
     "output_type": "stream",
     "text": [
      "================Python import mode==========================\n",
      "命令行参数为:\n",
      "C:\\Users\\humoo\\AppData\\Local\\Programs\\Python\\Python310\\lib\\site-packages\\ipykernel_launcher.py\n",
      "-f\n",
      "C:\\Users\\humoo\\AppData\\Roaming\\jupyter\\runtime\\kernel-dc1f669a-74a2-457c-ad83-f9d374fa2b4d.json\n",
      "\n",
      " python 路径为 ['C:\\\\Users\\\\humoo\\\\OneDrive\\\\ICT\\\\Website\\\\static\\\\notes\\\\Programming-Language\\\\Python\\\\01-Basic', 'C:\\\\Users\\\\humoo\\\\AppData\\\\Local\\\\Programs\\\\Python\\\\Python310\\\\python310.zip', 'C:\\\\Users\\\\humoo\\\\AppData\\\\Local\\\\Programs\\\\Python\\\\Python310\\\\DLLs', 'C:\\\\Users\\\\humoo\\\\AppData\\\\Local\\\\Programs\\\\Python\\\\Python310\\\\lib', 'C:\\\\Users\\\\humoo\\\\AppData\\\\Local\\\\Programs\\\\Python\\\\Python310', '', 'C:\\\\Users\\\\humoo\\\\AppData\\\\Local\\\\Programs\\\\Python\\\\Python310\\\\lib\\\\site-packages', 'C:\\\\Users\\\\humoo\\\\AppData\\\\Local\\\\Programs\\\\Python\\\\Python310\\\\lib\\\\site-packages\\\\win32', 'C:\\\\Users\\\\humoo\\\\AppData\\\\Local\\\\Programs\\\\Python\\\\Python310\\\\lib\\\\site-packages\\\\win32\\\\lib', 'C:\\\\Users\\\\humoo\\\\AppData\\\\Local\\\\Programs\\\\Python\\\\Python310\\\\lib\\\\site-packages\\\\Pythonwin', 'C:\\\\Users\\\\humoo\\\\AppData\\\\Local\\\\Programs\\\\Python\\\\Python310\\\\lib\\\\site-packages\\\\IPython\\\\extensions', 'C:\\\\Users\\\\humoo\\\\.ipython']\n"
     ]
    }
   ],
   "source": [
    "print('================Python import mode==========================')\n",
    "print ('命令行参数为:')\n",
    "for i in sys.argv:\n",
    "    print (i)\n",
    "print ('\\n python 路径为',sys.path)"
   ]
  },
  {
   "cell_type": "code",
   "execution_count": 9,
   "id": "511b0478-1998-40c9-ae32-dcb1999e2ec1",
   "metadata": {},
   "outputs": [
    {
     "name": "stdout",
     "output_type": "stream",
     "text": [
      "================python from import===================================\n",
      "path: ['C:\\\\Users\\\\humoo\\\\OneDrive\\\\ICT\\\\Website\\\\static\\\\notes\\\\Programming-Language\\\\Python\\\\01-Basic', 'C:\\\\Users\\\\humoo\\\\AppData\\\\Local\\\\Programs\\\\Python\\\\Python310\\\\python310.zip', 'C:\\\\Users\\\\humoo\\\\AppData\\\\Local\\\\Programs\\\\Python\\\\Python310\\\\DLLs', 'C:\\\\Users\\\\humoo\\\\AppData\\\\Local\\\\Programs\\\\Python\\\\Python310\\\\lib', 'C:\\\\Users\\\\humoo\\\\AppData\\\\Local\\\\Programs\\\\Python\\\\Python310', '', 'C:\\\\Users\\\\humoo\\\\AppData\\\\Local\\\\Programs\\\\Python\\\\Python310\\\\lib\\\\site-packages', 'C:\\\\Users\\\\humoo\\\\AppData\\\\Local\\\\Programs\\\\Python\\\\Python310\\\\lib\\\\site-packages\\\\win32', 'C:\\\\Users\\\\humoo\\\\AppData\\\\Local\\\\Programs\\\\Python\\\\Python310\\\\lib\\\\site-packages\\\\win32\\\\lib', 'C:\\\\Users\\\\humoo\\\\AppData\\\\Local\\\\Programs\\\\Python\\\\Python310\\\\lib\\\\site-packages\\\\Pythonwin', 'C:\\\\Users\\\\humoo\\\\AppData\\\\Local\\\\Programs\\\\Python\\\\Python310\\\\lib\\\\site-packages\\\\IPython\\\\extensions', 'C:\\\\Users\\\\humoo\\\\.ipython']\n"
     ]
    }
   ],
   "source": [
    "from sys import argv,path  #  导入特定的成员\n",
    " \n",
    "print('================python from import===================================')\n",
    "print('path:',path) # 因为已经导入path成员，所以此处引用时不需要加sys.path"
   ]
  },
  {
   "cell_type": "markdown",
   "id": "7b18250d-dd11-4081-82f4-8f06384188d4",
   "metadata": {},
   "source": [
    "## 命令行参数\n",
    "\n",
    "`$ python -h` 查看"
   ]
  },
  {
   "cell_type": "markdown",
   "id": "c27935c9-6587-46bc-9b6b-a55c30f79b5b",
   "metadata": {},
   "source": [
    "## operator\n",
    "\n",
    "### 算数\n",
    "\n",
    "| 符号               | 含义                                                                    |\n",
    "|--------------------|-------------------------------------------------------------------------|\n",
    "| **算数运算符**     |                                                                         |\n",
    "| `+`                | 算数加法；<font color = \"red\">**字符串和序列的连接**</font>                                            |\n",
    "| `-`                | 算数减法；取负值                                                        |\n",
    "| `*`                | 算数乘法；将 n 个同样的字符串或序列连接起来                             |\n",
    "| `/`                | 算数除法，将**返回浮点数**                                                  |\n",
    "| `//`               | 除法**取整**，永远返回整数。若不希望出现浮点数，即使能够整除也要用`//`  |\n",
    "| `%`                | 除法取余                                                                |\n",
    "| `**`               | 幂运算，同`pow()`，第二个参数可以是小于1的小数，比如`x**0.5`即`sqrt(x)` |\n",
    "| **增强赋值操作符** |                                                                         |\n",
    "| `x op= y`          | 即`x = x op y`，先计算再赋值。Python中没有 i++ 这种语法，只能写成 i += 1                                            |\n"
   ]
  },
  {
   "cell_type": "code",
   "execution_count": 16,
   "id": "4eaa9441-3533-41f9-8dad-dccd058be211",
   "metadata": {},
   "outputs": [
    {
     "name": "stdout",
     "output_type": "stream",
     "text": [
      "25\n",
      "2\n",
      "1\n"
     ]
    }
   ],
   "source": [
    "print(5 ** 2)\n",
    "print(5 // 2)\n",
    "print(5 % 2)"
   ]
  },
  {
   "cell_type": "code",
   "execution_count": 18,
   "id": "d23783fe-c465-466a-a975-646d7bcad616",
   "metadata": {},
   "outputs": [
    {
     "name": "stdin",
     "output_type": "stream",
     "text": [
      "请输入星期数字(1-7)： 3\n"
     ]
    },
    {
     "name": "stdout",
     "output_type": "stream",
     "text": [
      "星期三\n"
     ]
    }
   ],
   "source": [
    "weekStr = '一二三四五六日'\n",
    "weekId = eval(input('请输入星期数字(1-7)：'))\n",
    "print('星期' + weekStr[weekId-1])"
   ]
  },
  {
   "cell_type": "markdown",
   "id": "ca00702b-8de7-449e-831a-ff0b11f8f68e",
   "metadata": {},
   "source": [
    "### 关系/比较\n",
    "\n",
    "`>, >=, <, <=, ==, !=, is, is not`\n",
    "\n",
    "其中，`==`只比较两个变量的值，`is`则要求两个指针指向同一个对象"
   ]
  },
  {
   "cell_type": "code",
   "execution_count": 20,
   "id": "c82d573f-9e49-469e-b26d-7808bbe5618b",
   "metadata": {},
   "outputs": [
    {
     "name": "stdout",
     "output_type": "stream",
     "text": [
      "1和True是否相等： True\n",
      "0和False是否相等： True\n",
      "1\n",
      "-1\n"
     ]
    }
   ],
   "source": [
    "print(\"1和True是否相等：\", 1 == True)\n",
    "print(\"0和False是否相等：\", 0 == False)\n",
    "\n",
    "# True 和 False 可以被当作 1 和 0 进行算术运算\n",
    "print(True + False) # 输出1\n",
    "print(False - True)  # 输出-1"
   ]
  },
  {
   "cell_type": "code",
   "execution_count": 22,
   "id": "ede8192e-486c-4770-988f-ee6a9907d330",
   "metadata": {},
   "outputs": [
    {
     "name": "stdout",
     "output_type": "stream",
     "text": [
      "True\n",
      "False\n",
      "1928088728384\n",
      "1928059746496\n"
     ]
    }
   ],
   "source": [
    "import time\n",
    "a = time.gmtime()\n",
    "b = time.gmtime()\n",
    "print(a == b) # a和b两个时间相等，输出True\n",
    "print(a is b) # a和b不是同一个对象，输出False\n",
    "print(id(a)) # a所指向的内存地址\n",
    "print(id(b)) # b所指向的内存地址"
   ]
  },
  {
   "cell_type": "markdown",
   "id": "3f54917d-3d88-4e8c-b8ef-ed3127bb0857",
   "metadata": {},
   "source": [
    "### 逻辑\n",
    "\n",
    "- `and` `or` `not`"
   ]
  },
  {
   "cell_type": "markdown",
   "id": "51a8ec26-510b-4009-9d26-b4aeb2c16e13",
   "metadata": {},
   "source": [
    "### 包含\n",
    "\n",
    "- `in` `not in`"
   ]
  },
  {
   "cell_type": "code",
   "execution_count": 15,
   "id": "507be17d-4e2e-4434-9e8d-ae6d0d9a9f0b",
   "metadata": {},
   "outputs": [
    {
     "data": {
      "text/plain": [
       "False"
      ]
     },
     "execution_count": 15,
     "metadata": {},
     "output_type": "execute_result"
    }
   ],
   "source": [
    "1 not in [1, 2, 3]"
   ]
  },
  {
   "cell_type": "code",
   "execution_count": null,
   "id": "8791102f-96f9-45c2-8ed5-5ca3e6249b4d",
   "metadata": {},
   "outputs": [],
   "source": []
  }
 ],
 "metadata": {
  "kernelspec": {
   "display_name": "Python 3 (ipykernel)",
   "language": "python",
   "name": "python3"
  },
  "language_info": {
   "codemirror_mode": {
    "name": "ipython",
    "version": 3
   },
   "file_extension": ".py",
   "mimetype": "text/x-python",
   "name": "python",
   "nbconvert_exporter": "python",
   "pygments_lexer": "ipython3",
   "version": "3.10.5"
  },
  "toc-autonumbering": true
 },
 "nbformat": 4,
 "nbformat_minor": 5
}
