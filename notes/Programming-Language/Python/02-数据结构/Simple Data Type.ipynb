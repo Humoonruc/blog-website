{
 "cells": [
  {
   "cell_type": "markdown",
   "metadata": {},
   "source": [
    "# 简单数据类型"
   ]
  },
  {
   "cell_type": "markdown",
   "metadata": {},
   "source": [
    "## 基本数据类型"
   ]
  },
  {
   "cell_type": "markdown",
   "metadata": {},
   "source": [
    "### 八个类\n",
    "\n",
    "- int\n",
    "- float\n",
    "- bool\n",
    "- str\n",
    "- list\n",
    "- tuple\n",
    "- dict\n",
    "- set\n",
    "\n",
    "有各自的适用场景，注意积累"
   ]
  },
  {
   "cell_type": "markdown",
   "metadata": {},
   "source": [
    "### 数据类型查询\n",
    "\n",
    "`type()`"
   ]
  },
  {
   "cell_type": "markdown",
   "metadata": {},
   "source": [
    "### 数据类型判断\n",
    "\n",
    "`isinstance(变量，类型)`，判断某变量是否为某类型"
   ]
  },
  {
   "cell_type": "markdown",
   "metadata": {},
   "source": [
    "### 数据类型转换\n",
    "\n",
    "| 函数          | 描述                                 |\n",
    "|---------------|--------------------------------------|\n",
    "| `bool()`      | 变为布尔值                           |\n",
    "| `int()`       | 变为整数，可以接受浮点数和（特定的）字符串。若参数为浮点数，则舍弃小数部分。               |\n",
    "| `float()`     | 变为浮点数，可以接受（特定的字符串）和整数。                           |\n",
    "| `complex()`   | 变为复数                             |\n",
    "| `str()`       | 变为字符串                           |\n",
    "| `abs()`       | 绝对值                               |\n",
    "| `divmod(x,y)` | 返回一个序列，两个元素分别为商和余数 |"
   ]
  },
  {
   "cell_type": "code",
   "execution_count": 1,
   "metadata": {},
   "outputs": [
    {
     "data": {
      "text/plain": [
       "1.0"
      ]
     },
     "execution_count": 1,
     "metadata": {},
     "output_type": "execute_result"
    }
   ],
   "source": [
    "float(1)"
   ]
  },
  {
   "cell_type": "code",
   "execution_count": 2,
   "metadata": {},
   "outputs": [
    {
     "data": {
      "text/plain": [
       "'2'"
      ]
     },
     "execution_count": 2,
     "metadata": {},
     "output_type": "execute_result"
    }
   ],
   "source": [
    "str(2)"
   ]
  },
  {
   "cell_type": "markdown",
   "metadata": {},
   "source": [
    "## int\n",
    "\n",
    "四种表示形式：十进制，二进制，八进制，十六进制"
   ]
  },
  {
   "cell_type": "markdown",
   "metadata": {},
   "source": [
    "## float\n",
    "\n",
    "### 科学计数法\n",
    "\n",
    "只有浮点型才能使用形如`<a>e/E<b>`的科学计数法来表示"
   ]
  },
  {
   "cell_type": "code",
   "execution_count": 3,
   "metadata": {},
   "outputs": [
    {
     "name": "stdout",
     "output_type": "stream",
     "text": [
      "5000.0 <class 'float'>\n"
     ]
    }
   ],
   "source": [
    "f2 = 5e3\n",
    "print(f2, type(f2)) # 看到类型为float"
   ]
  },
  {
   "cell_type": "markdown",
   "metadata": {},
   "source": [
    "### 浮点数的比较问题\n",
    "\n",
    "由于十进制小数到二进制的转换不是绝对精确的，浮点数间运算存在不确定的尾数。<font color=\"red\"><strong>因此，比较浮点数是否相等时，需要设定保留位数：</font></strong>\n",
    "\n",
    "其中，`round(x, d)`是四舍五入的函数，d 为小数截取位数"
   ]
  },
  {
   "cell_type": "code",
   "execution_count": 4,
   "metadata": {},
   "outputs": [
    {
     "data": {
      "text/plain": [
       "False"
      ]
     },
     "execution_count": 4,
     "metadata": {},
     "output_type": "execute_result"
    }
   ],
   "source": [
    "0.1 + 0.2 == 0.3"
   ]
  },
  {
   "cell_type": "code",
   "execution_count": 5,
   "metadata": {},
   "outputs": [
    {
     "data": {
      "text/plain": [
       "True"
      ]
     },
     "execution_count": 5,
     "metadata": {},
     "output_type": "execute_result"
    }
   ],
   "source": [
    "round(0.1 + 0.2, 1) == 0.3"
   ]
  },
  {
   "cell_type": "markdown",
   "metadata": {},
   "source": [
    "## 复数\n",
    "\n",
    "很少用到"
   ]
  },
  {
   "cell_type": "code",
   "execution_count": 6,
   "metadata": {},
   "outputs": [
    {
     "name": "stdout",
     "output_type": "stream",
     "text": [
      "(3+0.2j) <class 'complex'>\n"
     ]
    }
   ],
   "source": [
    "ac1 = 3 + 0.2j\n",
    "print(ac1, type(ac1)) # complex"
   ]
  },
  {
   "cell_type": "code",
   "execution_count": 7,
   "metadata": {},
   "outputs": [
    {
     "name": "stdout",
     "output_type": "stream",
     "text": [
      "1j\n"
     ]
    }
   ],
   "source": [
    "import cmath\n",
    "ac3 = cmath.sqrt(-1) # sqrt()是cmath模块下的函数，用于计算平方根\n",
    "print(ac3) # 1j"
   ]
  },
  {
   "cell_type": "code",
   "execution_count": null,
   "metadata": {},
   "outputs": [],
   "source": []
  }
 ],
 "metadata": {
  "kernelspec": {
   "display_name": "Python 3 (ipykernel)",
   "language": "python",
   "name": "python3"
  },
  "language_info": {
   "codemirror_mode": {
    "name": "ipython",
    "version": 3
   },
   "file_extension": ".py",
   "mimetype": "text/x-python",
   "name": "python",
   "nbconvert_exporter": "python",
   "pygments_lexer": "ipython3",
   "version": "3.10.5"
  },
  "toc-autonumbering": true,
  "vscode": {
   "interpreter": {
    "hash": "f5ad7576ad153829b949fc5266b7a5a39dd5c32602ec7e3ece2ff9f094245fe9"
   }
  }
 },
 "nbformat": 4,
 "nbformat_minor": 4
}
