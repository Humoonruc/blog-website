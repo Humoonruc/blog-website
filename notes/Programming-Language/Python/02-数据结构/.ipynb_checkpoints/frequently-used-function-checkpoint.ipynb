{
 "cells": [
  {
   "cell_type": "markdown",
   "id": "2373915b-1da8-4feb-a42e-6d15b427106b",
   "metadata": {},
   "source": [
    "`print()` 默认换行，相当于 Julia 的 `print()`\n",
    "\n",
    "`print(, end = \" \")` 不换行，相当于 Julia 的 `println()`"
   ]
  },
  {
   "cell_type": "code",
   "execution_count": null,
   "id": "b67fc001-94d7-4f12-81d3-8788c4654255",
   "metadata": {},
   "outputs": [],
   "source": []
  }
 ],
 "metadata": {
  "kernelspec": {
   "display_name": "Python 3 (ipykernel)",
   "language": "python",
   "name": "python3"
  },
  "language_info": {
   "codemirror_mode": {
    "name": "ipython",
    "version": 3
   },
   "file_extension": ".py",
   "mimetype": "text/x-python",
   "name": "python",
   "nbconvert_exporter": "python",
   "pygments_lexer": "ipython3",
   "version": "3.10.2"
  }
 },
 "nbformat": 4,
 "nbformat_minor": 5
}
