{
 "cells": [
  {
   "cell_type": "markdown",
   "id": "089ddd23-174a-46d8-ab56-6b53690476ef",
   "metadata": {},
   "source": [
    "# 字符串\n",
    "\n",
    "## 四种表示方法\n",
    "\n",
    "### 单行字符串\n",
    "\n",
    "`'x'`和`\"x\"`"
   ]
  },
  {
   "cell_type": "markdown",
   "id": "a170fd4e-890c-4b68-a822-8fee95a9a273",
   "metadata": {},
   "source": [
    "### 多行字符串\n",
    "\n",
    "`'''x'''`和`\"\"\"x\"\"\"`，可以保持格式\n",
    "\n",
    "1.  若字符串中既有单引号也有双引号，则只能用三个引号这种方法来表示字符串，如"
   ]
  },
  {
   "cell_type": "code",
   "execution_count": 6,
   "id": "c73d6454-a70b-476c-9b30-76618a5a2c79",
   "metadata": {},
   "outputs": [
    {
     "name": "stdout",
     "output_type": "stream",
     "text": [
      "He said, \"she shouted 'Oh my God!' that time.\"\n"
     ]
    }
   ],
   "source": [
    "print('''He said, \"she shouted 'Oh my God!' that time.\"''')"
   ]
  },
  {
   "cell_type": "markdown",
   "id": "ee50ca9e-1016-4e2a-b8f3-3f7c114d57f7",
   "metadata": {},
   "source": [
    "2.  多行字符串可以保留换行等格式"
   ]
  },
  {
   "cell_type": "code",
   "execution_count": 7,
   "id": "973608b7-5dcf-44ff-94fb-a137a1c41e9e",
   "metadata": {},
   "outputs": [
    {
     "name": "stdout",
     "output_type": "stream",
     "text": [
      "我愿意留在汤婆婆的澡堂里工作两年，\n",
      "第一年在锅炉房和锅炉爷爷一起烧锅炉水，\n",
      "将在这个世界变成一头猪。\n"
     ]
    }
   ],
   "source": [
    "print('''我愿意留在汤婆婆的澡堂里工作两年，\n",
    "第一年在锅炉房和锅炉爷爷一起烧锅炉水，\n",
    "将在这个世界变成一头猪。''')"
   ]
  },
  {
   "cell_type": "markdown",
   "id": "be1ccde6-807a-48a0-ba78-75b3e977427c",
   "metadata": {},
   "source": [
    "\n",
    "## 原始字符串\n",
    "\n",
    "以 r 开头的原始字符串，反斜杠只转义引号，而不再转义其他字符\n",
    "\n",
    "如 Windows 系统中的文件路径，正确表达时为了不大量加入转义符 `\\`，可以使用原始字符串"
   ]
  },
  {
   "cell_type": "code",
   "execution_count": 8,
   "id": "06744ec1-9f9a-4aee-8139-02f7385b28f7",
   "metadata": {},
   "outputs": [
    {
     "name": "stdout",
     "output_type": "stream",
     "text": [
      "G:\\publish\\codes\u0002\u0002.4\n",
      "\\d\n"
     ]
    }
   ],
   "source": [
    "print('G:\\publish\\codes\\02\\2.4\\n\\d') # 普通字符串，反斜杠转义各种字符，如\\n"
   ]
  },
  {
   "cell_type": "code",
   "execution_count": 9,
   "id": "b6a66445-ee60-4d40-a373-641a55b8720a",
   "metadata": {},
   "outputs": [
    {
     "name": "stdout",
     "output_type": "stream",
     "text": [
      "G:\\publish\\codes\\02\\2.4\\n\\d\n"
     ]
    }
   ],
   "source": [
    "print(r'G:\\publish\\codes\\02\\2.4\\n\\d') # 原始字符串，反斜杠不再转义其他符号"
   ]
  },
  {
   "cell_type": "code",
   "execution_count": 10,
   "id": "79dab1d4-d4f4-423a-a8bd-15d6d34c921c",
   "metadata": {},
   "outputs": [
    {
     "ename": "SyntaxError",
     "evalue": "unterminated string literal (detected at line 1) (954033306.py, line 1)",
     "output_type": "error",
     "traceback": [
      "\u001b[1;36m  File \u001b[1;32m\"C:\\Users\\humoo\\AppData\\Local\\Temp\\ipykernel_16488\\954033306.py\"\u001b[1;36m, line \u001b[1;32m1\u001b[0m\n\u001b[1;33m    print(r'G:\\publish\\codes\\02\\2.4\\n\\d\\') # 但扔转义引号，所以这样写会报错\u001b[0m\n\u001b[1;37m          ^\u001b[0m\n\u001b[1;31mSyntaxError\u001b[0m\u001b[1;31m:\u001b[0m unterminated string literal (detected at line 1)\n"
     ]
    }
   ],
   "source": [
    "print(r'G:\\publish\\codes\\02\\2.4\\n\\d\\') # 但扔转义引号，所以这样写会报错"
   ]
  },
  {
   "cell_type": "code",
   "execution_count": 11,
   "id": "1d8346bb-c47b-403d-96c0-e10f05fd4835",
   "metadata": {},
   "outputs": [
    {
     "name": "stdout",
     "output_type": "stream",
     "text": [
      "G:\\publish\\codes\\02\\2.4\\n\\d\\\n"
     ]
    }
   ],
   "source": [
    "print(r'G:\\publish\\codes\\02\\2.4\\n\\d' + '\\\\') # 如果想在原始字符串结尾使用反斜杠，要单独写反斜杠"
   ]
  },
  {
   "cell_type": "markdown",
   "id": "d8e8a11b-84c6-471f-abae-5d7c79a8aa4c",
   "metadata": {},
   "source": [
    "## 索引和切片\n",
    "\n",
    "-   `0:N-1`：正序\n",
    "-   `-1:-N`：逆序\n",
    "-   `[M:N:K]`：从 M 到 <font color=\"red\">N-1</font>，根据步长 K 对字符串切片，M 和 N 可以缺失，其默认值分别为<font color=\"red\"> 0 </font>和<font color=\"red\">字符串长度值</font>\n",
    "-   `[::-1]`：字符串取逆序"
   ]
  },
  {
   "cell_type": "markdown",
   "id": "f85a3461-f6d4-44a0-82bb-b120eb193146",
   "metadata": {},
   "source": [
    "## 特殊字符\n",
    "\n",
    "-   `\"\\b\"` backspace, 退格\n",
    "-   `'\\t'` 制表符\n",
    "-   `\"\\n\"` newline, 换行，光标移动到下行首\n",
    "-   `\"\\r\"` return, 回车，光标移动到本行首"
   ]
  },
  {
   "cell_type": "markdown",
   "id": "0d82fe29-0998-4d54-bfbc-49bf45a08240",
   "metadata": {},
   "source": [
    "## 处理字符串的函数\n",
    "\n",
    "| 函数名             | 说明                                         |\n",
    "|--------------------|----------------------------------------------|\n",
    "| `len(x)`           | 返回字符串长度                               |\n",
    "| `str(x)`           | 将任何类型转换为字符串                       |\n",
    "| `eval()`           | 去掉一个字符串两端的引号，变为相应类型       |\n",
    "| `hex(x)`, `oct(x)` | 将整数转换为对应的十六进制或八进制小写字符串 |\n",
    "| `chr(u)`           | 返回 Unicode 编码对应的字符                  |\n",
    "| `ord(x)`           | 返回字符对应的 Unicode 编码                  |\n"
   ]
  },
  {
   "cell_type": "code",
   "execution_count": 12,
   "id": "8c81d207-10bb-4784-9d83-186822ff4aee",
   "metadata": {},
   "outputs": [
    {
     "name": "stdout",
     "output_type": "stream",
     "text": [
      "1 + 1 = 2 ✔\n",
      "\n",
      "♈ ♉ ♊ ♋ ♌ ♍ ♎ ♏ ♐ ♑ ♒ ♓ "
     ]
    }
   ],
   "source": [
    "## 特殊符号\n",
    "print('1 + 1 = 2 ' + chr(10004) + '\\n') # \"10004\"在 Unicode 中表示对勾\n",
    "\n",
    "for i in range(12): # 打印十二星座符号\n",
    "    n = 9800 + i # 12星座符号对应的 Unicode 编码\n",
    "    print(chr(n)+' ', end='')"
   ]
  },
  {
   "cell_type": "markdown",
   "id": "3f9bde4e-7870-4957-a231-28d599c9a972",
   "metadata": {},
   "source": [
    "## 字符串对象的方法\n",
    "\n",
    "| 方法名                                                       | 说明                                                         |\n",
    "| :----------------------------------------------------------- | :----------------------------------------------------------- |\n",
    "| **转换大小写字母**                                           |                                                              |\n",
    "| str.lower(), str.upper()                                     | 转换为全小写和全大写                                         |\n",
    "| str.isupper(),str.islower()                                  | 字符串是否为全大写和全小写                                   |\n",
    "| str.isalpha(), str.isalnum(), str.isdecimal(), str.isspace(), str.istitle() | 字符串是否符合以下特征：全字母，全字母或数字，全数字，全空格、制表符或换行，仅包含首字母大写的单词，**这些函数用于判断用户的输入** |\n",
    "| str.title()                                                  | 每个单词的首字母大写                                         |\n",
    "| **分割/连接**                                                 |                                                              |\n",
    "| str.split(sep=None)                                          | 返回一个由参数分割而成的列表，常用于字符串分割               |\n",
    "| str.join(iter)                                               | 将 iter 序列中所有元素用 str 连接起来，如`', '.join('12345')`的结果为 ‘1, 2, 3, 4, 5’，主要用于**序列合并为字符串** |\n",
    "| **格式化字符串**                                             |                                                              |\n",
    "| str.center(width[, fillchar])                                | 根据宽度 width 在一行中居中，fillchar 为可选的填充字符，默认为空格。如`\"python\".center(20, '=')` |\n",
    "| str.rjust(width[, fillchar])                                 | 根据宽度 width 右对齐                                        |\n",
    "| str.ljust(width[, fillchar])                                 | 根据宽度 width 左对齐                                        |\n",
    "| str.strip(chars), str.lstrip(chars), str.rstrip(chars)       | 去掉两侧/左侧/右侧**连续**任意多个包含在 chars 中的字符，如果不指定参数，则为删除 whitespace |\n",
    "| **查找替换**                                                 |                                                              |\n",
    "| str.startswith(sub), str.endswith(sub)                       | 判断字符串是否以参数字符串开头、截尾                         |\n",
    "| str.find(sub)                                                | 返回参数子串在 str 中的出现位置，若无则返回-1                |\n",
    "| str.find(sub)                                                | 返回参数子串在 str 中的出现位置，若无则引发 ValueError 错误  |\n",
    "| str.count(sub)                                               | 返回参数在 str 中的出现次数                                  |\n",
    "| str.replace(old, new)                                        | 将 str 中的 old 子串替换为 new                               |\n",
    "| str.translate()                                              | 使用指定的翻译映射表对字符串执行替换                         |\n",
    "| str.maketrans()                                              | 创建翻译映射表                                               |"
   ]
  },
  {
   "cell_type": "code",
   "execution_count": 13,
   "id": "3f33c09d-902d-4ae8-a298-9d49fb0045d2",
   "metadata": {},
   "outputs": [
    {
     "name": "stdout",
     "output_type": "stream",
     "text": [
      "['crazyit.org', 'is', 'a', 'good', 'site']\n",
      "['crazyit.org', 'is', 'a good site']\n",
      "['crazyit', 'org is a good site']\n",
      "crazyit.org/is/a/good/site\n",
      "crazyit.org,is,a,good,site\n",
      " think it is a scarecrow\n",
      "i think it is a scarecr\n",
      " think it is a scarecr\n",
      "True\n",
      "True\n",
      "8\n",
      "8\n",
      "-1\n",
      "crazyxxxx.org is a good sxxxxe\n",
      "crazyxxxx.org is a good site\n",
      "crαzyiτ.org is α good siτe\n",
      "crαzyiτ.org is α good siτe\n"
     ]
    }
   ],
   "source": [
    "s = 'crazyit.org is a good site'\n",
    "print(s.split()) # 默认用空白（参数为None）分割，不管空白具体是什么字符，连续有多少个\n",
    "print(s.split(None, 2)) # 使用空白对字符串进行分割，且最多只分割出前2个单词，其余部分不再分割，而作为一个整体列出\n",
    "print(s.split('.')) \n",
    "mylist = s.split()\n",
    "print('/'.join(mylist)) # 使用'/'为分割符，将mylist连接成字符串\n",
    "print(','.join(mylist)) # 使用','为分割符，将mylist连接成字符串\n",
    "\n",
    "s2 = 'i think it is a scarecrow'\n",
    "print(s2.lstrip('itow')) # 删除左边任意多个i、t、o、w字符\n",
    "print(s2.rstrip('itow')) # 删除右边任意多个i、t、o、w字符\n",
    "print(s2.strip('itow')) # 删除两边任意多个i、t、o、w字符\n",
    "\n",
    "s = 'crazyit.org is a good site'\n",
    "print(s.startswith('crazyit'))\n",
    "print(s.endswith('site'))\n",
    "print(s.find('org')) # 查找s中'org'的出现位置\n",
    "print(s.index('org')) # 8\n",
    "print(s.find('org', 9)) # 从索引为9处开始查找'org'的出现位置\n",
    "# print(s.index('org', 9)) # 从索引为9处开始查找'org'的出现位置，引发错误\n",
    "print(s.replace('it', 'xxxx')) # 将字符串中所有it替换成xxxx\n",
    "print(s.replace('it', 'xxxx', 1)) # 将字符串中1个it替换成xxxx\n",
    "table = {97: 945, 98: 946, 116: 964}  # 定义替换表：97（a）->945（α）,98（b）->945（β）,116（t）->964（τ）,\n",
    "print(s.translate(table))\n",
    "table2 = str.maketrans('abt', 'αβτ')\n",
    "print(s.translate(table2))"
   ]
  },
  {
   "cell_type": "markdown",
   "id": "7ee26f87-9aa6-4d15-a76f-a2b88a70943a",
   "metadata": {},
   "source": [
    "## 字符串类型的格式化"
   ]
  },
  {
   "cell_type": "markdown",
   "id": "61c91cf7-b542-44f1-883b-1b88e6c2278e",
   "metadata": {
    "tags": []
   },
   "source": [
    "### f 表达式\n",
    "\n",
    "`f\"{x}\"`，在字符串中插入变量"
   ]
  },
  {
   "cell_type": "code",
   "execution_count": 21,
   "id": "8eba4df1-b67d-418a-86b1-87bd43a78965",
   "metadata": {},
   "outputs": [
    {
     "name": "stdout",
     "output_type": "stream",
     "text": [
      "His name is John\n"
     ]
    }
   ],
   "source": [
    "name = \"John\"\n",
    "print(f\"His name is {name}\")"
   ]
  },
  {
   "cell_type": "markdown",
   "id": "60672d42-70c9-4dd2-a19a-312f4bf3bb25",
   "metadata": {
    "tags": []
   },
   "source": [
    "### format 方法\n",
    "\n",
    "`<模板字符串>.format(<要格式化的内容参数（若为序列，以逗号分隔）>)`\n",
    "\n",
    "其中，`{}`为模板中的槽，槽内部的参数形如：\n",
    "\n",
    "| <参数序号>                 | :      | <填充符>                                   | <对齐方式>                            | <输出宽度>   | <,>              | <.精度>                          | <类型>                                     |\n",
    "| :------------------------- | :----- | :----------------------------------------- | :------------------------------------ | :----------- | :--------------- | :------------------------------- | :----------------------------------------- |\n",
    "| 表示各参数分别放在哪个槽中 | 引导符 | 若还有空余空间，用什么字符填充，默认为空格 | “<”左对齐，默认 “>”右对齐“ ^”居中对齐 | 槽的输出宽度 | 是否用千位分隔符 | 小数的精度或字符串的最大输出长度 | 整数类型`b/c/d/o/x/X`或浮点数类型`e/E/f/%` |\n",
    "\n",
    "\n",
    "\n",
    "这种方法的缺点在于，输出宽度、精度等参数必须是确定的常数，而不能是变量。因此当这些数值必须取变量时，仍要使用`.rjust()`、`.ljust()`和`.center()`方法。"
   ]
  },
  {
   "cell_type": "code",
   "execution_count": 14,
   "id": "81f54f64-f654-47db-afe9-054b47771d69",
   "metadata": {},
   "outputs": [
    {
     "data": {
      "text/plain": [
       "'=======Python======='"
      ]
     },
     "execution_count": 14,
     "metadata": {},
     "output_type": "execute_result"
    }
   ],
   "source": [
    "\"{0:=^20}\".format(\"Python\") # 用 '=' 填充，居中对齐，槽宽度为20"
   ]
  },
  {
   "cell_type": "code",
   "execution_count": 15,
   "id": "ac3345ac-76f9-4ab2-919e-4f322e502bdc",
   "metadata": {},
   "outputs": [
    {
     "data": {
      "text/plain": [
       "'=======Python======='"
      ]
     },
     "execution_count": 15,
     "metadata": {},
     "output_type": "execute_result"
    }
   ],
   "source": [
    "\"{:=^20}\".format(\"Python\") # 参数索引0可以省略"
   ]
  },
  {
   "cell_type": "code",
   "execution_count": 16,
   "id": "09f5a5d9-6cc9-44c7-9d26-01e50d9c76db",
   "metadata": {},
   "outputs": [
    {
     "data": {
      "text/plain": [
       "'*****************BIT'"
      ]
     },
     "execution_count": 16,
     "metadata": {},
     "output_type": "execute_result"
    }
   ],
   "source": [
    "\"{:*>20}\".format(\"BIT\") # 用 '*' 填充，右对齐，槽宽度为20"
   ]
  },
  {
   "cell_type": "code",
   "execution_count": 17,
   "id": "5090e05a-b959-4af8-abe0-43669328109c",
   "metadata": {},
   "outputs": [
    {
     "data": {
      "text/plain": [
       "'BIT       '"
      ]
     },
     "execution_count": 17,
     "metadata": {},
     "output_type": "execute_result"
    }
   ],
   "source": [
    "\"{:10}\".format(\"BIT\") # 默认左对齐，空格填充"
   ]
  },
  {
   "cell_type": "code",
   "execution_count": 18,
   "id": "12e5debe-63ad-4f7e-9416-879f3c1b805b",
   "metadata": {},
   "outputs": [
    {
     "data": {
      "text/plain": [
       "'12,345.68'"
      ]
     },
     "execution_count": 18,
     "metadata": {},
     "output_type": "execute_result"
    }
   ],
   "source": [
    "\"{0:,.2f}\".format(12345.6789) # 使用千位分隔符，保留两位小数的浮点型"
   ]
  },
  {
   "cell_type": "code",
   "execution_count": 19,
   "id": "3aca7632-8c87-4027-a183-9e1a923403af",
   "metadata": {},
   "outputs": [
    {
     "data": {
      "text/plain": [
       "'110101001, Ʃ, 425, 651, 1a9, 1A9'"
      ]
     },
     "execution_count": 19,
     "metadata": {},
     "output_type": "execute_result"
    }
   ],
   "source": [
    "\"{0:b}, {0:c}, {0:d}, {0:o}, {0:x}, {0:X}\".format(425) # 分别转换为：二进制，Unicode 编码，十进制，八进制，十六进制，大写的十六进制"
   ]
  },
  {
   "cell_type": "code",
   "execution_count": 20,
   "id": "eded247b-5e91-4e29-b09b-228dd4f00ca3",
   "metadata": {},
   "outputs": [
    {
     "data": {
      "text/plain": [
       "'3.14e+00, 3.14E+00, 3.14, 314.00%'"
      ]
     },
     "execution_count": 20,
     "metadata": {},
     "output_type": "execute_result"
    }
   ],
   "source": [
    "\"{0:.2e}, {0:.2E}, {0:.2f}, {0:.2%}\".format(3.14) # 分别转换为：科学记数法，大写科学记数法，浮点数，百分数"
   ]
  }
 ],
 "metadata": {
  "kernelspec": {
   "display_name": "Python 3 (ipykernel)",
   "language": "python",
   "name": "python3"
  },
  "language_info": {
   "codemirror_mode": {
    "name": "ipython",
    "version": 3
   },
   "file_extension": ".py",
   "mimetype": "text/x-python",
   "name": "python",
   "nbconvert_exporter": "python",
   "pygments_lexer": "ipython3",
   "version": "3.10.5"
  }
 },
 "nbformat": 4,
 "nbformat_minor": 5
}
