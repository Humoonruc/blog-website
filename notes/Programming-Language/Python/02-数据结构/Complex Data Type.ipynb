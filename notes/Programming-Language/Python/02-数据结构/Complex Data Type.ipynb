{
 "cells": [
  {
   "cell_type": "markdown",
   "id": "b91ed24e-29c5-48f2-992d-4ea01def9fc3",
   "metadata": {},
   "source": [
    "# 容器"
   ]
  },
  {
   "cell_type": "markdown",
   "id": "ee73a849-64f9-4a52-84aa-3d1c08261e5f",
   "metadata": {},
   "source": [
    "## 序列\n",
    "\n",
    "包括**字符串**、**元组**和**列表**"
   ]
  },
  {
   "cell_type": "markdown",
   "id": "25fd5c13-00c8-404e-806b-d9c1a54e41c3",
   "metadata": {},
   "source": [
    "### 操作符、方法和函数\n",
    "\n",
    "操作、方法和函数|描述\n",
    "--|--\n",
    "x (not) in s|是否为元素\n",
    "s + t|连接\n",
    "`s*n` 或 `n*s`|重复 n 次\n",
    "s[i]|索引\n",
    "s[m:n:k]|切片\n",
    "len(s)|序列长度\n",
    "min(s), max(s)|返回最值\n",
    "s.index(x)|返回位置索引\n",
    "s.index(x, i, j)|i 到 j 之间第一次出现 x 的位置索引\n",
    "s.count(x)|出现 x 的总次数"
   ]
  },
  {
   "cell_type": "markdown",
   "id": "3289a3dd-dd52-4fe0-83d2-827b38af995f",
   "metadata": {},
   "source": [
    "### 序列封包和序列解包\n",
    "\n",
    "多对一、一对多、多对多的赋值方式"
   ]
  },
  {
   "cell_type": "code",
   "execution_count": 6,
   "id": "ea74e560-c388-4eb5-95ea-4875a3fc9a22",
   "metadata": {},
   "outputs": [
    {
     "name": "stdout",
     "output_type": "stream",
     "text": [
      "(10, 20, 30)\n",
      "<class 'tuple'>\n",
      "20\n"
     ]
    }
   ],
   "source": [
    "# 序列封包\n",
    "vals = 10, 20, 30 # 将10、20、30封装成元组后赋值给vals\n",
    "print(vals) \n",
    "print(type(vals)) \n",
    "print(vals[1]) \n",
    "a_tuple = tuple(range(1, 10, 2))"
   ]
  },
  {
   "cell_type": "code",
   "execution_count": 5,
   "id": "2ef13583-93c3-4dcb-a32b-12abefb16166",
   "metadata": {},
   "outputs": [
    {
     "name": "stdout",
     "output_type": "stream",
     "text": [
      "1 3 5 7 9\n",
      "fkit crazyit\n"
     ]
    }
   ],
   "source": [
    "# 序列解包\n",
    "a, b, c, d, e = a_tuple # 将a_tuple元组的各元素依次赋值给a、b、c、d、e变量\n",
    "print(a, b, c, d, e) \n",
    "a_list = ['fkit', 'crazyit']\n",
    "a_str, b_str = a_list\n",
    "print(a_str, b_str) "
   ]
  },
  {
   "cell_type": "code",
   "execution_count": 3,
   "id": "53f2fe65-085c-4caf-8748-5d7ad44e59d6",
   "metadata": {},
   "outputs": [
    {
     "name": "stdout",
     "output_type": "stream",
     "text": [
      "0\n",
      "1\n",
      "[2, 3, 4, 5, 6, 7, 8, 9]\n",
      "[0, 1, 2, 3, 4, 5, 6, 7, 8]\n",
      "9\n",
      "0\n",
      "[1, 2, 3, 4, 5, 6, 7, 8]\n",
      "9\n"
     ]
    }
   ],
   "source": [
    "# 部分解包，用*代表列表（注意，不会是元组）\n",
    "first, second, *rest = range(10) # first、second保存前2个元素，rest列表包含剩下的元素\n",
    "print(first) \n",
    "print(second) \n",
    "print(rest) \n",
    "*begin, last = range(10) # last保存最后一个元素，begin保存前面剩下的元素\n",
    "print(begin) \n",
    "print(last) \n",
    "first, *middle, last = range(10) # first保存第一个元素，last保存最后一个元素，middle保存中间剩下的元素\n",
    "print(first) \n",
    "print(middle) \n",
    "print(last)"
   ]
  },
  {
   "cell_type": "markdown",
   "id": "efad2601-3083-4c50-b2b1-cd71ca77c784",
   "metadata": {},
   "source": [
    "### 元组\n",
    "\n",
    "一旦用`()`或`tuple()`创建，不得被修改\n",
    "\n",
    "`tuple()`可以将列表、区间（`range`）等对象转换为元组"
   ]
  },
  {
   "cell_type": "code",
   "execution_count": 1,
   "id": "81c86859-c04c-48da-a184-f1f031125884",
   "metadata": {},
   "outputs": [
    {
     "name": "stdout",
     "output_type": "stream",
     "text": [
      "('st', 'nd', 'rd', 'th', 'th', 'th', 'th', 'th', 'th', 'th', 'th', 'th', 'th', 'th', 'th', 'th', 'th', 'th', 'th', 'th', 'st', 'nd', 'rd', 'th', 'th', 'th', 'th', 'th', 'th', 'th', 'st')\n",
      "21 ==> 21st25 ==> 25th"
     ]
    }
   ],
   "source": [
    "# 基数转化为序数：同时对元组使用加法、乘法\n",
    "order_endings = ('st', 'nd', 'rd') + ('th',)*17 + ('st', 'nd', 'rd') + ('th',)*7 + ('st',)\n",
    "print(order_endings)\n",
    "day1 = 21\n",
    "day2 = 25\n",
    "print(day1, '==>', str(day1) + order_endings[day1 - 1], end='')\n",
    "print(day2, '==>', str(day2) + order_endings[day2 - 1], end='')"
   ]
  },
  {
   "cell_type": "markdown",
   "id": "75a9a7a1-f3dd-45e3-9de3-b27fb131f455",
   "metadata": {},
   "source": [
    "**当元组只有一个元素时，要在元素后面加逗号**`('th',)`，否则就不是元组，而只是字符串加圆括号，`('th')`等同于`'th'`"
   ]
  },
  {
   "cell_type": "markdown",
   "id": "464d52a7-a5b3-430b-90e4-2aefc292db8a",
   "metadata": {},
   "source": [
    "### 列表\n",
    "\n",
    "列表用`[]`或`list()`创建，可以被修改，可以装载不同类型的元素\n",
    "\n",
    "`list()`可以将`tuple`, `range`等对象转换为列表\n",
    "\n",
    "当你将列表赋给一个变量时，实际上是将列表的“引用”赋给了该变量（相比之下，R语言在赋值时始终要复制变量，而非传递引用）。"
   ]
  },
  {
   "cell_type": "code",
   "execution_count": 7,
   "id": "bcca0353-4489-4a37-9716-6c15e7715667",
   "metadata": {},
   "outputs": [
    {
     "name": "stdout",
     "output_type": "stream",
     "text": [
      "[1, 2, 3, 4] [1, 2, 3, 4]\n"
     ]
    }
   ],
   "source": [
    "# pthon代码\n",
    "ls = [1, 2, 3]\n",
    "lt = ls # 仅赋值未创建，并没有拷贝，而是两个名字指向同一个对象\n",
    "lt.append(4)\n",
    "print(ls, lt) # lt 与 ls 是相同的"
   ]
  },
  {
   "cell_type": "code",
   "execution_count": 1,
   "id": "5bc628fd-1611-4885-ab75-86d204496313",
   "metadata": {},
   "outputs": [
    {
     "data": {
      "text/html": [
       "<style>\n",
       ".list-inline {list-style: none; margin:0; padding: 0}\n",
       ".list-inline>li {display: inline-block}\n",
       ".list-inline>li:not(:last-child)::after {content: \"\\00b7\"; padding: 0 .5ex}\n",
       "</style>\n",
       "<ol class=list-inline><li>1</li><li>2</li><li>3</li></ol>\n"
      ],
      "text/latex": [
       "\\begin{enumerate*}\n",
       "\\item 1\n",
       "\\item 2\n",
       "\\item 3\n",
       "\\end{enumerate*}\n"
      ],
      "text/markdown": [
       "1. 1\n",
       "2. 2\n",
       "3. 3\n",
       "\n",
       "\n"
      ],
      "text/plain": [
       "[1] 1 2 3"
      ]
     },
     "metadata": {},
     "output_type": "display_data"
    },
    {
     "data": {
      "text/html": [
       "<style>\n",
       ".list-inline {list-style: none; margin:0; padding: 0}\n",
       ".list-inline>li {display: inline-block}\n",
       ".list-inline>li:not(:last-child)::after {content: \"\\00b7\"; padding: 0 .5ex}\n",
       "</style>\n",
       "<ol class=list-inline><li>1</li><li>2</li><li>3</li><li>4</li></ol>\n"
      ],
      "text/latex": [
       "\\begin{enumerate*}\n",
       "\\item 1\n",
       "\\item 2\n",
       "\\item 3\n",
       "\\item 4\n",
       "\\end{enumerate*}\n"
      ],
      "text/markdown": [
       "1. 1\n",
       "2. 2\n",
       "3. 3\n",
       "4. 4\n",
       "\n",
       "\n"
      ],
      "text/plain": [
       "[1] 1 2 3 4"
      ]
     },
     "metadata": {},
     "output_type": "display_data"
    }
   ],
   "source": [
    "# r代码\n",
    "ls <- c(1, 2, 3)\n",
    "lt <- ls # 复制即拷贝\n",
    "lt[4] <- 4\n",
    "ls\n",
    "lt # lt 与 ls 是不同的"
   ]
  },
  {
   "cell_type": "markdown",
   "id": "a7e725f9-5dd5-49f0-bae2-1127efda9363",
   "metadata": {},
   "source": [
    "\n",
    "在变量必须保存可变数据类型的值时，例如列表或字典，Python 变量就保存对列表的“引用”。对于不可变的数据类型的值，例如字符串、整型或元组，Python 变量就保存值本身。"
   ]
  },
  {
   "cell_type": "markdown",
   "id": "03f28e84-5584-475c-97dd-05918d0fa656",
   "metadata": {},
   "source": [
    "#### 列表的方法"
   ]
  },
  {
   "cell_type": "code",
   "execution_count": 17,
   "id": "f87e185b-7aff-453b-a18b-0e38dd2a7410",
   "metadata": {},
   "outputs": [
    {
     "data": {
      "text/plain": [
       "['__add__',\n",
       " '__class__',\n",
       " '__class_getitem__',\n",
       " '__contains__',\n",
       " '__delattr__',\n",
       " '__delitem__',\n",
       " '__dir__',\n",
       " '__doc__',\n",
       " '__eq__',\n",
       " '__format__',\n",
       " '__ge__',\n",
       " '__getattribute__',\n",
       " '__getitem__',\n",
       " '__gt__',\n",
       " '__hash__',\n",
       " '__iadd__',\n",
       " '__imul__',\n",
       " '__init__',\n",
       " '__init_subclass__',\n",
       " '__iter__',\n",
       " '__le__',\n",
       " '__len__',\n",
       " '__lt__',\n",
       " '__mul__',\n",
       " '__ne__',\n",
       " '__new__',\n",
       " '__reduce__',\n",
       " '__reduce_ex__',\n",
       " '__repr__',\n",
       " '__reversed__',\n",
       " '__rmul__',\n",
       " '__setattr__',\n",
       " '__setitem__',\n",
       " '__sizeof__',\n",
       " '__str__',\n",
       " '__subclasshook__',\n",
       " 'append',\n",
       " 'clear',\n",
       " 'copy',\n",
       " 'count',\n",
       " 'extend',\n",
       " 'index',\n",
       " 'insert',\n",
       " 'pop',\n",
       " 'remove',\n",
       " 'reverse',\n",
       " 'sort']"
      ]
     },
     "execution_count": 17,
     "metadata": {},
     "output_type": "execute_result"
    }
   ],
   "source": [
    "dir(list)"
   ]
  },
  {
   "cell_type": "markdown",
   "id": "46b974d3-b890-4ffd-8d9e-50a4a21a77e1",
   "metadata": {},
   "source": [
    "\n",
    "常用方法|描述\n",
    "--|--\n",
    "`ls.copy()`|创建一个新列表并**复制**\n",
    "`ls += lt`|将 lt 增加到 ls 中\n",
    "`ls.append(x)`|添加元素 x，**即使 x 为元组、列表，也将其作为元素添加，形成嵌套列表**\n",
    "`ls.extend(x)`|添加 x 中的所有元素，避免形成嵌套列表\n",
    "`ls.insert(index, x)`|x 作为一个元素（无论其本身是什么结构），在 index 的位置插入\n",
    "`del ls[m:n:k]`|删除相应切片的子列。注意，del 不是函数，而是一个语句，可以删除任意对象\n",
    "`ls.pop(i)`|i 位置元素取出并在原列表中删除；若不指定参数，则为出栈功能，取出最后一个元素\n",
    "`ls.remove(x)`|将 ls 中出现的第一个 x 删除，若找不到将产生 ValueError 错误\n",
    "`ls.clear()`|清空列表\n",
    "`ls.reverse()`|反转列表\n",
    "`ls.sort(str, key, reverse=False)`|原地排序。不要写出`spam = spam.sort()`这样的代码\n"
   ]
  },
  {
   "cell_type": "code",
   "execution_count": 16,
   "id": "25d472ed-7b29-4e60-aa76-abfeda4e0a9d",
   "metadata": {},
   "outputs": [
    {
     "data": {
      "text/plain": [
       "[1, 2, 4, 'add', 'tiger']"
      ]
     },
     "execution_count": 16,
     "metadata": {},
     "output_type": "execute_result"
    }
   ],
   "source": [
    "ls = ['cat', 'dog', 'tiger', 1024]\n",
    "ls[1:2] = [1, 2, 3, 4]\n",
    "ls\n",
    "del ls[::3]\n",
    "ls\n",
    "ls * 2\n",
    "ls\n",
    "ls.insert(3, 'add') # 在 3 的位置插入\n",
    "ls"
   ]
  },
  {
   "cell_type": "markdown",
   "id": "4972c514-cb43-4fd0-b92f-7ce5483cc558",
   "metadata": {},
   "source": [
    "#### `ls.sort()`"
   ]
  },
  {
   "cell_type": "code",
   "execution_count": 15,
   "id": "3ea944a7-1cce-468d-8b0f-0c64d0eedcc9",
   "metadata": {},
   "outputs": [
    {
     "name": "stdout",
     "output_type": "stream",
     "text": [
      "['Erlang', 'Go', 'Kotlin', 'Python', 'Ruby', 'Swift']\n",
      "['Go', 'Ruby', 'Swift', 'Erlang', 'Kotlin', 'Python']\n",
      "['Erlang', 'Kotlin', 'Python', 'Swift', 'Ruby', 'Go']\n"
     ]
    }
   ],
   "source": [
    "b_list = ['Python', 'Swift', 'Ruby', 'Go', 'Kotlin', 'Erlang']\n",
    "\n",
    "b_list.sort() # 默认按字符串首字符的编码大小比较\n",
    "print(b_list)\n",
    "\n",
    "b_list.sort(key=len) # 指定key为len，指定使用len函数对集合元素生成比较的键，也就是按字符串的长度比较大小\n",
    "print(b_list) \n",
    "\n",
    "b_list.sort(key=len, reverse=True) # 指定反向排序\n",
    "print(b_list)"
   ]
  },
  {
   "cell_type": "markdown",
   "id": "8d1de188-3b40-4768-b86b-6a481dae7b03",
   "metadata": {},
   "source": [
    "#### 修改列表元素"
   ]
  },
  {
   "cell_type": "code",
   "execution_count": 14,
   "id": "f024c4dc-a586-42a3-92d9-1336856418af",
   "metadata": {},
   "outputs": [
    {
     "name": "stdout",
     "output_type": "stream",
     "text": [
      "[1, 2, 3, 4]\n",
      "[1, 'a', 'b', 4]\n",
      "[1, 'a', 'x', 'y', 'b', 4]\n",
      "[1, 'a', 4]\n",
      "[1, 'C', 'h', 'a', 'r', 'l', 'i', 'e']\n",
      "[1, 2, 'a', 4, 'b', 6, 'c', 8, 'd']\n"
     ]
    }
   ],
   "source": [
    "b_list = list(range(1,5))\n",
    "print(b_list)\n",
    "b_list[1:3] = ['a', 'b'] # 将第2个到第4个（不包含）元素赋值为新列表的元素\n",
    "print(b_list)\n",
    "\n",
    "# 插入\n",
    "b_list[2:2] = ['x', 'y'] # 将第3个到第3个（不包含）元素赋值为新列表的元素\n",
    "print(b_list)\n",
    "\n",
    "# 删除\n",
    "b_list[2:5] = [] # 将第3个到第6个（不包含）元素赋值为空列表，就是删除\n",
    "print(b_list)\n",
    "\n",
    "# 以单一字符串赋值时，Python会自动将字符串分解成序列\n",
    "b_list[1:3] = 'Charlie'\n",
    "print(b_list) # [1, 'C', 'h', 'a', 'r', 'l', 'i', 'e']\n",
    "\n",
    "c_list = list(range(1,10))\n",
    "# 指定step为2，被赋值的元素有4个，因此用于赋值的列表也必须有4个元素\n",
    "c_list[2:9:2] = ['a', 'b', 'c', 'd']\n",
    "print(c_list) # [1, 2, 'a', 4, 'b', 6, 'c', 8, 'd']"
   ]
  },
  {
   "cell_type": "markdown",
   "id": "23c98ffc-ae77-403e-a886-331a84a064a2",
   "metadata": {},
   "source": [
    "### 应用场景\n",
    "\n",
    "若不希望数据被程序修改，可以转换为元组类型"
   ]
  },
  {
   "cell_type": "markdown",
   "id": "6e5f25de-4b1a-4054-b0b4-6c69ff2d75ed",
   "metadata": {},
   "source": [
    "## 字典\n",
    "\n",
    "\n",
    "### 结构\n",
    "- 字典类型是“映射”的体现\n",
    "- 字典是键值对的集合，键值对之间无序\n",
    "\n",
    "- key 不允许重复\n",
    "- key 必须是不可变的数据类型，因此元组可以作为 key，而列表不可以\n",
    "- `{}`和`dict()`创建，`:`区分键和值，`,`区分键值对\n",
    "- key 是索引的扩展。list 相当于 key 只能是整数的 dict，但也有一个重要的区别：list 不允许对不存在的索引赋值，而 dict 允许。\n",
    "\n"
   ]
  },
  {
   "cell_type": "code",
   "execution_count": 12,
   "id": "fdea0736-bbaf-4610-9562-b1b7659b094c",
   "metadata": {},
   "outputs": [
    {
     "data": {
      "text/plain": [
       "True"
      ]
     },
     "execution_count": 12,
     "metadata": {},
     "output_type": "execute_result"
    }
   ],
   "source": [
    "eggs = {'name': 'Zophie', 'species': 'cat', 'age': '8'}\n",
    "ham = {'species': 'cat', 'age': '8', 'name': 'Zophie'}\n",
    "eggs == ham"
   ]
  },
  {
   "cell_type": "markdown",
   "id": "8309030c-0c80-4603-9cc2-b6bc70455dac",
   "metadata": {},
   "source": [
    "### 创建字典"
   ]
  },
  {
   "cell_type": "code",
   "execution_count": 11,
   "id": "ca7f34e6-51cc-4966-81a3-1d74ad9b6563",
   "metadata": {},
   "outputs": [
    {
     "name": "stdout",
     "output_type": "stream",
     "text": [
      "{}\n",
      "{'spinach': 1.39, 'cabbage': 2.59}\n",
      "{'celery': 1.58, 'brocoli': 1.29, 'lettuce': 2.19}\n",
      "{'BMW': 8.5, 'BENS': 8.3, 'AUDI': 7.9}\n"
     ]
    }
   ],
   "source": [
    "de = {} # 创建空字典\n",
    "print(de)\n",
    "type(de)\n",
    "\n",
    "dict6 = dict(spinach = 1.39, cabbage = 2.59) # 使用关键字参数来创建字典\n",
    "print(dict6) # {'spinach': 1.39, 'cabbage': 2.59}\n",
    "\n",
    "vegetables = [('celery', 1.58), ('brocoli', 1.29), ('lettuce', 2.19)] \n",
    "dict3 = dict(vegetables) # 将嵌套列表转换为字典\n",
    "print(dict3)\n",
    "cars = [['BMW', 8.5], ['BENS', 8.3], ['AUDI', 7.9]] \n",
    "dict4 = dict(cars)\n",
    "print(dict4) "
   ]
  },
  {
   "cell_type": "markdown",
   "id": "93b6e05d-a0d7-4d96-aff9-2e35202eb4ac",
   "metadata": {},
   "source": [
    "### 字典的索引语法\n",
    "\n",
    "通过 key 访问、添加、删除、修改键值对"
   ]
  },
  {
   "cell_type": "code",
   "execution_count": 10,
   "id": "cf41c651-cb43-4eb4-86ae-637d06fbef8c",
   "metadata": {},
   "outputs": [
    {
     "name": "stdout",
     "output_type": "stream",
     "text": [
      "89\n",
      "{'语文': 89, '数学': 93, 92: 5.7}\n",
      "{92: 5.7}\n",
      "{'BMW': 8.5, 'BENS': 4.3, 'AUDI': 3.8}\n",
      "True\n",
      "False\n",
      "True\n"
     ]
    }
   ],
   "source": [
    "scores = {'语文': 89}\n",
    "print(scores['语文']) # 通过key访问value，结构与 list[n] 是很相似的，因此说键是索引的扩展\n",
    "\n",
    "scores['数学'] = 93 # 对不存在的key赋值，就是添加key-value对\n",
    "scores[92] = 5.7\n",
    "print(scores)\n",
    " \n",
    "del scores['语文'] # 使用del语句删除key-value对\n",
    "del scores['数学']\n",
    "print(scores)\n",
    "\n",
    "cars = {'BMW': 8.5, 'BENS': 8.3, 'AUDI': 7.9} \n",
    "cars['BENS'] = 4.3 # 对存在的key-value对赋值，即修改\n",
    "cars['AUDI'] = 3.8\n",
    "print(cars) \n",
    " \n",
    "print('AUDI' in cars) # 判断cars是否包含名为'AUDI'的key\n",
    "print('PORSCHE' in cars) # 判断cars是否包含名为'PORSCHE'的key\n",
    "print('LAMBORGHINI' not in cars)"
   ]
  },
  {
   "cell_type": "markdown",
   "id": "1a67099f-4447-41a7-b76e-3ca0eae9dc3f",
   "metadata": {},
   "source": [
    "### 字典的方法"
   ]
  },
  {
   "cell_type": "code",
   "execution_count": 9,
   "id": "c597ace9-a4f1-4eed-8bb2-18385ea58ccb",
   "metadata": {},
   "outputs": [
    {
     "data": {
      "text/plain": [
       "['__class__',\n",
       " '__class_getitem__',\n",
       " '__contains__',\n",
       " '__delattr__',\n",
       " '__delitem__',\n",
       " '__dir__',\n",
       " '__doc__',\n",
       " '__eq__',\n",
       " '__format__',\n",
       " '__ge__',\n",
       " '__getattribute__',\n",
       " '__getitem__',\n",
       " '__gt__',\n",
       " '__hash__',\n",
       " '__init__',\n",
       " '__init_subclass__',\n",
       " '__ior__',\n",
       " '__iter__',\n",
       " '__le__',\n",
       " '__len__',\n",
       " '__lt__',\n",
       " '__ne__',\n",
       " '__new__',\n",
       " '__or__',\n",
       " '__reduce__',\n",
       " '__reduce_ex__',\n",
       " '__repr__',\n",
       " '__reversed__',\n",
       " '__ror__',\n",
       " '__setattr__',\n",
       " '__setitem__',\n",
       " '__sizeof__',\n",
       " '__str__',\n",
       " '__subclasshook__',\n",
       " 'clear',\n",
       " 'copy',\n",
       " 'fromkeys',\n",
       " 'get',\n",
       " 'items',\n",
       " 'keys',\n",
       " 'pop',\n",
       " 'popitem',\n",
       " 'setdefault',\n",
       " 'update',\n",
       " 'values']"
      ]
     },
     "execution_count": 9,
     "metadata": {},
     "output_type": "execute_result"
    }
   ],
   "source": [
    "dir(dict)"
   ]
  },
  {
   "cell_type": "markdown",
   "id": "8b4f90c1-83fa-4473-9a54-8e24830e1146",
   "metadata": {},
   "source": [
    "\n",
    "方法|描述\n",
    "--|--\n",
    "`d.keys()`|返回字典 d 中所有的键信息\n",
    "`d.values()`|返回字典 d 中所有的值信息\n",
    "`d.items()`|返回字典 d 中所有的键值对信息\n",
    "|**这3个字典方法返回的分别是dict_keys、dict_values和dict_items对象，不是真正的列表，不能被修改，没有append()方法。但这些数据类型（1）可以通过for循环遍历；（2）可以通过list()或[]生成列表；（3）也可以利用多重赋值的技巧，在for循环中将键和值赋给不同的变量。**\n",
    "`k in d`|判断键 k 是否在字典 d 中，语法上可以省略`.keys()`\n",
    "`k in d.keys()`|判断键 k 是否在字典 d 中\n",
    "`v in d.values()`|判断值 v 是否在字典 d 中\n",
    "`(k, v) in d.items()`|判断键值对 (k, v) 是否在字典 d 中\n",
    "`d.get(k, <default>)`|索引语法的增强版，**这个函数非常重要，可以防止因键不存在产生错误**：<font color = 'red'>键 k 存在，则返回相应值；不存在，则返回`<default>`值</font>\n",
    "`d.update()`|更新键值对，已存在则覆盖，不存在则添加\n",
    "`d.pop(k, <default>)`|键 k 存在，则取出相应值，并删除该键值对；不存在，则返回`<default>`值\n",
    "`d.popitem()`|随机从字典中取出一个键值对，以元组形式返回\n",
    "`d.setdefault(k, v)`|若键k不在字典d中，添加键值对(k, v)；若键k在字典d中，则不作反应\n",
    "`del d[k]`|删除键 k 对应的值\n",
    "`d.clear()`|清空\n",
    "`len(d)`|字典的规模\n",
    "`pprint.pprint(d)`|打印字典，每个键值对为一行\n",
    "`pprint.pformat(d)`|将字典转化为一个格式化好的大字符串，print() 可获得与 pprint() 相同的效果\n"
   ]
  },
  {
   "cell_type": "code",
   "execution_count": 8,
   "id": "b365beb5-0cb7-43d5-b193-486b8389a903",
   "metadata": {},
   "outputs": [
    {
     "name": "stdout",
     "output_type": "stream",
     "text": [
      "dict_items([('BMW', 8.5), ('BENS', 8.3), ('AUDI', 7.9)])\n",
      "<class 'dict_items'>\n",
      "[('BMW', 8.5), ('BENS', 8.3), ('AUDI', 7.9)]\n",
      "('BENS', 8.3)\n",
      "dict_keys(['BMW', 'BENS', 'AUDI'])\n",
      "<class 'dict_keys'>\n",
      "['BMW', 'BENS', 'AUDI']\n",
      "BENS\n",
      "dict_values([8.5, 8.3, 7.9])\n",
      "<class 'dict_values'>\n",
      "[8.5, 8.3, 7.9]\n",
      "8.3\n",
      "Key: BMW Value: 8.5\n",
      "Key: BENS Value: 8.3\n",
      "Key: AUDI Value: 7.9\n"
     ]
    }
   ],
   "source": [
    "cars = {'BMW': 8.5, 'BENS': 8.3, 'AUDI': 7.9}\n",
    "ims = cars.items() # 获取字典所有的key-value对，返回一个dict_items对象\n",
    "print(ims) # 返回结构可以遍历，但不是列表类型\n",
    "print(type(ims)) \n",
    "print(list(ims)) # 将dict_items转换成列表\n",
    "print(list(ims)[1]) # 访问第2个key-value对\n",
    "\n",
    "kys = cars.keys() # 获取字典所有的key，返回一个dict_keys对象\n",
    "print(kys)\n",
    "print(type(kys)) \n",
    "print(list(kys)) # 将dict_keys转换成列表\n",
    "print(list(kys)[1]) # 访问第2个key\n",
    "\n",
    "vals = cars.values() # 获取字典所有的value，返回一个dict_values对象\n",
    "print(vals)\n",
    "print(type(vals)) \n",
    "print(list(vals)) # 将dict_values转换成列表\n",
    "print(list(vals)[1]) # 访问第2个value\n",
    "\n",
    "for k, v in cars.items():\n",
    "    print('Key: ' + k + ' Value: ' + str(v))"
   ]
  },
  {
   "cell_type": "code",
   "execution_count": 7,
   "id": "bbdde19f-b323-47a7-be17-c995dcbf8b20",
   "metadata": {},
   "outputs": [
    {
     "name": "stdout",
     "output_type": "stream",
     "text": [
      "{'中国': '北京', '美国': '华盛顿'}\n"
     ]
    }
   ],
   "source": [
    "picnicItems = {'apples': 5, 'cups': 2}\n",
    "'I am bringing ' + str(picnicItems.get('cups', 0)) + ' cups.'\n",
    "'I am bringing ' + str(picnicItems.get('eggs', 0)) + ' eggs.'\n",
    "\n",
    "d = {'中国':'北京', '美国':'华盛顿', '法国':'巴黎'}\n",
    "'中国' in d\n",
    "d.popitem()\n",
    "print(d)"
   ]
  },
  {
   "cell_type": "code",
   "execution_count": 6,
   "id": "51c12f26-7285-4524-833f-f05dac6726a6",
   "metadata": {},
   "outputs": [
    {
     "name": "stdout",
     "output_type": "stream",
     "text": [
      "{'I': 1, 't': 6, ' ': 13, 'w': 2, 'a': 4, 's': 3, 'b': 1, 'r': 5, 'i': 6, 'g': 2, 'h': 3, 'c': 3, 'o': 2, 'l': 3, 'd': 3, 'y': 1, 'n': 4, 'A': 1, 'p': 1, ',': 1, 'e': 5, 'k': 2, '.': 1}\n",
      "{' ': 13,\n",
      " ',': 1,\n",
      " '.': 1,\n",
      " 'A': 1,\n",
      " 'I': 1,\n",
      " 'a': 4,\n",
      " 'b': 1,\n",
      " 'c': 3,\n",
      " 'd': 3,\n",
      " 'e': 5,\n",
      " 'g': 2,\n",
      " 'h': 3,\n",
      " 'i': 6,\n",
      " 'k': 2,\n",
      " 'l': 3,\n",
      " 'n': 4,\n",
      " 'o': 2,\n",
      " 'p': 1,\n",
      " 'r': 5,\n",
      " 's': 3,\n",
      " 't': 6,\n",
      " 'w': 2,\n",
      " 'y': 1}\n",
      "{' ': 13,\n",
      " ',': 1,\n",
      " '.': 1,\n",
      " 'A': 1,\n",
      " 'I': 1,\n",
      " 'a': 4,\n",
      " 'b': 1,\n",
      " 'c': 3,\n",
      " 'd': 3,\n",
      " 'e': 5,\n",
      " 'g': 2,\n",
      " 'h': 3,\n",
      " 'i': 6,\n",
      " 'k': 2,\n",
      " 'l': 3,\n",
      " 'n': 4,\n",
      " 'o': 2,\n",
      " 'p': 1,\n",
      " 'r': 5,\n",
      " 's': 3,\n",
      " 't': 6,\n",
      " 'w': 2,\n",
      " 'y': 1}\n"
     ]
    },
    {
     "data": {
      "text/plain": [
       "str"
      ]
     },
     "execution_count": 6,
     "metadata": {},
     "output_type": "execute_result"
    }
   ],
   "source": [
    "import pprint\n",
    "\n",
    "# 统计字母或单字频数的程序\n",
    "message = 'It was a bright cold day in April, and the clocks were striking thirteen.'\n",
    "count = {} # 空字典\n",
    "\n",
    "for character in message:\n",
    "    count.setdefault(character, 0) # 对于新字母，加入字典，频数为0\n",
    "    count[character] = count[character] + 1 # 频数加1\n",
    "\n",
    "print(count)\n",
    "pprint.pprint(count)\n",
    "count_format = pprint.pformat(count)\n",
    "print(count_format)\n",
    "count_format\n",
    "type(count_format)"
   ]
  },
  {
   "cell_type": "markdown",
   "id": "b2215a7c-540f-4791-9839-a7ee4b77911d",
   "metadata": {},
   "source": [
    "### 应用场景\n",
    "\n",
    "表达键值对数据\n",
    "\n",
    "#### 元素遍历\n",
    "\n",
    "```python\n",
    "for k in d:\n",
    "    <代码块>\n",
    "```"
   ]
  },
  {
   "cell_type": "markdown",
   "id": "6b4eb337-ebe9-433b-8c71-bece2ee32c3d",
   "metadata": {},
   "source": [
    "## 集合\n",
    "\n",
    "### 元素性质\n",
    "\n",
    "- 无序\n",
    "- 唯一\n",
    "- 元素类型必须为不可变的数据类型\n",
    "\n",
    "> 因此，列表就不能作为集合元素。\n",
    "\n",
    "### 建立集合\n",
    "\n",
    "`{x, y, z, ...}`或`set()`，建立空集合必须用`set()`，因为`{}`是留给创建字典类型的\n"
   ]
  },
  {
   "cell_type": "code",
   "execution_count": 2,
   "id": "8f72f47b-492d-49f5-ba82-1c3afe3bca15",
   "metadata": {},
   "outputs": [
    {
     "data": {
      "text/plain": [
       "{'1', '2', '3', 'h', 'n', 'o', 'p', 't', 'y'}"
      ]
     },
     "execution_count": 2,
     "metadata": {},
     "output_type": "execute_result"
    }
   ],
   "source": [
    "B = set('python123') # set()将字符串拆分，每个字符作为集合的一个元素\n",
    "B "
   ]
  },
  {
   "cell_type": "code",
   "execution_count": 3,
   "id": "fb13fbc0-4d2d-49cd-be2d-1f5614a5b166",
   "metadata": {},
   "outputs": [
    {
     "data": {
      "text/plain": [
       "{123, 'A'}"
      ]
     },
     "execution_count": 3,
     "metadata": {},
     "output_type": "execute_result"
    }
   ],
   "source": [
    "C = {'A', 123, 'A', 123}\n",
    "C # 元素唯一性"
   ]
  },
  {
   "cell_type": "markdown",
   "id": "afdcf22d-a628-41b4-bc05-56b442f56d08",
   "metadata": {},
   "source": [
    "### 集合操作\n",
    "\n",
    "`A op B`|返回\n",
    "--|--\n",
    "`|`|并\n",
    "`-`|差^[在 A 但不在 B 中的元素。] \n",
    "`&`|交\n",
    "`^`|交集的补集，A 与 B 中的非共有元素\n",
    "`<=`或`<`|判断 A 与 B 的被包含关系\n",
    "`>=`或`>`|判断 A 与 B 的包含关系\n",
    "**二元增强操作符**|运算且赋值\n",
    "`|=`|\n",
    "`-=`|\n",
    "`&=`|\n",
    "`^=`|"
   ]
  },
  {
   "cell_type": "markdown",
   "id": "53012114-30be-48d5-925c-0c6871a661c1",
   "metadata": {},
   "source": [
    "### 集合类的方法和相关函数\n",
    "\n",
    "方法和函数|说明\n",
    "--|--\n",
    "S.add(x)|添加元素\n",
    "S.discard(x)|删除，若 x 不在 S 中，不报错\n",
    "S.remove(x)|删除，若 x 不在 S 中，报错\n",
    "S.clear()|清空\n",
    "S.pop()|随机返回 S 的一个元素，将其从 S 中移除；若 S 为空，产生 KeyError 异常\n",
    "S.copy()|返回集合的一个副本\n",
    "len(S)|返回集合规模\n",
    "x in S|判断是否在其中\n",
    "x not in S|判断是否不在其中\n",
    "set(x)|将其他类型转变为集合类型"
   ]
  },
  {
   "cell_type": "code",
   "execution_count": 4,
   "id": "68e1262c-a7de-4727-81fd-e6398fb34966",
   "metadata": {},
   "outputs": [
    {
     "name": "stdout",
     "output_type": "stream",
     "text": [
      "python 123 R "
     ]
    }
   ],
   "source": [
    "A = {'python', 'R', 123}\n",
    "\n",
    "try:\n",
    "    while True:\n",
    "        print(A.pop(), end = ' ')\n",
    "except:\n",
    "    pass"
   ]
  },
  {
   "cell_type": "markdown",
   "id": "940e1b31-98cf-4037-bc3e-6f12422c7169",
   "metadata": {},
   "source": [
    "### 应用场景：数据去重"
   ]
  },
  {
   "cell_type": "code",
   "execution_count": 5,
   "id": "9fd5eacf-cfdd-4017-8ad5-e1aca1b3f587",
   "metadata": {},
   "outputs": [
    {
     "data": {
      "text/plain": [
       "{1, 2, 3}"
      ]
     },
     "execution_count": 5,
     "metadata": {},
     "output_type": "execute_result"
    }
   ],
   "source": [
    "ls = [1, 2, 3, 2, 1]\n",
    "s = set(ls)\n",
    "s"
   ]
  }
 ],
 "metadata": {
  "kernelspec": {
   "display_name": "Python 3 (ipykernel)",
   "language": "python",
   "name": "python3"
  },
  "language_info": {
   "codemirror_mode": {
    "name": "ipython",
    "version": 3
   },
   "file_extension": ".py",
   "mimetype": "text/x-python",
   "name": "python",
   "nbconvert_exporter": "python",
   "pygments_lexer": "ipython3",
   "version": "3.10.5"
  },
  "toc-autonumbering": true,
  "toc-showcode": false,
  "toc-showmarkdowntxt": false
 },
 "nbformat": 4,
 "nbformat_minor": 5
}
