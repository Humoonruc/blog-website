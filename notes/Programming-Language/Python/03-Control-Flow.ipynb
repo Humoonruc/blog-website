{
 "cells": [
  {
   "cell_type": "markdown",
   "id": "8ad05fda-ea47-4c5e-bd89-b97aadc38523",
   "metadata": {},
   "source": [
    "# Control Flow"
   ]
  },
  {
   "cell_type": "markdown",
   "id": "990dcb6f-e122-469a-b05a-709cae5ba378",
   "metadata": {},
   "source": [
    "## 选择"
   ]
  },
  {
   "cell_type": "markdown",
   "id": "c5a7695d-dc1c-4d67-a1cc-8faa5ac8bcb8",
   "metadata": {},
   "source": [
    "### False的多种等价形式\n",
    "\n",
    "`False, None, 0, \"\", (), [], {}`，在条件判断中都会被视为 `False`"
   ]
  },
  {
   "cell_type": "code",
   "execution_count": 2,
   "id": "ee546bc7-a18b-47dc-8576-256ba89f4220",
   "metadata": {},
   "outputs": [
    {
     "name": "stdout",
     "output_type": "stream",
     "text": [
      "s是空字符串\n",
      "my_list是空列表\n",
      "my_dict是空字典\n"
     ]
    }
   ],
   "source": [
    "s = \"\"\n",
    "if s:\n",
    "    print('s不是空字符串')\n",
    "else:\n",
    "    print('s是空字符串')\n",
    "\n",
    "\n",
    "my_list = [] # 定义空列表\n",
    "if my_list:\n",
    "    print('my_list不是空列表')\n",
    "else:\n",
    "    print('my_list是空列表')\n",
    "\n",
    "\n",
    "my_dict = {} # 定义空字典\n",
    "if my_dict:\n",
    "    print('my_dict不是空字典')\n",
    "else:\n",
    "    print('my_dict是空字典')"
   ]
  },
  {
   "cell_type": "markdown",
   "id": "9c718043-c8c0-4460-b9cd-87824b81d95c",
   "metadata": {},
   "source": [
    "### 三元运算符\n",
    "\n",
    "`<表达式1> if <条件> else <表达式2>`\n",
    "\n",
    "等价于\n",
    "\n",
    "```python\n",
    "if <条件>:\n",
    "    <表达式1>\n",
    "else:\n",
    "    <表达式2>\n",
    "```"
   ]
  },
  {
   "cell_type": "markdown",
   "id": "9d0131ac-0074-42d2-bb58-53ba4db6cabd",
   "metadata": {},
   "source": [
    "## loop"
   ]
  },
  {
   "cell_type": "markdown",
   "id": "b0fef460-bc53-4fa3-85e9-f7540cb5649d",
   "metadata": {},
   "source": [
    "### 可以通过循环遍历的对象"
   ]
  },
  {
   "cell_type": "markdown",
   "id": "b6a3cfbd-ae2d-47ba-a6ea-df3612790d23",
   "metadata": {},
   "source": [
    "#### 通过索引遍历"
   ]
  },
  {
   "cell_type": "code",
   "execution_count": 16,
   "id": "27595afb-c6dd-4f2e-9e06-6cfb54eb3204",
   "metadata": {},
   "outputs": [
    {
     "name": "stdout",
     "output_type": "stream",
     "text": [
      "fkit\n",
      "crazyit\n",
      "Charli\n"
     ]
    }
   ],
   "source": [
    "a_tuple = ('fkit', 'crazyit', 'Charli')\n",
    "i = 0\n",
    "# 只有i小于len(a_list)，继续执行循环体\n",
    "while i < len(a_tuple):\n",
    "    print(a_tuple[i]) # 根据i来访问元组的元素\n",
    "    i += 1 # Python和R中都没有i++这种语法"
   ]
  },
  {
   "cell_type": "markdown",
   "id": "fd40c224-8742-47e6-ade1-3712bef09733",
   "metadata": {},
   "source": [
    "#### 通过长度遍历"
   ]
  },
  {
   "cell_type": "code",
   "execution_count": 15,
   "id": "decb4f83-8d6f-4dc7-a878-ee9c95ef91a8",
   "metadata": {},
   "outputs": [
    {
     "name": "stdout",
     "output_type": "stream",
     "text": [
      "整除3: [24, 45, 12]\n",
      "除以3余1: [109, 100, 13, 34]\n",
      "除以3余2: [74, 56]\n"
     ]
    }
   ],
   "source": [
    "src_list = [12, 45, 34,13, 100, 24, 56, 74, 109]\n",
    "a_list = [] # 定义保存整除3的元素\n",
    "b_list = [] # 定义保存除以3余1的元素\n",
    "c_list = [] # 定义保存除以3余2的元素\n",
    "# 只要src_list还有元素，继续执行循环体\n",
    "while len(src_list) > 0:\n",
    "    ele = src_list.pop() # 弹出src_list最后一个元素\n",
    "    if ele % 3 == 0 :\n",
    "        a_list.append(ele) # 添加元素\n",
    "    elif ele % 3 == 1:\n",
    "        b_list.append(ele) # 添加元素\n",
    "    else:\n",
    "        c_list.append(ele) # 添加元素\n",
    "print(\"整除3:\", a_list)\n",
    "print(\"除以3余1:\",b_list)\n",
    "print(\"除以3余2:\",c_list)"
   ]
  },
  {
   "cell_type": "markdown",
   "id": "9b3eacdd-2573-4e8d-979e-475d9580e0bc",
   "metadata": {},
   "source": [
    "#### `for-in`遍历\n",
    "\n",
    "可以遍历任何可迭代对象^[该对象中包含一个`__iter__`方法，且该方法的返回值对象具有`next()`方法。] ，循环的变量也称为循环计数器。"
   ]
  },
  {
   "cell_type": "code",
   "execution_count": 14,
   "id": "1defae19-a2ad-4d79-97ed-196f3a4c429e",
   "metadata": {},
   "outputs": [
    {
     "name": "stdout",
     "output_type": "stream",
     "text": [
      "12\n",
      "45\n",
      "3.4\n",
      "13\n",
      "4\n",
      "56\n",
      "109.5\n",
      "总和: 242.9\n",
      "平均数: 34.7\n"
     ]
    }
   ],
   "source": [
    "src_list = [12, 45, 3.4, 13, 'a', 4, 56, 'crazyit', 109.5]\n",
    "my_sum = 0\n",
    "my_count = 0\n",
    "for ele in src_list:\n",
    "    # 如果该元素是整数或浮点数\n",
    "    if isinstance(ele, int) or isinstance(ele, float):\n",
    "        print(ele)\n",
    "        # 累加该元素\n",
    "        my_sum += ele\n",
    "        # 数值元素的个数加1\n",
    "        my_count += 1\n",
    "print('总和:', my_sum)\n",
    "print('平均数:', my_sum / my_count)"
   ]
  },
  {
   "cell_type": "markdown",
   "id": "ee186a57-7124-4eb9-8134-b163973814a3",
   "metadata": {},
   "source": [
    "### continue 与 break\n",
    "\n",
    "1. `continue` 跳过执行代码块直接进入下一次循环\n",
    "\n",
    "2. `break` 中止<font color = 'red'><strong>本层</strong></font>循环，如果是嵌套多重循环，仍会执行上一层循环。为了直接中止多层循环，需要更复杂的设计："
   ]
  },
  {
   "cell_type": "code",
   "execution_count": 13,
   "id": "cf0a5cdd-db4d-41f3-b8e5-0127c24aa15f",
   "metadata": {},
   "outputs": [
    {
     "name": "stdout",
     "output_type": "stream",
     "text": [
      "i的值为: 0, j的值为: 0\n",
      "i的值为: 0, j的值为: 1\n"
     ]
    }
   ],
   "source": [
    "exit_flag = False\n",
    "for i in range(0, 5) : # 外层循环\n",
    "    for j in range(0, 3) : # 内层循环\n",
    "        print(\"i的值为: %d, j的值为: %d\" % (i, j))\n",
    "        if j == 1 :\n",
    "            exit_flag = True\n",
    "            break # 跳出里层循环\n",
    "    if exit_flag : # 如果exit_flag为True，跳出外层循环\n",
    "        break "
   ]
  },
  {
   "cell_type": "markdown",
   "id": "9e45956d-561f-44df-b02f-882f3edcf5e4",
   "metadata": {},
   "source": [
    "3. `return` 直接中止函数，不论正在执行什么循环"
   ]
  },
  {
   "cell_type": "markdown",
   "id": "997f57fe-eb8c-49a3-9a97-dfe4e8504faa",
   "metadata": {},
   "source": [
    "### 高级用法：循环 + `else`\n",
    "\n",
    "```python\n",
    "for <循环变量> in <遍历结构>:\n",
    "    <语句块1>\n",
    "else:\n",
    "    <语句块2>\n",
    "```\n",
    "```python\n",
    "while <条件>:\n",
    "    <语句块1>\n",
    "else:\n",
    "    <语句块2>\n",
    "```\n",
    "\n",
    "循环没有被`break`跳出一直循环完毕，则执行`else`代码块；否则被跳出，循环没有正常执行完毕，就不执行`else`代码块。比如，语句块2可以为`print('正常退出')`，我们就可以知道循环有没有正常执行完毕。"
   ]
  },
  {
   "cell_type": "markdown",
   "id": "e9b88717-c992-40e0-9dd9-931feb9f6b01",
   "metadata": {},
   "source": [
    "### for 表达式\n",
    "\n",
    "#### 列表推导式\n",
    "\n",
    "`[<表达式> for <循环计数器> in <可迭代对象> (if <条件>)]`，两边为方括号，返回一个列表^[很像 R 语言中的向量化运算和JavaScript中的map()高阶函数。] 。if 条件可选，只对符合条件的某次循环执行表达式。"
   ]
  },
  {
   "cell_type": "code",
   "execution_count": 7,
   "id": "2f9948ec-cfb7-446f-ac43-fa552e8f22a8",
   "metadata": {},
   "outputs": [
    {
     "name": "stdout",
     "output_type": "stream",
     "text": [
      "[0, 1, 4, 9, 16, 25, 36, 49, 64, 81]\n",
      "[0, 4, 16, 36, 64]\n"
     ]
    }
   ],
   "source": [
    "a_range = range(10)\n",
    "\n",
    "a_list = [x * x for x in a_range] # 对a_range执行for表达式\n",
    "print(a_list) # a_list集合包含10个元素\n",
    "\n",
    "b_list = [x * x for x in a_range if x % 2 == 0]\n",
    "print(b_list) # b_list集合包含5个元素"
   ]
  },
  {
   "cell_type": "code",
   "execution_count": 8,
   "id": "e616aa47-6daa-4446-9f7c-f4810181a312",
   "metadata": {},
   "outputs": [
    {
     "name": "stdout",
     "output_type": "stream",
     "text": [
      "[[0, 0, 0], [0, 0, 1], [0, 0, 2], [0, 0, 3], [0, 0, 4], [0, 0, 5], [0, 1, 0], [0, 1, 1], [0, 1, 2], [0, 1, 3], [0, 1, 4], [0, 1, 5], [0, 2, 0], [0, 2, 1], [0, 2, 2], [0, 2, 3], [0, 2, 4], [0, 2, 5], [0, 3, 0], [0, 3, 1], [0, 3, 2], [0, 3, 3], [0, 3, 4], [0, 3, 5], [1, 0, 0], [1, 0, 1], [1, 0, 2], [1, 0, 3], [1, 0, 4], [1, 0, 5], [1, 1, 0], [1, 1, 1], [1, 1, 2], [1, 1, 3], [1, 1, 4], [1, 1, 5], [1, 2, 0], [1, 2, 1], [1, 2, 2], [1, 2, 3], [1, 2, 4], [1, 2, 5], [1, 3, 0], [1, 3, 1], [1, 3, 2], [1, 3, 3], [1, 3, 4], [1, 3, 5], [2, 0, 0], [2, 0, 1], [2, 0, 2], [2, 0, 3], [2, 0, 4], [2, 0, 5], [2, 1, 0], [2, 1, 1], [2, 1, 2], [2, 1, 3], [2, 1, 4], [2, 1, 5], [2, 2, 0], [2, 2, 1], [2, 2, 2], [2, 2, 3], [2, 2, 4], [2, 2, 5], [2, 3, 0], [2, 3, 1], [2, 3, 2], [2, 3, 3], [2, 3, 4], [2, 3, 5], [3, 0, 0], [3, 0, 1], [3, 0, 2], [3, 0, 3], [3, 0, 4], [3, 0, 5], [3, 1, 0], [3, 1, 1], [3, 1, 2], [3, 1, 3], [3, 1, 4], [3, 1, 5], [3, 2, 0], [3, 2, 1], [3, 2, 2], [3, 2, 3], [3, 2, 4], [3, 2, 5], [3, 3, 0], [3, 3, 1], [3, 3, 2], [3, 3, 3], [3, 3, 4], [3, 3, 5], [4, 0, 0], [4, 0, 1], [4, 0, 2], [4, 0, 3], [4, 0, 4], [4, 0, 5], [4, 1, 0], [4, 1, 1], [4, 1, 2], [4, 1, 3], [4, 1, 4], [4, 1, 5], [4, 2, 0], [4, 2, 1], [4, 2, 2], [4, 2, 3], [4, 2, 4], [4, 2, 5], [4, 3, 0], [4, 3, 1], [4, 3, 2], [4, 3, 3], [4, 3, 4], [4, 3, 5]]\n",
      "[(3, 30), (3, 12), (3, 66), (3, 39), (3, 78), (3, 36), (3, 57), (5, 30), (11, 66), (11, 121)]\n"
     ]
    }
   ],
   "source": [
    "# 多重循环\n",
    "e_list = [[x, y, z] for x in range(5) for y in range(4) for z in range(6)]\n",
    "print(e_list)\n",
    "\n",
    "src_a = [30, 12, 66, 34, 39, 78, 36, 57, 121]\n",
    "src_b = [3, 5, 7, 11]\n",
    "result = [(x, y) for x in src_b for y in src_a if y % x == 0] # 只要y能整除x，就将它们配对在一起\n",
    "print(result)"
   ]
  },
  {
   "cell_type": "markdown",
   "id": "01de3681-e71c-4cfd-8d15-d29affeb3330",
   "metadata": {},
   "source": [
    "#### generator 推导式\n",
    "\n",
    "`(<表达式> for <循环计数器> in <可迭代对象> (if <条件>))`，两边为圆括号，返回一个 generator 对象。"
   ]
  },
  {
   "cell_type": "code",
   "execution_count": 9,
   "id": "d2a5b9cd-bf08-4512-aaef-d8a4f487facb",
   "metadata": {},
   "outputs": [
    {
     "name": "stdout",
     "output_type": "stream",
     "text": [
      "<class 'generator'>\n",
      "<generator object <genexpr> at 0x000001ED4BEE1D90>\n",
      "0\n",
      "4\n",
      "16\n",
      "36\n",
      "64\n"
     ]
    }
   ],
   "source": [
    "a_range = range(10)\n",
    "c_generator = (x * x for x in a_range if x % 2 == 0) # 使用for表达式创建生成器\n",
    "print(type(c_generator))\n",
    "print(c_generator)\n",
    "\n",
    "for i in c_generator: # 使用for循环迭代生成器\n",
    "    print(i, end='\\n')"
   ]
  },
  {
   "cell_type": "markdown",
   "id": "473424dc-8586-4e78-9bb4-ede456eb5902",
   "metadata": {},
   "source": [
    "#### 常用函数\n",
    "\n",
    "1. `zip()`\n",
    "\n",
    "将多个列表压缩为一个 zip 对象，可以遍历"
   ]
  },
  {
   "cell_type": "code",
   "execution_count": 10,
   "id": "6f93261a-c4dc-42e0-b543-0a09e71842aa",
   "metadata": {},
   "outputs": [
    {
     "name": "stdout",
     "output_type": "stream",
     "text": [
      "<class 'zip'>\n",
      "疯狂Kotlin讲义的价格是: 79.00\n",
      "疯狂Swift讲义的价格是: 69.00\n",
      "疯狂Python讲义的价格是: 89.00\n"
     ]
    }
   ],
   "source": [
    "books = ['疯狂Kotlin讲义', '疯狂Swift讲义', '疯狂Python讲义']\n",
    "prices = [79, 69, 89]\n",
    "# 使用zip()函数压缩两个列表，从而实现并行遍历\n",
    "print(type(zip(books, prices)))\n",
    "for book, price in zip(books, prices):\n",
    "    print(\"%s的价格是: %5.2f\" % (book, price))"
   ]
  },
  {
   "cell_type": "markdown",
   "id": "ab360dc5-bdf1-4ead-b4b1-08456cb1142c",
   "metadata": {},
   "source": [
    "2. `reversed()` \n",
    "\n",
    "逆序函数，与列表的`.reverse()`方法相比，不会改变输入值"
   ]
  },
  {
   "cell_type": "code",
   "execution_count": 11,
   "id": "9390e489-3903-48ac-9c3f-1c3659403b14",
   "metadata": {},
   "outputs": [
    {
     "data": {
      "text/plain": [
       "[50, 3.4, 20, 'f.kit', 'a']"
      ]
     },
     "execution_count": 11,
     "metadata": {},
     "output_type": "execute_result"
    }
   ],
   "source": [
    "b = ['a','f.kit',20,3.4,50]\n",
    "[x for x in reversed(b)]"
   ]
  },
  {
   "cell_type": "markdown",
   "id": "19071f63-24af-477f-89c1-b41d6b44324a",
   "metadata": {},
   "source": [
    "3. `sorted()`\n",
    "排序函数，与列表的`.sort()`方法相比，不会改变输入值"
   ]
  },
  {
   "cell_type": "code",
   "execution_count": 12,
   "id": "50c6fe6e-1dce-4492-817e-156745791bcb",
   "metadata": {},
   "outputs": [
    {
     "name": "stdout",
     "output_type": "stream",
     "text": [
      "fox\n",
      "fkit\n",
      "Emily\n",
      "crazyit\n",
      "Charlie\n"
     ]
    }
   ],
   "source": [
    "my_list = ['fkit', 'crazyit', 'Charlie', 'fox', 'Emily']\n",
    "for s in sorted(my_list, key=len):\n",
    "    print(s)"
   ]
  },
  {
   "cell_type": "code",
   "execution_count": null,
   "id": "cbc1573c-e399-4afb-adbc-5646fcee61b2",
   "metadata": {},
   "outputs": [],
   "source": []
  },
  {
   "cell_type": "code",
   "execution_count": null,
   "id": "d1f30a10-66f3-4fcc-bea0-1ea88edfb5c6",
   "metadata": {},
   "outputs": [],
   "source": []
  },
  {
   "cell_type": "code",
   "execution_count": null,
   "id": "123886ee-3a3d-419e-97cd-6c3354533e6c",
   "metadata": {},
   "outputs": [],
   "source": []
  },
  {
   "cell_type": "code",
   "execution_count": null,
   "id": "31b6e64a-412f-4ddc-8f53-8c5d228be96e",
   "metadata": {},
   "outputs": [],
   "source": []
  }
 ],
 "metadata": {
  "kernelspec": {
   "display_name": "Python 3 (ipykernel)",
   "language": "python",
   "name": "python3"
  },
  "language_info": {
   "codemirror_mode": {
    "name": "ipython",
    "version": 3
   },
   "file_extension": ".py",
   "mimetype": "text/x-python",
   "name": "python",
   "nbconvert_exporter": "python",
   "pygments_lexer": "ipython3",
   "version": "3.10.5"
  },
  "toc-autonumbering": true
 },
 "nbformat": 4,
 "nbformat_minor": 5
}
