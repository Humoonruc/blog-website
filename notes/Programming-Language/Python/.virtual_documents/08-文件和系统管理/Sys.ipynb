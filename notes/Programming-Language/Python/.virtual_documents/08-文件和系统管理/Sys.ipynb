import sys


sys.exit("程序结束")



