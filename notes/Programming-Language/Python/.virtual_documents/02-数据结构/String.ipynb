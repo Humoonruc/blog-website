print('''He said, "she shouted 'Oh my God!' that time."''')


print('''我愿意留在汤婆婆的澡堂里工作两年，
第一年在锅炉房和锅炉爷爷一起烧锅炉水，
将在这个世界变成一头猪。''')


print('G:\publish\codes\02\2.4\n\d') # 普通字符串，反斜杠转义各种字符，如\n


print(r'G:\publish\codes\02\2.4\n\d') # 原始字符串，反斜杠不再转义其他符号


print(r'G:\publish\codes\02\2.4\n\d\') # 但扔转义引号，所以这样写会报错


print(r'G:\publish\codes\02\2.4\n\d' + '\\') # 如果想在原始字符串结尾使用反斜杠，要单独写反斜杠


## 特殊符号
print('1 + 1 = 2 ' + chr(10004) + '\n') # "10004"在 Unicode 中表示对勾

for i in range(12): # 打印十二星座符号
    n = 9800 + i # 12星座符号对应的 Unicode 编码
    print(chr(n)+' ', end='')


s = 'crazyit.org is a good site'
print(s.split()) # 默认用空白（参数为None）分割，不管空白具体是什么字符，连续有多少个
print(s.split(None, 2)) # 使用空白对字符串进行分割，且最多只分割出前2个单词，其余部分不再分割，而作为一个整体列出
print(s.split('.')) 
mylist = s.split()
print('/'.join(mylist)) # 使用'/'为分割符，将mylist连接成字符串
print(','.join(mylist)) # 使用','为分割符，将mylist连接成字符串

s2 = 'i think it is a scarecrow'
print(s2.lstrip('itow')) # 删除左边任意多个i、t、o、w字符
print(s2.rstrip('itow')) # 删除右边任意多个i、t、o、w字符
print(s2.strip('itow')) # 删除两边任意多个i、t、o、w字符

s = 'crazyit.org is a good site'
print(s.startswith('crazyit'))
print(s.endswith('site'))
print(s.find('org')) # 查找s中'org'的出现位置
print(s.index('org')) # 8
print(s.find('org', 9)) # 从索引为9处开始查找'org'的出现位置
# print(s.index('org', 9)) # 从索引为9处开始查找'org'的出现位置，引发错误
print(s.replace('it', 'xxxx')) # 将字符串中所有it替换成xxxx
print(s.replace('it', 'xxxx', 1)) # 将字符串中1个it替换成xxxx
table = {97: 945, 98: 946, 116: 964}  # 定义替换表：97（a）->945（α）,98（b）->945（β）,116（t）->964（τ）,
print(s.translate(table))
table2 = str.maketrans('abt', 'αβτ')
print(s.translate(table2))


name = "John"
print(f"His name is {name}")


"{0:=^20}".format("Python") # 用 '=' 填充，居中对齐，槽宽度为20


"{:=^20}".format("Python") # 参数索引0可以省略


"{:*>20}".format("BIT") # 用 '*' 填充，右对齐，槽宽度为20


"{:10}".format("BIT") # 默认左对齐，空格填充


"{0:,.2f}".format(12345.6789) # 使用千位分隔符，保留两位小数的浮点型


"{0:b}, {0:c}, {0:d}, {0:o}, {0:x}, {0:X}".format(425) # 分别转换为：二进制，Unicode 编码，十进制，八进制，十六进制，大写的十六进制


"{0:.2e}, {0:.2E}, {0:.2f}, {0:.2%}".format(3.14) # 分别转换为：科学记数法，大写科学记数法，浮点数，百分数
