import random


for i in range(10) :
    num = random.random()
    print(num)

print("\n" + random.choice("asdfghjkl;"))






