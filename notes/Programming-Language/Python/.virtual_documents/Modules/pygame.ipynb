import time
import pygame
import random
import os
import pyinstall


def play_music(file):
    pygame.mixer.init()
    pygame.mixer.music.load(file)
    pygame.mixer.music.play()
    time.sleep(10)
    pygame.mixer.music.stop()


def shuffle_play():
    dir_list = os.listdir(r"C:\Users\humoo\OneDrive\ICT\Website\static\notes\Programming-Language\Python\Modules\music")
    random.shuffle(dir_list)
    file = r"C:\Users\humoo\OneDrive\ICT\Website\static\notes\Programming-Language\Python\Modules\music/" + random.choice(dir_list)
    play_music(file)


def specific_play():
    file = r"C:\Users\humoo\OneDrive\ICT\Website\static\notes\Programming-Language\Python\Modules\music/杭州-西子夜.mp3"
    play_music(file)


def display():
    print("本程序由 Humoon 制作")


def main():
    display()
    while True:
        task_time = time.strftime("%H:%M:%S")
        print("\r当前系统时间为", task_time, end = "")
        time.sleep(1)
        
        if task_time == "11:20:00":
            specific_play()
            break
        
        if task_time == "16:00:00":
            shuffle_play
            break
        


main()



