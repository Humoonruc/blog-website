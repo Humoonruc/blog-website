{
 "cells": [
  {
   "cell_type": "code",
   "execution_count": 5,
   "id": "2116f5f8-1a67-41bf-9fe1-288ef2d5a21a",
   "metadata": {},
   "outputs": [],
   "source": [
    "import sys"
   ]
  },
  {
   "cell_type": "code",
   "execution_count": 6,
   "id": "23cd26eb-3bbe-414c-a55d-29eddf632bdf",
   "metadata": {},
   "outputs": [
    {
     "ename": "SystemExit",
     "evalue": "程序结束",
     "output_type": "error",
     "traceback": [
      "An exception has occurred, use %tb to see the full traceback.\n",
      "\u001b[1;31mSystemExit\u001b[0m\u001b[1;31m:\u001b[0m 程序结束\n"
     ]
    }
   ],
   "source": [
    "sys.exit(\"程序结束\")"
   ]
  },
  {
   "cell_type": "code",
   "execution_count": null,
   "id": "2c0c0360-a940-4520-9830-e40e5519ce55",
   "metadata": {},
   "outputs": [],
   "source": []
  }
 ],
 "metadata": {
  "kernelspec": {
   "display_name": "Python 3 (ipykernel)",
   "language": "python",
   "name": "python3"
  },
  "language_info": {
   "codemirror_mode": {
    "name": "ipython",
    "version": 3
   },
   "file_extension": ".py",
   "mimetype": "text/x-python",
   "name": "python",
   "nbconvert_exporter": "python",
   "pygments_lexer": "ipython3",
   "version": "3.10.5"
  }
 },
 "nbformat": 4,
 "nbformat_minor": 5
}
