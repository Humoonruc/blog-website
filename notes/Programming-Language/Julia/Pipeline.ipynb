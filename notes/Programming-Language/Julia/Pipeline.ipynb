{
  "cells": [
    {
      "cell_type": "raw",
      "metadata": {},
      "source": [
        "---\n",
        "title: Pipeline\n",
        "format:\n",
        "  html:\n",
        "    toc: true\n",
        "    number-sections: true\n",
        "    code-tools: true\n",
        "    highlight-style: monokai\n",
        "    code-copy: true\n",
        "    self-contained: true\n",
        "execute:\n",
        "  cache: true\n",
        "  daemon: true\n",
        "  output: asis\n",
        "---"
      ]
    },
    {
      "cell_type": "markdown",
      "metadata": {},
      "source": [
        "## 链式操作的两种写法"
      ]
    },
    {
      "cell_type": "code",
      "metadata": {},
      "source": [
        "\"adbec\" |> collect |> sort |> join # 管道\n",
        "(join ∘ sort ∘ collect)(\"adbec\") # 复合函数"
      ],
      "execution_count": null,
      "outputs": []
    },
    {
      "cell_type": "markdown",
      "metadata": {},
      "source": [
        "`∘` **\\circ TAB**\n",
        "\n",
        "## 向量化操作配合管道"
      ]
    },
    {
      "cell_type": "code",
      "metadata": {},
      "source": [
        "#| eval: false\n",
        "\n",
        "split(str) .|> uppercasefirst # 所有单词首字母大写"
      ],
      "execution_count": null,
      "outputs": []
    },
    {
      "cell_type": "markdown",
      "metadata": {},
      "source": [
        "## 管道中的多元函数\n",
        "\n",
        "Julia 管道流中的函数只能是一元函数，要使用多元函数，需要以下几种方式之一：\n",
        "\n",
        "### 多元函数一元化\n",
        "\n",
        "写成匿名函数"
      ]
    },
    {
      "cell_type": "code",
      "metadata": {},
      "source": [
        "[1, 2, 3] |> arr -> join(arr, \" \")"
      ],
      "execution_count": null,
      "outputs": []
    },
    {
      "cell_type": "markdown",
      "metadata": {},
      "source": [
        "特别地，关系运算符本来都是二元函数，但 Julia 中有语法糖 `==(a)`，与一元函数 `x -> ==(x, a)` 等价——这种写法可以匹配管道："
      ]
    },
    {
      "cell_type": "code",
      "metadata": {},
      "source": [
        "1 |> ==(1.0)\n",
        "\"abc\" |> collect .|> ∈(\"aeiou\")"
      ],
      "execution_count": null,
      "outputs": []
    },
    {
      "cell_type": "markdown",
      "metadata": {},
      "source": [
        "### `@pipe`\n",
        "\n",
        "引入第三方库 `Pipe` 中的 `@pipe`"
      ]
    },
    {
      "cell_type": "code",
      "metadata": {},
      "source": [
        "#| eval: false\n",
        "\n",
        "using Pipe\n",
        "@pipe a |> foo(x, _)       # foo(x,a) "
      ],
      "execution_count": null,
      "outputs": []
    }
  ],
  "metadata": {
    "kernelspec": {
      "name": "julia-1.7",
      "language": "julia",
      "display_name": "Julia 1.7.3"
    }
  },
  "nbformat": 4,
  "nbformat_minor": 4
}