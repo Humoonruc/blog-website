{
 "cells": [
  {
   "cell_type": "markdown",
   "metadata": {},
   "source": [
    "### 示例\n",
    "\n",
    "从 Fox 和 Chicken 这两种 Animal 开始，定义 struct 和相关函数，并在后来需要时扩展"
   ]
  },
  {
   "cell_type": "code",
   "execution_count": 1,
   "metadata": {},
   "outputs": [],
   "source": [
    "abstract type Animal end # 定义抽象类型\n",
    "\n",
    "struct Fox <: Animal # 定义两个基于 Animal 的具体类\n",
    "  weight::Float64\n",
    "end\n",
    "\n",
    "struct Chicken <: Animal\n",
    "  weight::Float64\n",
    "end"
   ]
  },
  {
   "cell_type": "code",
   "execution_count": 2,
   "metadata": {},
   "outputs": [],
   "source": [
    "# 实例化两个动物\n",
    "fiona = Fox(4.2); \n",
    "big_bird = Chicken(2.9);"
   ]
  },
  {
   "cell_type": "code",
   "execution_count": 3,
   "metadata": {},
   "outputs": [
    {
     "data": {
      "text/plain": [
       "combined_weight (generic function with 1 method)"
      ]
     },
     "metadata": {},
     "output_type": "display_data"
    }
   ],
   "source": [
    "combined_weight(A1::Animal, A2::Animal) = A1.weight + A2.weight # 加总函数"
   ]
  },
  {
   "cell_type": "code",
   "execution_count": 4,
   "metadata": {},
   "outputs": [
    {
     "data": {
      "text/plain": [
       "trouble"
      ]
     },
     "metadata": {},
     "output_type": "display_data"
    }
   ],
   "source": [
    "\"\"\"\n",
    "trouble(A::Animal, B::Animal) -> Bool\n",
    "\n",
    "两个动物相处，是否会有 trouble（不能相安无事）\n",
    "\"\"\"\n",
    "function trouble(A::Animal, B::Animal)\n",
    "  if A isa Fox && B isa Chicken \n",
    "    return true # 狐狸会吃鸡，自然会有 trouble\n",
    "  elseif A isa Chicken && B isa Fox\n",
    "    return true\n",
    "  elseif A isa Chicken && B isa Chicken\n",
    "    return false # 两只鸡在一起不会有 trouble\n",
    "  end\n",
    "end"
   ]
  },
  {
   "cell_type": "code",
   "execution_count": 5,
   "metadata": {},
   "outputs": [
    {
     "data": {
      "text/plain": [
       "true"
      ]
     },
     "metadata": {},
     "output_type": "display_data"
    }
   ],
   "source": [
    "trouble(fiona, big_bird)"
   ]
  },
  {
   "cell_type": "markdown",
   "metadata": {},
   "source": [
    "#### 扩展对函数 `trouble()` 的定义"
   ]
  },
  {
   "cell_type": "code",
   "execution_count": 6,
   "metadata": {},
   "outputs": [
    {
     "data": {
      "text/plain": [
       "trouble (generic function with 4 methods)"
      ]
     },
     "metadata": {},
     "output_type": "display_data"
    }
   ],
   "source": [
    "trouble(F::Fox, C::Chicken) = true\n",
    "trouble(C::Chicken, F::Fox) = true\n",
    "trouble(C1::Chicken, C2::Chicken) = false"
   ]
  },
  {
   "cell_type": "code",
   "execution_count": 7,
   "metadata": {},
   "outputs": [
    {
     "data": {
      "text/html": [
       "# 4 methods for generic function <b>trouble</b>:<ul><li> trouble(F::<b>Fox</b>, C::<b>Chicken</b>) in Main at <a href=\"file://c:/Users/humoo/OneDrive/ICT/Programming-Language/Julia/books/Julia Data Science/notes/multiple_dispatch.ipynb\" target=\"_blank\">c:\\Users\\humoo\\OneDrive\\ICT\\Programming-Language\\Julia\\books\\Julia Data Science\\notes\\multiple_dispatch.ipynb:1</a></li> <li> trouble(C::<b>Chicken</b>, F::<b>Fox</b>) in Main at <a href=\"file://c:/Users/humoo/OneDrive/ICT/Programming-Language/Julia/books/Julia Data Science/notes/multiple_dispatch.ipynb\" target=\"_blank\">c:\\Users\\humoo\\OneDrive\\ICT\\Programming-Language\\Julia\\books\\Julia Data Science\\notes\\multiple_dispatch.ipynb:2</a></li> <li> trouble(C1::<b>Chicken</b>, C2::<b>Chicken</b>) in Main at <a href=\"file://c:/Users/humoo/OneDrive/ICT/Programming-Language/Julia/books/Julia Data Science/notes/multiple_dispatch.ipynb\" target=\"_blank\">c:\\Users\\humoo\\OneDrive\\ICT\\Programming-Language\\Julia\\books\\Julia Data Science\\notes\\multiple_dispatch.ipynb:3</a></li> <li> trouble(A::<b>Animal</b>, B::<b>Animal</b>) in Main at <a href=\"file://c:/Users/humoo/OneDrive/ICT/Programming-Language/Julia/books/Julia Data Science/notes/multiple_dispatch.ipynb\" target=\"_blank\">c:\\Users\\humoo\\OneDrive\\ICT\\Programming-Language\\Julia\\books\\Julia Data Science\\notes\\multiple_dispatch.ipynb:6</a></li> </ul>"
      ],
      "text/plain": [
       "# 4 methods for generic function \"trouble\":\n",
       "[1] trouble(F::Fox, C::Chicken) in Main at c:\\Users\\humoo\\OneDrive\\ICT\\Programming-Language\\Julia\\books\\Julia Data Science\\notes\\multiple_dispatch.ipynb:1\n",
       "[2] trouble(C::Chicken, F::Fox) in Main at c:\\Users\\humoo\\OneDrive\\ICT\\Programming-Language\\Julia\\books\\Julia Data Science\\notes\\multiple_dispatch.ipynb:2\n",
       "[3] trouble(C1::Chicken, C2::Chicken) in Main at c:\\Users\\humoo\\OneDrive\\ICT\\Programming-Language\\Julia\\books\\Julia Data Science\\notes\\multiple_dispatch.ipynb:3\n",
       "[4] trouble(A::Animal, B::Animal) in Main at c:\\Users\\humoo\\OneDrive\\ICT\\Programming-Language\\Julia\\books\\Julia Data Science\\notes\\multiple_dispatch.ipynb:6"
      ]
     },
     "metadata": {},
     "output_type": "display_data"
    }
   ],
   "source": [
    "methods(trouble)"
   ]
  },
  {
   "cell_type": "code",
   "execution_count": 8,
   "metadata": {},
   "outputs": [
    {
     "data": {
      "text/plain": [
       "false"
      ]
     },
     "metadata": {},
     "output_type": "display_data"
    }
   ],
   "source": [
    "dora = Chicken(2.2)\n",
    "trouble(dora, big_bird)"
   ]
  },
  {
   "cell_type": "markdown",
   "metadata": {},
   "source": [
    "#### 扩展 Animal 新的子类\n",
    "可以在其他包中定义新的 Animal 子类 Zebra，然后扩展 `trouble()` 使之能接收新的 Zebra 类型"
   ]
  },
  {
   "cell_type": "code",
   "execution_count": 9,
   "metadata": {},
   "outputs": [
    {
     "data": {
      "text/plain": [
       "trouble (generic function with 7 methods)"
      ]
     },
     "metadata": {},
     "output_type": "display_data"
    }
   ],
   "source": [
    "struct Zebra <: Animal\n",
    "  weight::Float64\n",
    "end\n",
    "\n",
    "# 斑马与狐狸、鸡在一起都没问题\n",
    "trouble(F::Fox, Z::Zebra) = false \n",
    "trouble(Z::Zebra, F::Fox) = false\n",
    "trouble(C::Chicken, Z::Zebra) = false\n",
    "trouble(Z::Zebra, F::Fox) = false"
   ]
  },
  {
   "cell_type": "code",
   "execution_count": 10,
   "metadata": {},
   "outputs": [
    {
     "data": {
      "text/plain": [
       "false"
      ]
     },
     "metadata": {},
     "output_type": "display_data"
    }
   ],
   "source": [
    "marty = Zebra(412)\n",
    "trouble(big_bird, marty)"
   ]
  },
  {
   "cell_type": "markdown",
   "metadata": {},
   "source": [
    "而且，不需要额外定义任何函数即可计算 Zebra 和其他动物的重量之和"
   ]
  },
  {
   "cell_type": "code",
   "execution_count": 11,
   "metadata": {},
   "outputs": [
    {
     "data": {
      "text/plain": [
       "414.9"
      ]
     },
     "metadata": {},
     "output_type": "display_data"
    }
   ],
   "source": [
    "combined_weight(big_bird, marty)"
   ]
  },
  {
   "cell_type": "code",
   "execution_count": 12,
   "metadata": {},
   "outputs": [],
   "source": []
  }
 ],
 "metadata": {
  "kernelspec": {
   "display_name": "Julia 1.7.3",
   "language": "julia",
   "name": "julia-1.7"
  },
  "language_info": {
   "file_extension": ".jl",
   "mimetype": "application/julia",
   "name": "julia",
   "version": "1.7.3"
  }
 },
 "nbformat": 4,
 "nbformat_minor": 4
}
