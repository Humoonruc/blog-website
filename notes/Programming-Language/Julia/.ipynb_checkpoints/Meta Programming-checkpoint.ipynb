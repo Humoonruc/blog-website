{
 "cells": [
  {
   "cell_type": "markdown",
   "id": "2e98741b-5ff0-4279-af57-cbc718846614",
   "metadata": {},
   "source": [
    "# Meta Programming and Macro\n",
    "\n",
    "元编程也可以简单理解为编写可以生成代码的代码。\n",
    "\n",
    "编写元程序的语言称之为元语言。被操纵的程序的语言称之为\"目标语言\"。一门编程语言同时也是自身的元语言的能力称之为\"反射\"或者\"自反\"。"
   ]
  },
  {
   "cell_type": "markdown",
   "id": "8dee8872-5ff2-4580-a40f-9366561c24e3",
   "metadata": {},
   "source": [
    "## Symbol 对象与 Expr 对象"
   ]
  },
  {
   "cell_type": "markdown",
   "id": "cf22b401-6387-4768-846d-7dce435cb73f",
   "metadata": {
    "tags": []
   },
   "source": [
    "### 构建 Symbol 对象\n",
    "\n",
    "- 用 `:` 构建\n",
    "    - 有时需要在`:`的参数两边加上额外的括号，避免在解析时出现歧义\n",
    "- `Symbol(x...)::Symbol` 构建，接收各种类型的参数并将之串联起来"
   ]
  },
  {
   "cell_type": "code",
   "execution_count": 1,
   "id": "4ad65842-3838-4b1c-b00e-a64635040726",
   "metadata": {},
   "outputs": [
    {
     "data": {
      "text/plain": [
       ":foo"
      ]
     },
     "execution_count": 1,
     "metadata": {},
     "output_type": "execute_result"
    }
   ],
   "source": [
    "s = :foo"
   ]
  },
  {
   "cell_type": "code",
   "execution_count": 2,
   "id": "69f03a9f-8d8f-48b6-9a3e-ee7930ae4dae",
   "metadata": {},
   "outputs": [
    {
     "data": {
      "text/plain": [
       "true"
      ]
     },
     "execution_count": 2,
     "metadata": {},
     "output_type": "execute_result"
    }
   ],
   "source": [
    ":foo == Symbol(\"foo\")"
   ]
  },
  {
   "cell_type": "code",
   "execution_count": 3,
   "id": "119acc85-c65e-4a19-b0b2-5c609c4c5671",
   "metadata": {},
   "outputs": [
    {
     "data": {
      "text/plain": [
       ":func10"
      ]
     },
     "execution_count": 3,
     "metadata": {},
     "output_type": "execute_result"
    }
   ],
   "source": [
    "Symbol(\"func\",10)"
   ]
  },
  {
   "cell_type": "code",
   "execution_count": 4,
   "id": "673611ab-ceca-45c3-8efa-0c3ae3156c10",
   "metadata": {},
   "outputs": [
    {
     "data": {
      "text/plain": [
       ":var_sym"
      ]
     },
     "execution_count": 4,
     "metadata": {},
     "output_type": "execute_result"
    }
   ],
   "source": [
    "Symbol(:var,'_',\"sym\")"
   ]
  },
  {
   "cell_type": "code",
   "execution_count": 5,
   "id": "517740c3-84b9-43e9-a382-0e3b70e3ee32",
   "metadata": {},
   "outputs": [
    {
     "data": {
      "text/plain": [
       ":(::)"
      ]
     },
     "execution_count": 5,
     "metadata": {},
     "output_type": "execute_result"
    }
   ],
   "source": [
    ":(::)"
   ]
  },
  {
   "cell_type": "markdown",
   "id": "45b7f66b-aeac-4711-a106-722a2ad0c142",
   "metadata": {},
   "source": [
    "### 构建 Expr 对象\n",
    "\n",
    "#### `Meta.parse()`\n",
    "\n",
    "`Meta.parse(str::String)::Expr` 解析代码字符串为 Expr 对象，包含两部分\n",
    "- 标识 Expr 类型的 Symbol\n",
    "- Expr 的参数"
   ]
  },
  {
   "cell_type": "code",
   "execution_count": 6,
   "id": "b859cbfc-c93a-4156-9fc3-e59eb8df28f4",
   "metadata": {},
   "outputs": [
    {
     "data": {
      "text/plain": [
       "\"1 + 1\""
      ]
     },
     "execution_count": 6,
     "metadata": {},
     "output_type": "execute_result"
    }
   ],
   "source": [
    "prog = \"1 + 1\""
   ]
  },
  {
   "cell_type": "code",
   "execution_count": 7,
   "id": "70abbf59-84c2-4a0b-a907-43731dd62028",
   "metadata": {},
   "outputs": [
    {
     "data": {
      "text/plain": [
       ":(1 + 1)"
      ]
     },
     "execution_count": 7,
     "metadata": {},
     "output_type": "execute_result"
    }
   ],
   "source": [
    " ex1 = Meta.parse(prog)"
   ]
  },
  {
   "cell_type": "code",
   "execution_count": 8,
   "id": "66b69695-3afc-4c7f-a9f2-4df75095366c",
   "metadata": {},
   "outputs": [
    {
     "data": {
      "text/plain": [
       "Expr"
      ]
     },
     "execution_count": 8,
     "metadata": {},
     "output_type": "execute_result"
    }
   ],
   "source": [
    "typeof(ex1)"
   ]
  },
  {
   "cell_type": "code",
   "execution_count": 9,
   "id": "e0583314-4bec-49a9-8c0c-91a75b282bdf",
   "metadata": {},
   "outputs": [
    {
     "name": "stdout",
     "output_type": "stream",
     "text": [
      "Expr\n",
      "  head: Symbol call\n",
      "  args: Array{Any}((3,))\n",
      "    1: Symbol +\n",
      "    2: Int64 1\n",
      "    3: Int64 1\n"
     ]
    }
   ],
   "source": [
    "dump(ex1) # dump()显示变量结构"
   ]
  },
  {
   "cell_type": "code",
   "execution_count": 10,
   "id": "6c62ad6c-b370-4fca-a9d6-3068b144f9ad",
   "metadata": {},
   "outputs": [
    {
     "data": {
      "text/plain": [
       ":call"
      ]
     },
     "execution_count": 10,
     "metadata": {},
     "output_type": "execute_result"
    }
   ],
   "source": [
    "ex1.head # 类型为 :call"
   ]
  },
  {
   "cell_type": "code",
   "execution_count": 11,
   "id": "ff1607ab-00b7-43fd-9b6e-b47a21cc355e",
   "metadata": {},
   "outputs": [
    {
     "data": {
      "text/plain": [
       "3-element Vector{Any}:\n",
       "  :+\n",
       " 1\n",
       " 1"
      ]
     },
     "execution_count": 11,
     "metadata": {},
     "output_type": "execute_result"
    }
   ],
   "source": [
    "ex1.args # 参数包括 :+, 1, 1"
   ]
  },
  {
   "cell_type": "markdown",
   "id": "ac1d52f6-43ca-435e-92ca-a3bd6bb15ae4",
   "metadata": {},
   "source": [
    "#### `Expr()` 直接构建"
   ]
  },
  {
   "cell_type": "code",
   "execution_count": 12,
   "id": "379c7778-b9af-4c92-9a07-ebb259bfbdbc",
   "metadata": {},
   "outputs": [
    {
     "data": {
      "text/plain": [
       ":(1 + 1)"
      ]
     },
     "execution_count": 12,
     "metadata": {},
     "output_type": "execute_result"
    }
   ],
   "source": [
    "ex2 = Expr(:call, :+, 1, 1)"
   ]
  },
  {
   "cell_type": "code",
   "execution_count": 13,
   "id": "7cd0c823-7d72-4dd6-923d-ec5545148c9d",
   "metadata": {},
   "outputs": [
    {
     "data": {
      "text/plain": [
       "true"
      ]
     },
     "execution_count": 13,
     "metadata": {},
     "output_type": "execute_result"
    }
   ],
   "source": [
    "ex1 == ex2"
   ]
  },
  {
   "cell_type": "code",
   "execution_count": 14,
   "id": "e9bdcb85-46d4-42bc-8459-f5f7ff7ac8b1",
   "metadata": {},
   "outputs": [
    {
     "name": "stdout",
     "output_type": "stream",
     "text": [
      "(:call, :+, 1, 1)"
     ]
    }
   ],
   "source": [
    "Meta.show_sexpr(ex2) # 显示直接构建的各参数"
   ]
  },
  {
   "cell_type": "markdown",
   "id": "2939e037-c23f-451e-b101-cb5af507f38d",
   "metadata": {},
   "source": [
    "#### `:()`隐式构建（实际会调用 `Expr()`）"
   ]
  },
  {
   "cell_type": "code",
   "execution_count": 15,
   "id": "d351a347-820d-4b0e-9d1a-58117bc4cbef",
   "metadata": {},
   "outputs": [
    {
     "data": {
      "text/plain": [
       ":(a + b * c + 1)"
      ]
     },
     "execution_count": 15,
     "metadata": {},
     "output_type": "execute_result"
    }
   ],
   "source": [
    "ex = :(a + b * c + 1)"
   ]
  },
  {
   "cell_type": "code",
   "execution_count": 16,
   "id": "1b4ea262-dfee-4589-8b75-91b80a128528",
   "metadata": {},
   "outputs": [
    {
     "data": {
      "text/plain": [
       "Expr"
      ]
     },
     "execution_count": 16,
     "metadata": {},
     "output_type": "execute_result"
    }
   ],
   "source": [
    "typeof(ex)"
   ]
  },
  {
   "cell_type": "code",
   "execution_count": 17,
   "id": "4d8595a1-df8f-4d06-8f88-b5a996f700b3",
   "metadata": {},
   "outputs": [
    {
     "name": "stdout",
     "output_type": "stream",
     "text": [
      "Expr\n",
      "  head: Symbol call\n",
      "  args: Array{Any}((4,))\n",
      "    1: Symbol +\n",
      "    2: Symbol a\n",
      "    3: Expr\n",
      "      head: Symbol call\n",
      "      args: Array{Any}((3,))\n",
      "        1: Symbol *\n",
      "        2: Symbol b\n",
      "        3: Symbol c\n",
      "    4: Int64 1\n"
     ]
    }
   ],
   "source": [
    "dump(ex)"
   ]
  },
  {
   "cell_type": "markdown",
   "id": "2205bbc5-5040-4846-a71c-0b15169b2a44",
   "metadata": {},
   "source": [
    "#### `quote...end` 构建代码块"
   ]
  },
  {
   "cell_type": "code",
   "execution_count": 18,
   "id": "a4cecaf0-7fa3-44fe-85a5-e8aa326903c6",
   "metadata": {},
   "outputs": [
    {
     "data": {
      "text/plain": [
       "quote\n",
       "    \u001b[90m#= In[18]:2 =#\u001b[39m\n",
       "    x = 1\n",
       "    \u001b[90m#= In[18]:3 =#\u001b[39m\n",
       "    y = 2\n",
       "    \u001b[90m#= In[18]:4 =#\u001b[39m\n",
       "    x + y\n",
       "end"
      ]
     },
     "execution_count": 18,
     "metadata": {},
     "output_type": "execute_result"
    }
   ],
   "source": [
    "ex = quote\n",
    "    x = 1\n",
    "    y = 2\n",
    "    x + y\n",
    "end"
   ]
  },
  {
   "cell_type": "code",
   "execution_count": 19,
   "id": "694f1503-8c64-43b4-97de-5082e3c3af06",
   "metadata": {},
   "outputs": [
    {
     "data": {
      "text/plain": [
       "Expr"
      ]
     },
     "execution_count": 19,
     "metadata": {},
     "output_type": "execute_result"
    }
   ],
   "source": [
    "typeof(ex)"
   ]
  },
  {
   "cell_type": "markdown",
   "id": "87fa0551-5003-44f9-8870-6e8707ab00bc",
   "metadata": {},
   "source": [
    "### 插值"
   ]
  },
  {
   "cell_type": "markdown",
   "id": "2d831da3-c49b-4fe8-a6e7-686c476d0790",
   "metadata": {},
   "source": [
    "字面量或表达式可以通过前缀 `$` 插入到被引用的表达式用，"
   ]
  },
  {
   "cell_type": "code",
   "execution_count": 20,
   "id": "56dfe955-c9a6-426f-9acb-f93bd68dffdc",
   "metadata": {},
   "outputs": [
    {
     "data": {
      "text/plain": [
       ":(1 + b)"
      ]
     },
     "execution_count": 20,
     "metadata": {},
     "output_type": "execute_result"
    }
   ],
   "source": [
    "a = 1;\n",
    "ex = :($a + b)"
   ]
  },
  {
   "cell_type": "code",
   "execution_count": 21,
   "id": "a681d301-2acf-4fa6-a409-afcb3c75fff1",
   "metadata": {},
   "outputs": [
    {
     "data": {
      "text/plain": [
       "3-element Vector{Symbol}:\n",
       " :x\n",
       " :y\n",
       " :z"
      ]
     },
     "execution_count": 21,
     "metadata": {},
     "output_type": "execute_result"
    }
   ],
   "source": [
    "args = [:x, :y, :z]"
   ]
  },
  {
   "cell_type": "code",
   "execution_count": 22,
   "id": "fe72295d-67a8-4ac1-ac5f-8eda47b2ba49",
   "metadata": {},
   "outputs": [
    {
     "data": {
      "text/plain": [
       ":(f(1, x, y, z))"
      ]
     },
     "execution_count": 22,
     "metadata": {},
     "output_type": "execute_result"
    }
   ],
   "source": [
    ":(f(1, $(args...))) # 插入 Symbol 数组"
   ]
  },
  {
   "cell_type": "markdown",
   "id": "45f7c5c7-0bee-47be-bc15-773ae8e56497",
   "metadata": {},
   "source": [
    "## 表达式\n",
    "\n",
    "### 表达式求值\n",
    "\n",
    "`eval(expr)`"
   ]
  },
  {
   "cell_type": "code",
   "execution_count": 23,
   "id": "a7808bbb-9960-469f-98f3-1c68c96b14aa",
   "metadata": {},
   "outputs": [
    {
     "data": {
      "text/plain": [
       "3"
      ]
     },
     "execution_count": 23,
     "metadata": {},
     "output_type": "execute_result"
    }
   ],
   "source": [
    "ex1 = :(1 + 2);\n",
    "eval(ex1)"
   ]
  },
  {
   "cell_type": "code",
   "execution_count": 24,
   "id": "997a9c52-c65d-4b6e-8da2-c2717fe7656e",
   "metadata": {},
   "outputs": [
    {
     "data": {
      "text/plain": [
       "3"
      ]
     },
     "execution_count": 24,
     "metadata": {},
     "output_type": "execute_result"
    }
   ],
   "source": [
    "a = 1; b = 2;\n",
    "ex = :(a + b);\n",
    "eval(ex)"
   ]
  },
  {
   "cell_type": "markdown",
   "id": "05e51268-cdc0-4911-8441-3ef21d7c964b",
   "metadata": {},
   "source": [
    "表达式运行后，其中定义的变量才能进入当前作用域"
   ]
  },
  {
   "cell_type": "code",
   "execution_count": 25,
   "id": "1855019a-3659-4fd0-8e7a-36e5938a8321",
   "metadata": {},
   "outputs": [
    {
     "data": {
      "text/plain": [
       ":(x = 1)"
      ]
     },
     "execution_count": 25,
     "metadata": {},
     "output_type": "execute_result"
    }
   ],
   "source": [
    "ex = :(x = 1)"
   ]
  },
  {
   "cell_type": "code",
   "execution_count": 26,
   "id": "16f28e02-8a24-4a01-838b-6b243d8b377a",
   "metadata": {},
   "outputs": [
    {
     "ename": "LoadError",
     "evalue": "UndefVarError: x not defined",
     "output_type": "error",
     "traceback": [
      "UndefVarError: x not defined",
      "",
      "Stacktrace:",
      " [1] top-level scope",
      "   @ :0",
      " [2] eval",
      "   @ .\\boot.jl:373 [inlined]",
      " [3] include_string(mapexpr::typeof(REPL.softscope), mod::Module, code::String, filename::String)",
      "   @ Base .\\loading.jl:1196"
     ]
    }
   ],
   "source": [
    "x"
   ]
  },
  {
   "cell_type": "code",
   "execution_count": 27,
   "id": "7a4faff8-f3aa-4bd8-9771-2460a724f192",
   "metadata": {},
   "outputs": [
    {
     "data": {
      "text/plain": [
       "1"
      ]
     },
     "execution_count": 27,
     "metadata": {},
     "output_type": "execute_result"
    }
   ],
   "source": [
    "eval(ex)"
   ]
  },
  {
   "cell_type": "code",
   "execution_count": 28,
   "id": "4f968d9e-bc65-41ac-9cee-a33bdec1d8bf",
   "metadata": {},
   "outputs": [
    {
     "data": {
      "text/plain": [
       "1"
      ]
     },
     "execution_count": 28,
     "metadata": {},
     "output_type": "execute_result"
    }
   ],
   "source": [
    "x"
   ]
  },
  {
   "cell_type": "markdown",
   "id": "3b8fd561-a994-4c37-b5b8-b25ac0578815",
   "metadata": {},
   "source": [
    "表达式中变量的值在表达式被定义时就被解析了，除非此时变量还不存在"
   ]
  },
  {
   "cell_type": "code",
   "execution_count": 29,
   "id": "1916f532-fa10-4c5a-8642-567575baa5cd",
   "metadata": {},
   "outputs": [
    {
     "data": {
      "text/plain": [
       ":(1 + b)"
      ]
     },
     "execution_count": 29,
     "metadata": {},
     "output_type": "execute_result"
    }
   ],
   "source": [
    "a = 1;\n",
    "ex = Expr(:call, :+, a, :b)"
   ]
  },
  {
   "cell_type": "code",
   "execution_count": 30,
   "id": "7795a975-f8b3-431f-9058-d2c94cb0439c",
   "metadata": {},
   "outputs": [
    {
     "data": {
      "text/plain": [
       "3"
      ]
     },
     "execution_count": 30,
     "metadata": {},
     "output_type": "execute_result"
    }
   ],
   "source": [
    "a = 0; b = 2;\n",
    "eval(ex)"
   ]
  },
  {
   "cell_type": "markdown",
   "id": "35f8ddb0-4c34-41e1-993a-966f63e77c06",
   "metadata": {},
   "source": [
    "注意，结果不是 2，而是 3. 因为表达式被定义时，a 的值已经被解析了；而此时 b 的值还不存在，所以在表达式运行时 b 的值才被解析。"
   ]
  },
  {
   "cell_type": "markdown",
   "id": "bffaee74-6a93-4887-b05c-381fcb78eab0",
   "metadata": {},
   "source": [
    "### 表达式的函数"
   ]
  },
  {
   "cell_type": "code",
   "execution_count": 31,
   "id": "679da97f-b2af-424e-839a-984c5666553c",
   "metadata": {},
   "outputs": [
    {
     "data": {
      "text/plain": [
       "math_expr (generic function with 1 method)"
      ]
     },
     "execution_count": 31,
     "metadata": {},
     "output_type": "execute_result"
    }
   ],
   "source": [
    "function math_expr(op, op1, op2)\n",
    "  expr = Expr(:call, op, op1, op2)\n",
    "  return expr\n",
    "end"
   ]
  },
  {
   "cell_type": "code",
   "execution_count": 32,
   "id": "8e6560bf-fdc5-425d-8e70-32a1d1ad883a",
   "metadata": {},
   "outputs": [
    {
     "data": {
      "text/plain": [
       ":(1 + 4 * 5)"
      ]
     },
     "execution_count": 32,
     "metadata": {},
     "output_type": "execute_result"
    }
   ],
   "source": [
    "ex = math_expr(:+, 1, Expr(:call, :*, 4, 5))"
   ]
  },
  {
   "cell_type": "code",
   "execution_count": 33,
   "id": "b1df6a7e-d6e2-46ca-b20f-0b4b7651524f",
   "metadata": {},
   "outputs": [
    {
     "data": {
      "text/plain": [
       "21"
      ]
     },
     "execution_count": 33,
     "metadata": {},
     "output_type": "execute_result"
    }
   ],
   "source": [
    "eval(ex)"
   ]
  },
  {
   "cell_type": "code",
   "execution_count": 34,
   "id": "98df443b-0b36-4124-a427-094befef19ed",
   "metadata": {},
   "outputs": [
    {
     "data": {
      "text/plain": [
       "make_expr2"
      ]
     },
     "execution_count": 34,
     "metadata": {},
     "output_type": "execute_result"
    }
   ],
   "source": [
    "\"\"\"\n",
    "表达式的参数中，将数值翻倍，子表达式不变\n",
    "\"\"\"\n",
    "function make_expr2(op, opr1, opr2)\n",
    "  opr1f, opr2f = map(x -> isa(x, Number) ? 2 * x : x, (opr1, opr2))\n",
    "  retexpr = Expr(:call, op, opr1f, opr2f)\n",
    "  return retexpr\n",
    "end"
   ]
  },
  {
   "cell_type": "code",
   "execution_count": 35,
   "id": "bb0e87f7-33e9-4257-9c2f-66363764f714",
   "metadata": {},
   "outputs": [
    {
     "data": {
      "text/plain": [
       ":(2 + 4)"
      ]
     },
     "execution_count": 35,
     "metadata": {},
     "output_type": "execute_result"
    }
   ],
   "source": [
    "make_expr2(:+, 1, 2)"
   ]
  },
  {
   "cell_type": "code",
   "execution_count": 36,
   "id": "658844fc-a9f8-4973-a4cc-e68324833c7c",
   "metadata": {},
   "outputs": [
    {
     "data": {
      "text/plain": [
       ":(2 + 5 * 8)"
      ]
     },
     "execution_count": 36,
     "metadata": {},
     "output_type": "execute_result"
    }
   ],
   "source": [
    "ex = make_expr2(:+, 1, Expr(:call, :*, 5, 8))"
   ]
  },
  {
   "cell_type": "code",
   "execution_count": 37,
   "id": "39a168f9-db1a-43ad-9541-7cc6b4a5d9f1",
   "metadata": {},
   "outputs": [
    {
     "data": {
      "text/plain": [
       "42"
      ]
     },
     "execution_count": 37,
     "metadata": {},
     "output_type": "execute_result"
    }
   ],
   "source": [
    "eval(ex)"
   ]
  },
  {
   "cell_type": "markdown",
   "id": "565366e4-bc6d-471f-bf80-dbaa0854d469",
   "metadata": {},
   "source": [
    "## Macro\n",
    "\n",
    "宏接收并返回表达式，并且生成的表达式被直接编译，而不需要运行时 `eval` 调用\n",
    "\n",
    "### Basic"
   ]
  },
  {
   "cell_type": "code",
   "execution_count": 38,
   "id": "43f3cf44-18c6-4898-878e-cdfaef435a12",
   "metadata": {},
   "outputs": [
    {
     "data": {
      "text/plain": [
       "@sayhello (macro with 1 method)"
      ]
     },
     "execution_count": 38,
     "metadata": {},
     "output_type": "execute_result"
    }
   ],
   "source": [
    "macro sayhello()\n",
    "  return :(println(\"Hello, world!\"))\n",
    "end"
   ]
  },
  {
   "cell_type": "markdown",
   "id": "777045e2-8e19-4fae-9601-00ff845b302e",
   "metadata": {},
   "source": [
    "此后，源代码中凡是出现 `@sayhello()` 的地方，编译器都会将其替换为 `:(println(\"Hello, world!\"))`"
   ]
  },
  {
   "cell_type": "code",
   "execution_count": 39,
   "id": "ee3ae2ed-3c20-4f7a-81b9-70e300a2cadf",
   "metadata": {},
   "outputs": [
    {
     "name": "stdout",
     "output_type": "stream",
     "text": [
      "Hello, world!\n"
     ]
    }
   ],
   "source": [
    "@sayhello()"
   ]
  },
  {
   "cell_type": "code",
   "execution_count": 40,
   "id": "b58d48e3-6fe7-4451-8d8f-bf9b455fde3d",
   "metadata": {},
   "outputs": [
    {
     "data": {
      "text/plain": [
       "@sayhello (macro with 2 methods)"
      ]
     },
     "execution_count": 40,
     "metadata": {},
     "output_type": "execute_result"
    }
   ],
   "source": [
    "macro sayhello(name)\n",
    "  return :(println(\"Hello, \", $name))\n",
    "end"
   ]
  },
  {
   "cell_type": "code",
   "execution_count": 41,
   "id": "d7e1e112-4b9f-4267-a3d8-e14b91a51ac1",
   "metadata": {},
   "outputs": [
    {
     "name": "stdout",
     "output_type": "stream",
     "text": [
      "Hello, human\n"
     ]
    }
   ],
   "source": [
    "@sayhello(\"human\")"
   ]
  },
  {
   "cell_type": "code",
   "execution_count": 42,
   "id": "240591f6-e16d-4852-950e-5ff58009b1d2",
   "metadata": {},
   "outputs": [
    {
     "name": "stdout",
     "output_type": "stream",
     "text": [
      "Hello, human\n"
     ]
    }
   ],
   "source": [
    "@sayhello \"human\""
   ]
  },
  {
   "cell_type": "code",
   "execution_count": 43,
   "id": "19e5320b-f1fb-4a21-a852-c7300fe3e089",
   "metadata": {},
   "outputs": [
    {
     "data": {
      "text/plain": [
       ":(Main.println(\"Hello, \", \"human\"))"
      ]
     },
     "execution_count": 43,
     "metadata": {},
     "output_type": "execute_result"
    }
   ],
   "source": [
    "ex = macroexpand(Main, :(@sayhello(\"human\")))"
   ]
  },
  {
   "cell_type": "code",
   "execution_count": 44,
   "id": "832ba710-be6f-423b-8968-3c735d13b121",
   "metadata": {},
   "outputs": [
    {
     "data": {
      "text/plain": [
       ":(Main.println(\"Hello, \", \"human\"))"
      ]
     },
     "execution_count": 44,
     "metadata": {},
     "output_type": "execute_result"
    }
   ],
   "source": [
    "@macroexpand @sayhello \"human\""
   ]
  },
  {
   "cell_type": "markdown",
   "id": "a7c1e07d-55e8-444d-9383-1ec5892fdab0",
   "metadata": {},
   "source": [
    "`macroexpand()`/`@macroexpand` 是非常有用的调试宏的工具\n",
    "\n",
    "可以看到 `\"human\"` 字面量已被插入到表达式中了\n"
   ]
  },
  {
   "cell_type": "code",
   "execution_count": 45,
   "id": "181fc4ca-e066-4630-98c5-7dae7597da02",
   "metadata": {},
   "outputs": [
    {
     "data": {
      "text/plain": [
       "@twostep (macro with 1 method)"
      ]
     },
     "execution_count": 45,
     "metadata": {},
     "output_type": "execute_result"
    }
   ],
   "source": [
    "macro twostep(arg)\n",
    "  println(\"I execute at parse time. The argument is: \", arg)\n",
    "  return :(println(\"I execute at runtime. The argument is: \", $arg))\n",
    "end"
   ]
  },
  {
   "cell_type": "code",
   "execution_count": 46,
   "id": "4e110ccc-e7c8-481e-b011-749c9b106a65",
   "metadata": {},
   "outputs": [
    {
     "name": "stdout",
     "output_type": "stream",
     "text": [
      "I execute at parse time. The argument is: :((1, 2, 3))\n"
     ]
    }
   ],
   "source": [
    "ex = macroexpand(Main, :(@twostep :(1, 2, 3)));"
   ]
  },
  {
   "cell_type": "code",
   "execution_count": 47,
   "id": "e943a240-240e-425b-9a3c-ce60ce81f2ab",
   "metadata": {},
   "outputs": [
    {
     "data": {
      "text/plain": [
       ":(Main.println(\"I execute at runtime. The argument is: \", $(Expr(:copyast, :($(QuoteNode(:((1, 2, 3)))))))))"
      ]
     },
     "execution_count": 47,
     "metadata": {},
     "output_type": "execute_result"
    }
   ],
   "source": [
    "ex"
   ]
  },
  {
   "cell_type": "code",
   "execution_count": 48,
   "id": "d19439fa-0c2c-4c76-9286-8834e4fe2d93",
   "metadata": {},
   "outputs": [
    {
     "name": "stdout",
     "output_type": "stream",
     "text": [
      "I execute at runtime. The argument is: (1, 2, 3)\n"
     ]
    }
   ],
   "source": [
    "eval(ex)"
   ]
  },
  {
   "cell_type": "markdown",
   "id": "7006e6de-1a5e-497a-b09a-d6dda72817a3",
   "metadata": {},
   "source": [
    "上面的几段代码显示，第一个 `println` 在调用 `macroexpand` 时执行。生成的表达式只包含第二个 `println`"
   ]
  },
  {
   "cell_type": "markdown",
   "id": "c0da86fa-99a8-47bb-88cd-45116d25f687",
   "metadata": {},
   "source": [
    "### 宏的调用\n",
    "\n",
    "```{julia}\n",
    "@name expr1 expr2 ... # 无逗号\n",
    "@name(expr1, expr2, ...) # 宏名与括号间无空格\n",
    "```\n",
    "\n",
    "而 `@name (expr1, expr2, ...)` 有空格，是把 Tuple 传递给宏"
   ]
  },
  {
   "cell_type": "markdown",
   "id": "42f44fce-ce97-4706-8c5e-af1fec30d6d5",
   "metadata": {},
   "source": [
    "### 常用内置宏\n",
    "\n",
    "#### `@time`/`@elapsed`\n",
    "\n",
    "程序运行时间"
   ]
  },
  {
   "cell_type": "code",
   "execution_count": 58,
   "id": "74df7f83-07e2-4932-b3bb-1de6ea25c087",
   "metadata": {},
   "outputs": [
    {
     "data": {
      "text/plain": [
       "99999999999999996973312221251036165947450327545502362648241750950346848435554075534196338404706251868027512415973882408182135734368278484639385041047239877871023591066789981811181813306167128854888448"
      ]
     },
     "execution_count": 58,
     "metadata": {},
     "output_type": "execute_result"
    }
   ],
   "source": [
    "n_end = BigInt(1e200)"
   ]
  },
  {
   "cell_type": "code",
   "execution_count": 59,
   "id": "df1e73bd-2d44-4e7a-b775-43b6bedada45",
   "metadata": {},
   "outputs": [
    {
     "name": "stdout",
     "output_type": "stream",
     "text": [
      "  0.000015 seconds (39 allocations: 1.648 KiB)\n"
     ]
    },
    {
     "data": {
      "text/plain": [
       "4999999999999999697331222125103621175164487768718561236169890810313527104343861815136901540009660665271152791973376446616624403511639764272160807761080124464562333072048134780766572780582369244991698860546161104069313984018717499193678166273473150379219957857168709282292452118843466309611263219432269212103859934154176703233444425878224018145243404477905655271805944816659462610063903038037689368576"
      ]
     },
     "execution_count": 59,
     "metadata": {},
     "output_type": "execute_result"
    }
   ],
   "source": [
    "a = @time sum(1:n_end) # 返回计算结果，显示运行时间"
   ]
  },
  {
   "cell_type": "code",
   "execution_count": 60,
   "id": "a6e79c6d-81a1-4b88-a82e-cb7b86fb6df0",
   "metadata": {},
   "outputs": [
    {
     "data": {
      "text/plain": [
       "1.3e-5"
      ]
     },
     "execution_count": 60,
     "metadata": {},
     "output_type": "execute_result"
    }
   ],
   "source": [
    "@elapsed sum(1:n_end) # 返回运行时间"
   ]
  },
  {
   "cell_type": "markdown",
   "id": "e160bcb4-ad78-4829-8fcb-28ee0c4d4421",
   "metadata": {},
   "source": [
    "#### `@show`\n",
    "\n",
    "显示表达式和计算结果，返回计算结果"
   ]
  },
  {
   "cell_type": "code",
   "execution_count": 71,
   "id": "15c2e5d3-a0a7-4814-98d0-cd6bcb6acea8",
   "metadata": {},
   "outputs": [
    {
     "name": "stdout",
     "output_type": "stream",
     "text": [
      "hello world\n",
      "println(\"hello world\") = nothing\n"
     ]
    }
   ],
   "source": [
    "@show println(\"hello world\")"
   ]
  },
  {
   "cell_type": "code",
   "execution_count": 63,
   "id": "389eca1f-585e-4222-a14c-8443ecfc0fa1",
   "metadata": {},
   "outputs": [
    {
     "name": "stdout",
     "output_type": "stream",
     "text": [
      "$(Expr(:quote, :(3 * 2))) = :(3 * 2)\n"
     ]
    },
    {
     "data": {
      "text/plain": [
       ":(3 * 2)"
      ]
     },
     "execution_count": 63,
     "metadata": {},
     "output_type": "execute_result"
    }
   ],
   "source": [
    "@show :(3*2)"
   ]
  },
  {
   "cell_type": "code",
   "execution_count": 72,
   "id": "7b9b1d07-96b9-479e-8c79-8ead3a5ca54e",
   "metadata": {},
   "outputs": [
    {
     "name": "stdout",
     "output_type": "stream",
     "text": [
      "3 * 2 = 6\n"
     ]
    },
    {
     "data": {
      "text/plain": [
       "6"
      ]
     },
     "execution_count": 72,
     "metadata": {},
     "output_type": "execute_result"
    }
   ],
   "source": [
    "@show 3*2"
   ]
  },
  {
   "cell_type": "markdown",
   "id": "8a03a99f-771d-40ce-862c-e68aa61f1d73",
   "metadata": {},
   "source": [
    "#### `@which`\n",
    "\n",
    "一个函数有多个方法。则对于给定的一组参数，`@which` 能给出正确的方法"
   ]
  },
  {
   "cell_type": "code",
   "execution_count": 73,
   "id": "e556d980-913b-422a-95dd-a29d9a924260",
   "metadata": {},
   "outputs": [
    {
     "data": {
      "text/plain": [
       "tripple (generic function with 1 method)"
      ]
     },
     "execution_count": 73,
     "metadata": {},
     "output_type": "execute_result"
    }
   ],
   "source": [
    "function tripple(n::Int64)\n",
    "  3n\n",
    "end"
   ]
  },
  {
   "cell_type": "code",
   "execution_count": 74,
   "id": "c458c63d-e9a1-4973-9e24-c5bf71b67ca7",
   "metadata": {},
   "outputs": [
    {
     "data": {
      "text/plain": [
       "tripple (generic function with 2 methods)"
      ]
     },
     "execution_count": 74,
     "metadata": {},
     "output_type": "execute_result"
    }
   ],
   "source": [
    "function tripple(n::Float64)\n",
    "  3n\n",
    "end"
   ]
  },
  {
   "cell_type": "code",
   "execution_count": 75,
   "id": "43dce353-9a69-4b4b-be83-ed3c43a0a84d",
   "metadata": {},
   "outputs": [
    {
     "data": {
      "text/html": [
       "# 2 methods for generic function <b>tripple</b>:<ul><li> tripple(n::<b>Int64</b>) in Main at In[73]:1</li> <li> tripple(n::<b>Float64</b>) in Main at In[74]:1</li> </ul>"
      ],
      "text/plain": [
       "# 2 methods for generic function \"tripple\":\n",
       "[1] tripple(n::Int64) in Main at In[73]:1\n",
       "[2] tripple(n::Float64) in Main at In[74]:1"
      ]
     },
     "execution_count": 75,
     "metadata": {},
     "output_type": "execute_result"
    }
   ],
   "source": [
    "methods(tripple)"
   ]
  },
  {
   "cell_type": "code",
   "execution_count": 76,
   "id": "50ab464f-0c93-4093-a3b7-533a4b4cee27",
   "metadata": {},
   "outputs": [
    {
     "data": {
      "text/html": [
       "tripple(n::<b>Int64</b>) in Main at In[73]:1"
      ],
      "text/plain": [
       "tripple(n::Int64) in Main at In[73]:1"
      ]
     },
     "execution_count": 76,
     "metadata": {},
     "output_type": "execute_result"
    }
   ],
   "source": [
    "@which tripple(10)"
   ]
  },
  {
   "cell_type": "code",
   "execution_count": 77,
   "id": "08b20771-ce0e-4255-8f11-50670017009f",
   "metadata": {},
   "outputs": [
    {
     "data": {
      "text/html": [
       "tripple(n::<b>Float64</b>) in Main at In[74]:1"
      ],
      "text/plain": [
       "tripple(n::Float64) in Main at In[74]:1"
      ]
     },
     "execution_count": 77,
     "metadata": {},
     "output_type": "execute_result"
    }
   ],
   "source": [
    "@which tripple(10.0)"
   ]
  },
  {
   "cell_type": "markdown",
   "id": "9a0c6050-1d3f-404c-9558-f69081f26e87",
   "metadata": {},
   "source": [
    "#### `@task`\n",
    "\n",
    "返回一个任务而不运行它，因此它可以稍后运行"
   ]
  },
  {
   "cell_type": "code",
   "execution_count": 78,
   "id": "39d50fdc-113f-4ae6-9a45-76a26efbc94a",
   "metadata": {},
   "outputs": [
    {
     "data": {
      "text/plain": [
       "say_hello (generic function with 1 method)"
      ]
     },
     "execution_count": 78,
     "metadata": {},
     "output_type": "execute_result"
    }
   ],
   "source": [
    "say_hello() = println(\"hello world\")"
   ]
  },
  {
   "cell_type": "code",
   "execution_count": 81,
   "id": "988399a5-10d8-40ea-8408-214ee8d75c26",
   "metadata": {},
   "outputs": [
    {
     "data": {
      "text/plain": [
       "Task (runnable) @0x000000000d925d20"
      ]
     },
     "execution_count": 81,
     "metadata": {},
     "output_type": "execute_result"
    }
   ],
   "source": [
    "say_hello_task = @task say_hello()"
   ]
  },
  {
   "cell_type": "code",
   "execution_count": 82,
   "id": "2d36b350-4e5e-4081-9fe1-be29a902763a",
   "metadata": {},
   "outputs": [
    {
     "data": {
      "text/plain": [
       "false"
      ]
     },
     "execution_count": 82,
     "metadata": {},
     "output_type": "execute_result"
    }
   ],
   "source": [
    "istaskstarted(say_hello_task)"
   ]
  },
  {
   "cell_type": "code",
   "execution_count": 83,
   "id": "10e5b578-7595-48fb-a916-7c236a06fda9",
   "metadata": {},
   "outputs": [
    {
     "data": {
      "text/plain": [
       "Task (runnable) @0x000000000d925d20"
      ]
     },
     "execution_count": 83,
     "metadata": {},
     "output_type": "execute_result"
    },
    {
     "name": "stdout",
     "output_type": "stream",
     "text": [
      "hello world\n"
     ]
    }
   ],
   "source": [
    "schedule(say_hello_task)"
   ]
  },
  {
   "cell_type": "code",
   "execution_count": 84,
   "id": "917e854e-0459-4546-8deb-792b899858b1",
   "metadata": {},
   "outputs": [],
   "source": [
    "yield()"
   ]
  },
  {
   "cell_type": "code",
   "execution_count": 85,
   "id": "f0ee8339-611e-4576-9075-ef7ed6667827",
   "metadata": {},
   "outputs": [
    {
     "data": {
      "text/plain": [
       "true"
      ]
     },
     "execution_count": 85,
     "metadata": {},
     "output_type": "execute_result"
    }
   ],
   "source": [
    "istaskdone(say_hello_task)"
   ]
  },
  {
   "cell_type": "markdown",
   "id": "4f3e244f-2722-4808-a9ba-8345c8592239",
   "metadata": {},
   "source": [
    "#### `@printf`/`@sprintf`\n",
    "\n",
    "- `@printf([io::IOStream,]fmt, args...)` 显示转换结果，无返回值（返回 `nothing`）\n",
    "- `@sprintf` 返回字符串"
   ]
  },
  {
   "cell_type": "code",
   "execution_count": 88,
   "id": "1b1b52ca-d5bc-4374-82ea-578dffa3f771",
   "metadata": {},
   "outputs": [],
   "source": [
    "using Printf"
   ]
  },
  {
   "cell_type": "code",
   "execution_count": 101,
   "id": "bd2d44bf-c66d-482d-8350-22ba2a8f89bc",
   "metadata": {},
   "outputs": [
    {
     "name": "stdout",
     "output_type": "stream",
     "text": [
      "a 3.200000 money 9.76E+06"
     ]
    }
   ],
   "source": [
    "@printf \"%x %5f money %G\" 10 3.2 9.76e6"
   ]
  },
  {
   "cell_type": "code",
   "execution_count": 102,
   "id": "4c9c272a-640c-4466-909a-b62ef68164ed",
   "metadata": {},
   "outputs": [
    {
     "name": "stdout",
     "output_type": "stream",
     "text": [
      "0 0.0 -0.007812\n"
     ]
    }
   ],
   "source": [
    "@printf \"%.0f %.1f %f\\n\" 0.5 0.025 -0.0078125"
   ]
  },
  {
   "cell_type": "code",
   "execution_count": 103,
   "id": "3afb45e3-ad2c-4dfd-8df0-f5da98aebf0e",
   "metadata": {},
   "outputs": [
    {
     "name": "stdout",
     "output_type": "stream",
     "text": [
      "Inf NaN -Inf"
     ]
    }
   ],
   "source": [
    "@printf \"%a %f %g\" Inf NaN -Inf # Inf 与 NaN 保持不变"
   ]
  },
  {
   "cell_type": "code",
   "execution_count": 104,
   "id": "29611335-99f9-4b45-adbc-292471db33a2",
   "metadata": {},
   "outputs": [],
   "source": [
    "s = @sprintf \"this is a %s %15.1f\" \"test\" 34.567;"
   ]
  },
  {
   "cell_type": "code",
   "execution_count": 105,
   "id": "8fd62775-e8a4-47ea-926e-a59a9b4b3e94",
   "metadata": {},
   "outputs": [
    {
     "data": {
      "text/plain": [
       "\"this is a test            34.6\""
      ]
     },
     "execution_count": 105,
     "metadata": {},
     "output_type": "execute_result"
    }
   ],
   "source": [
    "s"
   ]
  },
  {
   "cell_type": "markdown",
   "id": "bb267867-cd77-49de-8be5-1ce587957c98",
   "metadata": {},
   "source": [
    "#### `@assert`\n",
    "\n",
    "true 时无返回值，false 时报错"
   ]
  },
  {
   "cell_type": "code",
   "execution_count": 106,
   "id": "c7476dc9-e16a-44ff-9eb4-e8b2e6e7a078",
   "metadata": {},
   "outputs": [],
   "source": [
    "@assert 1 == 1.0"
   ]
  },
  {
   "cell_type": "code",
   "execution_count": 107,
   "id": "df0373f9-6417-4da3-a0eb-d01282aaa64d",
   "metadata": {},
   "outputs": [
    {
     "ename": "LoadError",
     "evalue": "AssertionError: 1 != 1.0",
     "output_type": "error",
     "traceback": [
      "AssertionError: 1 != 1.0",
      "",
      "Stacktrace:",
      " [1] top-level scope",
      "   @ In[107]:1",
      " [2] eval",
      "   @ .\\boot.jl:373 [inlined]",
      " [3] include_string(mapexpr::typeof(REPL.softscope), mod::Module, code::String, filename::String)",
      "   @ Base .\\loading.jl:1196"
     ]
    }
   ],
   "source": [
    "@assert 1 != 1.0"
   ]
  },
  {
   "cell_type": "markdown",
   "id": "adefa6d5-9be5-4ec6-85c6-f58592e3b64e",
   "metadata": {},
   "source": [
    "#### `@pipe`"
   ]
  },
  {
   "cell_type": "code",
   "execution_count": 108,
   "id": "ffa3d72b-c617-4551-95fb-9396d7f77137",
   "metadata": {},
   "outputs": [
    {
     "data": {
      "text/plain": [
       "\"c-b-a\""
      ]
     },
     "execution_count": 108,
     "metadata": {},
     "output_type": "execute_result"
    }
   ],
   "source": [
    "using Pipe\n",
    "@pipe collect(\"abc\") |> reverse |> join(_, '-')"
   ]
  },
  {
   "cell_type": "markdown",
   "id": "7acb2b35-4e3c-49c3-9826-f7e52778c8c4",
   "metadata": {},
   "source": [
    "#### `@test`\n",
    "\n"
   ]
  },
  {
   "cell_type": "code",
   "execution_count": 114,
   "id": "ddfc7d72-f839-441f-bfe4-7f8a3b0586e8",
   "metadata": {},
   "outputs": [],
   "source": [
    "using Test"
   ]
  },
  {
   "cell_type": "code",
   "execution_count": 115,
   "id": "dad06d5d-a1e1-42b3-9ee1-b82149695fb6",
   "metadata": {},
   "outputs": [
    {
     "data": {
      "text/plain": [
       "\u001b[32m\u001b[1mTest Passed\u001b[22m\u001b[39m\n",
       "  Expression: sqrt(4) == 2\n",
       "   Evaluated: 2.0 == 2"
      ]
     },
     "execution_count": 115,
     "metadata": {},
     "output_type": "execute_result"
    }
   ],
   "source": [
    "@test sqrt(4) == 2"
   ]
  },
  {
   "cell_type": "code",
   "execution_count": 116,
   "id": "ba05fe70-27ef-4a19-8fe9-5a7ddaf6c72e",
   "metadata": {},
   "outputs": [
    {
     "name": "stdout",
     "output_type": "stream",
     "text": [
      "\u001b[0m\u001b[1mTest Summary: | \u001b[22m\u001b[32m\u001b[1mPass  \u001b[22m\u001b[39m\u001b[36m\u001b[1mTotal\u001b[22m\u001b[39m\n",
      "ArithmeticSum | \u001b[32m   2  \u001b[39m\u001b[36m    2\u001b[39m\n"
     ]
    },
    {
     "data": {
      "text/plain": [
       "Test.DefaultTestSet(\"ArithmeticSum\", Any[], 2, false, false)"
      ]
     },
     "execution_count": 116,
     "metadata": {},
     "output_type": "execute_result"
    }
   ],
   "source": [
    "@testset \"ArithmeticSum\" begin\n",
    "    @test sqrt(4) == 2\n",
    "    @test sqrt(9) == 3\n",
    "end"
   ]
  },
  {
   "cell_type": "markdown",
   "id": "13b78ae0-9313-485c-8a80-641e8978354c",
   "metadata": {},
   "source": [
    "## 代码生成\n",
    "\n",
    "表达式插值和 `eval` 允许在通常的程序执行过程中生成代码"
   ]
  },
  {
   "cell_type": "code",
   "execution_count": 1,
   "id": "580f23b4-f1f4-4da2-8b27-8d0c71688960",
   "metadata": {},
   "outputs": [],
   "source": [
    "struct MyNumber\n",
    "    x::Float64\n",
    "end"
   ]
  },
  {
   "cell_type": "code",
   "execution_count": 5,
   "id": "a0c13127-3311-412b-b002-8a08a55e2aa6",
   "metadata": {},
   "outputs": [],
   "source": [
    "# 为 MyNumber 类型添加一些方法\n",
    "for op ∈ (:sin, :cos, :tan, :log, :exp)\n",
    "  eval(quote\n",
    "    Base.$op(a::MyNumber) = MyNumber($op(a.x))\n",
    "  end)\n",
    "end"
   ]
  },
  {
   "cell_type": "code",
   "execution_count": 6,
   "id": "68147215-5217-4686-b23f-7de089f8dbef",
   "metadata": {},
   "outputs": [
    {
     "data": {
      "text/plain": [
       "MyNumber(3.141592653589793)"
      ]
     },
     "execution_count": 6,
     "metadata": {},
     "output_type": "execute_result"
    }
   ],
   "source": [
    "x = MyNumber(π)"
   ]
  },
  {
   "cell_type": "code",
   "execution_count": 7,
   "id": "b4b2fcbd-84eb-4a3f-b7af-edc3833d3092",
   "metadata": {},
   "outputs": [
    {
     "data": {
      "text/plain": [
       "MyNumber(1.2246467991473532e-16)"
      ]
     },
     "execution_count": 7,
     "metadata": {},
     "output_type": "execute_result"
    }
   ],
   "source": [
    "sin(x)"
   ]
  },
  {
   "cell_type": "code",
   "execution_count": 8,
   "id": "6fcc052f-1f90-429b-8b16-ad4de3c23405",
   "metadata": {},
   "outputs": [
    {
     "data": {
      "text/plain": [
       "MyNumber(-1.0)"
      ]
     },
     "execution_count": 8,
     "metadata": {},
     "output_type": "execute_result"
    }
   ],
   "source": [
    "cos(x)"
   ]
  },
  {
   "cell_type": "code",
   "execution_count": 9,
   "id": "3fa7d375-c007-4635-9c5e-293890e9dc03",
   "metadata": {},
   "outputs": [],
   "source": [
    "# 更简洁的写法\n",
    "for op ∈ (:sin, :cos, :tan, :log, :exp)\n",
    "    eval(:(Base.$op(a::MyNumber) = MyNumber($op(a.x))))\n",
    "end"
   ]
  },
  {
   "cell_type": "code",
   "execution_count": 10,
   "id": "a37b0000-aeb5-4fed-9307-ac389bb3b5d4",
   "metadata": {},
   "outputs": [],
   "source": [
    "for op = (:sin, :cos, :tan, :log, :exp)\n",
    "    @eval Base.$op(a::MyNumber) = MyNumber($op(a.x))\n",
    "end"
   ]
  }
 ],
 "metadata": {
  "kernelspec": {
   "display_name": "Julia 1.7.3",
   "language": "julia",
   "name": "julia-1.7"
  },
  "language_info": {
   "file_extension": ".jl",
   "mimetype": "application/julia",
   "name": "julia",
   "version": "1.7.3"
  },
  "toc-autonumbering": true
 },
 "nbformat": 4,
 "nbformat_minor": 5
}
