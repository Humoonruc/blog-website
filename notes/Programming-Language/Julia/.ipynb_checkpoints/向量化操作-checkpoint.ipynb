{
 "cells": [
  {
   "cell_type": "markdown",
   "id": "252b1c8d-b6f4-4a73-b01f-1e05a9093903",
   "metadata": {},
   "source": [
    "# Vectorization"
   ]
  },
  {
   "cell_type": "markdown",
   "id": "7376a4f4-0c49-4df4-858e-a695f840b449",
   "metadata": {},
   "source": [
    "## for...in...\n",
    "\n",
    "### 向量迭代器\n",
    "\n",
    "**for 迭代矩阵的顺序为先列后行**"
   ]
  },
  {
   "cell_type": "markdown",
   "id": "8134d999-e68f-4c7f-abd0-7e3d80e2b419",
   "metadata": {},
   "source": [
    "- `[f(x) for x ∈ iterator]`\n",
    "- `[f(i) for i ∈ eachindex(iterator)]`\n",
    "- `[f(i, x) for (i, x) ∈ enumerate(iterator)]`\n",
    "> enumerate() 能自动将向量展开为 (i, x) 配对的向量 \n",
    "- `f(x, y) for x in iterator1 for y in iterator2` 交叉遍历，返回一维的 Vector"
   ]
  },
  {
   "cell_type": "code",
   "execution_count": 1,
   "id": "b5c1e9fa-a87f-4d79-8837-d2723ef54f0e",
   "metadata": {
    "tags": []
   },
   "outputs": [
    {
     "data": {
      "text/plain": [
       "3-element Vector{Char}:\n",
       " 'a': ASCII/Unicode U+0061 (category Ll: Letter, lowercase)\n",
       " 'b': ASCII/Unicode U+0062 (category Ll: Letter, lowercase)\n",
       " 'c': ASCII/Unicode U+0063 (category Ll: Letter, lowercase)"
      ]
     },
     "execution_count": 1,
     "metadata": {},
     "output_type": "execute_result"
    }
   ],
   "source": [
    "vector = ['a', 'b', 'c']"
   ]
  },
  {
   "cell_type": "code",
   "execution_count": 2,
   "id": "f65736b2-ea11-4ba8-bcbf-9a7b1aaee542",
   "metadata": {},
   "outputs": [
    {
     "data": {
      "text/plain": [
       "3-element Vector{String}:\n",
       " \"aa\"\n",
       " \"bb\"\n",
       " \"cc\""
      ]
     },
     "execution_count": 2,
     "metadata": {},
     "output_type": "execute_result"
    }
   ],
   "source": [
    "[x^2 for x ∈ vector]"
   ]
  },
  {
   "cell_type": "code",
   "execution_count": 3,
   "id": "6760c1ba-1a09-4222-95e5-2eb756ecd8c9",
   "metadata": {},
   "outputs": [
    {
     "data": {
      "text/plain": [
       "3-element Vector{String}:\n",
       " \"a\"\n",
       " \"bb\"\n",
       " \"ccc\""
      ]
     },
     "execution_count": 3,
     "metadata": {},
     "output_type": "execute_result"
    }
   ],
   "source": [
    "[x^i for (i, x) ∈ enumerate(vector)]"
   ]
  },
  {
   "cell_type": "code",
   "execution_count": 1,
   "id": "b0f040a4-41de-4183-bbf6-9e54c6498bc2",
   "metadata": {},
   "outputs": [
    {
     "data": {
      "text/plain": [
       "6-element Vector{Int64}:\n",
       " 2\n",
       " 3\n",
       " 3\n",
       " 4\n",
       " 4\n",
       " 5"
      ]
     },
     "execution_count": 1,
     "metadata": {},
     "output_type": "execute_result"
    }
   ],
   "source": [
    "[x+y for x in [1,2,3] for y in [1,2]]"
   ]
  },
  {
   "cell_type": "markdown",
   "id": "5d62145d-9d0e-43f6-bf97-e8faa0fa086c",
   "metadata": {},
   "source": [
    "### 矩阵迭代器\n",
    "\n",
    "- `f(x, y) for x in iterator1, y in iterator2`\n",
    "- `f(index[1], index[2]) for index in CartesianIndices(Matrix)` \n",
    "> index[1], index[2] 分别为元素的 i, j 索引"
   ]
  },
  {
   "cell_type": "code",
   "execution_count": 4,
   "id": "26adc0f2-e327-4f24-a7de-900dca571b86",
   "metadata": {},
   "outputs": [
    {
     "data": {
      "text/plain": [
       "3×2 Matrix{Int64}:\n",
       " 2  3\n",
       " 3  4\n",
       " 4  5"
      ]
     },
     "execution_count": 4,
     "metadata": {},
     "output_type": "execute_result"
    }
   ],
   "source": [
    "[x+y for x in [1,2,3], y in [1,2]]"
   ]
  },
  {
   "cell_type": "code",
   "execution_count": 4,
   "id": "433f490f-4d9a-4f36-9062-1683fef92f4f",
   "metadata": {},
   "outputs": [
    {
     "data": {
      "text/plain": [
       "4×3 Matrix{Int64}:\n",
       "  1   2  3\n",
       " -3  -2  1\n",
       "  3  -1  2\n",
       "  4   5  6"
      ]
     },
     "execution_count": 4,
     "metadata": {},
     "output_type": "execute_result"
    }
   ],
   "source": [
    "A = [1 2 3; -3 -2 1; 3 -1 2; 4 5 6]\n",
    "A"
   ]
  },
  {
   "cell_type": "code",
   "execution_count": 5,
   "id": "01ec1460-920d-48cc-822c-c4911814bdf3",
   "metadata": {},
   "outputs": [
    {
     "data": {
      "text/plain": [
       "4×3 CartesianIndices{2, Tuple{Base.OneTo{Int64}, Base.OneTo{Int64}}}:\n",
       " CartesianIndex(1, 1)  CartesianIndex(1, 2)  CartesianIndex(1, 3)\n",
       " CartesianIndex(2, 1)  CartesianIndex(2, 2)  CartesianIndex(2, 3)\n",
       " CartesianIndex(3, 1)  CartesianIndex(3, 2)  CartesianIndex(3, 3)\n",
       " CartesianIndex(4, 1)  CartesianIndex(4, 2)  CartesianIndex(4, 3)"
      ]
     },
     "execution_count": 5,
     "metadata": {},
     "output_type": "execute_result"
    }
   ],
   "source": [
    "CartesianIndices(A)"
   ]
  },
  {
   "cell_type": "code",
   "execution_count": 6,
   "id": "3027d57c-d0b4-43e5-9d9c-fa720fc46236",
   "metadata": {},
   "outputs": [
    {
     "data": {
      "text/plain": [
       "4×3 Matrix{Int64}:\n",
       " 1  1  1\n",
       " 2  2  2\n",
       " 3  3  3\n",
       " 4  4  4"
      ]
     },
     "execution_count": 6,
     "metadata": {},
     "output_type": "execute_result"
    }
   ],
   "source": [
    "[index[1] for index in CartesianIndices(A)]"
   ]
  },
  {
   "cell_type": "code",
   "execution_count": 7,
   "id": "6dbefbb3-52c6-479a-8e41-73e80abcfc36",
   "metadata": {},
   "outputs": [
    {
     "data": {
      "text/plain": [
       "4×3 Matrix{Int64}:\n",
       " 1  2  3\n",
       " 1  2  3\n",
       " 1  2  3\n",
       " 1  2  3"
      ]
     },
     "execution_count": 7,
     "metadata": {},
     "output_type": "execute_result"
    }
   ],
   "source": [
    "[index[2] for index in CartesianIndices(A)]"
   ]
  },
  {
   "cell_type": "markdown",
   "id": "ce1ad830-8089-4320-a113-27fa74bc16e4",
   "metadata": {},
   "source": [
    "## 泛函 `map()`"
   ]
  },
  {
   "cell_type": "markdown",
   "id": "b3fa6570-dfd2-475f-bb67-7e07fd02a944",
   "metadata": {},
   "source": [
    "`map()` 除了第一个参数 f, 其他参数的长度必须相等，对应元素参与计算\n",
    "\n",
    "对于匿名函数，`map()` 可读性更好"
   ]
  },
  {
   "cell_type": "code",
   "execution_count": 4,
   "id": "d95f5211-9a2a-4029-8eeb-6b517a8d1ce5",
   "metadata": {},
   "outputs": [
    {
     "data": {
      "text/plain": [
       "3-element Vector{String}:\n",
       " \"aa\"\n",
       " \"bb\"\n",
       " \"cc\""
      ]
     },
     "execution_count": 4,
     "metadata": {},
     "output_type": "execute_result"
    }
   ],
   "source": [
    "map(x->x^2, vector)"
   ]
  },
  {
   "cell_type": "code",
   "execution_count": 5,
   "id": "bcee12a7-4604-4113-b1c1-a53e705c6c67",
   "metadata": {},
   "outputs": [
    {
     "data": {
      "text/plain": [
       "3-element Vector{String}:\n",
       " \"a\"\n",
       " \"bb\"\n",
       " \"ccc\""
      ]
     },
     "execution_count": 5,
     "metadata": {},
     "output_type": "execute_result"
    }
   ],
   "source": [
    "map((x, i)->x^i, vector, 1:length(vector))"
   ]
  },
  {
   "cell_type": "markdown",
   "id": "5763a7a5-4a8d-4ef4-a4a5-21a4d31bdb1f",
   "metadata": {},
   "source": [
    "## `broadcast()/.()`"
   ]
  },
  {
   "cell_type": "markdown",
   "id": "8fedf1a5-09d7-4c65-9c1c-2656991b222a",
   "metadata": {},
   "source": [
    "### `broadcast(f, ...args)` \n",
    "\n",
    "除了第一个参数 f, 其他参数中\n",
    "- 若只有一个 iterator，则将其余参数视为标量，只遍历这个 iterator\n",
    "- 若有更多的 iterator，则按情况返回。"
   ]
  },
  {
   "cell_type": "code",
   "execution_count": 6,
   "id": "8ed4617f-c8bb-4096-9fbc-1eb636b825c6",
   "metadata": {},
   "outputs": [
    {
     "data": {
      "text/plain": [
       "3-element Vector{String}:\n",
       " \"aa\"\n",
       " \"bb\"\n",
       " \"cc\""
      ]
     },
     "execution_count": 6,
     "metadata": {},
     "output_type": "execute_result"
    }
   ],
   "source": [
    "broadcast(x->x^2, vector)"
   ]
  },
  {
   "cell_type": "code",
   "execution_count": 7,
   "id": "b9921fc9-f2f4-4e72-88e2-0fe9866ea9dc",
   "metadata": {},
   "outputs": [
    {
     "data": {
      "text/plain": [
       "3-element Vector{String}:\n",
       " \"a\"\n",
       " \"bb\"\n",
       " \"ccc\""
      ]
     },
     "execution_count": 7,
     "metadata": {},
     "output_type": "execute_result"
    }
   ],
   "source": [
    "broadcast((x, i)->x^i, vector, 1:length(vector))"
   ]
  },
  {
   "cell_type": "code",
   "execution_count": 8,
   "id": "806595df-6e55-4ac2-9e53-37ddce29e8b1",
   "metadata": {},
   "outputs": [
    {
     "data": {
      "text/plain": [
       "1×3 Matrix{Int64}:\n",
       " 1  2  3"
      ]
     },
     "execution_count": 8,
     "metadata": {},
     "output_type": "execute_result"
    }
   ],
   "source": [
    "a = [1 2 3]"
   ]
  },
  {
   "cell_type": "code",
   "execution_count": 9,
   "id": "691e3370-b24f-4e02-bea4-3ce448e75005",
   "metadata": {},
   "outputs": [
    {
     "data": {
      "text/plain": [
       "1×3 Matrix{Int64}:\n",
       " 1  2  3"
      ]
     },
     "execution_count": 9,
     "metadata": {},
     "output_type": "execute_result"
    }
   ],
   "source": [
    "b = [1 2 3]"
   ]
  },
  {
   "cell_type": "code",
   "execution_count": 10,
   "id": "2cb81a11-1b00-446b-82a9-64ba947eeb87",
   "metadata": {},
   "outputs": [
    {
     "data": {
      "text/plain": [
       "1×3 Matrix{Int64}:\n",
       " 2  4  6"
      ]
     },
     "execution_count": 10,
     "metadata": {},
     "output_type": "execute_result"
    }
   ],
   "source": [
    "broadcast(+, a, b) # a, b都是行向量，对应项相加"
   ]
  },
  {
   "cell_type": "code",
   "execution_count": 11,
   "id": "7030f075-c74d-411d-aed6-7f06e7e21205",
   "metadata": {},
   "outputs": [
    {
     "data": {
      "text/plain": [
       "3-element Vector{Int64}:\n",
       " 1\n",
       " 2\n",
       " 3"
      ]
     },
     "execution_count": 11,
     "metadata": {},
     "output_type": "execute_result"
    }
   ],
   "source": [
    "c = [1,2,3]"
   ]
  },
  {
   "cell_type": "code",
   "execution_count": 12,
   "id": "4527bf7b-2de7-491b-a596-7748226a0687",
   "metadata": {},
   "outputs": [
    {
     "data": {
      "text/plain": [
       "3×3 Matrix{Int64}:\n",
       " 2  3  4\n",
       " 3  4  5\n",
       " 4  5  6"
      ]
     },
     "execution_count": 12,
     "metadata": {},
     "output_type": "execute_result"
    }
   ],
   "source": [
    "broadcast(+, a, c) # c是列向量，与a的相加变成交叉遍历"
   ]
  },
  {
   "cell_type": "markdown",
   "id": "64cf5c3b-69c3-4fc3-8d32-a1301ee2b610",
   "metadata": {},
   "source": [
    "### `f.(…args)`\n",
    "\n",
    "语法糖，等价于`broadcast(f, ...args)`"
   ]
  },
  {
   "cell_type": "code",
   "execution_count": 13,
   "id": "3d5fa8e1-ab90-42a8-9900-8faced821f7e",
   "metadata": {},
   "outputs": [
    {
     "data": {
      "text/plain": [
       "3-element Vector{String}:\n",
       " \"aa\"\n",
       " \"bb\"\n",
       " \"cc\""
      ]
     },
     "execution_count": 13,
     "metadata": {},
     "output_type": "execute_result"
    }
   ],
   "source": [
    "(x -> x^2).(vector)"
   ]
  },
  {
   "cell_type": "code",
   "execution_count": 14,
   "id": "272d8260-71f9-4a0d-9401-399c25dedcae",
   "metadata": {},
   "outputs": [
    {
     "data": {
      "text/plain": [
       "3-element Vector{String}:\n",
       " \"a\"\n",
       " \"bb\"\n",
       " \"ccc\""
      ]
     },
     "execution_count": 14,
     "metadata": {},
     "output_type": "execute_result"
    }
   ],
   "source": [
    "((x, i) -> x^i).(vector, 1:length(vector))"
   ]
  },
  {
   "cell_type": "code",
   "execution_count": 15,
   "id": "d1c2f743-2429-4d1c-ae9c-db6a6c9f3d10",
   "metadata": {},
   "outputs": [
    {
     "data": {
      "text/plain": [
       "3-element Vector{Int64}:\n",
       " 1\n",
       " 2\n",
       " 3"
      ]
     },
     "execution_count": 15,
     "metadata": {},
     "output_type": "execute_result"
    }
   ],
   "source": [
    "[parse(Int, x) for x ∈ collect(\"123\")]"
   ]
  },
  {
   "cell_type": "code",
   "execution_count": 16,
   "id": "c03f7875-3c1d-40a2-986a-0304b28aafcc",
   "metadata": {},
   "outputs": [
    {
     "data": {
      "text/plain": [
       "3-element Vector{Int64}:\n",
       " 1\n",
       " 2\n",
       " 3"
      ]
     },
     "execution_count": 16,
     "metadata": {},
     "output_type": "execute_result"
    }
   ],
   "source": [
    "broadcast(parse, Int, collect(\"123\"))"
   ]
  },
  {
   "cell_type": "code",
   "execution_count": 17,
   "id": "5f37820c-989d-47c7-8e7c-7789ba9e515a",
   "metadata": {},
   "outputs": [
    {
     "data": {
      "text/plain": [
       "3-element Vector{Int64}:\n",
       " 1\n",
       " 2\n",
       " 3"
      ]
     },
     "execution_count": 17,
     "metadata": {},
     "output_type": "execute_result"
    }
   ],
   "source": [
    "parse.(Int, collect(\"123\"))"
   ]
  },
  {
   "cell_type": "markdown",
   "id": "e9e23aec-9bf5-4f6f-983b-b4709ea55d7c",
   "metadata": {
    "tags": []
   },
   "source": [
    "### `.运算符`\n",
    "\n",
    "运算符的矢量化，要把 `.` 放在运算符之前，甚至包括`.==` 和 `.|>`"
   ]
  },
  {
   "cell_type": "code",
   "execution_count": 18,
   "id": "55cabb11-731c-4037-bc32-1c32c7e063d5",
   "metadata": {},
   "outputs": [
    {
     "data": {
      "text/plain": [
       "(2, 4, 6)"
      ]
     },
     "execution_count": 18,
     "metadata": {},
     "output_type": "execute_result"
    }
   ],
   "source": [
    "(1, 2, 3) .* 2 # 此时的 a.*b 相当于 (*).(a, b) 和 broadcast(*, a, b)"
   ]
  },
  {
   "cell_type": "markdown",
   "id": "1ba908a0-1be5-42cc-afa8-97fd9a555e47",
   "metadata": {},
   "source": [
    "如果表达式中连续多次出现点操作，Julia 会自动将内部的逐元操作进行融合，避免多次的循环。\n",
    "\n",
    "例如，`sin.(cos.(A))` 在执行内部，不会先对 A 生成余弦结果的向量，再对该数集求正弦结果向量；而是转为一次循环操作，对 A 逐元地求余弦再求正弦后才会生成最终结果向量 "
   ]
  },
  {
   "cell_type": "markdown",
   "id": "9197f558-9cda-44fd-9b65-90d89a1dbf17",
   "metadata": {},
   "source": [
    "## `mapslices()`\n",
    "\n",
    "处理表格数据时，沿数组的特定维度应用函数 `mapslices(f, A; dims)`\n",
    "\n",
    "> 就像 R 中的 `Apply(x, Margin, FUN)`"
   ]
  },
  {
   "cell_type": "markdown",
   "id": "bd550bc2-574e-4f29-b819-b7efbddd72b5",
   "metadata": {},
   "source": [
    "dims is an integer vector. The results are **concatenated along the remaining dimensions**. For example, if dims is [1,2] and A is 4-dimensional, f is called on A[:,:,i,j] for all i and j."
   ]
  },
  {
   "cell_type": "code",
   "execution_count": 19,
   "id": "155844ef-3023-488b-bc9d-52ef6dea7ac4",
   "metadata": {},
   "outputs": [
    {
     "data": {
      "text/plain": [
       "3×3 Matrix{Int64}:\n",
       " 1  2  3\n",
       " 4  5  6\n",
       " 7  8  9"
      ]
     },
     "execution_count": 19,
     "metadata": {},
     "output_type": "execute_result"
    }
   ],
   "source": [
    "my_example_matrix = [[1 2 3]\n",
    "                     [4 5 6]\n",
    "                     [7 8 9]]"
   ]
  },
  {
   "cell_type": "code",
   "execution_count": 20,
   "id": "abd35922-546e-4970-ae9f-287f580269f9",
   "metadata": {},
   "outputs": [
    {
     "data": {
      "text/plain": [
       "1×3 Matrix{Int64}:\n",
       " 12  15  18"
      ]
     },
     "execution_count": 20,
     "metadata": {},
     "output_type": "execute_result"
    }
   ],
   "source": [
    "# dims = 1，沿着行方向应用 sum（即令 sum 的参数遍历第二个维度，列）\n",
    "mapslices(sum, my_example_matrix; dims=1)"
   ]
  },
  {
   "cell_type": "code",
   "execution_count": 21,
   "id": "a29748b8-3d06-441a-8e03-e5de13bfc4b2",
   "metadata": {},
   "outputs": [
    {
     "data": {
      "text/plain": [
       "3×1 Matrix{Int64}:\n",
       "  6\n",
       " 15\n",
       " 24"
      ]
     },
     "execution_count": 21,
     "metadata": {},
     "output_type": "execute_result"
    }
   ],
   "source": [
    "# dims = 2，沿着列方向应用 sum（即 sum 的参数遍历第一个维度，行）\n",
    "mapslices(sum, my_example_matrix; dims=2)"
   ]
  },
  {
   "cell_type": "code",
   "execution_count": null,
   "id": "9f399736-3688-4599-8f39-a6cf2fe7d23a",
   "metadata": {},
   "outputs": [],
   "source": []
  }
 ],
 "metadata": {
  "kernelspec": {
   "display_name": "Julia 1.7.3",
   "language": "julia",
   "name": "julia-1.7"
  },
  "language_info": {
   "file_extension": ".jl",
   "mimetype": "application/julia",
   "name": "julia",
   "version": "1.7.3"
  },
  "toc-autonumbering": true
 },
 "nbformat": 4,
 "nbformat_minor": 5
}
