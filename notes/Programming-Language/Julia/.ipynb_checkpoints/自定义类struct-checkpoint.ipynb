{
 "cells": [
  {
   "cell_type": "markdown",
   "id": "d3887bc8",
   "metadata": {},
   "source": [
    "### 3.自定义类\n",
    "\n",
    "也称为复合类型（Struct），是以基础类型为元素的集合。\n",
    "\n",
    "#### 3.1 组合类与可变类"
   ]
  },
  {
   "cell_type": "markdown",
   "id": "d2d87fc2",
   "metadata": {},
   "source": [
    "定义一个表示二维平面上点的类，具有 x 坐标和 y 坐标"
   ]
  },
  {
   "cell_type": "code",
   "execution_count": 1,
   "id": "897c96e3",
   "metadata": {},
   "outputs": [],
   "source": [
    "struct Point\n",
    "  x::Int64\n",
    "  y::Int64\n",
    "end"
   ]
  },
  {
   "cell_type": "code",
   "execution_count": 2,
   "id": "b6e79e5b-6551-49b3-b7c4-dd5cc684f8db",
   "metadata": {},
   "outputs": [
    {
     "data": {
      "text/plain": [
       "(:x, :y)"
      ]
     },
     "execution_count": 2,
     "metadata": {},
     "output_type": "execute_result"
    }
   ],
   "source": [
    "# 查看类的字段，返回 tuple\n",
    "fieldnames(Point)"
   ]
  },
  {
   "cell_type": "code",
   "execution_count": 3,
   "id": "5fff587f",
   "metadata": {},
   "outputs": [
    {
     "data": {
      "text/plain": [
       "Point(1, 2)"
      ]
     },
     "execution_count": 3,
     "metadata": {},
     "output_type": "execute_result"
    }
   ],
   "source": [
    "p = Point(1, 2)"
   ]
  },
  {
   "cell_type": "code",
   "execution_count": 5,
   "id": "06ccf2b1",
   "metadata": {},
   "outputs": [
    {
     "data": {
      "text/plain": [
       "true"
      ]
     },
     "execution_count": 5,
     "metadata": {},
     "output_type": "execute_result"
    }
   ],
   "source": [
    "p isa Point"
   ]
  },
  {
   "cell_type": "code",
   "execution_count": 7,
   "id": "532d2426",
   "metadata": {},
   "outputs": [
    {
     "data": {
      "text/plain": [
       "1"
      ]
     },
     "execution_count": 7,
     "metadata": {},
     "output_type": "execute_result"
    }
   ],
   "source": [
    "p.x"
   ]
  },
  {
   "cell_type": "code",
   "execution_count": 8,
   "id": "3e7fa31e",
   "metadata": {},
   "outputs": [
    {
     "data": {
      "text/plain": [
       "2"
      ]
     },
     "execution_count": 8,
     "metadata": {},
     "output_type": "execute_result"
    }
   ],
   "source": [
    "p.y"
   ]
  },
  {
   "cell_type": "code",
   "execution_count": 9,
   "id": "475422d0",
   "metadata": {},
   "outputs": [
    {
     "data": {
      "text/plain": [
       "2.23606797749979"
      ]
     },
     "execution_count": 9,
     "metadata": {},
     "output_type": "execute_result"
    }
   ],
   "source": [
    "dis = sqrt(p.x^2 + p.y^2)"
   ]
  },
  {
   "cell_type": "code",
   "execution_count": 10,
   "id": "58fead6a",
   "metadata": {},
   "outputs": [
    {
     "ename": "LoadError",
     "evalue": "setfield!: immutable struct of type Point cannot be changed",
     "output_type": "error",
     "traceback": [
      "setfield!: immutable struct of type Point cannot be changed",
      "",
      "Stacktrace:",
      " [1] setproperty!(x::Point, f::Symbol, v::Int64)",
      "   @ Base .\\Base.jl:43",
      " [2] top-level scope",
      "   @ In[10]:1",
      " [3] eval",
      "   @ .\\boot.jl:373 [inlined]",
      " [4] include_string(mapexpr::typeof(REPL.softscope), mod::Module, code::String, filename::String)",
      "   @ Base .\\loading.jl:1196"
     ]
    }
   ],
   "source": [
    "p.x = 2 # 实例化后不可修改"
   ]
  },
  {
   "cell_type": "markdown",
   "id": "64b25e1d",
   "metadata": {},
   "source": [
    "使用 `mutable struct` 创建字段值可以在创建后被修改的类\n",
    "> 注意，不推荐这样做"
   ]
  },
  {
   "cell_type": "code",
   "execution_count": 13,
   "id": "df7e13c7",
   "metadata": {},
   "outputs": [],
   "source": [
    "mutable struct MPoint\n",
    "  x\n",
    "  y\n",
    "end"
   ]
  },
  {
   "cell_type": "code",
   "execution_count": 14,
   "id": "98e73c3d",
   "metadata": {},
   "outputs": [
    {
     "data": {
      "text/plain": [
       "MPoint(1, 2)"
      ]
     },
     "execution_count": 14,
     "metadata": {},
     "output_type": "execute_result"
    }
   ],
   "source": [
    "p3 = MPoint(1, 2)"
   ]
  },
  {
   "cell_type": "code",
   "execution_count": 15,
   "id": "fc51d9a3",
   "metadata": {},
   "outputs": [
    {
     "data": {
      "text/plain": [
       "1"
      ]
     },
     "execution_count": 15,
     "metadata": {},
     "output_type": "execute_result"
    }
   ],
   "source": [
    "p3.x"
   ]
  },
  {
   "cell_type": "code",
   "execution_count": 16,
   "id": "6356564f",
   "metadata": {},
   "outputs": [
    {
     "data": {
      "text/plain": [
       "2"
      ]
     },
     "execution_count": 16,
     "metadata": {},
     "output_type": "execute_result"
    }
   ],
   "source": [
    "p3.x = 2"
   ]
  },
  {
   "cell_type": "code",
   "execution_count": 17,
   "id": "7bff7075",
   "metadata": {},
   "outputs": [
    {
     "data": {
      "text/plain": [
       "MPoint(2, 2)"
      ]
     },
     "execution_count": 17,
     "metadata": {},
     "output_type": "execute_result"
    }
   ],
   "source": [
    "p3"
   ]
  },
  {
   "cell_type": "markdown",
   "id": "8620ef56",
   "metadata": {},
   "source": [
    "#### 3.2 参数复合类型\n",
    "对类的元素所属种类是否一致进行抽象化定义，本质上是一个带有参数的复合类"
   ]
  },
  {
   "cell_type": "code",
   "execution_count": 18,
   "id": "8884fdd3",
   "metadata": {},
   "outputs": [],
   "source": [
    "struct TPoint{T}\n",
    "  x::T\n",
    "  y::T\n",
    "end"
   ]
  },
  {
   "cell_type": "markdown",
   "id": "a7c4dc9a",
   "metadata": {},
   "source": [
    "在实例化过程中进行自动的类型推断，这个 TPoint 类的本质约束只有一条：即两个字段的类型应当相同"
   ]
  },
  {
   "cell_type": "code",
   "execution_count": 19,
   "id": "e86078fe",
   "metadata": {},
   "outputs": [
    {
     "data": {
      "text/plain": [
       "TPoint{Int64}(1, 2)"
      ]
     },
     "execution_count": 19,
     "metadata": {},
     "output_type": "execute_result"
    }
   ],
   "source": [
    "p1 = TPoint(1, 2)"
   ]
  },
  {
   "cell_type": "code",
   "execution_count": 20,
   "id": "1078ba18",
   "metadata": {},
   "outputs": [
    {
     "data": {
      "text/plain": [
       "true"
      ]
     },
     "execution_count": 20,
     "metadata": {},
     "output_type": "execute_result"
    }
   ],
   "source": [
    "p1 isa TPoint"
   ]
  },
  {
   "cell_type": "code",
   "execution_count": 21,
   "id": "52f2aef1",
   "metadata": {},
   "outputs": [
    {
     "data": {
      "text/plain": [
       "true"
      ]
     },
     "execution_count": 21,
     "metadata": {},
     "output_type": "execute_result"
    }
   ],
   "source": [
    "p1 isa TPoint{Int64}"
   ]
  },
  {
   "cell_type": "code",
   "execution_count": 22,
   "id": "2dff9323",
   "metadata": {},
   "outputs": [
    {
     "data": {
      "text/plain": [
       "false"
      ]
     },
     "execution_count": 22,
     "metadata": {},
     "output_type": "execute_result"
    }
   ],
   "source": [
    "p1 isa TPoint{Float64}"
   ]
  },
  {
   "cell_type": "code",
   "execution_count": 23,
   "id": "0ab61037",
   "metadata": {},
   "outputs": [
    {
     "data": {
      "text/plain": [
       "TPoint{Float64}(1.2, 3.1)"
      ]
     },
     "execution_count": 23,
     "metadata": {},
     "output_type": "execute_result"
    }
   ],
   "source": [
    "p2 = TPoint(1.2, 3.1)"
   ]
  },
  {
   "cell_type": "code",
   "execution_count": 24,
   "id": "1f1b504f",
   "metadata": {},
   "outputs": [
    {
     "data": {
      "text/plain": [
       "true"
      ]
     },
     "execution_count": 24,
     "metadata": {},
     "output_type": "execute_result"
    }
   ],
   "source": [
    "p2 isa TPoint"
   ]
  },
  {
   "cell_type": "code",
   "execution_count": 25,
   "id": "a8e9f61e",
   "metadata": {},
   "outputs": [
    {
     "ename": "LoadError",
     "evalue": "MethodError: no method matching TPoint(::Int64, ::Float64)\n\u001b[0mClosest candidates are:\n\u001b[0m  TPoint(::T, \u001b[91m::T\u001b[39m) where T at In[18]:2",
     "output_type": "error",
     "traceback": [
      "MethodError: no method matching TPoint(::Int64, ::Float64)\n\u001b[0mClosest candidates are:\n\u001b[0m  TPoint(::T, \u001b[91m::T\u001b[39m) where T at In[18]:2",
      "",
      "Stacktrace:",
      " [1] top-level scope",
      "   @ In[25]:1",
      " [2] eval",
      "   @ .\\boot.jl:373 [inlined]",
      " [3] include_string(mapexpr::typeof(REPL.softscope), mod::Module, code::String, filename::String)",
      "   @ Base .\\loading.jl:1196"
     ]
    }
   ],
   "source": [
    "p3 = TPoint(1, 3.1)"
   ]
  },
  {
   "cell_type": "code",
   "execution_count": 26,
   "id": "baf5167f",
   "metadata": {},
   "outputs": [
    {
     "data": {
      "text/plain": [
       "true"
      ]
     },
     "execution_count": 26,
     "metadata": {},
     "output_type": "execute_result"
    }
   ],
   "source": [
    "TPoint{Int64} <: TPoint # <: 表示前者为后者的子类"
   ]
  },
  {
   "cell_type": "code",
   "execution_count": 27,
   "id": "c070acfb",
   "metadata": {},
   "outputs": [
    {
     "data": {
      "text/plain": [
       "true"
      ]
     },
     "execution_count": 27,
     "metadata": {},
     "output_type": "execute_result"
    }
   ],
   "source": [
    "TPoint{Float64} <: TPoint "
   ]
  },
  {
   "cell_type": "markdown",
   "id": "d15502c4",
   "metadata": {},
   "source": [
    "**多重派发**允许同一个函数针对不同的类型执行不同的操作"
   ]
  },
  {
   "cell_type": "code",
   "execution_count": 28,
   "id": "2ad5b116",
   "metadata": {},
   "outputs": [
    {
     "data": {
      "text/plain": [
       "dist1 (generic function with 1 method)"
      ]
     },
     "execution_count": 28,
     "metadata": {},
     "output_type": "execute_result"
    }
   ],
   "source": [
    "function dist1(p1::TPoint, p2::TPoint)\n",
    "  sqrt((p1.x-p2.x)^2+(p1.y-p2.y)^2) # 两个点的欧氏距离\n",
    "end"
   ]
  },
  {
   "cell_type": "code",
   "execution_count": 29,
   "id": "fcdab160",
   "metadata": {},
   "outputs": [
    {
     "data": {
      "text/plain": [
       "TPoint{Int64}(1, 2)"
      ]
     },
     "execution_count": 29,
     "metadata": {},
     "output_type": "execute_result"
    }
   ],
   "source": [
    "p1 = TPoint(1, 2)"
   ]
  },
  {
   "cell_type": "code",
   "execution_count": 30,
   "id": "afee1e8b",
   "metadata": {},
   "outputs": [
    {
     "data": {
      "text/plain": [
       "TPoint{Int64}(2, 1)"
      ]
     },
     "execution_count": 30,
     "metadata": {},
     "output_type": "execute_result"
    }
   ],
   "source": [
    "p2 = TPoint(2, 1)"
   ]
  },
  {
   "cell_type": "code",
   "execution_count": 31,
   "id": "e2f99be7",
   "metadata": {},
   "outputs": [
    {
     "data": {
      "text/plain": [
       "1.4142135623730951"
      ]
     },
     "execution_count": 31,
     "metadata": {},
     "output_type": "execute_result"
    }
   ],
   "source": [
    "dist1(p1, p2)"
   ]
  },
  {
   "cell_type": "code",
   "execution_count": 32,
   "id": "bb65c910",
   "metadata": {},
   "outputs": [
    {
     "data": {
      "text/plain": [
       "dist1 (generic function with 1 method)"
      ]
     },
     "execution_count": 32,
     "metadata": {},
     "output_type": "execute_result"
    }
   ],
   "source": [
    "dist1 # 函数有一个方法"
   ]
  },
  {
   "cell_type": "markdown",
   "id": "b729415f",
   "metadata": {},
   "source": [
    "增加一个方法："
   ]
  },
  {
   "cell_type": "code",
   "execution_count": 33,
   "id": "bf58b870",
   "metadata": {},
   "outputs": [
    {
     "data": {
      "text/plain": [
       "dist1 (generic function with 2 methods)"
      ]
     },
     "execution_count": 33,
     "metadata": {},
     "output_type": "execute_result"
    }
   ],
   "source": [
    "function dist1(p1::TPoint{Int64}, p2::TPoint{Int64})\n",
    "  abs(p1.x-p2.x) + abs(p1.y-p2.y) # 两个点的曼哈顿距离\n",
    "end"
   ]
  },
  {
   "cell_type": "code",
   "execution_count": 34,
   "id": "b35f3b00",
   "metadata": {},
   "outputs": [
    {
     "data": {
      "text/plain": [
       "dist1 (generic function with 2 methods)"
      ]
     },
     "execution_count": 34,
     "metadata": {},
     "output_type": "execute_result"
    }
   ],
   "source": [
    "dist1 # 函数有了两个方法"
   ]
  },
  {
   "cell_type": "code",
   "execution_count": 35,
   "id": "33b15087",
   "metadata": {},
   "outputs": [
    {
     "data": {
      "text/plain": [
       "2"
      ]
     },
     "execution_count": 35,
     "metadata": {},
     "output_type": "execute_result"
    }
   ],
   "source": [
    "dist1(TPoint(1, 1), TPoint(0, 0)) # 只有两个点均为整数点，才返回曼哈顿距离"
   ]
  },
  {
   "cell_type": "code",
   "execution_count": 36,
   "id": "1a8d4ab6",
   "metadata": {},
   "outputs": [
    {
     "data": {
      "text/plain": [
       "1.4142135623730951"
      ]
     },
     "execution_count": 36,
     "metadata": {},
     "output_type": "execute_result"
    }
   ],
   "source": [
    "dist1(TPoint(1.0, 1.0), TPoint(0.0, 0.0))"
   ]
  },
  {
   "cell_type": "code",
   "execution_count": 37,
   "id": "bdcdad36",
   "metadata": {},
   "outputs": [
    {
     "data": {
      "text/plain": [
       "1.4142135623730951"
      ]
     },
     "execution_count": 37,
     "metadata": {},
     "output_type": "execute_result"
    }
   ],
   "source": [
    "dist1(TPoint(1.0, 1.0), TPoint(0, 0))"
   ]
  },
  {
   "cell_type": "code",
   "execution_count": 38,
   "id": "f2f81529",
   "metadata": {},
   "outputs": [
    {
     "data": {
      "text/plain": [
       "+ (generic function with 208 methods)"
      ]
     },
     "execution_count": 38,
     "metadata": {},
     "output_type": "execute_result"
    }
   ],
   "source": [
    "+ # `+`() 有208个方法！"
   ]
  },
  {
   "cell_type": "markdown",
   "id": "96d394e6",
   "metadata": {},
   "source": [
    "#### 3.3 元组类型\n",
    "\n",
    "允许不同字段设置不同的类型"
   ]
  },
  {
   "cell_type": "code",
   "execution_count": 39,
   "id": "51fc515b",
   "metadata": {},
   "outputs": [],
   "source": [
    "struct Tuple2{A, B}\n",
    "  a::A\n",
    "  b::B\n",
    "end"
   ]
  },
  {
   "cell_type": "code",
   "execution_count": 40,
   "id": "ddf850b7",
   "metadata": {},
   "outputs": [
    {
     "data": {
      "text/plain": [
       "Tuple2{Int64, Float64}(1, 1.0)"
      ]
     },
     "execution_count": 40,
     "metadata": {},
     "output_type": "execute_result"
    }
   ],
   "source": [
    "Tuple2(1, 1.0)"
   ]
  }
 ],
 "metadata": {
  "kernelspec": {
   "display_name": "Julia 1.7.3",
   "language": "julia",
   "name": "julia-1.7"
  },
  "language_info": {
   "file_extension": ".jl",
   "mimetype": "application/julia",
   "name": "julia",
   "version": "1.7.3"
  }
 },
 "nbformat": 4,
 "nbformat_minor": 5
}
