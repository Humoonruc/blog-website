{
 "cells": [
  {
   "cell_type": "markdown",
   "metadata": {},
   "source": [
    "[TOC]\n",
    "\n",
    "![figure](img/data_wrangling_packages.png)\n",
    "\n",
    "# DataFrames.jl"
   ]
  },
  {
   "cell_type": "code",
   "execution_count": 61,
   "metadata": {},
   "outputs": [],
   "source": [
    "using DataFrames\n",
    "using Pipe"
   ]
  },
  {
   "cell_type": "markdown",
   "metadata": {
    "tags": [],
    "toc-hr-collapsed": true
   },
   "source": [
    "## 创建"
   ]
  },
  {
   "cell_type": "markdown",
   "metadata": {
    "tags": []
   },
   "source": [
    "### from Array\n",
    "\n",
    "`DataFrame(columns::AbstractVecOrMat, names::AbstractVector)`\n",
    " \n",
    "第一个参数接收 Vector 则添加一列；接收 Matrix 则添加多列"
   ]
  },
  {
   "cell_type": "code",
   "execution_count": 4,
   "metadata": {},
   "outputs": [
    {
     "data": {
      "text/html": [
       "<div class=\"data-frame\"><p>3 rows × 3 columns</p><table class=\"data-frame\"><thead><tr><th></th><th>a</th><th>b</th><th>c</th></tr><tr><th></th><th title=\"Int64\">Int64</th><th title=\"Int64\">Int64</th><th title=\"Int64\">Int64</th></tr></thead><tbody><tr><th>1</th><td>1</td><td>0</td><td>0</td></tr><tr><th>2</th><td>0</td><td>1</td><td>0</td></tr><tr><th>3</th><td>0</td><td>0</td><td>1</td></tr></tbody></table></div>"
      ],
      "text/latex": [
       "\\begin{tabular}{r|ccc}\n",
       "\t& a & b & c\\\\\n",
       "\t\\hline\n",
       "\t& Int64 & Int64 & Int64\\\\\n",
       "\t\\hline\n",
       "\t1 & 1 & 0 & 0 \\\\\n",
       "\t2 & 0 & 1 & 0 \\\\\n",
       "\t3 & 0 & 0 & 1 \\\\\n",
       "\\end{tabular}\n"
      ],
      "text/plain": [
       "\u001b[1m3×3 DataFrame\u001b[0m\n",
       "\u001b[1m Row \u001b[0m│\u001b[1m a     \u001b[0m\u001b[1m b     \u001b[0m\u001b[1m c     \u001b[0m\n",
       "\u001b[1m     \u001b[0m│\u001b[90m Int64 \u001b[0m\u001b[90m Int64 \u001b[0m\u001b[90m Int64 \u001b[0m\n",
       "─────┼─────────────────────\n",
       "   1 │     1      0      0\n",
       "   2 │     0      1      0\n",
       "   3 │     0      0      1"
      ]
     },
     "execution_count": 4,
     "metadata": {},
     "output_type": "execute_result"
    }
   ],
   "source": [
    "using LinearAlgebra\n",
    "A = diagm(ones(Int, 3))\n",
    "name = [\"a\", \"b\", \"c\"]\n",
    "df = DataFrame(A, name)"
   ]
  },
  {
   "cell_type": "markdown",
   "metadata": {
    "tags": []
   },
   "source": [
    "### from Named Vectors"
   ]
  },
  {
   "cell_type": "code",
   "execution_count": 5,
   "metadata": {},
   "outputs": [
    {
     "name": "stdout",
     "output_type": "stream",
     "text": [
      "\u001b[1m4×2 DataFrame\u001b[0m\n",
      "\u001b[1m Row \u001b[0m│\u001b[1m name   \u001b[0m\u001b[1m grade_2020 \u001b[0m\n",
      "\u001b[1m     \u001b[0m│\u001b[90m String \u001b[0m\u001b[90m Float64    \u001b[0m\n",
      "─────┼────────────────────\n",
      "   1 │ Sally          1.0\n",
      "   2 │ Bob            5.0\n",
      "   3 │ Alice          8.5\n",
      "   4 │ Hank           4.0\n"
     ]
    }
   ],
   "source": [
    "name = [\"Sally\", \"Bob\", \"Alice\", \"Hank\"]\n",
    "grade_2020 = [1, 5, 8.5, 4]\n",
    "df = DataFrame(; name, grade_2020) # 注意，分号一定不能少！\n",
    "println(df)"
   ]
  },
  {
   "cell_type": "markdown",
   "metadata": {
    "tags": []
   },
   "source": [
    "### from CSV"
   ]
  },
  {
   "cell_type": "code",
   "execution_count": 6,
   "metadata": {},
   "outputs": [
    {
     "name": "stderr",
     "output_type": "stream",
     "text": [
      "┌ Info: Precompiling CSV [336ed68f-0bac-5ca0-87d4-7b16caf5d00b]\n",
      "└ @ Base loading.jl:1423\n"
     ]
    }
   ],
   "source": [
    "using CSV"
   ]
  },
  {
   "cell_type": "markdown",
   "metadata": {
    "tags": []
   },
   "source": [
    "#### `CSV.read()`"
   ]
  },
  {
   "cell_type": "code",
   "execution_count": 7,
   "metadata": {},
   "outputs": [
    {
     "data": {
      "text/html": [
       "<div class=\"data-frame\"><p>4 rows × 2 columns</p><table class=\"data-frame\"><thead><tr><th></th><th>name</th><th>grade_2020</th></tr><tr><th></th><th title=\"String7\">String7</th><th title=\"Float64\">Float64</th></tr></thead><tbody><tr><th>1</th><td>Sally</td><td>1.0</td></tr><tr><th>2</th><td>Bob</td><td>5.0</td></tr><tr><th>3</th><td>Alice</td><td>8.5</td></tr><tr><th>4</th><td>Hank</td><td>4.0</td></tr></tbody></table></div>"
      ],
      "text/latex": [
       "\\begin{tabular}{r|cc}\n",
       "\t& name & grade\\_2020\\\\\n",
       "\t\\hline\n",
       "\t& String7 & Float64\\\\\n",
       "\t\\hline\n",
       "\t1 & Sally & 1.0 \\\\\n",
       "\t2 & Bob & 5.0 \\\\\n",
       "\t3 & Alice & 8.5 \\\\\n",
       "\t4 & Hank & 4.0 \\\\\n",
       "\\end{tabular}\n"
      ],
      "text/plain": [
       "\u001b[1m4×2 DataFrame\u001b[0m\n",
       "\u001b[1m Row \u001b[0m│\u001b[1m name    \u001b[0m\u001b[1m grade_2020 \u001b[0m\n",
       "\u001b[1m     \u001b[0m│\u001b[90m String7 \u001b[0m\u001b[90m Float64    \u001b[0m\n",
       "─────┼─────────────────────\n",
       "   1 │ Sally           1.0\n",
       "   2 │ Bob             5.0\n",
       "   3 │ Alice           8.5\n",
       "   4 │ Hank            4.0"
      ]
     },
     "execution_count": 7,
     "metadata": {},
     "output_type": "execute_result"
    }
   ],
   "source": [
    "path = \"./data/grades.csv\"\n",
    "df = CSV.read(path, DataFrame) # CSV.jl 将自动推断列的数据类型"
   ]
  },
  {
   "cell_type": "code",
   "execution_count": 8,
   "metadata": {},
   "outputs": [
    {
     "data": {
      "text/html": [
       "<div class=\"data-frame\"><p>1 rows × 5 columns</p><table class=\"data-frame\"><thead><tr><th></th><th>a</th><th>b</th><th>c</th><th>d</th><th>e</th></tr><tr><th></th><th title=\"String3\">String3</th><th title=\"Dates.Date\">Date</th><th title=\"Int64\">Int64</th><th title=\"Float64\">Float64</th><th title=\"Dates.DateTime\">DateTime</th></tr></thead><tbody><tr><th>1</th><td>Kim</td><td>2018-02-03</td><td>3</td><td>4.0</td><td>2018-02-03T10:00:00</td></tr></tbody></table></div>"
      ],
      "text/latex": [
       "\\begin{tabular}{r|ccccc}\n",
       "\t& a & b & c & d & e\\\\\n",
       "\t\\hline\n",
       "\t& String3 & Date & Int64 & Float64 & DateTime\\\\\n",
       "\t\\hline\n",
       "\t1 & Kim & 2018-02-03 & 3 & 4.0 & 2018-02-03T10:00:00 \\\\\n",
       "\\end{tabular}\n"
      ],
      "text/plain": [
       "\u001b[1m1×5 DataFrame\u001b[0m\n",
       "\u001b[1m Row \u001b[0m│\u001b[1m a       \u001b[0m\u001b[1m b          \u001b[0m\u001b[1m c     \u001b[0m\u001b[1m d       \u001b[0m\u001b[1m e                   \u001b[0m\n",
       "\u001b[1m     \u001b[0m│\u001b[90m String3 \u001b[0m\u001b[90m Date       \u001b[0m\u001b[90m Int64 \u001b[0m\u001b[90m Float64 \u001b[0m\u001b[90m DateTime            \u001b[0m\n",
       "─────┼──────────────────────────────────────────────────────────\n",
       "   1 │ Kim      2018-02-03      3      4.0  2018-02-03T10:00:00"
      ]
     },
     "execution_count": 8,
     "metadata": {},
     "output_type": "execute_result"
    }
   ],
   "source": [
    "my_data = \"\"\"\n",
    "    a,b,c,d,e\n",
    "    Kim,2018-02-03,3,4.0,2018-02-03T10:00\n",
    "    \"\"\"\n",
    "path = \"./data/my_data.csv\"\n",
    "write(path, my_data)\n",
    "df = CSV.read(path, DataFrame)"
   ]
  },
  {
   "cell_type": "markdown",
   "metadata": {
    "tags": []
   },
   "source": [
    "#### `CSV.write()`"
   ]
  },
  {
   "cell_type": "code",
   "execution_count": 9,
   "metadata": {},
   "outputs": [
    {
     "data": {
      "text/plain": [
       "write_grades_csv (generic function with 1 method)"
      ]
     },
     "execution_count": 9,
     "metadata": {},
     "output_type": "execute_result"
    }
   ],
   "source": [
    "function grades_2020()\n",
    "    name = [\"Sally\", \"Bob\", \"Alice\", \"Hank\"]\n",
    "    grade_2020 = [1, 5, 8.5, 4]\n",
    "    return DataFrame(;name, grade_2020) \n",
    "end\n",
    "\n",
    "# 定义写函数\n",
    "function write_grades_csv()\n",
    "    path = \"./data/grades.csv\"\n",
    "    CSV.write(path, grades_2020()) # 运行则返回 path\n",
    "end"
   ]
  },
  {
   "cell_type": "code",
   "execution_count": 10,
   "metadata": {},
   "outputs": [
    {
     "data": {
      "text/plain": [
       "\"./data/grades.csv\""
      ]
     },
     "execution_count": 10,
     "metadata": {},
     "output_type": "execute_result"
    }
   ],
   "source": [
    "path = write_grades_csv()"
   ]
  },
  {
   "cell_type": "code",
   "execution_count": 11,
   "metadata": {},
   "outputs": [
    {
     "data": {
      "text/plain": [
       "\"name,grade_2020\\nSally,1.0\\nBob,5.0\\nAlice,8.5\\nHank,4.0\\n\""
      ]
     },
     "execution_count": 11,
     "metadata": {},
     "output_type": "execute_result"
    }
   ],
   "source": [
    "read(path, String) # 像 .txt 一样读取为字符串"
   ]
  },
  {
   "cell_type": "markdown",
   "metadata": {},
   "source": [
    "也可以用其他符号作为数据的分隔符"
   ]
  },
  {
   "cell_type": "code",
   "execution_count": 12,
   "metadata": {},
   "outputs": [
    {
     "data": {
      "text/plain": [
       "write_space_separated (generic function with 1 method)"
      ]
     },
     "execution_count": 12,
     "metadata": {},
     "output_type": "execute_result"
    }
   ],
   "source": [
    "function write_space_separated()\n",
    "    path = \"./data/grades-space-separated.csv\"\n",
    "    CSV.write(path, grades_2020(); delim=' ')\n",
    "end"
   ]
  },
  {
   "cell_type": "code",
   "execution_count": 13,
   "metadata": {},
   "outputs": [
    {
     "data": {
      "text/plain": [
       "\"name grade_2020\\nSally 1.0\\nBob 5.0\\nAlice 8.5\\nHank 4.0\\n\""
      ]
     },
     "execution_count": 13,
     "metadata": {},
     "output_type": "execute_result"
    }
   ],
   "source": [
    "read(write_space_separated(), String)"
   ]
  },
  {
   "cell_type": "markdown",
   "metadata": {
    "tags": []
   },
   "source": [
    "## 查看基本信息\n",
    "\n",
    "### `size()`\n",
    "\n",
    "- `size(df)` 返回 (nrow, ncol)\n",
    "- `size(df, 1)` 返回 nrow\n",
    "- `size(df, 2)` 返回 ncol"
   ]
  },
  {
   "cell_type": "code",
   "execution_count": 14,
   "metadata": {},
   "outputs": [
    {
     "name": "stdout",
     "output_type": "stream",
     "text": [
      "(1, 5)\n",
      "1\n",
      "5\n"
     ]
    }
   ],
   "source": [
    "println(size(df))\n",
    "println(size(df, 1))\n",
    "println(size(df, 2))"
   ]
  },
  {
   "cell_type": "markdown",
   "metadata": {},
   "source": [
    "### `first()`/`last()`\n",
    "\n",
    "`first(df, n)`\n",
    "\n",
    "查看部分行"
   ]
  },
  {
   "cell_type": "markdown",
   "metadata": {},
   "source": [
    "### `describe()` \n",
    "\n",
    "返回 DataFrame，行为变量名，列为均值、极值、中位数等指标"
   ]
  },
  {
   "cell_type": "code",
   "execution_count": 15,
   "metadata": {},
   "outputs": [
    {
     "data": {
      "text/html": [
       "<div class=\"data-frame\"><p>5 rows × 7 columns (omitted printing of 2 columns)</p><table class=\"data-frame\"><thead><tr><th></th><th>variable</th><th>mean</th><th>min</th><th>median</th><th>max</th></tr><tr><th></th><th title=\"Symbol\">Symbol</th><th title=\"Union{Nothing, Float64}\">Union…</th><th title=\"Any\">Any</th><th title=\"Any\">Any</th><th title=\"Any\">Any</th></tr></thead><tbody><tr><th>1</th><td>a</td><td></td><td>Kim</td><td></td><td>Kim</td></tr><tr><th>2</th><td>b</td><td></td><td>2018-02-03</td><td>2018-02-03</td><td>2018-02-03</td></tr><tr><th>3</th><td>c</td><td>3.0</td><td>3</td><td>3.0</td><td>3</td></tr><tr><th>4</th><td>d</td><td>4.0</td><td>4.0</td><td>4.0</td><td>4.0</td></tr><tr><th>5</th><td>e</td><td></td><td>2018-02-03T10:00:00</td><td>2018-02-03T10:00:00</td><td>2018-02-03T10:00:00</td></tr></tbody></table></div>"
      ],
      "text/latex": [
       "\\begin{tabular}{r|cccccc}\n",
       "\t& variable & mean & min & median & max & \\\\\n",
       "\t\\hline\n",
       "\t& Symbol & Union… & Any & Any & Any & \\\\\n",
       "\t\\hline\n",
       "\t1 & a &  & Kim &  & Kim & $\\dots$ \\\\\n",
       "\t2 & b &  & 2018-02-03 & 2018-02-03 & 2018-02-03 & $\\dots$ \\\\\n",
       "\t3 & c & 3.0 & 3 & 3.0 & 3 & $\\dots$ \\\\\n",
       "\t4 & d & 4.0 & 4.0 & 4.0 & 4.0 & $\\dots$ \\\\\n",
       "\t5 & e &  & 2018-02-03T10:00:00 & 2018-02-03T10:00:00 & 2018-02-03T10:00:00 & $\\dots$ \\\\\n",
       "\\end{tabular}\n"
      ],
      "text/plain": [
       "\u001b[1m5×7 DataFrame\u001b[0m\n",
       "\u001b[1m Row \u001b[0m│\u001b[1m variable \u001b[0m\u001b[1m mean   \u001b[0m\u001b[1m min                 \u001b[0m\u001b[1m median              \u001b[0m\u001b[1m max        \u001b[0m ⋯\n",
       "\u001b[1m     \u001b[0m│\u001b[90m Symbol   \u001b[0m\u001b[90m Union… \u001b[0m\u001b[90m Any                 \u001b[0m\u001b[90m Any                 \u001b[0m\u001b[90m Any        \u001b[0m ⋯\n",
       "─────┼──────────────────────────────────────────────────────────────────────────\n",
       "   1 │ a        \u001b[90m        \u001b[0m Kim                 \u001b[90m                     \u001b[0m Kim         ⋯\n",
       "   2 │ b        \u001b[90m        \u001b[0m 2018-02-03           2018-02-03           2018-02-03\n",
       "   3 │ c         3.0     3                    3.0                  3\n",
       "   4 │ d         4.0     4.0                  4.0                  4.0\n",
       "   5 │ e        \u001b[90m        \u001b[0m 2018-02-03T10:00:00  2018-02-03T10:00:00  2018-02-03T ⋯\n",
       "\u001b[36m                                                               3 columns omitted\u001b[0m"
      ]
     },
     "execution_count": 15,
     "metadata": {},
     "output_type": "execute_result"
    }
   ],
   "source": [
    "describe(df)"
   ]
  },
  {
   "cell_type": "markdown",
   "metadata": {},
   "source": [
    "## Convert to Matrix\n",
    "\n",
    "`Matrix(df)`"
   ]
  },
  {
   "cell_type": "code",
   "execution_count": 16,
   "metadata": {},
   "outputs": [
    {
     "data": {
      "text/plain": [
       "1×5 Matrix{Any}:\n",
       " \"Kim\"  2018-02-03  3  4.0  2018-02-03T10:00:00"
      ]
     },
     "execution_count": 16,
     "metadata": {},
     "output_type": "execute_result"
    }
   ],
   "source": [
    "Matrix(df)"
   ]
  },
  {
   "cell_type": "markdown",
   "metadata": {
    "tags": []
   },
   "source": [
    "## 选择器"
   ]
  },
  {
   "cell_type": "code",
   "execution_count": 71,
   "metadata": {},
   "outputs": [
    {
     "data": {
      "text/html": [
       "<div class=\"data-frame\"><p>4 rows × 2 columns</p><table class=\"data-frame\"><thead><tr><th></th><th>name</th><th>grade_2020</th></tr><tr><th></th><th title=\"String\">String</th><th title=\"Float64\">Float64</th></tr></thead><tbody><tr><th>1</th><td>Sally</td><td>1.0</td></tr><tr><th>2</th><td>Bob</td><td>5.0</td></tr><tr><th>3</th><td>Alice</td><td>8.5</td></tr><tr><th>4</th><td>Hank</td><td>4.0</td></tr></tbody></table></div>"
      ],
      "text/latex": [
       "\\begin{tabular}{r|cc}\n",
       "\t& name & grade\\_2020\\\\\n",
       "\t\\hline\n",
       "\t& String & Float64\\\\\n",
       "\t\\hline\n",
       "\t1 & Sally & 1.0 \\\\\n",
       "\t2 & Bob & 5.0 \\\\\n",
       "\t3 & Alice & 8.5 \\\\\n",
       "\t4 & Hank & 4.0 \\\\\n",
       "\\end{tabular}\n"
      ],
      "text/plain": [
       "\u001b[1m4×2 DataFrame\u001b[0m\n",
       "\u001b[1m Row \u001b[0m│\u001b[1m name   \u001b[0m\u001b[1m grade_2020 \u001b[0m\n",
       "\u001b[1m     \u001b[0m│\u001b[90m String \u001b[0m\u001b[90m Float64    \u001b[0m\n",
       "─────┼────────────────────\n",
       "   1 │ Sally          1.0\n",
       "   2 │ Bob            5.0\n",
       "   3 │ Alice          8.5\n",
       "   4 │ Hank           4.0"
      ]
     },
     "execution_count": 71,
     "metadata": {},
     "output_type": "execute_result"
    }
   ],
   "source": [
    "grades_2020()"
   ]
  },
  {
   "cell_type": "markdown",
   "metadata": {},
   "source": [
    "### `.` 提取单列\n",
    "\n",
    "返回 Vector"
   ]
  },
  {
   "cell_type": "code",
   "execution_count": 72,
   "metadata": {},
   "outputs": [
    {
     "data": {
      "text/plain": [
       "4-element Vector{String}:\n",
       " \"Sally\"\n",
       " \"Bob\"\n",
       " \"Alice\"\n",
       " \"Hank\""
      ]
     },
     "execution_count": 72,
     "metadata": {},
     "output_type": "execute_result"
    }
   ],
   "source": [
    "grades_2020().name # 只是创建了链接到原始列的 view"
   ]
  },
  {
   "cell_type": "markdown",
   "metadata": {},
   "source": [
    "### 二维列选择器\n",
    "\n",
    "选择一列时返回 Vector\n",
    "\n",
    "多列时返回 DataFrame，而非 Matrix\n",
    "\n",
    "#### Symbol"
   ]
  },
  {
   "cell_type": "code",
   "execution_count": 141,
   "metadata": {},
   "outputs": [
    {
     "data": {
      "text/html": [
       "<div class=\"data-frame\"><p>4 rows × 2 columns</p><table class=\"data-frame\"><thead><tr><th></th><th>name</th><th>grade_2020</th></tr><tr><th></th><th title=\"String\">String</th><th title=\"Float64\">Float64</th></tr></thead><tbody><tr><th>1</th><td>Sally</td><td>1.0</td></tr><tr><th>2</th><td>Bob</td><td>5.0</td></tr><tr><th>3</th><td>Alice</td><td>8.5</td></tr><tr><th>4</th><td>Hank</td><td>4.0</td></tr></tbody></table></div>"
      ],
      "text/latex": [
       "\\begin{tabular}{r|cc}\n",
       "\t& name & grade\\_2020\\\\\n",
       "\t\\hline\n",
       "\t& String & Float64\\\\\n",
       "\t\\hline\n",
       "\t1 & Sally & 1.0 \\\\\n",
       "\t2 & Bob & 5.0 \\\\\n",
       "\t3 & Alice & 8.5 \\\\\n",
       "\t4 & Hank & 4.0 \\\\\n",
       "\\end{tabular}\n"
      ],
      "text/plain": [
       "\u001b[1m4×2 DataFrame\u001b[0m\n",
       "\u001b[1m Row \u001b[0m│\u001b[1m name   \u001b[0m\u001b[1m grade_2020 \u001b[0m\n",
       "\u001b[1m     \u001b[0m│\u001b[90m String \u001b[0m\u001b[90m Float64    \u001b[0m\n",
       "─────┼────────────────────\n",
       "   1 │ Sally          1.0\n",
       "   2 │ Bob            5.0\n",
       "   3 │ Alice          8.5\n",
       "   4 │ Hank           4.0"
      ]
     },
     "execution_count": 141,
     "metadata": {},
     "output_type": "execute_result"
    }
   ],
   "source": [
    "grades_2020()[!, [:name, :grade_2020]]"
   ]
  },
  {
   "cell_type": "markdown",
   "metadata": {},
   "source": [
    "#### String"
   ]
  },
  {
   "cell_type": "code",
   "execution_count": 85,
   "metadata": {},
   "outputs": [
    {
     "data": {
      "text/plain": [
       "4-element Vector{String}:\n",
       " \"Sally\"\n",
       " \"Bob\"\n",
       " \"Alice\"\n",
       " \"Hank\""
      ]
     },
     "execution_count": 85,
     "metadata": {},
     "output_type": "execute_result"
    }
   ],
   "source": [
    "grades_2020()[!, \"name\"]"
   ]
  },
  {
   "cell_type": "markdown",
   "metadata": {},
   "source": [
    "#### Int/Vector{Int}/Range/BitVector\n",
    "\n",
    "数字代表的都是列 index"
   ]
  },
  {
   "cell_type": "code",
   "execution_count": 110,
   "metadata": {},
   "outputs": [
    {
     "data": {
      "text/html": [
       "<div class=\"data-frame\"><p>4 rows × 2 columns</p><table class=\"data-frame\"><thead><tr><th></th><th>name</th><th>grade_2020</th></tr><tr><th></th><th title=\"String\">String</th><th title=\"Float64\">Float64</th></tr></thead><tbody><tr><th>1</th><td>Sally</td><td>1.0</td></tr><tr><th>2</th><td>Bob</td><td>5.0</td></tr><tr><th>3</th><td>Alice</td><td>8.5</td></tr><tr><th>4</th><td>Hank</td><td>4.0</td></tr></tbody></table></div>"
      ],
      "text/latex": [
       "\\begin{tabular}{r|cc}\n",
       "\t& name & grade\\_2020\\\\\n",
       "\t\\hline\n",
       "\t& String & Float64\\\\\n",
       "\t\\hline\n",
       "\t1 & Sally & 1.0 \\\\\n",
       "\t2 & Bob & 5.0 \\\\\n",
       "\t3 & Alice & 8.5 \\\\\n",
       "\t4 & Hank & 4.0 \\\\\n",
       "\\end{tabular}\n"
      ],
      "text/plain": [
       "\u001b[1m4×2 DataFrame\u001b[0m\n",
       "\u001b[1m Row \u001b[0m│\u001b[1m name   \u001b[0m\u001b[1m grade_2020 \u001b[0m\n",
       "\u001b[1m     \u001b[0m│\u001b[90m String \u001b[0m\u001b[90m Float64    \u001b[0m\n",
       "─────┼────────────────────\n",
       "   1 │ Sally          1.0\n",
       "   2 │ Bob            5.0\n",
       "   3 │ Alice          8.5\n",
       "   4 │ Hank           4.0"
      ]
     },
     "execution_count": 110,
     "metadata": {},
     "output_type": "execute_result"
    }
   ],
   "source": [
    "grades_2020()[!, 1:2]\n",
    "grades_2020()[!, [1, 2]]\n",
    "grades_2020()[!, <=(2).([1, 2])]"
   ]
  },
  {
   "cell_type": "markdown",
   "metadata": {},
   "source": [
    "#### `Not()`"
   ]
  },
  {
   "cell_type": "code",
   "execution_count": 122,
   "metadata": {},
   "outputs": [
    {
     "data": {
      "text/html": [
       "<div class=\"data-frame\"><p>4 rows × 1 columns</p><table class=\"data-frame\"><thead><tr><th></th><th>grade_2020</th></tr><tr><th></th><th title=\"Float64\">Float64</th></tr></thead><tbody><tr><th>1</th><td>1.0</td></tr><tr><th>2</th><td>5.0</td></tr><tr><th>3</th><td>8.5</td></tr><tr><th>4</th><td>4.0</td></tr></tbody></table></div>"
      ],
      "text/latex": [
       "\\begin{tabular}{r|c}\n",
       "\t& grade\\_2020\\\\\n",
       "\t\\hline\n",
       "\t& Float64\\\\\n",
       "\t\\hline\n",
       "\t1 & 1.0 \\\\\n",
       "\t2 & 5.0 \\\\\n",
       "\t3 & 8.5 \\\\\n",
       "\t4 & 4.0 \\\\\n",
       "\\end{tabular}\n"
      ],
      "text/plain": [
       "\u001b[1m4×1 DataFrame\u001b[0m\n",
       "\u001b[1m Row \u001b[0m│\u001b[1m grade_2020 \u001b[0m\n",
       "\u001b[1m     \u001b[0m│\u001b[90m Float64    \u001b[0m\n",
       "─────┼────────────\n",
       "   1 │        1.0\n",
       "   2 │        5.0\n",
       "   3 │        8.5\n",
       "   4 │        4.0"
      ]
     },
     "execution_count": 122,
     "metadata": {},
     "output_type": "execute_result"
    }
   ],
   "source": [
    "grades_2020()[!, Not(:name)]"
   ]
  },
  {
   "cell_type": "markdown",
   "metadata": {},
   "source": [
    "#### `Between()`"
   ]
  },
  {
   "cell_type": "code",
   "execution_count": 151,
   "metadata": {},
   "outputs": [
    {
     "data": {
      "text/html": [
       "<div class=\"data-frame\"><p>4 rows × 2 columns</p><table class=\"data-frame\"><thead><tr><th></th><th>name</th><th>grade_2020</th></tr><tr><th></th><th title=\"String\">String</th><th title=\"Float64\">Float64</th></tr></thead><tbody><tr><th>1</th><td>Sally</td><td>1.0</td></tr><tr><th>2</th><td>Bob</td><td>5.0</td></tr><tr><th>3</th><td>Alice</td><td>8.5</td></tr><tr><th>4</th><td>Hank</td><td>4.0</td></tr></tbody></table></div>"
      ],
      "text/latex": [
       "\\begin{tabular}{r|cc}\n",
       "\t& name & grade\\_2020\\\\\n",
       "\t\\hline\n",
       "\t& String & Float64\\\\\n",
       "\t\\hline\n",
       "\t1 & Sally & 1.0 \\\\\n",
       "\t2 & Bob & 5.0 \\\\\n",
       "\t3 & Alice & 8.5 \\\\\n",
       "\t4 & Hank & 4.0 \\\\\n",
       "\\end{tabular}\n"
      ],
      "text/plain": [
       "\u001b[1m4×2 DataFrame\u001b[0m\n",
       "\u001b[1m Row \u001b[0m│\u001b[1m name   \u001b[0m\u001b[1m grade_2020 \u001b[0m\n",
       "\u001b[1m     \u001b[0m│\u001b[90m String \u001b[0m\u001b[90m Float64    \u001b[0m\n",
       "─────┼────────────────────\n",
       "   1 │ Sally          1.0\n",
       "   2 │ Bob            5.0\n",
       "   3 │ Alice          8.5\n",
       "   4 │ Hank           4.0"
      ]
     },
     "execution_count": 151,
     "metadata": {},
     "output_type": "execute_result"
    }
   ],
   "source": [
    "grades_2020()[!, Between(:name, :grade_2020)]"
   ]
  },
  {
   "cell_type": "markdown",
   "metadata": {},
   "source": [
    "#### `:`\n",
    "\n",
    "表示所有列"
   ]
  },
  {
   "cell_type": "code",
   "execution_count": 135,
   "metadata": {},
   "outputs": [
    {
     "data": {
      "text/html": [
       "<div class=\"data-frame\"><p>4 rows × 2 columns</p><table class=\"data-frame\"><thead><tr><th></th><th>name</th><th>grade_2020</th></tr><tr><th></th><th title=\"String\">String</th><th title=\"Float64\">Float64</th></tr></thead><tbody><tr><th>1</th><td>Sally</td><td>1.0</td></tr><tr><th>2</th><td>Bob</td><td>5.0</td></tr><tr><th>3</th><td>Alice</td><td>8.5</td></tr><tr><th>4</th><td>Hank</td><td>4.0</td></tr></tbody></table></div>"
      ],
      "text/latex": [
       "\\begin{tabular}{r|cc}\n",
       "\t& name & grade\\_2020\\\\\n",
       "\t\\hline\n",
       "\t& String & Float64\\\\\n",
       "\t\\hline\n",
       "\t1 & Sally & 1.0 \\\\\n",
       "\t2 & Bob & 5.0 \\\\\n",
       "\t3 & Alice & 8.5 \\\\\n",
       "\t4 & Hank & 4.0 \\\\\n",
       "\\end{tabular}\n"
      ],
      "text/plain": [
       "\u001b[1m4×2 DataFrame\u001b[0m\n",
       "\u001b[1m Row \u001b[0m│\u001b[1m name   \u001b[0m\u001b[1m grade_2020 \u001b[0m\n",
       "\u001b[1m     \u001b[0m│\u001b[90m String \u001b[0m\u001b[90m Float64    \u001b[0m\n",
       "─────┼────────────────────\n",
       "   1 │ Sally          1.0\n",
       "   2 │ Bob            5.0\n",
       "   3 │ Alice          8.5\n",
       "   4 │ Hank           4.0"
      ]
     },
     "execution_count": 135,
     "metadata": {},
     "output_type": "execute_result"
    }
   ],
   "source": [
    "grades_2020()[!, :]"
   ]
  },
  {
   "cell_type": "markdown",
   "metadata": {},
   "source": [
    "### 二维行选择器\n",
    "\n",
    "#### BitVector"
   ]
  },
  {
   "cell_type": "code",
   "execution_count": 104,
   "metadata": {},
   "outputs": [
    {
     "data": {
      "text/html": [
       "<div class=\"data-frame\"><p>2 rows × 2 columns</p><table class=\"data-frame\"><thead><tr><th></th><th>name</th><th>grade_2020</th></tr><tr><th></th><th title=\"String\">String</th><th title=\"Float64\">Float64</th></tr></thead><tbody><tr><th>1</th><td>Bob</td><td>5.0</td></tr><tr><th>2</th><td>Alice</td><td>8.5</td></tr></tbody></table></div>"
      ],
      "text/latex": [
       "\\begin{tabular}{r|cc}\n",
       "\t& name & grade\\_2020\\\\\n",
       "\t\\hline\n",
       "\t& String & Float64\\\\\n",
       "\t\\hline\n",
       "\t1 & Bob & 5.0 \\\\\n",
       "\t2 & Alice & 8.5 \\\\\n",
       "\\end{tabular}\n"
      ],
      "text/plain": [
       "\u001b[1m2×2 DataFrame\u001b[0m\n",
       "\u001b[1m Row \u001b[0m│\u001b[1m name   \u001b[0m\u001b[1m grade_2020 \u001b[0m\n",
       "\u001b[1m     \u001b[0m│\u001b[90m String \u001b[0m\u001b[90m Float64    \u001b[0m\n",
       "─────┼────────────────────\n",
       "   1 │ Bob            5.0\n",
       "   2 │ Alice          8.5"
      ]
     },
     "execution_count": 104,
     "metadata": {},
     "output_type": "execute_result"
    }
   ],
   "source": [
    "grades_2020()[(x -> 2<=x<=3).(1:size(grades_2020(), 1)), :]"
   ]
  },
  {
   "cell_type": "markdown",
   "metadata": {},
   "source": [
    "#### Int/Vector{Int}/Range"
   ]
  },
  {
   "cell_type": "code",
   "execution_count": 105,
   "metadata": {},
   "outputs": [
    {
     "data": {
      "text/html": [
       "<div class=\"data-frame\"><p>2 rows × 2 columns</p><table class=\"data-frame\"><thead><tr><th></th><th>name</th><th>grade_2020</th></tr><tr><th></th><th title=\"String\">String</th><th title=\"Float64\">Float64</th></tr></thead><tbody><tr><th>1</th><td>Bob</td><td>5.0</td></tr><tr><th>2</th><td>Alice</td><td>8.5</td></tr></tbody></table></div>"
      ],
      "text/latex": [
       "\\begin{tabular}{r|cc}\n",
       "\t& name & grade\\_2020\\\\\n",
       "\t\\hline\n",
       "\t& String & Float64\\\\\n",
       "\t\\hline\n",
       "\t1 & Bob & 5.0 \\\\\n",
       "\t2 & Alice & 8.5 \\\\\n",
       "\\end{tabular}\n"
      ],
      "text/plain": [
       "\u001b[1m2×2 DataFrame\u001b[0m\n",
       "\u001b[1m Row \u001b[0m│\u001b[1m name   \u001b[0m\u001b[1m grade_2020 \u001b[0m\n",
       "\u001b[1m     \u001b[0m│\u001b[90m String \u001b[0m\u001b[90m Float64    \u001b[0m\n",
       "─────┼────────────────────\n",
       "   1 │ Bob            5.0\n",
       "   2 │ Alice          8.5"
      ]
     },
     "execution_count": 105,
     "metadata": {},
     "output_type": "execute_result"
    }
   ],
   "source": [
    "grades_2020()[[2, 3], :]"
   ]
  },
  {
   "cell_type": "code",
   "execution_count": 23,
   "metadata": {},
   "outputs": [
    {
     "data": {
      "text/plain": [
       "2-element Vector{String}:\n",
       " \"Sally\"\n",
       " \"Bob\""
      ]
     },
     "execution_count": 23,
     "metadata": {},
     "output_type": "execute_result"
    }
   ],
   "source": [
    "grades_2020()[1:2, :name]"
   ]
  },
  {
   "cell_type": "markdown",
   "metadata": {},
   "source": [
    "当某一列的元素不重复时，可以将 DataFrame 转化为 Dict，通过这一列（主键）获取其他列的值"
   ]
  },
  {
   "cell_type": "code",
   "execution_count": 24,
   "metadata": {},
   "outputs": [
    {
     "data": {
      "text/plain": [
       "5.0"
      ]
     },
     "execution_count": 24,
     "metadata": {},
     "output_type": "execute_result"
    }
   ],
   "source": [
    "function lookup_name(name::String)\n",
    "    df = grades_2020()\n",
    "    dic = Dict(zip(df.name, df.grade_2020))\n",
    "    dic[name]\n",
    "end\n",
    "\n",
    "lookup_name(\"Bob\")"
   ]
  },
  {
   "cell_type": "code",
   "execution_count": 25,
   "metadata": {},
   "outputs": [
    {
     "data": {
      "text/plain": [
       "4-element Vector{Tuple{String, Float64}}:\n",
       " (\"Sally\", 1.0)\n",
       " (\"Bob\", 5.0)\n",
       " (\"Alice\", 8.5)\n",
       " (\"Hank\", 4.0)"
      ]
     },
     "execution_count": 25,
     "metadata": {},
     "output_type": "execute_result"
    }
   ],
   "source": [
    "df = grades_2020()\n",
    "collect(zip(df.name, df.grade_2020))"
   ]
  },
  {
   "cell_type": "markdown",
   "metadata": {},
   "source": [
    "#### `Not()`\n",
    "\n",
    "用法同列情形，不赘述\n",
    "\n",
    "行选择器没有 `Between()` 语法，因为没必要，用 Range 即可"
   ]
  },
  {
   "cell_type": "code",
   "execution_count": 153,
   "metadata": {},
   "outputs": [
    {
     "data": {
      "text/html": [
       "<div class=\"data-frame\"><p>3 rows × 2 columns</p><table class=\"data-frame\"><thead><tr><th></th><th>name</th><th>grade_2020</th></tr><tr><th></th><th title=\"String\">String</th><th title=\"Float64\">Float64</th></tr></thead><tbody><tr><th>1</th><td>Sally</td><td>1.0</td></tr><tr><th>2</th><td>Alice</td><td>8.5</td></tr><tr><th>3</th><td>Hank</td><td>4.0</td></tr></tbody></table></div>"
      ],
      "text/latex": [
       "\\begin{tabular}{r|cc}\n",
       "\t& name & grade\\_2020\\\\\n",
       "\t\\hline\n",
       "\t& String & Float64\\\\\n",
       "\t\\hline\n",
       "\t1 & Sally & 1.0 \\\\\n",
       "\t2 & Alice & 8.5 \\\\\n",
       "\t3 & Hank & 4.0 \\\\\n",
       "\\end{tabular}\n"
      ],
      "text/plain": [
       "\u001b[1m3×2 DataFrame\u001b[0m\n",
       "\u001b[1m Row \u001b[0m│\u001b[1m name   \u001b[0m\u001b[1m grade_2020 \u001b[0m\n",
       "\u001b[1m     \u001b[0m│\u001b[90m String \u001b[0m\u001b[90m Float64    \u001b[0m\n",
       "─────┼────────────────────\n",
       "   1 │ Sally          1.0\n",
       "   2 │ Alice          8.5\n",
       "   3 │ Hank           4.0"
      ]
     },
     "execution_count": 153,
     "metadata": {},
     "output_type": "execute_result"
    }
   ],
   "source": [
    "grades_2020()[Not(2), :]"
   ]
  },
  {
   "cell_type": "markdown",
   "metadata": {},
   "source": [
    "#### `!`/`:`\n",
    "\n",
    "都表示所有行，其中 `!` 不像 `:` 拷贝了列，而是创建链接到原始列的 view，因此速度会更快"
   ]
  },
  {
   "cell_type": "code",
   "execution_count": 140,
   "metadata": {},
   "outputs": [
    {
     "data": {
      "text/html": [
       "<div class=\"data-frame\"><p>4 rows × 2 columns</p><table class=\"data-frame\"><thead><tr><th></th><th>name</th><th>grade_2020</th></tr><tr><th></th><th title=\"String\">String</th><th title=\"Float64\">Float64</th></tr></thead><tbody><tr><th>1</th><td>Sally</td><td>1.0</td></tr><tr><th>2</th><td>Bob</td><td>5.0</td></tr><tr><th>3</th><td>Alice</td><td>8.5</td></tr><tr><th>4</th><td>Hank</td><td>4.0</td></tr></tbody></table></div>"
      ],
      "text/latex": [
       "\\begin{tabular}{r|cc}\n",
       "\t& name & grade\\_2020\\\\\n",
       "\t\\hline\n",
       "\t& String & Float64\\\\\n",
       "\t\\hline\n",
       "\t1 & Sally & 1.0 \\\\\n",
       "\t2 & Bob & 5.0 \\\\\n",
       "\t3 & Alice & 8.5 \\\\\n",
       "\t4 & Hank & 4.0 \\\\\n",
       "\\end{tabular}\n"
      ],
      "text/plain": [
       "\u001b[1m4×2 DataFrame\u001b[0m\n",
       "\u001b[1m Row \u001b[0m│\u001b[1m name   \u001b[0m\u001b[1m grade_2020 \u001b[0m\n",
       "\u001b[1m     \u001b[0m│\u001b[90m String \u001b[0m\u001b[90m Float64    \u001b[0m\n",
       "─────┼────────────────────\n",
       "   1 │ Sally          1.0\n",
       "   2 │ Bob            5.0\n",
       "   3 │ Alice          8.5\n",
       "   4 │ Hank           4.0"
      ]
     },
     "execution_count": 140,
     "metadata": {},
     "output_type": "execute_result"
    }
   ],
   "source": [
    "grades_2020()[!, :]"
   ]
  },
  {
   "cell_type": "code",
   "execution_count": 142,
   "metadata": {},
   "outputs": [
    {
     "data": {
      "text/html": [
       "<div class=\"data-frame\"><p>3 rows × 2 columns</p><table class=\"data-frame\"><thead><tr><th></th><th>name</th><th>grade_2020</th></tr><tr><th></th><th title=\"String\">String</th><th title=\"Float64\">Float64</th></tr></thead><tbody><tr><th>1</th><td>Bob</td><td>5.0</td></tr><tr><th>2</th><td>Alice</td><td>8.5</td></tr><tr><th>3</th><td>Hank</td><td>4.0</td></tr></tbody></table></div>"
      ],
      "text/latex": [
       "\\begin{tabular}{r|cc}\n",
       "\t& name & grade\\_2020\\\\\n",
       "\t\\hline\n",
       "\t& String & Float64\\\\\n",
       "\t\\hline\n",
       "\t1 & Bob & 5.0 \\\\\n",
       "\t2 & Alice & 8.5 \\\\\n",
       "\t3 & Hank & 4.0 \\\\\n",
       "\\end{tabular}\n"
      ],
      "text/plain": [
       "\u001b[1m3×2 DataFrame\u001b[0m\n",
       "\u001b[1m Row \u001b[0m│\u001b[1m name   \u001b[0m\u001b[1m grade_2020 \u001b[0m\n",
       "\u001b[1m     \u001b[0m│\u001b[90m String \u001b[0m\u001b[90m Float64    \u001b[0m\n",
       "─────┼────────────────────\n",
       "   1 │ Bob            5.0\n",
       "   2 │ Alice          8.5\n",
       "   3 │ Hank           4.0"
      ]
     },
     "execution_count": 142,
     "metadata": {},
     "output_type": "execute_result"
    }
   ],
   "source": []
  },
  {
   "cell_type": "markdown",
   "metadata": {},
   "source": [
    "## 长宽数据转换"
   ]
  },
  {
   "cell_type": "markdown",
   "metadata": {},
   "source": [
    "### 宽转长 `stack()`\n",
    "\n",
    "```julia\n",
    "stack(df::AbstractDataFrame[, measure_vars[, id_vars]];\n",
    "    variable_name=:variable, \n",
    "    value_name=:value, \n",
    "    view::Bool=false, \n",
    "    variable_eltype::Type=String)\n",
    "```\n",
    "\n",
    "第三个参数 id_vars 可选，这一列作为 variable-value 的id"
   ]
  },
  {
   "cell_type": "code",
   "execution_count": 212,
   "metadata": {},
   "outputs": [
    {
     "data": {
      "text/html": [
       "<div class=\"data-frame\"><p>6 rows × 5 columns</p><table class=\"data-frame\"><thead><tr><th></th><th>a</th><th>b</th><th>c</th><th>d</th><th>e</th></tr><tr><th></th><th title=\"Int64\">Int64</th><th title=\"Int64\">Int64</th><th title=\"Int64\">Int64</th><th title=\"Int64\">Int64</th><th title=\"String\">String</th></tr></thead><tbody><tr><th>1</th><td>1</td><td>1</td><td>1</td><td>1</td><td>a</td></tr><tr><th>2</th><td>1</td><td>1</td><td>1</td><td>2</td><td>b</td></tr><tr><th>3</th><td>2</td><td>1</td><td>1</td><td>3</td><td>c</td></tr><tr><th>4</th><td>2</td><td>2</td><td>1</td><td>4</td><td>d</td></tr><tr><th>5</th><td>3</td><td>2</td><td>1</td><td>5</td><td>e</td></tr><tr><th>6</th><td>3</td><td>2</td><td>1</td><td>6</td><td>f</td></tr></tbody></table></div>"
      ],
      "text/latex": [
       "\\begin{tabular}{r|ccccc}\n",
       "\t& a & b & c & d & e\\\\\n",
       "\t\\hline\n",
       "\t& Int64 & Int64 & Int64 & Int64 & String\\\\\n",
       "\t\\hline\n",
       "\t1 & 1 & 1 & 1 & 1 & a \\\\\n",
       "\t2 & 1 & 1 & 1 & 2 & b \\\\\n",
       "\t3 & 2 & 1 & 1 & 3 & c \\\\\n",
       "\t4 & 2 & 2 & 1 & 4 & d \\\\\n",
       "\t5 & 3 & 2 & 1 & 5 & e \\\\\n",
       "\t6 & 3 & 2 & 1 & 6 & f \\\\\n",
       "\\end{tabular}\n"
      ],
      "text/plain": [
       "\u001b[1m6×5 DataFrame\u001b[0m\n",
       "\u001b[1m Row \u001b[0m│\u001b[1m a     \u001b[0m\u001b[1m b     \u001b[0m\u001b[1m c     \u001b[0m\u001b[1m d     \u001b[0m\u001b[1m e      \u001b[0m\n",
       "\u001b[1m     \u001b[0m│\u001b[90m Int64 \u001b[0m\u001b[90m Int64 \u001b[0m\u001b[90m Int64 \u001b[0m\u001b[90m Int64 \u001b[0m\u001b[90m String \u001b[0m\n",
       "─────┼────────────────────────────────────\n",
       "   1 │     1      1      1      1  a\n",
       "   2 │     1      1      1      2  b\n",
       "   3 │     2      1      1      3  c\n",
       "   4 │     2      2      1      4  d\n",
       "   5 │     3      2      1      5  e\n",
       "   6 │     3      2      1      6  f"
      ]
     },
     "execution_count": 212,
     "metadata": {},
     "output_type": "execute_result"
    }
   ],
   "source": [
    "df = DataFrame(a=repeat(1:3, inner=2),\n",
    "    b=repeat(1:2, inner=3),\n",
    "    c=repeat(1:1, inner=6),\n",
    "    d=repeat(1:6, inner=1),\n",
    "    e=string.('a':'f'))"
   ]
  },
  {
   "cell_type": "code",
   "execution_count": 213,
   "metadata": {},
   "outputs": [
    {
     "data": {
      "text/html": [
       "<div class=\"data-frame\"><p>12 rows × 5 columns</p><table class=\"data-frame\"><thead><tr><th></th><th>a</th><th>b</th><th>e</th><th>variable</th><th>value</th></tr><tr><th></th><th title=\"Int64\">Int64</th><th title=\"Int64\">Int64</th><th title=\"String\">String</th><th title=\"String\">String</th><th title=\"Int64\">Int64</th></tr></thead><tbody><tr><th>1</th><td>1</td><td>1</td><td>a</td><td>c</td><td>1</td></tr><tr><th>2</th><td>1</td><td>1</td><td>b</td><td>c</td><td>1</td></tr><tr><th>3</th><td>2</td><td>1</td><td>c</td><td>c</td><td>1</td></tr><tr><th>4</th><td>2</td><td>2</td><td>d</td><td>c</td><td>1</td></tr><tr><th>5</th><td>3</td><td>2</td><td>e</td><td>c</td><td>1</td></tr><tr><th>6</th><td>3</td><td>2</td><td>f</td><td>c</td><td>1</td></tr><tr><th>7</th><td>1</td><td>1</td><td>a</td><td>d</td><td>1</td></tr><tr><th>8</th><td>1</td><td>1</td><td>b</td><td>d</td><td>2</td></tr><tr><th>9</th><td>2</td><td>1</td><td>c</td><td>d</td><td>3</td></tr><tr><th>10</th><td>2</td><td>2</td><td>d</td><td>d</td><td>4</td></tr><tr><th>11</th><td>3</td><td>2</td><td>e</td><td>d</td><td>5</td></tr><tr><th>12</th><td>3</td><td>2</td><td>f</td><td>d</td><td>6</td></tr></tbody></table></div>"
      ],
      "text/latex": [
       "\\begin{tabular}{r|ccccc}\n",
       "\t& a & b & e & variable & value\\\\\n",
       "\t\\hline\n",
       "\t& Int64 & Int64 & String & String & Int64\\\\\n",
       "\t\\hline\n",
       "\t1 & 1 & 1 & a & c & 1 \\\\\n",
       "\t2 & 1 & 1 & b & c & 1 \\\\\n",
       "\t3 & 2 & 1 & c & c & 1 \\\\\n",
       "\t4 & 2 & 2 & d & c & 1 \\\\\n",
       "\t5 & 3 & 2 & e & c & 1 \\\\\n",
       "\t6 & 3 & 2 & f & c & 1 \\\\\n",
       "\t7 & 1 & 1 & a & d & 1 \\\\\n",
       "\t8 & 1 & 1 & b & d & 2 \\\\\n",
       "\t9 & 2 & 1 & c & d & 3 \\\\\n",
       "\t10 & 2 & 2 & d & d & 4 \\\\\n",
       "\t11 & 3 & 2 & e & d & 5 \\\\\n",
       "\t12 & 3 & 2 & f & d & 6 \\\\\n",
       "\\end{tabular}\n"
      ],
      "text/plain": [
       "\u001b[1m12×5 DataFrame\u001b[0m\n",
       "\u001b[1m Row \u001b[0m│\u001b[1m a     \u001b[0m\u001b[1m b     \u001b[0m\u001b[1m e      \u001b[0m\u001b[1m variable \u001b[0m\u001b[1m value \u001b[0m\n",
       "\u001b[1m     \u001b[0m│\u001b[90m Int64 \u001b[0m\u001b[90m Int64 \u001b[0m\u001b[90m String \u001b[0m\u001b[90m String   \u001b[0m\u001b[90m Int64 \u001b[0m\n",
       "─────┼───────────────────────────────────────\n",
       "   1 │     1      1  a       c             1\n",
       "   2 │     1      1  b       c             1\n",
       "   3 │     2      1  c       c             1\n",
       "   4 │     2      2  d       c             1\n",
       "   5 │     3      2  e       c             1\n",
       "   6 │     3      2  f       c             1\n",
       "   7 │     1      1  a       d             1\n",
       "   8 │     1      1  b       d             2\n",
       "   9 │     2      1  c       d             3\n",
       "  10 │     2      2  d       d             4\n",
       "  11 │     3      2  e       d             5\n",
       "  12 │     3      2  f       d             6"
      ]
     },
     "execution_count": 213,
     "metadata": {},
     "output_type": "execute_result"
    }
   ],
   "source": [
    "stack(df, [:c, :d])"
   ]
  },
  {
   "cell_type": "code",
   "execution_count": 214,
   "metadata": {},
   "outputs": [
    {
     "data": {
      "text/html": [
       "<div class=\"data-frame\"><p>12 rows × 3 columns</p><table class=\"data-frame\"><thead><tr><th></th><th>a</th><th>variable</th><th>value</th></tr><tr><th></th><th title=\"Int64\">Int64</th><th title=\"String\">String</th><th title=\"Int64\">Int64</th></tr></thead><tbody><tr><th>1</th><td>1</td><td>c</td><td>1</td></tr><tr><th>2</th><td>1</td><td>c</td><td>1</td></tr><tr><th>3</th><td>2</td><td>c</td><td>1</td></tr><tr><th>4</th><td>2</td><td>c</td><td>1</td></tr><tr><th>5</th><td>3</td><td>c</td><td>1</td></tr><tr><th>6</th><td>3</td><td>c</td><td>1</td></tr><tr><th>7</th><td>1</td><td>d</td><td>1</td></tr><tr><th>8</th><td>1</td><td>d</td><td>2</td></tr><tr><th>9</th><td>2</td><td>d</td><td>3</td></tr><tr><th>10</th><td>2</td><td>d</td><td>4</td></tr><tr><th>11</th><td>3</td><td>d</td><td>5</td></tr><tr><th>12</th><td>3</td><td>d</td><td>6</td></tr></tbody></table></div>"
      ],
      "text/latex": [
       "\\begin{tabular}{r|ccc}\n",
       "\t& a & variable & value\\\\\n",
       "\t\\hline\n",
       "\t& Int64 & String & Int64\\\\\n",
       "\t\\hline\n",
       "\t1 & 1 & c & 1 \\\\\n",
       "\t2 & 1 & c & 1 \\\\\n",
       "\t3 & 2 & c & 1 \\\\\n",
       "\t4 & 2 & c & 1 \\\\\n",
       "\t5 & 3 & c & 1 \\\\\n",
       "\t6 & 3 & c & 1 \\\\\n",
       "\t7 & 1 & d & 1 \\\\\n",
       "\t8 & 1 & d & 2 \\\\\n",
       "\t9 & 2 & d & 3 \\\\\n",
       "\t10 & 2 & d & 4 \\\\\n",
       "\t11 & 3 & d & 5 \\\\\n",
       "\t12 & 3 & d & 6 \\\\\n",
       "\\end{tabular}\n"
      ],
      "text/plain": [
       "\u001b[1m12×3 DataFrame\u001b[0m\n",
       "\u001b[1m Row \u001b[0m│\u001b[1m a     \u001b[0m\u001b[1m variable \u001b[0m\u001b[1m value \u001b[0m\n",
       "\u001b[1m     \u001b[0m│\u001b[90m Int64 \u001b[0m\u001b[90m String   \u001b[0m\u001b[90m Int64 \u001b[0m\n",
       "─────┼────────────────────────\n",
       "   1 │     1  c             1\n",
       "   2 │     1  c             1\n",
       "   3 │     2  c             1\n",
       "   4 │     2  c             1\n",
       "   5 │     3  c             1\n",
       "   6 │     3  c             1\n",
       "   7 │     1  d             1\n",
       "   8 │     1  d             2\n",
       "   9 │     2  d             3\n",
       "  10 │     2  d             4\n",
       "  11 │     3  d             5\n",
       "  12 │     3  d             6"
      ]
     },
     "execution_count": 214,
     "metadata": {},
     "output_type": "execute_result"
    }
   ],
   "source": [
    "stack(df, [:c, :d], [:a]) # 丢掉 variable, value, id 以外的变量"
   ]
  },
  {
   "cell_type": "code",
   "execution_count": 215,
   "metadata": {},
   "outputs": [
    {
     "data": {
      "text/html": [
       "<div class=\"data-frame\"><p>12 rows × 5 columns</p><table class=\"data-frame\"><thead><tr><th></th><th>a</th><th>b</th><th>e</th><th>variable</th><th>value</th></tr><tr><th></th><th title=\"Int64\">Int64</th><th title=\"Int64\">Int64</th><th title=\"String\">String</th><th title=\"String\">String</th><th title=\"Int64\">Int64</th></tr></thead><tbody><tr><th>1</th><td>1</td><td>1</td><td>a</td><td>c</td><td>1</td></tr><tr><th>2</th><td>1</td><td>1</td><td>b</td><td>c</td><td>1</td></tr><tr><th>3</th><td>2</td><td>1</td><td>c</td><td>c</td><td>1</td></tr><tr><th>4</th><td>2</td><td>2</td><td>d</td><td>c</td><td>1</td></tr><tr><th>5</th><td>3</td><td>2</td><td>e</td><td>c</td><td>1</td></tr><tr><th>6</th><td>3</td><td>2</td><td>f</td><td>c</td><td>1</td></tr><tr><th>7</th><td>1</td><td>1</td><td>a</td><td>d</td><td>1</td></tr><tr><th>8</th><td>1</td><td>1</td><td>b</td><td>d</td><td>2</td></tr><tr><th>9</th><td>2</td><td>1</td><td>c</td><td>d</td><td>3</td></tr><tr><th>10</th><td>2</td><td>2</td><td>d</td><td>d</td><td>4</td></tr><tr><th>11</th><td>3</td><td>2</td><td>e</td><td>d</td><td>5</td></tr><tr><th>12</th><td>3</td><td>2</td><td>f</td><td>d</td><td>6</td></tr></tbody></table></div>"
      ],
      "text/latex": [
       "\\begin{tabular}{r|ccccc}\n",
       "\t& a & b & e & variable & value\\\\\n",
       "\t\\hline\n",
       "\t& Int64 & Int64 & String & String & Int64\\\\\n",
       "\t\\hline\n",
       "\t1 & 1 & 1 & a & c & 1 \\\\\n",
       "\t2 & 1 & 1 & b & c & 1 \\\\\n",
       "\t3 & 2 & 1 & c & c & 1 \\\\\n",
       "\t4 & 2 & 2 & d & c & 1 \\\\\n",
       "\t5 & 3 & 2 & e & c & 1 \\\\\n",
       "\t6 & 3 & 2 & f & c & 1 \\\\\n",
       "\t7 & 1 & 1 & a & d & 1 \\\\\n",
       "\t8 & 1 & 1 & b & d & 2 \\\\\n",
       "\t9 & 2 & 1 & c & d & 3 \\\\\n",
       "\t10 & 2 & 2 & d & d & 4 \\\\\n",
       "\t11 & 3 & 2 & e & d & 5 \\\\\n",
       "\t12 & 3 & 2 & f & d & 6 \\\\\n",
       "\\end{tabular}\n"
      ],
      "text/plain": [
       "\u001b[1m12×5 DataFrame\u001b[0m\n",
       "\u001b[1m Row \u001b[0m│\u001b[1m a     \u001b[0m\u001b[1m b     \u001b[0m\u001b[1m e      \u001b[0m\u001b[1m variable \u001b[0m\u001b[1m value \u001b[0m\n",
       "\u001b[1m     \u001b[0m│\u001b[90m Int64 \u001b[0m\u001b[90m Int64 \u001b[0m\u001b[90m String \u001b[0m\u001b[90m String   \u001b[0m\u001b[90m Int64 \u001b[0m\n",
       "─────┼───────────────────────────────────────\n",
       "   1 │     1      1  a       c             1\n",
       "   2 │     1      1  b       c             1\n",
       "   3 │     2      1  c       c             1\n",
       "   4 │     2      2  d       c             1\n",
       "   5 │     3      2  e       c             1\n",
       "   6 │     3      2  f       c             1\n",
       "   7 │     1      1  a       d             1\n",
       "   8 │     1      1  b       d             2\n",
       "   9 │     2      1  c       d             3\n",
       "  10 │     2      2  d       d             4\n",
       "  11 │     3      2  e       d             5\n",
       "  12 │     3      2  f       d             6"
      ]
     },
     "execution_count": 215,
     "metadata": {},
     "output_type": "execute_result"
    }
   ],
   "source": [
    "stack(df, Not([:a, :b, :e]))"
   ]
  },
  {
   "cell_type": "code",
   "execution_count": 217,
   "metadata": {},
   "outputs": [
    {
     "data": {
      "text/html": [
       "<div class=\"data-frame\"><p>12 rows × 5 columns</p><table class=\"data-frame\"><thead><tr><th></th><th>a</th><th>b</th><th>e</th><th>somemeasure</th><th>value</th></tr><tr><th></th><th title=\"Int64\">Int64</th><th title=\"Int64\">Int64</th><th title=\"String\">String</th><th title=\"String\">String</th><th title=\"Int64\">Int64</th></tr></thead><tbody><tr><th>1</th><td>1</td><td>1</td><td>a</td><td>c</td><td>1</td></tr><tr><th>2</th><td>1</td><td>1</td><td>b</td><td>c</td><td>1</td></tr><tr><th>3</th><td>2</td><td>1</td><td>c</td><td>c</td><td>1</td></tr><tr><th>4</th><td>2</td><td>2</td><td>d</td><td>c</td><td>1</td></tr><tr><th>5</th><td>3</td><td>2</td><td>e</td><td>c</td><td>1</td></tr><tr><th>6</th><td>3</td><td>2</td><td>f</td><td>c</td><td>1</td></tr><tr><th>7</th><td>1</td><td>1</td><td>a</td><td>d</td><td>1</td></tr><tr><th>8</th><td>1</td><td>1</td><td>b</td><td>d</td><td>2</td></tr><tr><th>9</th><td>2</td><td>1</td><td>c</td><td>d</td><td>3</td></tr><tr><th>10</th><td>2</td><td>2</td><td>d</td><td>d</td><td>4</td></tr><tr><th>11</th><td>3</td><td>2</td><td>e</td><td>d</td><td>5</td></tr><tr><th>12</th><td>3</td><td>2</td><td>f</td><td>d</td><td>6</td></tr></tbody></table></div>"
      ],
      "text/latex": [
       "\\begin{tabular}{r|ccccc}\n",
       "\t& a & b & e & somemeasure & value\\\\\n",
       "\t\\hline\n",
       "\t& Int64 & Int64 & String & String & Int64\\\\\n",
       "\t\\hline\n",
       "\t1 & 1 & 1 & a & c & 1 \\\\\n",
       "\t2 & 1 & 1 & b & c & 1 \\\\\n",
       "\t3 & 2 & 1 & c & c & 1 \\\\\n",
       "\t4 & 2 & 2 & d & c & 1 \\\\\n",
       "\t5 & 3 & 2 & e & c & 1 \\\\\n",
       "\t6 & 3 & 2 & f & c & 1 \\\\\n",
       "\t7 & 1 & 1 & a & d & 1 \\\\\n",
       "\t8 & 1 & 1 & b & d & 2 \\\\\n",
       "\t9 & 2 & 1 & c & d & 3 \\\\\n",
       "\t10 & 2 & 2 & d & d & 4 \\\\\n",
       "\t11 & 3 & 2 & e & d & 5 \\\\\n",
       "\t12 & 3 & 2 & f & d & 6 \\\\\n",
       "\\end{tabular}\n"
      ],
      "text/plain": [
       "\u001b[1m12×5 DataFrame\u001b[0m\n",
       "\u001b[1m Row \u001b[0m│\u001b[1m a     \u001b[0m\u001b[1m b     \u001b[0m\u001b[1m e      \u001b[0m\u001b[1m somemeasure \u001b[0m\u001b[1m value \u001b[0m\n",
       "\u001b[1m     \u001b[0m│\u001b[90m Int64 \u001b[0m\u001b[90m Int64 \u001b[0m\u001b[90m String \u001b[0m\u001b[90m String      \u001b[0m\u001b[90m Int64 \u001b[0m\n",
       "─────┼──────────────────────────────────────────\n",
       "   1 │     1      1  a       c                1\n",
       "   2 │     1      1  b       c                1\n",
       "   3 │     2      1  c       c                1\n",
       "   4 │     2      2  d       c                1\n",
       "   5 │     3      2  e       c                1\n",
       "   6 │     3      2  f       c                1\n",
       "   7 │     1      1  a       d                1\n",
       "   8 │     1      1  b       d                2\n",
       "   9 │     2      1  c       d                3\n",
       "  10 │     2      2  d       d                4\n",
       "  11 │     3      2  e       d                5\n",
       "  12 │     3      2  f       d                6"
      ]
     },
     "execution_count": 217,
     "metadata": {},
     "output_type": "execute_result"
    }
   ],
   "source": [
    "sdf = stack(df, Not([:a, :b, :e]), variable_name=:somemeasure)"
   ]
  },
  {
   "cell_type": "markdown",
   "metadata": {},
   "source": [
    "### 长转宽 `unstack()`\n",
    "\n",
    "```\n",
    "unstack(df::AbstractDataFrame, rowkeys, colkey, value; \n",
    "    renamecols::Function=identity, allowmissing::Bool=false, allowduplicates::Bool=false, fill=missing)\n",
    "\n",
    "unstack(df::AbstractDataFrame, colkey, value; \n",
    "    renamecols::Function=identity, allowmissing::Bool=false, allowduplicates::Bool=false, fill=missing)\n",
    "\n",
    "unstack(df::AbstractDataFrame; \n",
    "    renamecols::Function=identity, allowmissing::Bool=false, allowduplicates::Bool=false, fill=missing)\n",
    "```"
   ]
  },
  {
   "cell_type": "code",
   "execution_count": 218,
   "metadata": {},
   "outputs": [
    {
     "data": {
      "text/html": [
       "<div class=\"data-frame\"><p>6 rows × 5 columns</p><table class=\"data-frame\"><thead><tr><th></th><th>a</th><th>b</th><th>e</th><th>c</th><th>d</th></tr><tr><th></th><th title=\"Int64\">Int64</th><th title=\"Int64\">Int64</th><th title=\"String\">String</th><th title=\"Union{Missing, Int64}\">Int64?</th><th title=\"Union{Missing, Int64}\">Int64?</th></tr></thead><tbody><tr><th>1</th><td>1</td><td>1</td><td>a</td><td>1</td><td>1</td></tr><tr><th>2</th><td>1</td><td>1</td><td>b</td><td>1</td><td>2</td></tr><tr><th>3</th><td>2</td><td>1</td><td>c</td><td>1</td><td>3</td></tr><tr><th>4</th><td>2</td><td>2</td><td>d</td><td>1</td><td>4</td></tr><tr><th>5</th><td>3</td><td>2</td><td>e</td><td>1</td><td>5</td></tr><tr><th>6</th><td>3</td><td>2</td><td>f</td><td>1</td><td>6</td></tr></tbody></table></div>"
      ],
      "text/latex": [
       "\\begin{tabular}{r|ccccc}\n",
       "\t& a & b & e & c & d\\\\\n",
       "\t\\hline\n",
       "\t& Int64 & Int64 & String & Int64? & Int64?\\\\\n",
       "\t\\hline\n",
       "\t1 & 1 & 1 & a & 1 & 1 \\\\\n",
       "\t2 & 1 & 1 & b & 1 & 2 \\\\\n",
       "\t3 & 2 & 1 & c & 1 & 3 \\\\\n",
       "\t4 & 2 & 2 & d & 1 & 4 \\\\\n",
       "\t5 & 3 & 2 & e & 1 & 5 \\\\\n",
       "\t6 & 3 & 2 & f & 1 & 6 \\\\\n",
       "\\end{tabular}\n"
      ],
      "text/plain": [
       "\u001b[1m6×5 DataFrame\u001b[0m\n",
       "\u001b[1m Row \u001b[0m│\u001b[1m a     \u001b[0m\u001b[1m b     \u001b[0m\u001b[1m e      \u001b[0m\u001b[1m c      \u001b[0m\u001b[1m d      \u001b[0m\n",
       "\u001b[1m     \u001b[0m│\u001b[90m Int64 \u001b[0m\u001b[90m Int64 \u001b[0m\u001b[90m String \u001b[0m\u001b[90m Int64? \u001b[0m\u001b[90m Int64? \u001b[0m\n",
       "─────┼──────────────────────────────────────\n",
       "   1 │     1      1  a            1       1\n",
       "   2 │     1      1  b            1       2\n",
       "   3 │     2      1  c            1       3\n",
       "   4 │     2      2  d            1       4\n",
       "   5 │     3      2  e            1       5\n",
       "   6 │     3      2  f            1       6"
      ]
     },
     "execution_count": 218,
     "metadata": {},
     "output_type": "execute_result"
    }
   ],
   "source": [
    "unstack(sdf, :somemeasure, :value)"
   ]
  },
  {
   "cell_type": "markdown",
   "metadata": {},
   "source": [
    "长转宽有可能出现缺失值，fill 参数决定用什么补充，"
   ]
  },
  {
   "cell_type": "code",
   "execution_count": 219,
   "metadata": {},
   "outputs": [
    {
     "data": {
      "text/html": [
       "<div class=\"data-frame\"><p>3 rows × 3 columns</p><table class=\"data-frame\"><thead><tr><th></th><th>id</th><th>variable</th><th>value</th></tr><tr><th></th><th title=\"String\">String</th><th title=\"String\">String</th><th title=\"Int64\">Int64</th></tr></thead><tbody><tr><th>1</th><td>1</td><td>Var1</td><td>1</td></tr><tr><th>2</th><td>1</td><td>Var2</td><td>2</td></tr><tr><th>3</th><td>2</td><td>Var1</td><td>3</td></tr></tbody></table></div>"
      ],
      "text/latex": [
       "\\begin{tabular}{r|ccc}\n",
       "\t& id & variable & value\\\\\n",
       "\t\\hline\n",
       "\t& String & String & Int64\\\\\n",
       "\t\\hline\n",
       "\t1 & 1 & Var1 & 1 \\\\\n",
       "\t2 & 1 & Var2 & 2 \\\\\n",
       "\t3 & 2 & Var1 & 3 \\\\\n",
       "\\end{tabular}\n"
      ],
      "text/plain": [
       "\u001b[1m3×3 DataFrame\u001b[0m\n",
       "\u001b[1m Row \u001b[0m│\u001b[1m id     \u001b[0m\u001b[1m variable \u001b[0m\u001b[1m value \u001b[0m\n",
       "\u001b[1m     \u001b[0m│\u001b[90m String \u001b[0m\u001b[90m String   \u001b[0m\u001b[90m Int64 \u001b[0m\n",
       "─────┼─────────────────────────\n",
       "   1 │ 1       Var1          1\n",
       "   2 │ 1       Var2          2\n",
       "   3 │ 2       Var1          3"
      ]
     },
     "execution_count": 219,
     "metadata": {},
     "output_type": "execute_result"
    }
   ],
   "source": [
    "df = DataFrame(id=[\"1\", \"1\", \"2\"],\n",
    "    variable=[\"Var1\", \"Var2\", \"Var1\"],\n",
    "    value=[1, 2, 3])"
   ]
  },
  {
   "cell_type": "code",
   "execution_count": 226,
   "metadata": {},
   "outputs": [
    {
     "data": {
      "text/html": [
       "<div class=\"data-frame\"><p>2 rows × 3 columns</p><table class=\"data-frame\"><thead><tr><th></th><th>id</th><th>Var1</th><th>Var2</th></tr><tr><th></th><th title=\"String\">String</th><th title=\"Union{Missing, Int64}\">Int64?</th><th title=\"Union{Missing, Int64}\">Int64?</th></tr></thead><tbody><tr><th>1</th><td>1</td><td>1</td><td>2</td></tr><tr><th>2</th><td>2</td><td>3</td><td><em>missing</em></td></tr></tbody></table></div>"
      ],
      "text/latex": [
       "\\begin{tabular}{r|ccc}\n",
       "\t& id & Var1 & Var2\\\\\n",
       "\t\\hline\n",
       "\t& String & Int64? & Int64?\\\\\n",
       "\t\\hline\n",
       "\t1 & 1 & 1 & 2 \\\\\n",
       "\t2 & 2 & 3 & \\emph{missing} \\\\\n",
       "\\end{tabular}\n"
      ],
      "text/plain": [
       "\u001b[1m2×3 DataFrame\u001b[0m\n",
       "\u001b[1m Row \u001b[0m│\u001b[1m id     \u001b[0m\u001b[1m Var1   \u001b[0m\u001b[1m Var2    \u001b[0m\n",
       "\u001b[1m     \u001b[0m│\u001b[90m String \u001b[0m\u001b[90m Int64? \u001b[0m\u001b[90m Int64?  \u001b[0m\n",
       "─────┼─────────────────────────\n",
       "   1 │ 1            1        2\n",
       "   2 │ 2            3 \u001b[90m missing \u001b[0m"
      ]
     },
     "execution_count": 226,
     "metadata": {},
     "output_type": "execute_result"
    }
   ],
   "source": [
    "df2 = unstack(df, :variable, :value)"
   ]
  },
  {
   "cell_type": "code",
   "execution_count": 223,
   "metadata": {},
   "outputs": [
    {
     "data": {
      "text/html": [
       "<div class=\"data-frame\"><p>2 rows × 3 columns</p><table class=\"data-frame\"><thead><tr><th></th><th>id</th><th>Var1</th><th>Var2</th></tr><tr><th></th><th title=\"String\">String</th><th title=\"Int64\">Int64</th><th title=\"Int64\">Int64</th></tr></thead><tbody><tr><th>1</th><td>1</td><td>1</td><td>2</td></tr><tr><th>2</th><td>2</td><td>3</td><td>0</td></tr></tbody></table></div>"
      ],
      "text/latex": [
       "\\begin{tabular}{r|ccc}\n",
       "\t& id & Var1 & Var2\\\\\n",
       "\t\\hline\n",
       "\t& String & Int64 & Int64\\\\\n",
       "\t\\hline\n",
       "\t1 & 1 & 1 & 2 \\\\\n",
       "\t2 & 2 & 3 & 0 \\\\\n",
       "\\end{tabular}\n"
      ],
      "text/plain": [
       "\u001b[1m2×3 DataFrame\u001b[0m\n",
       "\u001b[1m Row \u001b[0m│\u001b[1m id     \u001b[0m\u001b[1m Var1  \u001b[0m\u001b[1m Var2  \u001b[0m\n",
       "\u001b[1m     \u001b[0m│\u001b[90m String \u001b[0m\u001b[90m Int64 \u001b[0m\u001b[90m Int64 \u001b[0m\n",
       "─────┼──────────────────────\n",
       "   1 │ 1           1      2\n",
       "   2 │ 2           3      0"
      ]
     },
     "execution_count": 223,
     "metadata": {},
     "output_type": "execute_result"
    }
   ],
   "source": [
    "df2 = unstack(df, :variable, :value, fill = 0)"
   ]
  },
  {
   "cell_type": "markdown",
   "metadata": {
    "tags": []
   },
   "source": [
    "## 筛选行"
   ]
  },
  {
   "cell_type": "markdown",
   "metadata": {},
   "source": [
    "### 去掉带有缺失值的行\n",
    "\n",
    "- `dropmissing(df::AbstractDataFrame, cols=:; disallowmissing::Bool=true)`，copy 了一份\n",
    "- `dropmissing!(df::AbstractDataFrame, cols=:; disallowmissing::Bool=true)`，改变了元数据\n",
    "    - `dropmissing!(copy(df))`，不会改变元数据"
   ]
  },
  {
   "cell_type": "markdown",
   "metadata": {},
   "source": [
    "### Filter\n",
    "\n",
    "`filter(source => f::Function, df)` 筛选 source 列满足条件的行\n",
    "\n",
    "f 是单体函数，依次作用于 source 列的每个元素上"
   ]
  },
  {
   "cell_type": "code",
   "execution_count": 26,
   "metadata": {},
   "outputs": [
    {
     "data": {
      "text/html": [
       "<div class=\"data-frame\"><p>1 rows × 2 columns</p><table class=\"data-frame\"><thead><tr><th></th><th>name</th><th>grade_2020</th></tr><tr><th></th><th title=\"String\">String</th><th title=\"Float64\">Float64</th></tr></thead><tbody><tr><th>1</th><td>Alice</td><td>8.5</td></tr></tbody></table></div>"
      ],
      "text/latex": [
       "\\begin{tabular}{r|cc}\n",
       "\t& name & grade\\_2020\\\\\n",
       "\t\\hline\n",
       "\t& String & Float64\\\\\n",
       "\t\\hline\n",
       "\t1 & Alice & 8.5 \\\\\n",
       "\\end{tabular}\n"
      ],
      "text/plain": [
       "\u001b[1m1×2 DataFrame\u001b[0m\n",
       "\u001b[1m Row \u001b[0m│\u001b[1m name   \u001b[0m\u001b[1m grade_2020 \u001b[0m\n",
       "\u001b[1m     \u001b[0m│\u001b[90m String \u001b[0m\u001b[90m Float64    \u001b[0m\n",
       "─────┼────────────────────\n",
       "   1 │ Alice          8.5"
      ]
     },
     "execution_count": 26,
     "metadata": {},
     "output_type": "execute_result"
    }
   ],
   "source": [
    "equals_alice(name::String) = name == \"Alice\"\n",
    "filter(:name => equals_alice, grades_2020())"
   ]
  },
  {
   "cell_type": "code",
   "execution_count": 27,
   "metadata": {},
   "outputs": [
    {
     "data": {
      "text/html": [
       "<div class=\"data-frame\"><p>1 rows × 2 columns</p><table class=\"data-frame\"><thead><tr><th></th><th>name</th><th>grade_2020</th></tr><tr><th></th><th title=\"String\">String</th><th title=\"Float64\">Float64</th></tr></thead><tbody><tr><th>1</th><td>Alice</td><td>8.5</td></tr></tbody></table></div>"
      ],
      "text/latex": [
       "\\begin{tabular}{r|cc}\n",
       "\t& name & grade\\_2020\\\\\n",
       "\t\\hline\n",
       "\t& String & Float64\\\\\n",
       "\t\\hline\n",
       "\t1 & Alice & 8.5 \\\\\n",
       "\\end{tabular}\n"
      ],
      "text/plain": [
       "\u001b[1m1×2 DataFrame\u001b[0m\n",
       "\u001b[1m Row \u001b[0m│\u001b[1m name   \u001b[0m\u001b[1m grade_2020 \u001b[0m\n",
       "\u001b[1m     \u001b[0m│\u001b[90m String \u001b[0m\u001b[90m Float64    \u001b[0m\n",
       "─────┼────────────────────\n",
       "   1 │ Alice          8.5"
      ]
     },
     "execution_count": 27,
     "metadata": {},
     "output_type": "execute_result"
    }
   ],
   "source": [
    "filter(:name => n -> n == \"Alice\", grades_2020()) # 等价写法"
   ]
  },
  {
   "cell_type": "code",
   "execution_count": 28,
   "metadata": {},
   "outputs": [
    {
     "data": {
      "text/html": [
       "<div class=\"data-frame\"><p>1 rows × 2 columns</p><table class=\"data-frame\"><thead><tr><th></th><th>name</th><th>grade_2020</th></tr><tr><th></th><th title=\"String\">String</th><th title=\"Float64\">Float64</th></tr></thead><tbody><tr><th>1</th><td>Alice</td><td>8.5</td></tr></tbody></table></div>"
      ],
      "text/latex": [
       "\\begin{tabular}{r|cc}\n",
       "\t& name & grade\\_2020\\\\\n",
       "\t\\hline\n",
       "\t& String & Float64\\\\\n",
       "\t\\hline\n",
       "\t1 & Alice & 8.5 \\\\\n",
       "\\end{tabular}\n"
      ],
      "text/plain": [
       "\u001b[1m1×2 DataFrame\u001b[0m\n",
       "\u001b[1m Row \u001b[0m│\u001b[1m name   \u001b[0m\u001b[1m grade_2020 \u001b[0m\n",
       "\u001b[1m     \u001b[0m│\u001b[90m String \u001b[0m\u001b[90m Float64    \u001b[0m\n",
       "─────┼────────────────────\n",
       "   1 │ Alice          8.5"
      ]
     },
     "execution_count": 28,
     "metadata": {},
     "output_type": "execute_result"
    }
   ],
   "source": [
    "filter(:name => ==(\"Alice\"), grades_2020()) # 等价写法，缩写了匿名函数"
   ]
  },
  {
   "cell_type": "markdown",
   "metadata": {},
   "source": [
    "### subset\n",
    "\n",
    "定义这个函数是为了与 DataFrames 中的其他函数保持风格上的一致，第一个参数是 df\n",
    "\n",
    "`subset(df, source => f)` 中的 f **接收整个 source 列**，返回 AbstractVector（元素为 Bool 或 Bit）  \n",
    "`subset(df, source => ByRow(f))` 中的 f 为单体函数"
   ]
  },
  {
   "cell_type": "code",
   "execution_count": 29,
   "metadata": {},
   "outputs": [
    {
     "data": {
      "text/html": [
       "<div class=\"data-frame\"><p>1 rows × 2 columns</p><table class=\"data-frame\"><thead><tr><th></th><th>name</th><th>grade_2020</th></tr><tr><th></th><th title=\"String\">String</th><th title=\"Float64\">Float64</th></tr></thead><tbody><tr><th>1</th><td>Alice</td><td>8.5</td></tr></tbody></table></div>"
      ],
      "text/latex": [
       "\\begin{tabular}{r|cc}\n",
       "\t& name & grade\\_2020\\\\\n",
       "\t\\hline\n",
       "\t& String & Float64\\\\\n",
       "\t\\hline\n",
       "\t1 & Alice & 8.5 \\\\\n",
       "\\end{tabular}\n"
      ],
      "text/plain": [
       "\u001b[1m1×2 DataFrame\u001b[0m\n",
       "\u001b[1m Row \u001b[0m│\u001b[1m name   \u001b[0m\u001b[1m grade_2020 \u001b[0m\n",
       "\u001b[1m     \u001b[0m│\u001b[90m String \u001b[0m\u001b[90m Float64    \u001b[0m\n",
       "─────┼────────────────────\n",
       "   1 │ Alice          8.5"
      ]
     },
     "execution_count": 29,
     "metadata": {},
     "output_type": "execute_result"
    }
   ],
   "source": [
    "subset(grades_2020(), :name => ByRow(==(\"Alice\")))"
   ]
  },
  {
   "cell_type": "code",
   "execution_count": 52,
   "metadata": {},
   "outputs": [
    {
     "data": {
      "text/html": [
       "<div class=\"data-frame\"><p>1 rows × 2 columns</p><table class=\"data-frame\"><thead><tr><th></th><th>name</th><th>grade_2020</th></tr><tr><th></th><th title=\"String\">String</th><th title=\"Float64\">Float64</th></tr></thead><tbody><tr><th>1</th><td>Alice</td><td>8.5</td></tr></tbody></table></div>"
      ],
      "text/latex": [
       "\\begin{tabular}{r|cc}\n",
       "\t& name & grade\\_2020\\\\\n",
       "\t\\hline\n",
       "\t& String & Float64\\\\\n",
       "\t\\hline\n",
       "\t1 & Alice & 8.5 \\\\\n",
       "\\end{tabular}\n"
      ],
      "text/plain": [
       "\u001b[1m1×2 DataFrame\u001b[0m\n",
       "\u001b[1m Row \u001b[0m│\u001b[1m name   \u001b[0m\u001b[1m grade_2020 \u001b[0m\n",
       "\u001b[1m     \u001b[0m│\u001b[90m String \u001b[0m\u001b[90m Float64    \u001b[0m\n",
       "─────┼────────────────────\n",
       "   1 │ Alice          8.5"
      ]
     },
     "execution_count": 52,
     "metadata": {},
     "output_type": "execute_result"
    }
   ],
   "source": [
    "subset(grades_2020(), :name => n -> n .== \"Alice\") # 不能简写为 .==(\"Alice\")，没有这个语法"
   ]
  },
  {
   "cell_type": "markdown",
   "metadata": {},
   "source": [
    "`subset()` 可以克服 missing 值"
   ]
  },
  {
   "cell_type": "code",
   "execution_count": 30,
   "metadata": {},
   "outputs": [
    {
     "data": {
      "text/html": [
       "<div class=\"data-frame\"><p>4 rows × 2 columns</p><table class=\"data-frame\"><thead><tr><th></th><th>names</th><th>salary</th></tr><tr><th></th><th title=\"String\">String</th><th title=\"Union{Missing, Int64}\">Int64?</th></tr></thead><tbody><tr><th>1</th><td>John</td><td>1900</td></tr><tr><th>2</th><td>Hank</td><td>2800</td></tr><tr><th>3</th><td>Karen</td><td>2800</td></tr><tr><th>4</th><td>Zed</td><td><em>missing</em></td></tr></tbody></table></div>"
      ],
      "text/latex": [
       "\\begin{tabular}{r|cc}\n",
       "\t& names & salary\\\\\n",
       "\t\\hline\n",
       "\t& String & Int64?\\\\\n",
       "\t\\hline\n",
       "\t1 & John & 1900 \\\\\n",
       "\t2 & Hank & 2800 \\\\\n",
       "\t3 & Karen & 2800 \\\\\n",
       "\t4 & Zed & \\emph{missing} \\\\\n",
       "\\end{tabular}\n"
      ],
      "text/plain": [
       "\u001b[1m4×2 DataFrame\u001b[0m\n",
       "\u001b[1m Row \u001b[0m│\u001b[1m names  \u001b[0m\u001b[1m salary  \u001b[0m\n",
       "\u001b[1m     \u001b[0m│\u001b[90m String \u001b[0m\u001b[90m Int64?  \u001b[0m\n",
       "─────┼─────────────────\n",
       "   1 │ John       1900\n",
       "   2 │ Hank       2800\n",
       "   3 │ Karen      2800\n",
       "   4 │ Zed    \u001b[90m missing \u001b[0m"
      ]
     },
     "execution_count": 30,
     "metadata": {},
     "output_type": "execute_result"
    }
   ],
   "source": [
    "function salaries()\n",
    "    names = [\"John\", \"Hank\", \"Karen\", \"Zed\"]\n",
    "    salary = [1_900, 2_800, 2_800, missing]\n",
    "    DataFrame(; names, salary)\n",
    "end\n",
    "salaries()"
   ]
  },
  {
   "cell_type": "code",
   "execution_count": 31,
   "metadata": {},
   "outputs": [
    {
     "ename": "LoadError",
     "evalue": "TypeError: non-boolean (Missing) used in boolean context",
     "output_type": "error",
     "traceback": [
      "TypeError: non-boolean (Missing) used in boolean context",
      "",
      "Stacktrace:",
      "  [1] (::DataFrames.var\"#97#98\"{Base.Fix2{typeof(>), Int64}})(x::Missing)",
      "    @ DataFrames C:\\Users\\humoo\\.julia\\packages\\DataFrames\\zqFGs\\src\\abstractdataframe\\abstractdataframe.jl:1110",
      "  [2] _broadcast_getindex_evalf",
      "    @ .\\broadcast.jl:670 [inlined]",
      "  [3] _broadcast_getindex",
      "    @ .\\broadcast.jl:643 [inlined]",
      "  [4] getindex",
      "    @ .\\broadcast.jl:597 [inlined]",
      "  [5] macro expansion",
      "    @ .\\broadcast.jl:961 [inlined]",
      "  [6] macro expansion",
      "    @ .\\simdloop.jl:77 [inlined]",
      "  [7] copyto!",
      "    @ .\\broadcast.jl:960 [inlined]",
      "  [8] copyto!",
      "    @ .\\broadcast.jl:971 [inlined]",
      "  [9] copyto!",
      "    @ .\\broadcast.jl:913 [inlined]",
      " [10] copy",
      "    @ .\\broadcast.jl:885 [inlined]",
      " [11] materialize(bc::Base.Broadcast.Broadcasted{Base.Broadcast.DefaultArrayStyle{1}, Nothing, DataFrames.var\"#97#98\"{Base.Fix2{typeof(>), Int64}}, Tuple{Vector{Union{Missing, Int64}}}})",
      "    @ Base.Broadcast .\\broadcast.jl:860",
      " [12] _filter_helper(f::Function, cols::Vector{Union{Missing, Int64}})",
      "    @ DataFrames C:\\Users\\humoo\\.julia\\packages\\DataFrames\\zqFGs\\src\\abstractdataframe\\abstractdataframe.jl:1110",
      " [13] #filter#87",
      "    @ C:\\Users\\humoo\\.julia\\packages\\DataFrames\\zqFGs\\src\\abstractdataframe\\abstractdataframe.jl:1092 [inlined]",
      " [14] filter(::Pair{Symbol, Base.Fix2{typeof(>), Int64}}, df::DataFrame)",
      "    @ DataFrames C:\\Users\\humoo\\.julia\\packages\\DataFrames\\zqFGs\\src\\abstractdataframe\\abstractdataframe.jl:1088",
      " [15] top-level scope",
      "    @ In[31]:1",
      " [16] eval",
      "    @ .\\boot.jl:373 [inlined]",
      " [17] include_string(mapexpr::typeof(REPL.softscope), mod::Module, code::String, filename::String)",
      "    @ Base .\\loading.jl:1196"
     ]
    }
   ],
   "source": [
    "filter(:salary => >(2_000), salaries()) # 存在 missing 时，filter()失败"
   ]
  },
  {
   "cell_type": "code",
   "execution_count": 82,
   "metadata": {},
   "outputs": [
    {
     "data": {
      "text/html": [
       "<div class=\"data-frame\"><p>2 rows × 2 columns</p><table class=\"data-frame\"><thead><tr><th></th><th>names</th><th>salary</th></tr><tr><th></th><th title=\"String\">String</th><th title=\"Union{Missing, Int64}\">Int64?</th></tr></thead><tbody><tr><th>1</th><td>Hank</td><td>2800</td></tr><tr><th>2</th><td>Karen</td><td>2800</td></tr></tbody></table></div>"
      ],
      "text/latex": [
       "\\begin{tabular}{r|cc}\n",
       "\t& names & salary\\\\\n",
       "\t\\hline\n",
       "\t& String & Int64?\\\\\n",
       "\t\\hline\n",
       "\t1 & Hank & 2800 \\\\\n",
       "\t2 & Karen & 2800 \\\\\n",
       "\\end{tabular}\n"
      ],
      "text/plain": [
       "\u001b[1m2×2 DataFrame\u001b[0m\n",
       "\u001b[1m Row \u001b[0m│\u001b[1m names  \u001b[0m\u001b[1m salary \u001b[0m\n",
       "\u001b[1m     \u001b[0m│\u001b[90m String \u001b[0m\u001b[90m Int64? \u001b[0m\n",
       "─────┼────────────────\n",
       "   1 │ Hank      2800\n",
       "   2 │ Karen     2800"
      ]
     },
     "execution_count": 82,
     "metadata": {},
     "output_type": "execute_result"
    }
   ],
   "source": [
    "subset(salaries(), :salary => ByRow(>(2000)); skipmissing=true) # 加入 skipmissing 参数后，subset 即可成功"
   ]
  },
  {
   "cell_type": "markdown",
   "metadata": {},
   "source": [
    "## 操作列"
   ]
  },
  {
   "cell_type": "code",
   "execution_count": 162,
   "metadata": {},
   "outputs": [
    {
     "data": {
      "text/html": [
       "<div class=\"data-frame\"><p>2 rows × 6 columns</p><table class=\"data-frame\"><thead><tr><th></th><th>id</th><th>q1</th><th>q2</th><th>q3</th><th>q4</th><th>q5</th></tr><tr><th></th><th title=\"Int64\">Int64</th><th title=\"Int64\">Int64</th><th title=\"Symbol\">Symbol</th><th title=\"String\">String</th><th title=\"String\">String</th><th title=\"String\">String</th></tr></thead><tbody><tr><th>1</th><td>1</td><td>28</td><td>us</td><td>F</td><td>B</td><td>A</td></tr><tr><th>2</th><td>2</td><td>61</td><td>fr</td><td>B</td><td>C</td><td>E</td></tr></tbody></table></div>"
      ],
      "text/latex": [
       "\\begin{tabular}{r|cccccc}\n",
       "\t& id & q1 & q2 & q3 & q4 & q5\\\\\n",
       "\t\\hline\n",
       "\t& Int64 & Int64 & Symbol & String & String & String\\\\\n",
       "\t\\hline\n",
       "\t1 & 1 & 28 & us & F & B & A \\\\\n",
       "\t2 & 2 & 61 & fr & B & C & E \\\\\n",
       "\\end{tabular}\n"
      ],
      "text/plain": [
       "\u001b[1m2×6 DataFrame\u001b[0m\n",
       "\u001b[1m Row \u001b[0m│\u001b[1m id    \u001b[0m\u001b[1m q1    \u001b[0m\u001b[1m q2     \u001b[0m\u001b[1m q3     \u001b[0m\u001b[1m q4     \u001b[0m\u001b[1m q5     \u001b[0m\n",
       "\u001b[1m     \u001b[0m│\u001b[90m Int64 \u001b[0m\u001b[90m Int64 \u001b[0m\u001b[90m Symbol \u001b[0m\u001b[90m String \u001b[0m\u001b[90m String \u001b[0m\u001b[90m String \u001b[0m\n",
       "─────┼──────────────────────────────────────────────\n",
       "   1 │     1     28  us      F       B       A\n",
       "   2 │     2     61  fr      B       C       E"
      ]
     },
     "execution_count": 162,
     "metadata": {},
     "output_type": "execute_result"
    }
   ],
   "source": [
    "function responses()\n",
    "    id = [1, 2]\n",
    "    q1 = [28, 61]\n",
    "    q2 = [:us, :fr]\n",
    "    q3 = [\"F\", \"B\"]\n",
    "    q4 = [\"B\", \"C\"]\n",
    "    q5 = [\"A\", \"E\"]\n",
    "    DataFrame(; id, q1, q2, q3, q4, q5)\n",
    "end\n",
    "responses()"
   ]
  },
  {
   "cell_type": "markdown",
   "metadata": {},
   "source": [
    "### 选择列\n",
    "\n",
    "`select(df, args...)`\n",
    "\n",
    "即使选择单列，也不会退化为矩阵或向量\n",
    "\n",
    "args...可能的格式：\n",
    "- Symbol\n",
    "- String\n",
    "- Int/Range/Vector{Int}/BitVector\n",
    "- `Not()`\n",
    "    - 该函数是 DataFrames 包特有的，接受的参数包括单值、向量、Range\n",
    "- `Between()`\n",
    "- `:`，表示前述未包含的所有列，常用于列的重排列\n",
    "- pair，同时会对取出的列改名"
   ]
  },
  {
   "cell_type": "code",
   "execution_count": 165,
   "metadata": {},
   "outputs": [
    {
     "data": {
      "text/html": [
       "<div class=\"data-frame\"><p>2 rows × 2 columns</p><table class=\"data-frame\"><thead><tr><th></th><th>id</th><th>q1</th></tr><tr><th></th><th title=\"Int64\">Int64</th><th title=\"Int64\">Int64</th></tr></thead><tbody><tr><th>1</th><td>1</td><td>28</td></tr><tr><th>2</th><td>2</td><td>61</td></tr></tbody></table></div>"
      ],
      "text/latex": [
       "\\begin{tabular}{r|cc}\n",
       "\t& id & q1\\\\\n",
       "\t\\hline\n",
       "\t& Int64 & Int64\\\\\n",
       "\t\\hline\n",
       "\t1 & 1 & 28 \\\\\n",
       "\t2 & 2 & 61 \\\\\n",
       "\\end{tabular}\n"
      ],
      "text/plain": [
       "\u001b[1m2×2 DataFrame\u001b[0m\n",
       "\u001b[1m Row \u001b[0m│\u001b[1m id    \u001b[0m\u001b[1m q1    \u001b[0m\n",
       "\u001b[1m     \u001b[0m│\u001b[90m Int64 \u001b[0m\u001b[90m Int64 \u001b[0m\n",
       "─────┼──────────────\n",
       "   1 │     1     28\n",
       "   2 │     2     61"
      ]
     },
     "execution_count": 165,
     "metadata": {},
     "output_type": "execute_result"
    }
   ],
   "source": [
    "select(responses(), :id, :q1) # Symbol"
   ]
  },
  {
   "cell_type": "code",
   "execution_count": 166,
   "metadata": {},
   "outputs": [
    {
     "data": {
      "text/html": [
       "<div class=\"data-frame\"><p>2 rows × 3 columns</p><table class=\"data-frame\"><thead><tr><th></th><th>id</th><th>q1</th><th>q2</th></tr><tr><th></th><th title=\"Int64\">Int64</th><th title=\"Int64\">Int64</th><th title=\"Symbol\">Symbol</th></tr></thead><tbody><tr><th>1</th><td>1</td><td>28</td><td>us</td></tr><tr><th>2</th><td>2</td><td>61</td><td>fr</td></tr></tbody></table></div>"
      ],
      "text/latex": [
       "\\begin{tabular}{r|ccc}\n",
       "\t& id & q1 & q2\\\\\n",
       "\t\\hline\n",
       "\t& Int64 & Int64 & Symbol\\\\\n",
       "\t\\hline\n",
       "\t1 & 1 & 28 & us \\\\\n",
       "\t2 & 2 & 61 & fr \\\\\n",
       "\\end{tabular}\n"
      ],
      "text/plain": [
       "\u001b[1m2×3 DataFrame\u001b[0m\n",
       "\u001b[1m Row \u001b[0m│\u001b[1m id    \u001b[0m\u001b[1m q1    \u001b[0m\u001b[1m q2     \u001b[0m\n",
       "\u001b[1m     \u001b[0m│\u001b[90m Int64 \u001b[0m\u001b[90m Int64 \u001b[0m\u001b[90m Symbol \u001b[0m\n",
       "─────┼──────────────────────\n",
       "   1 │     1     28  us\n",
       "   2 │     2     61  fr"
      ]
     },
     "execution_count": 166,
     "metadata": {},
     "output_type": "execute_result"
    }
   ],
   "source": [
    "select(responses(), \"id\", \"q1\", \"q2\") # String"
   ]
  },
  {
   "cell_type": "code",
   "execution_count": 168,
   "metadata": {},
   "outputs": [
    {
     "data": {
      "text/html": [
       "<div class=\"data-frame\"><p>2 rows × 3 columns</p><table class=\"data-frame\"><thead><tr><th></th><th>id</th><th>q1</th><th>q2</th></tr><tr><th></th><th title=\"Int64\">Int64</th><th title=\"Int64\">Int64</th><th title=\"Symbol\">Symbol</th></tr></thead><tbody><tr><th>1</th><td>1</td><td>28</td><td>us</td></tr><tr><th>2</th><td>2</td><td>61</td><td>fr</td></tr></tbody></table></div>"
      ],
      "text/latex": [
       "\\begin{tabular}{r|ccc}\n",
       "\t& id & q1 & q2\\\\\n",
       "\t\\hline\n",
       "\t& Int64 & Int64 & Symbol\\\\\n",
       "\t\\hline\n",
       "\t1 & 1 & 28 & us \\\\\n",
       "\t2 & 2 & 61 & fr \\\\\n",
       "\\end{tabular}\n"
      ],
      "text/plain": [
       "\u001b[1m2×3 DataFrame\u001b[0m\n",
       "\u001b[1m Row \u001b[0m│\u001b[1m id    \u001b[0m\u001b[1m q1    \u001b[0m\u001b[1m q2     \u001b[0m\n",
       "\u001b[1m     \u001b[0m│\u001b[90m Int64 \u001b[0m\u001b[90m Int64 \u001b[0m\u001b[90m Symbol \u001b[0m\n",
       "─────┼──────────────────────\n",
       "   1 │     1     28  us\n",
       "   2 │     2     61  fr"
      ]
     },
     "execution_count": 168,
     "metadata": {},
     "output_type": "execute_result"
    }
   ],
   "source": [
    "select(responses(), Not(4:6)) # Not(Range)"
   ]
  },
  {
   "cell_type": "code",
   "execution_count": 169,
   "metadata": {},
   "outputs": [
    {
     "data": {
      "text/html": [
       "<div class=\"data-frame\"><p>2 rows × 4 columns</p><table class=\"data-frame\"><thead><tr><th></th><th>id</th><th>q1</th><th>q2</th><th>q3</th></tr><tr><th></th><th title=\"Int64\">Int64</th><th title=\"Int64\">Int64</th><th title=\"Symbol\">Symbol</th><th title=\"String\">String</th></tr></thead><tbody><tr><th>1</th><td>1</td><td>28</td><td>us</td><td>F</td></tr><tr><th>2</th><td>2</td><td>61</td><td>fr</td><td>B</td></tr></tbody></table></div>"
      ],
      "text/latex": [
       "\\begin{tabular}{r|cccc}\n",
       "\t& id & q1 & q2 & q3\\\\\n",
       "\t\\hline\n",
       "\t& Int64 & Int64 & Symbol & String\\\\\n",
       "\t\\hline\n",
       "\t1 & 1 & 28 & us & F \\\\\n",
       "\t2 & 2 & 61 & fr & B \\\\\n",
       "\\end{tabular}\n"
      ],
      "text/plain": [
       "\u001b[1m2×4 DataFrame\u001b[0m\n",
       "\u001b[1m Row \u001b[0m│\u001b[1m id    \u001b[0m\u001b[1m q1    \u001b[0m\u001b[1m q2     \u001b[0m\u001b[1m q3     \u001b[0m\n",
       "\u001b[1m     \u001b[0m│\u001b[90m Int64 \u001b[0m\u001b[90m Int64 \u001b[0m\u001b[90m Symbol \u001b[0m\u001b[90m String \u001b[0m\n",
       "─────┼──────────────────────────────\n",
       "   1 │     1     28  us      F\n",
       "   2 │     2     61  fr      B"
      ]
     },
     "execution_count": 169,
     "metadata": {},
     "output_type": "execute_result"
    }
   ],
   "source": [
    "select(responses(), Not([:q4, :q5])) # Not(Vector{Symbol})"
   ]
  },
  {
   "cell_type": "code",
   "execution_count": 182,
   "metadata": {},
   "outputs": [
    {
     "data": {
      "text/html": [
       "<div class=\"data-frame\"><p>2 rows × 5 columns</p><table class=\"data-frame\"><thead><tr><th></th><th>q5</th><th>q4</th><th>q1</th><th>q2</th><th>q3</th></tr><tr><th></th><th title=\"String\">String</th><th title=\"String\">String</th><th title=\"Int64\">Int64</th><th title=\"Symbol\">Symbol</th><th title=\"String\">String</th></tr></thead><tbody><tr><th>1</th><td>A</td><td>B</td><td>28</td><td>us</td><td>F</td></tr><tr><th>2</th><td>E</td><td>C</td><td>61</td><td>fr</td><td>B</td></tr></tbody></table></div>"
      ],
      "text/latex": [
       "\\begin{tabular}{r|ccccc}\n",
       "\t& q5 & q4 & q1 & q2 & q3\\\\\n",
       "\t\\hline\n",
       "\t& String & String & Int64 & Symbol & String\\\\\n",
       "\t\\hline\n",
       "\t1 & A & B & 28 & us & F \\\\\n",
       "\t2 & E & C & 61 & fr & B \\\\\n",
       "\\end{tabular}\n"
      ],
      "text/plain": [
       "\u001b[1m2×5 DataFrame\u001b[0m\n",
       "\u001b[1m Row \u001b[0m│\u001b[1m q5     \u001b[0m\u001b[1m q4     \u001b[0m\u001b[1m q1    \u001b[0m\u001b[1m q2     \u001b[0m\u001b[1m q3     \u001b[0m\n",
       "\u001b[1m     \u001b[0m│\u001b[90m String \u001b[0m\u001b[90m String \u001b[0m\u001b[90m Int64 \u001b[0m\u001b[90m Symbol \u001b[0m\u001b[90m String \u001b[0m\n",
       "─────┼───────────────────────────────────────\n",
       "   1 │ A       B          28  us      F\n",
       "   2 │ E       C          61  fr      B"
      ]
     },
     "execution_count": 182,
     "metadata": {},
     "output_type": "execute_result"
    }
   ],
   "source": [
    "select(responses(), :q5, :q4, Not(:id)) # Not() 的范围是与已经取出的列不同名的所有列"
   ]
  },
  {
   "cell_type": "code",
   "execution_count": 183,
   "metadata": {},
   "outputs": [
    {
     "data": {
      "text/html": [
       "<div class=\"data-frame\"><p>2 rows × 6 columns</p><table class=\"data-frame\"><thead><tr><th></th><th>q5</th><th>id</th><th>q1</th><th>q2</th><th>q3</th><th>q4</th></tr><tr><th></th><th title=\"String\">String</th><th title=\"Int64\">Int64</th><th title=\"Int64\">Int64</th><th title=\"Symbol\">Symbol</th><th title=\"String\">String</th><th title=\"String\">String</th></tr></thead><tbody><tr><th>1</th><td>A</td><td>1</td><td>28</td><td>us</td><td>F</td><td>B</td></tr><tr><th>2</th><td>E</td><td>2</td><td>61</td><td>fr</td><td>B</td><td>C</td></tr></tbody></table></div>"
      ],
      "text/latex": [
       "\\begin{tabular}{r|cccccc}\n",
       "\t& q5 & id & q1 & q2 & q3 & q4\\\\\n",
       "\t\\hline\n",
       "\t& String & Int64 & Int64 & Symbol & String & String\\\\\n",
       "\t\\hline\n",
       "\t1 & A & 1 & 28 & us & F & B \\\\\n",
       "\t2 & E & 2 & 61 & fr & B & C \\\\\n",
       "\\end{tabular}\n"
      ],
      "text/plain": [
       "\u001b[1m2×6 DataFrame\u001b[0m\n",
       "\u001b[1m Row \u001b[0m│\u001b[1m q5     \u001b[0m\u001b[1m id    \u001b[0m\u001b[1m q1    \u001b[0m\u001b[1m q2     \u001b[0m\u001b[1m q3     \u001b[0m\u001b[1m q4     \u001b[0m\n",
       "\u001b[1m     \u001b[0m│\u001b[90m String \u001b[0m\u001b[90m Int64 \u001b[0m\u001b[90m Int64 \u001b[0m\u001b[90m Symbol \u001b[0m\u001b[90m String \u001b[0m\u001b[90m String \u001b[0m\n",
       "─────┼──────────────────────────────────────────────\n",
       "   1 │ A           1     28  us      F       B\n",
       "   2 │ E           2     61  fr      B       C"
      ]
     },
     "execution_count": 183,
     "metadata": {},
     "output_type": "execute_result"
    }
   ],
   "source": [
    "select(responses(), :q5, :) # 此处 : 表示与已经取出的列不同名的所有列"
   ]
  },
  {
   "cell_type": "code",
   "execution_count": 177,
   "metadata": {},
   "outputs": [
    {
     "data": {
      "text/html": [
       "<div class=\"data-frame\"><p>2 rows × 6 columns</p><table class=\"data-frame\"><thead><tr><th></th><th>id</th><th>q5</th><th>q1</th><th>q2</th><th>q3</th><th>q4</th></tr><tr><th></th><th title=\"Int64\">Int64</th><th title=\"String\">String</th><th title=\"Int64\">Int64</th><th title=\"Symbol\">Symbol</th><th title=\"String\">String</th><th title=\"String\">String</th></tr></thead><tbody><tr><th>1</th><td>1</td><td>A</td><td>28</td><td>us</td><td>F</td><td>B</td></tr><tr><th>2</th><td>2</td><td>E</td><td>61</td><td>fr</td><td>B</td><td>C</td></tr></tbody></table></div>"
      ],
      "text/latex": [
       "\\begin{tabular}{r|cccccc}\n",
       "\t& id & q5 & q1 & q2 & q3 & q4\\\\\n",
       "\t\\hline\n",
       "\t& Int64 & String & Int64 & Symbol & String & String\\\\\n",
       "\t\\hline\n",
       "\t1 & 1 & A & 28 & us & F & B \\\\\n",
       "\t2 & 2 & E & 61 & fr & B & C \\\\\n",
       "\\end{tabular}\n"
      ],
      "text/plain": [
       "\u001b[1m2×6 DataFrame\u001b[0m\n",
       "\u001b[1m Row \u001b[0m│\u001b[1m id    \u001b[0m\u001b[1m q5     \u001b[0m\u001b[1m q1    \u001b[0m\u001b[1m q2     \u001b[0m\u001b[1m q3     \u001b[0m\u001b[1m q4     \u001b[0m\n",
       "\u001b[1m     \u001b[0m│\u001b[90m Int64 \u001b[0m\u001b[90m String \u001b[0m\u001b[90m Int64 \u001b[0m\u001b[90m Symbol \u001b[0m\u001b[90m String \u001b[0m\u001b[90m String \u001b[0m\n",
       "─────┼──────────────────────────────────────────────\n",
       "   1 │     1  A          28  us      F       B\n",
       "   2 │     2  E          61  fr      B       C"
      ]
     },
     "execution_count": 177,
     "metadata": {},
     "output_type": "execute_result"
    }
   ],
   "source": [
    "select(responses(), 1, :q5, :) # Integer"
   ]
  },
  {
   "cell_type": "code",
   "execution_count": 185,
   "metadata": {},
   "outputs": [
    {
     "data": {
      "text/html": [
       "<div class=\"data-frame\"><p>2 rows × 8 columns</p><table class=\"data-frame\"><thead><tr><th></th><th>participant</th><th>age</th><th>q2</th><th>id</th><th>q1</th><th>q3</th><th>q4</th><th>q5</th></tr><tr><th></th><th title=\"Int64\">Int64</th><th title=\"Int64\">Int64</th><th title=\"Symbol\">Symbol</th><th title=\"Int64\">Int64</th><th title=\"Int64\">Int64</th><th title=\"String\">String</th><th title=\"String\">String</th><th title=\"String\">String</th></tr></thead><tbody><tr><th>1</th><td>1</td><td>28</td><td>us</td><td>1</td><td>28</td><td>F</td><td>B</td><td>A</td></tr><tr><th>2</th><td>2</td><td>61</td><td>fr</td><td>2</td><td>61</td><td>B</td><td>C</td><td>E</td></tr></tbody></table></div>"
      ],
      "text/latex": [
       "\\begin{tabular}{r|cccccccc}\n",
       "\t& participant & age & q2 & id & q1 & q3 & q4 & q5\\\\\n",
       "\t\\hline\n",
       "\t& Int64 & Int64 & Symbol & Int64 & Int64 & String & String & String\\\\\n",
       "\t\\hline\n",
       "\t1 & 1 & 28 & us & 1 & 28 & F & B & A \\\\\n",
       "\t2 & 2 & 61 & fr & 2 & 61 & B & C & E \\\\\n",
       "\\end{tabular}\n"
      ],
      "text/plain": [
       "\u001b[1m2×8 DataFrame\u001b[0m\n",
       "\u001b[1m Row \u001b[0m│\u001b[1m participant \u001b[0m\u001b[1m age   \u001b[0m\u001b[1m q2     \u001b[0m\u001b[1m id    \u001b[0m\u001b[1m q1    \u001b[0m\u001b[1m q3     \u001b[0m\u001b[1m q4     \u001b[0m\u001b[1m q5     \u001b[0m\n",
       "\u001b[1m     \u001b[0m│\u001b[90m Int64       \u001b[0m\u001b[90m Int64 \u001b[0m\u001b[90m Symbol \u001b[0m\u001b[90m Int64 \u001b[0m\u001b[90m Int64 \u001b[0m\u001b[90m String \u001b[0m\u001b[90m String \u001b[0m\u001b[90m String \u001b[0m\n",
       "─────┼──────────────────────────────────────────────────────────────────\n",
       "   1 │           1     28  us          1     28  F       B       A\n",
       "   2 │           2     61  fr          2     61  B       C       E"
      ]
     },
     "execution_count": 185,
     "metadata": {},
     "output_type": "execute_result"
    }
   ],
   "source": [
    "select(responses(), 1 => \"participant\", :q1 => \"age\", :q2, :)"
   ]
  },
  {
   "cell_type": "markdown",
   "metadata": {},
   "source": [
    "### 重命名列\n",
    "\n",
    "- `rename!(df::AbstractDataFrame, vals::AbstractVector{Symbol}; makeunique::Bool=false)`，直接接收新列名向量\n",
    "- `rename!(df::AbstractDataFrame, vals::AbstractVector{<:AbstractString}; makeunique::Bool=false)`\n",
    "- `rename!(df::AbstractDataFrame, (from => to)::Pair...)`，接受一堆 pair 的展开\n",
    "- `rename!(df::AbstractDataFrame, d::AbstractVector{<:Pair})`，接受 pair 的向量\n",
    "- `rename!(df::AbstractDataFrame, d::AbstractDict)`，接收 Dict\n",
    "- `rename!(f::Function, df::AbstractDataFrame)`，按一定的规则 f 改名"
   ]
  },
  {
   "cell_type": "code",
   "execution_count": null,
   "metadata": {},
   "outputs": [],
   "source": [
    "df = DataFrame(i=1, x=2, y=3)"
   ]
  },
  {
   "cell_type": "code",
   "execution_count": null,
   "metadata": {},
   "outputs": [],
   "source": [
    "rename!(df, Dict(:i => \"A\", :x => \"X\"))"
   ]
  },
  {
   "cell_type": "code",
   "execution_count": null,
   "metadata": {},
   "outputs": [],
   "source": [
    "rename!(df, [:a, :b, :c])"
   ]
  },
  {
   "cell_type": "code",
   "execution_count": null,
   "metadata": {},
   "outputs": [],
   "source": [
    "rename!(df, [:a, :b, :a]) # 会报错，不能两列同名"
   ]
  },
  {
   "cell_type": "code",
   "execution_count": null,
   "metadata": {},
   "outputs": [],
   "source": [
    "rename!(df, [:a, :b, :a], makeunique=true)"
   ]
  },
  {
   "cell_type": "code",
   "execution_count": null,
   "metadata": {},
   "outputs": [],
   "source": [
    "rename!(uppercase, df)"
   ]
  },
  {
   "cell_type": "markdown",
   "metadata": {},
   "source": [
    "### 排序\n",
    "\n",
    "```julia\n",
    "sort!(df::AbstractDataFrame, cols=All();\n",
    "    alg::Union{Algorithm,Nothing}=nothing,\n",
    "    lt::Union{Function,AbstractVector{<:Function}}=isless,\n",
    "    by::Union{Function,AbstractVector{<:Function}}=identity,\n",
    "    rev::Union{Bool,AbstractVector{Bool}}=false,\n",
    "    order::Union{Ordering,AbstractVector{<:Ordering}}=Forward)\n",
    "```"
   ]
  },
  {
   "cell_type": "code",
   "execution_count": 43,
   "metadata": {},
   "outputs": [
    {
     "data": {
      "text/html": [
       "<div class=\"data-frame\"><p>4 rows × 2 columns</p><table class=\"data-frame\"><thead><tr><th></th><th>x</th><th>y</th></tr><tr><th></th><th title=\"Int64\">Int64</th><th title=\"String\">String</th></tr></thead><tbody><tr><th>1</th><td>3</td><td>b</td></tr><tr><th>2</th><td>1</td><td>c</td></tr><tr><th>3</th><td>2</td><td>a</td></tr><tr><th>4</th><td>1</td><td>b</td></tr></tbody></table></div>"
      ],
      "text/latex": [
       "\\begin{tabular}{r|cc}\n",
       "\t& x & y\\\\\n",
       "\t\\hline\n",
       "\t& Int64 & String\\\\\n",
       "\t\\hline\n",
       "\t1 & 3 & b \\\\\n",
       "\t2 & 1 & c \\\\\n",
       "\t3 & 2 & a \\\\\n",
       "\t4 & 1 & b \\\\\n",
       "\\end{tabular}\n"
      ],
      "text/plain": [
       "\u001b[1m4×2 DataFrame\u001b[0m\n",
       "\u001b[1m Row \u001b[0m│\u001b[1m x     \u001b[0m\u001b[1m y      \u001b[0m\n",
       "\u001b[1m     \u001b[0m│\u001b[90m Int64 \u001b[0m\u001b[90m String \u001b[0m\n",
       "─────┼───────────────\n",
       "   1 │     3  b\n",
       "   2 │     1  c\n",
       "   3 │     2  a\n",
       "   4 │     1  b"
      ]
     },
     "execution_count": 43,
     "metadata": {},
     "output_type": "execute_result"
    }
   ],
   "source": [
    "df = DataFrame(x=[3, 1, 2, 1], y=[\"b\", \"c\", \"a\", \"b\"])"
   ]
  },
  {
   "cell_type": "code",
   "execution_count": 44,
   "metadata": {},
   "outputs": [
    {
     "data": {
      "text/html": [
       "<div class=\"data-frame\"><p>4 rows × 2 columns</p><table class=\"data-frame\"><thead><tr><th></th><th>x</th><th>y</th></tr><tr><th></th><th title=\"Int64\">Int64</th><th title=\"String\">String</th></tr></thead><tbody><tr><th>1</th><td>1</td><td>c</td></tr><tr><th>2</th><td>1</td><td>b</td></tr><tr><th>3</th><td>2</td><td>a</td></tr><tr><th>4</th><td>3</td><td>b</td></tr></tbody></table></div>"
      ],
      "text/latex": [
       "\\begin{tabular}{r|cc}\n",
       "\t& x & y\\\\\n",
       "\t\\hline\n",
       "\t& Int64 & String\\\\\n",
       "\t\\hline\n",
       "\t1 & 1 & c \\\\\n",
       "\t2 & 1 & b \\\\\n",
       "\t3 & 2 & a \\\\\n",
       "\t4 & 3 & b \\\\\n",
       "\\end{tabular}\n"
      ],
      "text/plain": [
       "\u001b[1m4×2 DataFrame\u001b[0m\n",
       "\u001b[1m Row \u001b[0m│\u001b[1m x     \u001b[0m\u001b[1m y      \u001b[0m\n",
       "\u001b[1m     \u001b[0m│\u001b[90m Int64 \u001b[0m\u001b[90m String \u001b[0m\n",
       "─────┼───────────────\n",
       "   1 │     1  c\n",
       "   2 │     1  b\n",
       "   3 │     2  a\n",
       "   4 │     3  b"
      ]
     },
     "execution_count": 44,
     "metadata": {},
     "output_type": "execute_result"
    }
   ],
   "source": [
    "sort!(df, :x)"
   ]
  },
  {
   "cell_type": "code",
   "execution_count": 45,
   "metadata": {},
   "outputs": [
    {
     "data": {
      "text/html": [
       "<div class=\"data-frame\"><p>4 rows × 2 columns</p><table class=\"data-frame\"><thead><tr><th></th><th>x</th><th>y</th></tr><tr><th></th><th title=\"Int64\">Int64</th><th title=\"String\">String</th></tr></thead><tbody><tr><th>1</th><td>1</td><td>b</td></tr><tr><th>2</th><td>1</td><td>c</td></tr><tr><th>3</th><td>2</td><td>a</td></tr><tr><th>4</th><td>3</td><td>b</td></tr></tbody></table></div>"
      ],
      "text/latex": [
       "\\begin{tabular}{r|cc}\n",
       "\t& x & y\\\\\n",
       "\t\\hline\n",
       "\t& Int64 & String\\\\\n",
       "\t\\hline\n",
       "\t1 & 1 & b \\\\\n",
       "\t2 & 1 & c \\\\\n",
       "\t3 & 2 & a \\\\\n",
       "\t4 & 3 & b \\\\\n",
       "\\end{tabular}\n"
      ],
      "text/plain": [
       "\u001b[1m4×2 DataFrame\u001b[0m\n",
       "\u001b[1m Row \u001b[0m│\u001b[1m x     \u001b[0m\u001b[1m y      \u001b[0m\n",
       "\u001b[1m     \u001b[0m│\u001b[90m Int64 \u001b[0m\u001b[90m String \u001b[0m\n",
       "─────┼───────────────\n",
       "   1 │     1  b\n",
       "   2 │     1  c\n",
       "   3 │     2  a\n",
       "   4 │     3  b"
      ]
     },
     "execution_count": 45,
     "metadata": {},
     "output_type": "execute_result"
    }
   ],
   "source": [
    "sort!(df, [:x, :y])"
   ]
  },
  {
   "cell_type": "code",
   "execution_count": 46,
   "metadata": {},
   "outputs": [
    {
     "data": {
      "text/html": [
       "<div class=\"data-frame\"><p>4 rows × 2 columns</p><table class=\"data-frame\"><thead><tr><th></th><th>x</th><th>y</th></tr><tr><th></th><th title=\"Int64\">Int64</th><th title=\"String\">String</th></tr></thead><tbody><tr><th>1</th><td>3</td><td>b</td></tr><tr><th>2</th><td>2</td><td>a</td></tr><tr><th>3</th><td>1</td><td>c</td></tr><tr><th>4</th><td>1</td><td>b</td></tr></tbody></table></div>"
      ],
      "text/latex": [
       "\\begin{tabular}{r|cc}\n",
       "\t& x & y\\\\\n",
       "\t\\hline\n",
       "\t& Int64 & String\\\\\n",
       "\t\\hline\n",
       "\t1 & 3 & b \\\\\n",
       "\t2 & 2 & a \\\\\n",
       "\t3 & 1 & c \\\\\n",
       "\t4 & 1 & b \\\\\n",
       "\\end{tabular}\n"
      ],
      "text/plain": [
       "\u001b[1m4×2 DataFrame\u001b[0m\n",
       "\u001b[1m Row \u001b[0m│\u001b[1m x     \u001b[0m\u001b[1m y      \u001b[0m\n",
       "\u001b[1m     \u001b[0m│\u001b[90m Int64 \u001b[0m\u001b[90m String \u001b[0m\n",
       "─────┼───────────────\n",
       "   1 │     3  b\n",
       "   2 │     2  a\n",
       "   3 │     1  c\n",
       "   4 │     1  b"
      ]
     },
     "execution_count": 46,
     "metadata": {},
     "output_type": "execute_result"
    }
   ],
   "source": [
    "sort!(df, [:x, :y], rev=true)"
   ]
  },
  {
   "cell_type": "code",
   "execution_count": 47,
   "metadata": {},
   "outputs": [
    {
     "data": {
      "text/html": [
       "<div class=\"data-frame\"><p>4 rows × 2 columns</p><table class=\"data-frame\"><thead><tr><th></th><th>x</th><th>y</th></tr><tr><th></th><th title=\"Int64\">Int64</th><th title=\"String\">String</th></tr></thead><tbody><tr><th>1</th><td>1</td><td>c</td></tr><tr><th>2</th><td>1</td><td>b</td></tr><tr><th>3</th><td>2</td><td>a</td></tr><tr><th>4</th><td>3</td><td>b</td></tr></tbody></table></div>"
      ],
      "text/latex": [
       "\\begin{tabular}{r|cc}\n",
       "\t& x & y\\\\\n",
       "\t\\hline\n",
       "\t& Int64 & String\\\\\n",
       "\t\\hline\n",
       "\t1 & 1 & c \\\\\n",
       "\t2 & 1 & b \\\\\n",
       "\t3 & 2 & a \\\\\n",
       "\t4 & 3 & b \\\\\n",
       "\\end{tabular}\n"
      ],
      "text/plain": [
       "\u001b[1m4×2 DataFrame\u001b[0m\n",
       "\u001b[1m Row \u001b[0m│\u001b[1m x     \u001b[0m\u001b[1m y      \u001b[0m\n",
       "\u001b[1m     \u001b[0m│\u001b[90m Int64 \u001b[0m\u001b[90m String \u001b[0m\n",
       "─────┼───────────────\n",
       "   1 │     1  c\n",
       "   2 │     1  b\n",
       "   3 │     2  a\n",
       "   4 │     3  b"
      ]
     },
     "execution_count": 47,
     "metadata": {},
     "output_type": "execute_result"
    }
   ],
   "source": [
    "sort!(df, [:x, order(:y, rev=true)])"
   ]
  },
  {
   "cell_type": "markdown",
   "metadata": {
    "tags": []
   },
   "source": [
    "#### 设定供排序的 levels"
   ]
  },
  {
   "cell_type": "markdown",
   "metadata": {},
   "source": [
    "按日期排列行"
   ]
  },
  {
   "cell_type": "code",
   "execution_count": null,
   "metadata": {},
   "outputs": [
    {
     "data": {
      "text/html": [
       "<div class=\"data-frame\"><p>4 rows × 3 columns</p><table class=\"data-frame\"><thead><tr><th></th><th>id</th><th>date</th><th>age</th></tr><tr><th></th><th title=\"Int64\">Int64</th><th title=\"String\">String</th><th title=\"String\">String</th></tr></thead><tbody><tr><th>1</th><td>1</td><td>28−01−2018</td><td>adolescent</td></tr><tr><th>2</th><td>2</td><td>03−04−2019</td><td>adult</td></tr><tr><th>3</th><td>3</td><td>01−08−2018</td><td>infant</td></tr><tr><th>4</th><td>4</td><td>22−11−2020</td><td>adult</td></tr></tbody></table></div>"
      ],
      "text/latex": [
       "\\begin{tabular}{r|ccc}\n",
       "\t& id & date & age\\\\\n",
       "\t\\hline\n",
       "\t& Int64 & String & String\\\\\n",
       "\t\\hline\n",
       "\t1 & 1 & 28−01−2018 & adolescent \\\\\n",
       "\t2 & 2 & 03−04−2019 & adult \\\\\n",
       "\t3 & 3 & 01−08−2018 & infant \\\\\n",
       "\t4 & 4 & 22−11−2020 & adult \\\\\n",
       "\\end{tabular}\n"
      ],
      "text/plain": [
       "\u001b[1m4×3 DataFrame\u001b[0m\n",
       "\u001b[1m Row \u001b[0m│\u001b[1m id    \u001b[0m\u001b[1m date       \u001b[0m\u001b[1m age        \u001b[0m\n",
       "\u001b[1m     \u001b[0m│\u001b[90m Int64 \u001b[0m\u001b[90m String     \u001b[0m\u001b[90m String     \u001b[0m\n",
       "─────┼───────────────────────────────\n",
       "   1 │     1  28−01−2018  adolescent\n",
       "   2 │     2  03−04−2019  adult\n",
       "   3 │     3  01−08−2018  infant\n",
       "   4 │     4  22−11−2020  adult"
      ]
     },
     "execution_count": 200,
     "metadata": {},
     "output_type": "execute_result"
    }
   ],
   "source": [
    "function wrong_types()\n",
    "    id = 1:4\n",
    "    date = [\"28−01−2018\", \"03−04−2019\", \"01−08−2018\", \"22−11−2020\"]\n",
    "    age = [\"adolescent\", \"adult\", \"infant\", \"adult\"]\n",
    "    DataFrame(; id, date, age)\n",
    "end\n",
    "wrong_types()"
   ]
  },
  {
   "cell_type": "code",
   "execution_count": null,
   "metadata": {},
   "outputs": [
    {
     "data": {
      "text/html": [
       "<div class=\"data-frame\"><p>4 rows × 3 columns</p><table class=\"data-frame\"><thead><tr><th></th><th>id</th><th>date</th><th>age</th></tr><tr><th></th><th title=\"Int64\">Int64</th><th title=\"String\">String</th><th title=\"String\">String</th></tr></thead><tbody><tr><th>1</th><td>3</td><td>01−08−2018</td><td>infant</td></tr><tr><th>2</th><td>2</td><td>03−04−2019</td><td>adult</td></tr><tr><th>3</th><td>4</td><td>22−11−2020</td><td>adult</td></tr><tr><th>4</th><td>1</td><td>28−01−2018</td><td>adolescent</td></tr></tbody></table></div>"
      ],
      "text/latex": [
       "\\begin{tabular}{r|ccc}\n",
       "\t& id & date & age\\\\\n",
       "\t\\hline\n",
       "\t& Int64 & String & String\\\\\n",
       "\t\\hline\n",
       "\t1 & 3 & 01−08−2018 & infant \\\\\n",
       "\t2 & 2 & 03−04−2019 & adult \\\\\n",
       "\t3 & 4 & 22−11−2020 & adult \\\\\n",
       "\t4 & 1 & 28−01−2018 & adolescent \\\\\n",
       "\\end{tabular}\n"
      ],
      "text/plain": [
       "\u001b[1m4×3 DataFrame\u001b[0m\n",
       "\u001b[1m Row \u001b[0m│\u001b[1m id    \u001b[0m\u001b[1m date       \u001b[0m\u001b[1m age        \u001b[0m\n",
       "\u001b[1m     \u001b[0m│\u001b[90m Int64 \u001b[0m\u001b[90m String     \u001b[0m\u001b[90m String     \u001b[0m\n",
       "─────┼───────────────────────────────\n",
       "   1 │     3  01−08−2018  infant\n",
       "   2 │     2  03−04−2019  adult\n",
       "   3 │     4  22−11−2020  adult\n",
       "   4 │     1  28−01−2018  adolescent"
      ]
     },
     "execution_count": 201,
     "metadata": {},
     "output_type": "execute_result"
    }
   ],
   "source": [
    "sort(wrong_types(), :date) # 排序失败，因为格式不标准，Julia只能按照排序字符串的字典顺序对obs排序"
   ]
  },
  {
   "cell_type": "code",
   "execution_count": null,
   "metadata": {},
   "outputs": [
    {
     "data": {
      "text/html": [
       "<div class=\"data-frame\"><p>4 rows × 3 columns</p><table class=\"data-frame\"><thead><tr><th></th><th>id</th><th>date</th><th>age</th></tr><tr><th></th><th title=\"Int64\">Int64</th><th title=\"Date\">Date</th><th title=\"String\">String</th></tr></thead><tbody><tr><th>1</th><td>1</td><td>2018-01-28</td><td>adolescent</td></tr><tr><th>2</th><td>2</td><td>2019-04-03</td><td>adult</td></tr><tr><th>3</th><td>3</td><td>2018-08-01</td><td>infant</td></tr><tr><th>4</th><td>4</td><td>2020-11-22</td><td>adult</td></tr></tbody></table></div>"
      ],
      "text/latex": [
       "\\begin{tabular}{r|ccc}\n",
       "\t& id & date & age\\\\\n",
       "\t\\hline\n",
       "\t& Int64 & Date & String\\\\\n",
       "\t\\hline\n",
       "\t1 & 1 & 2018-01-28 & adolescent \\\\\n",
       "\t2 & 2 & 2019-04-03 & adult \\\\\n",
       "\t3 & 3 & 2018-08-01 & infant \\\\\n",
       "\t4 & 4 & 2020-11-22 & adult \\\\\n",
       "\\end{tabular}\n"
      ],
      "text/plain": [
       "\u001b[1m4×3 DataFrame\u001b[0m\n",
       "\u001b[1m Row \u001b[0m│\u001b[1m id    \u001b[0m\u001b[1m date       \u001b[0m\u001b[1m age        \u001b[0m\n",
       "\u001b[1m     \u001b[0m│\u001b[90m Int64 \u001b[0m\u001b[90m Date       \u001b[0m\u001b[90m String     \u001b[0m\n",
       "─────┼───────────────────────────────\n",
       "   1 │     1  2018-01-28  adolescent\n",
       "   2 │     2  2019-04-03  adult\n",
       "   3 │     3  2018-08-01  infant\n",
       "   4 │     4  2020-11-22  adult"
      ]
     },
     "execution_count": 202,
     "metadata": {},
     "output_type": "execute_result"
    }
   ],
   "source": [
    "using Dates, Pipe\n",
    "function fix_date_column(df::DataFrame)\n",
    "    fix_date = d -> Date(d, dateformat\"dd−mm−yyyy\")\n",
    "    @pipe df |> \n",
    "        transform(_, :date => ByRow(fix_date) => :date)\n",
    "end\n",
    "df = fix_date_column(wrong_types())"
   ]
  },
  {
   "cell_type": "code",
   "execution_count": null,
   "metadata": {},
   "outputs": [
    {
     "data": {
      "text/html": [
       "<div class=\"data-frame\"><p>4 rows × 3 columns</p><table class=\"data-frame\"><thead><tr><th></th><th>id</th><th>date</th><th>age</th></tr><tr><th></th><th title=\"Int64\">Int64</th><th title=\"Date\">Date</th><th title=\"String\">String</th></tr></thead><tbody><tr><th>1</th><td>1</td><td>2018-01-28</td><td>adolescent</td></tr><tr><th>2</th><td>3</td><td>2018-08-01</td><td>infant</td></tr><tr><th>3</th><td>2</td><td>2019-04-03</td><td>adult</td></tr><tr><th>4</th><td>4</td><td>2020-11-22</td><td>adult</td></tr></tbody></table></div>"
      ],
      "text/latex": [
       "\\begin{tabular}{r|ccc}\n",
       "\t& id & date & age\\\\\n",
       "\t\\hline\n",
       "\t& Int64 & Date & String\\\\\n",
       "\t\\hline\n",
       "\t1 & 1 & 2018-01-28 & adolescent \\\\\n",
       "\t2 & 3 & 2018-08-01 & infant \\\\\n",
       "\t3 & 2 & 2019-04-03 & adult \\\\\n",
       "\t4 & 4 & 2020-11-22 & adult \\\\\n",
       "\\end{tabular}\n"
      ],
      "text/plain": [
       "\u001b[1m4×3 DataFrame\u001b[0m\n",
       "\u001b[1m Row \u001b[0m│\u001b[1m id    \u001b[0m\u001b[1m date       \u001b[0m\u001b[1m age        \u001b[0m\n",
       "\u001b[1m     \u001b[0m│\u001b[90m Int64 \u001b[0m\u001b[90m Date       \u001b[0m\u001b[90m String     \u001b[0m\n",
       "─────┼───────────────────────────────\n",
       "   1 │     1  2018-01-28  adolescent\n",
       "   2 │     3  2018-08-01  infant\n",
       "   3 │     2  2019-04-03  adult\n",
       "   4 │     4  2020-11-22  adult"
      ]
     },
     "execution_count": 203,
     "metadata": {},
     "output_type": "execute_result"
    }
   ],
   "source": [
    "sort(df, :date) # 排序成功，是按照日期排的序"
   ]
  },
  {
   "cell_type": "markdown",
   "metadata": {},
   "source": [
    "按某个字符串列的特定顺序（自定义）排列行"
   ]
  },
  {
   "cell_type": "code",
   "execution_count": null,
   "metadata": {},
   "outputs": [],
   "source": [
    "using CategoricalArrays"
   ]
  },
  {
   "cell_type": "code",
   "execution_count": null,
   "metadata": {},
   "outputs": [
    {
     "data": {
      "text/html": [
       "<div class=\"data-frame\"><p>4 rows × 3 columns</p><table class=\"data-frame\"><thead><tr><th></th><th>id</th><th>date</th><th>age</th></tr><tr><th></th><th title=\"Int64\">Int64</th><th title=\"String\">String</th><th title=\"CategoricalValue{String, UInt32}\">Cat…</th></tr></thead><tbody><tr><th>1</th><td>1</td><td>28−01−2018</td><td>adolescent</td></tr><tr><th>2</th><td>2</td><td>03−04−2019</td><td>adult</td></tr><tr><th>3</th><td>3</td><td>01−08−2018</td><td>infant</td></tr><tr><th>4</th><td>4</td><td>22−11−2020</td><td>adult</td></tr></tbody></table></div>"
      ],
      "text/latex": [
       "\\begin{tabular}{r|ccc}\n",
       "\t& id & date & age\\\\\n",
       "\t\\hline\n",
       "\t& Int64 & String & Cat…\\\\\n",
       "\t\\hline\n",
       "\t1 & 1 & 28−01−2018 & adolescent \\\\\n",
       "\t2 & 2 & 03−04−2019 & adult \\\\\n",
       "\t3 & 3 & 01−08−2018 & infant \\\\\n",
       "\t4 & 4 & 22−11−2020 & adult \\\\\n",
       "\\end{tabular}\n"
      ],
      "text/plain": [
       "\u001b[1m4×3 DataFrame\u001b[0m\n",
       "\u001b[1m Row \u001b[0m│\u001b[1m id    \u001b[0m\u001b[1m date       \u001b[0m\u001b[1m age        \u001b[0m\n",
       "\u001b[1m     \u001b[0m│\u001b[90m Int64 \u001b[0m\u001b[90m String     \u001b[0m\u001b[90m Cat…       \u001b[0m\n",
       "─────┼───────────────────────────────\n",
       "   1 │     1  28−01−2018  adolescent\n",
       "   2 │     2  03−04−2019  adult\n",
       "   3 │     3  01−08−2018  infant\n",
       "   4 │     4  22−11−2020  adult"
      ]
     },
     "execution_count": 208,
     "metadata": {},
     "output_type": "execute_result"
    }
   ],
   "source": [
    "function fix_age_column(df)\n",
    "    levels = [\"infant\", \"adolescent\", \"adult\"]\n",
    "    ages = categorical(df[!, :age]; levels, ordered=true)\n",
    "    df[!, :age] = ages\n",
    "    df\n",
    "end\n",
    "fix_age_column(wrong_types())"
   ]
  },
  {
   "cell_type": "code",
   "execution_count": null,
   "metadata": {},
   "outputs": [
    {
     "data": {
      "text/html": [
       "<div class=\"data-frame\"><p>4 rows × 3 columns</p><table class=\"data-frame\"><thead><tr><th></th><th>id</th><th>date</th><th>age</th></tr><tr><th></th><th title=\"Int64\">Int64</th><th title=\"String\">String</th><th title=\"CategoricalValue{String, UInt32}\">Cat…</th></tr></thead><tbody><tr><th>1</th><td>3</td><td>01−08−2018</td><td>infant</td></tr><tr><th>2</th><td>1</td><td>28−01−2018</td><td>adolescent</td></tr><tr><th>3</th><td>2</td><td>03−04−2019</td><td>adult</td></tr><tr><th>4</th><td>4</td><td>22−11−2020</td><td>adult</td></tr></tbody></table></div>"
      ],
      "text/latex": [
       "\\begin{tabular}{r|ccc}\n",
       "\t& id & date & age\\\\\n",
       "\t\\hline\n",
       "\t& Int64 & String & Cat…\\\\\n",
       "\t\\hline\n",
       "\t1 & 3 & 01−08−2018 & infant \\\\\n",
       "\t2 & 1 & 28−01−2018 & adolescent \\\\\n",
       "\t3 & 2 & 03−04−2019 & adult \\\\\n",
       "\t4 & 4 & 22−11−2020 & adult \\\\\n",
       "\\end{tabular}\n"
      ],
      "text/plain": [
       "\u001b[1m4×3 DataFrame\u001b[0m\n",
       "\u001b[1m Row \u001b[0m│\u001b[1m id    \u001b[0m\u001b[1m date       \u001b[0m\u001b[1m age        \u001b[0m\n",
       "\u001b[1m     \u001b[0m│\u001b[90m Int64 \u001b[0m\u001b[90m String     \u001b[0m\u001b[90m Cat…       \u001b[0m\n",
       "─────┼───────────────────────────────\n",
       "   1 │     3  01−08−2018  infant\n",
       "   2 │     1  28−01−2018  adolescent\n",
       "   3 │     2  03−04−2019  adult\n",
       "   4 │     4  22−11−2020  adult"
      ]
     },
     "execution_count": 210,
     "metadata": {},
     "output_type": "execute_result"
    }
   ],
   "source": [
    "df = fix_age_column(wrong_types())\n",
    "sort(df, :age) # 成功按设定的 levels 排序"
   ]
  },
  {
   "cell_type": "code",
   "execution_count": null,
   "metadata": {},
   "outputs": [
    {
     "data": {
      "text/html": [
       "<div class=\"data-frame\"><p>4 rows × 3 columns</p><table class=\"data-frame\"><thead><tr><th></th><th>id</th><th>date</th><th>age</th></tr><tr><th></th><th title=\"Int64\">Int64</th><th title=\"Date\">Date</th><th title=\"CategoricalValue{String, UInt32}\">Cat…</th></tr></thead><tbody><tr><th>1</th><td>1</td><td>2018-01-28</td><td>adolescent</td></tr><tr><th>2</th><td>2</td><td>2019-04-03</td><td>adult</td></tr><tr><th>3</th><td>3</td><td>2018-08-01</td><td>infant</td></tr><tr><th>4</th><td>4</td><td>2020-11-22</td><td>adult</td></tr></tbody></table></div>"
      ],
      "text/latex": [
       "\\begin{tabular}{r|ccc}\n",
       "\t& id & date & age\\\\\n",
       "\t\\hline\n",
       "\t& Int64 & Date & Cat…\\\\\n",
       "\t\\hline\n",
       "\t1 & 1 & 2018-01-28 & adolescent \\\\\n",
       "\t2 & 2 & 2019-04-03 & adult \\\\\n",
       "\t3 & 3 & 2018-08-01 & infant \\\\\n",
       "\t4 & 4 & 2020-11-22 & adult \\\\\n",
       "\\end{tabular}\n"
      ],
      "text/plain": [
       "\u001b[1m4×3 DataFrame\u001b[0m\n",
       "\u001b[1m Row \u001b[0m│\u001b[1m id    \u001b[0m\u001b[1m date       \u001b[0m\u001b[1m age        \u001b[0m\n",
       "\u001b[1m     \u001b[0m│\u001b[90m Int64 \u001b[0m\u001b[90m Date       \u001b[0m\u001b[90m Cat…       \u001b[0m\n",
       "─────┼───────────────────────────────\n",
       "   1 │     1  2018-01-28  adolescent\n",
       "   2 │     2  2019-04-03  adult\n",
       "   3 │     3  2018-08-01  infant\n",
       "   4 │     4  2020-11-22  adult"
      ]
     },
     "execution_count": 211,
     "metadata": {},
     "output_type": "execute_result"
    }
   ],
   "source": [
    "function correct_types()\n",
    "    df = wrong_types()\n",
    "    df = fix_date_column(df)\n",
    "    df = fix_age_column(df)\n",
    "end\n",
    "correct_types()"
   ]
  },
  {
   "cell_type": "markdown",
   "metadata": {
    "tags": []
   },
   "source": [
    "### 列的运算\n",
    "\n",
    "创建新列或覆盖原列\n",
    "\n",
    "#### `transform()`\n",
    "\n",
    "`transform(df, source => transformation => target)`，其中 `transformation` 是一个函数，接收整列\n",
    "\n",
    "可以有 `[:Female_sum, :Male_sum] => ByRow(+) => :Total` 的语法"
   ]
  },
  {
   "cell_type": "code",
   "execution_count": 104,
   "metadata": {},
   "outputs": [
    {
     "data": {
      "text/html": [
       "<div class=\"data-frame\"><p>4 rows × 3 columns</p><table class=\"data-frame\"><thead><tr><th></th><th>name</th><th>grade_2020</th><th>new_grade_2020</th></tr><tr><th></th><th title=\"String\">String</th><th title=\"Float64\">Float64</th><th title=\"Float64\">Float64</th></tr></thead><tbody><tr><th>1</th><td>Sally</td><td>1.0</td><td>2.0</td></tr><tr><th>2</th><td>Bob</td><td>5.0</td><td>6.0</td></tr><tr><th>3</th><td>Alice</td><td>8.5</td><td>9.5</td></tr><tr><th>4</th><td>Hank</td><td>4.0</td><td>5.0</td></tr></tbody></table></div>"
      ],
      "text/latex": [
       "\\begin{tabular}{r|ccc}\n",
       "\t& name & grade\\_2020 & new\\_grade\\_2020\\\\\n",
       "\t\\hline\n",
       "\t& String & Float64 & Float64\\\\\n",
       "\t\\hline\n",
       "\t1 & Sally & 1.0 & 2.0 \\\\\n",
       "\t2 & Bob & 5.0 & 6.0 \\\\\n",
       "\t3 & Alice & 8.5 & 9.5 \\\\\n",
       "\t4 & Hank & 4.0 & 5.0 \\\\\n",
       "\\end{tabular}\n"
      ],
      "text/plain": [
       "\u001b[1m4×3 DataFrame\u001b[0m\n",
       "\u001b[1m Row \u001b[0m│\u001b[1m name   \u001b[0m\u001b[1m grade_2020 \u001b[0m\u001b[1m new_grade_2020 \u001b[0m\n",
       "\u001b[1m     \u001b[0m│\u001b[90m String \u001b[0m\u001b[90m Float64    \u001b[0m\u001b[90m Float64        \u001b[0m\n",
       "─────┼────────────────────────────────────\n",
       "   1 │ Sally          1.0             2.0\n",
       "   2 │ Bob            5.0             6.0\n",
       "   3 │ Alice          8.5             9.5\n",
       "   4 │ Hank           4.0             5.0"
      ]
     },
     "execution_count": 104,
     "metadata": {},
     "output_type": "execute_result"
    }
   ],
   "source": [
    "plus_one(grade) = grade + 1\n",
    "transform(grades_2020(), :grade_2020 => ByRow(plus_one) => :new_grade_2020)"
   ]
  },
  {
   "cell_type": "code",
   "execution_count": 105,
   "metadata": {},
   "outputs": [
    {
     "data": {
      "text/html": [
       "<div class=\"data-frame\"><p>4 rows × 3 columns</p><table class=\"data-frame\"><thead><tr><th></th><th>name</th><th>grade_2020</th><th>new_grade_2020</th></tr><tr><th></th><th title=\"String\">String</th><th title=\"Float64\">Float64</th><th title=\"Float64\">Float64</th></tr></thead><tbody><tr><th>1</th><td>Sally</td><td>1.0</td><td>2.0</td></tr><tr><th>2</th><td>Bob</td><td>5.0</td><td>6.0</td></tr><tr><th>3</th><td>Alice</td><td>8.5</td><td>9.5</td></tr><tr><th>4</th><td>Hank</td><td>4.0</td><td>5.0</td></tr></tbody></table></div>"
      ],
      "text/latex": [
       "\\begin{tabular}{r|ccc}\n",
       "\t& name & grade\\_2020 & new\\_grade\\_2020\\\\\n",
       "\t\\hline\n",
       "\t& String & Float64 & Float64\\\\\n",
       "\t\\hline\n",
       "\t1 & Sally & 1.0 & 2.0 \\\\\n",
       "\t2 & Bob & 5.0 & 6.0 \\\\\n",
       "\t3 & Alice & 8.5 & 9.5 \\\\\n",
       "\t4 & Hank & 4.0 & 5.0 \\\\\n",
       "\\end{tabular}\n"
      ],
      "text/plain": [
       "\u001b[1m4×3 DataFrame\u001b[0m\n",
       "\u001b[1m Row \u001b[0m│\u001b[1m name   \u001b[0m\u001b[1m grade_2020 \u001b[0m\u001b[1m new_grade_2020 \u001b[0m\n",
       "\u001b[1m     \u001b[0m│\u001b[90m String \u001b[0m\u001b[90m Float64    \u001b[0m\u001b[90m Float64        \u001b[0m\n",
       "─────┼────────────────────────────────────\n",
       "   1 │ Sally          1.0             2.0\n",
       "   2 │ Bob            5.0             6.0\n",
       "   3 │ Alice          8.5             9.5\n",
       "   4 │ Hank           4.0             5.0"
      ]
     },
     "execution_count": 105,
     "metadata": {},
     "output_type": "execute_result"
    }
   ],
   "source": [
    "plus_one_vec(grades) = grades .+ 1\n",
    "transform(grades_2020(), :grade_2020 => plus_one_vec => :new_grade_2020)"
   ]
  },
  {
   "cell_type": "code",
   "execution_count": 110,
   "metadata": {},
   "outputs": [
    {
     "data": {
      "text/html": [
       "<div class=\"data-frame\"><p>4 rows × 2 columns</p><table class=\"data-frame\"><thead><tr><th></th><th>name</th><th>grade_2020</th></tr><tr><th></th><th title=\"String\">String</th><th title=\"Float64\">Float64</th></tr></thead><tbody><tr><th>1</th><td>Sally</td><td>2.0</td></tr><tr><th>2</th><td>Bob</td><td>6.0</td></tr><tr><th>3</th><td>Alice</td><td>9.5</td></tr><tr><th>4</th><td>Hank</td><td>5.0</td></tr></tbody></table></div>"
      ],
      "text/latex": [
       "\\begin{tabular}{r|cc}\n",
       "\t& name & grade\\_2020\\\\\n",
       "\t\\hline\n",
       "\t& String & Float64\\\\\n",
       "\t\\hline\n",
       "\t1 & Sally & 2.0 \\\\\n",
       "\t2 & Bob & 6.0 \\\\\n",
       "\t3 & Alice & 9.5 \\\\\n",
       "\t4 & Hank & 5.0 \\\\\n",
       "\\end{tabular}\n"
      ],
      "text/plain": [
       "\u001b[1m4×2 DataFrame\u001b[0m\n",
       "\u001b[1m Row \u001b[0m│\u001b[1m name   \u001b[0m\u001b[1m grade_2020 \u001b[0m\n",
       "\u001b[1m     \u001b[0m│\u001b[90m String \u001b[0m\u001b[90m Float64    \u001b[0m\n",
       "─────┼────────────────────\n",
       "   1 │ Sally          2.0\n",
       "   2 │ Bob            6.0\n",
       "   3 │ Alice          9.5\n",
       "   4 │ Hank           5.0"
      ]
     },
     "execution_count": 110,
     "metadata": {},
     "output_type": "execute_result"
    }
   ],
   "source": [
    "transform(grades_2020(), :grade_2020 => plus_one_vec => :grade_2020) # 覆盖原列"
   ]
  },
  {
   "cell_type": "code",
   "execution_count": 111,
   "metadata": {},
   "outputs": [
    {
     "data": {
      "text/html": [
       "<div class=\"data-frame\"><p>4 rows × 2 columns</p><table class=\"data-frame\"><thead><tr><th></th><th>name</th><th>grade_2020</th></tr><tr><th></th><th title=\"String\">String</th><th title=\"Float64\">Float64</th></tr></thead><tbody><tr><th>1</th><td>Sally</td><td>2.0</td></tr><tr><th>2</th><td>Bob</td><td>6.0</td></tr><tr><th>3</th><td>Alice</td><td>9.5</td></tr><tr><th>4</th><td>Hank</td><td>5.0</td></tr></tbody></table></div>"
      ],
      "text/latex": [
       "\\begin{tabular}{r|cc}\n",
       "\t& name & grade\\_2020\\\\\n",
       "\t\\hline\n",
       "\t& String & Float64\\\\\n",
       "\t\\hline\n",
       "\t1 & Sally & 2.0 \\\\\n",
       "\t2 & Bob & 6.0 \\\\\n",
       "\t3 & Alice & 9.5 \\\\\n",
       "\t4 & Hank & 5.0 \\\\\n",
       "\\end{tabular}\n"
      ],
      "text/plain": [
       "\u001b[1m4×2 DataFrame\u001b[0m\n",
       "\u001b[1m Row \u001b[0m│\u001b[1m name   \u001b[0m\u001b[1m grade_2020 \u001b[0m\n",
       "\u001b[1m     \u001b[0m│\u001b[90m String \u001b[0m\u001b[90m Float64    \u001b[0m\n",
       "─────┼────────────────────\n",
       "   1 │ Sally          2.0\n",
       "   2 │ Bob            6.0\n",
       "   3 │ Alice          9.5\n",
       "   4 │ Hank           5.0"
      ]
     },
     "execution_count": 111,
     "metadata": {},
     "output_type": "execute_result"
    }
   ],
   "source": [
    "transform(grades_2020(), :grade_2020 => plus_one_vec; renamecols=false) # 覆盖原列的另一种写法"
   ]
  },
  {
   "cell_type": "markdown",
   "metadata": {},
   "source": [
    "#### `select()`\n",
    "\n",
    "或仍然用 `select(df, :, source => transformation => target)`"
   ]
  },
  {
   "cell_type": "code",
   "execution_count": 59,
   "metadata": {},
   "outputs": [
    {
     "data": {
      "text/html": [
       "<div class=\"data-frame\"><p>4 rows × 2 columns</p><table class=\"data-frame\"><thead><tr><th></th><th>name</th><th>grade_2020</th></tr><tr><th></th><th title=\"String\">String</th><th title=\"Float64\">Float64</th></tr></thead><tbody><tr><th>1</th><td>Sally</td><td>2.0</td></tr><tr><th>2</th><td>Bob</td><td>6.0</td></tr><tr><th>3</th><td>Alice</td><td>9.5</td></tr><tr><th>4</th><td>Hank</td><td>5.0</td></tr></tbody></table></div>"
      ],
      "text/latex": [
       "\\begin{tabular}{r|cc}\n",
       "\t& name & grade\\_2020\\\\\n",
       "\t\\hline\n",
       "\t& String & Float64\\\\\n",
       "\t\\hline\n",
       "\t1 & Sally & 2.0 \\\\\n",
       "\t2 & Bob & 6.0 \\\\\n",
       "\t3 & Alice & 9.5 \\\\\n",
       "\t4 & Hank & 5.0 \\\\\n",
       "\\end{tabular}\n"
      ],
      "text/plain": [
       "\u001b[1m4×2 DataFrame\u001b[0m\n",
       "\u001b[1m Row \u001b[0m│\u001b[1m name   \u001b[0m\u001b[1m grade_2020 \u001b[0m\n",
       "\u001b[1m     \u001b[0m│\u001b[90m String \u001b[0m\u001b[90m Float64    \u001b[0m\n",
       "─────┼────────────────────\n",
       "   1 │ Sally          2.0\n",
       "   2 │ Bob            6.0\n",
       "   3 │ Alice          9.5\n",
       "   4 │ Hank           5.0"
      ]
     },
     "execution_count": 59,
     "metadata": {},
     "output_type": "execute_result"
    }
   ],
   "source": [
    "select(grades_2020(), :, :grade_2020 => plus_one => :grade_2020)"
   ]
  },
  {
   "cell_type": "markdown",
   "metadata": {},
   "source": [
    "#### 赋值修改"
   ]
  },
  {
   "cell_type": "code",
   "execution_count": 114,
   "metadata": {},
   "outputs": [
    {
     "data": {
      "text/html": [
       "<div class=\"data-frame\"><p>4 rows × 2 columns</p><table class=\"data-frame\"><thead><tr><th></th><th>name</th><th>grade_2020</th></tr><tr><th></th><th title=\"String\">String</th><th title=\"Float64\">Float64</th></tr></thead><tbody><tr><th>1</th><td>Sally</td><td>2.0</td></tr><tr><th>2</th><td>Bob</td><td>6.0</td></tr><tr><th>3</th><td>Alice</td><td>9.5</td></tr><tr><th>4</th><td>Hank</td><td>5.0</td></tr></tbody></table></div>"
      ],
      "text/latex": [
       "\\begin{tabular}{r|cc}\n",
       "\t& name & grade\\_2020\\\\\n",
       "\t\\hline\n",
       "\t& String & Float64\\\\\n",
       "\t\\hline\n",
       "\t1 & Sally & 2.0 \\\\\n",
       "\t2 & Bob & 6.0 \\\\\n",
       "\t3 & Alice & 9.5 \\\\\n",
       "\t4 & Hank & 5.0 \\\\\n",
       "\\end{tabular}\n"
      ],
      "text/plain": [
       "\u001b[1m4×2 DataFrame\u001b[0m\n",
       "\u001b[1m Row \u001b[0m│\u001b[1m name   \u001b[0m\u001b[1m grade_2020 \u001b[0m\n",
       "\u001b[1m     \u001b[0m│\u001b[90m String \u001b[0m\u001b[90m Float64    \u001b[0m\n",
       "─────┼────────────────────\n",
       "   1 │ Sally          2.0\n",
       "   2 │ Bob            6.0\n",
       "   3 │ Alice          9.5\n",
       "   4 │ Hank           5.0"
      ]
     },
     "execution_count": 114,
     "metadata": {},
     "output_type": "execute_result"
    }
   ],
   "source": [
    "df = grades_2020()\n",
    "df.grade_2020 = plus_one_vec(df.grade_2020)\n",
    "df"
   ]
  },
  {
   "cell_type": "markdown",
   "metadata": {
    "jp-MarkdownHeadingCollapsed": true,
    "tags": []
   },
   "source": [
    "## 分组-聚合\n",
    "\n",
    "`groupby()` + `combine()`\n",
    "\n",
    "借鉴 R 中的 `groupby()`"
   ]
  },
  {
   "cell_type": "code",
   "execution_count": 54,
   "metadata": {},
   "outputs": [],
   "source": [
    "using Statistics"
   ]
  },
  {
   "cell_type": "code",
   "execution_count": 55,
   "metadata": {},
   "outputs": [
    {
     "data": {
      "text/html": [
       "<div class=\"data-frame\"><p>4 rows × 3 columns</p><table class=\"data-frame\"><thead><tr><th></th><th>group</th><th>X</th><th>Y</th></tr><tr><th></th><th title=\"Symbol\">Symbol</th><th title=\"Int64\">Int64</th><th title=\"Int64\">Int64</th></tr></thead><tbody><tr><th>1</th><td>A</td><td>1</td><td>5</td></tr><tr><th>2</th><td>A</td><td>2</td><td>6</td></tr><tr><th>3</th><td>B</td><td>3</td><td>7</td></tr><tr><th>4</th><td>B</td><td>4</td><td>8</td></tr></tbody></table></div>"
      ],
      "text/latex": [
       "\\begin{tabular}{r|ccc}\n",
       "\t& group & X & Y\\\\\n",
       "\t\\hline\n",
       "\t& Symbol & Int64 & Int64\\\\\n",
       "\t\\hline\n",
       "\t1 & A & 1 & 5 \\\\\n",
       "\t2 & A & 2 & 6 \\\\\n",
       "\t3 & B & 3 & 7 \\\\\n",
       "\t4 & B & 4 & 8 \\\\\n",
       "\\end{tabular}\n"
      ],
      "text/plain": [
       "\u001b[1m4×3 DataFrame\u001b[0m\n",
       "\u001b[1m Row \u001b[0m│\u001b[1m group  \u001b[0m\u001b[1m X     \u001b[0m\u001b[1m Y     \u001b[0m\n",
       "\u001b[1m     \u001b[0m│\u001b[90m Symbol \u001b[0m\u001b[90m Int64 \u001b[0m\u001b[90m Int64 \u001b[0m\n",
       "─────┼──────────────────────\n",
       "   1 │ A           1      5\n",
       "   2 │ A           2      6\n",
       "   3 │ B           3      7\n",
       "   4 │ B           4      8"
      ]
     },
     "execution_count": 55,
     "metadata": {},
     "output_type": "execute_result"
    }
   ],
   "source": [
    "group = [:A, :A, :B, :B]\n",
    "X = 1:4\n",
    "Y = 5:8\n",
    "df = DataFrame(; group, X, Y)"
   ]
  },
  {
   "cell_type": "code",
   "execution_count": 69,
   "metadata": {},
   "outputs": [
    {
     "data": {
      "text/html": [
       "<div class=\"data-frame\"><p>2 rows × 3 columns</p><table class=\"data-frame\"><thead><tr><th></th><th>group</th><th>X</th><th>Y</th></tr><tr><th></th><th title=\"Symbol\">Symbol</th><th title=\"Float64\">Float64</th><th title=\"Float64\">Float64</th></tr></thead><tbody><tr><th>1</th><td>A</td><td>1.5</td><td>5.5</td></tr><tr><th>2</th><td>B</td><td>3.5</td><td>7.5</td></tr></tbody></table></div>"
      ],
      "text/latex": [
       "\\begin{tabular}{r|ccc}\n",
       "\t& group & X & Y\\\\\n",
       "\t\\hline\n",
       "\t& Symbol & Float64 & Float64\\\\\n",
       "\t\\hline\n",
       "\t1 & A & 1.5 & 5.5 \\\\\n",
       "\t2 & B & 3.5 & 7.5 \\\\\n",
       "\\end{tabular}\n"
      ],
      "text/plain": [
       "\u001b[1m2×3 DataFrame\u001b[0m\n",
       "\u001b[1m Row \u001b[0m│\u001b[1m group  \u001b[0m\u001b[1m X       \u001b[0m\u001b[1m Y       \u001b[0m\n",
       "\u001b[1m     \u001b[0m│\u001b[90m Symbol \u001b[0m\u001b[90m Float64 \u001b[0m\u001b[90m Float64 \u001b[0m\n",
       "─────┼──────────────────────────\n",
       "   1 │ A           1.5      5.5\n",
       "   2 │ B           3.5      7.5"
      ]
     },
     "execution_count": 69,
     "metadata": {},
     "output_type": "execute_result"
    }
   ],
   "source": [
    "gdf = groupby(df, :group)\n",
    "combine(gdf, [:X, :Y] .=> mean; renamecols=false)"
   ]
  },
  {
   "cell_type": "code",
   "execution_count": 70,
   "metadata": {},
   "outputs": [
    {
     "data": {
      "text/html": [
       "<div class=\"data-frame\"><p>2 rows × 2 columns</p><table class=\"data-frame\"><thead><tr><th></th><th>group</th><th>avgX</th></tr><tr><th></th><th title=\"Symbol\">Symbol</th><th title=\"Float64\">Float64</th></tr></thead><tbody><tr><th>1</th><td>A</td><td>1.5</td></tr><tr><th>2</th><td>B</td><td>3.5</td></tr></tbody></table></div>"
      ],
      "text/latex": [
       "\\begin{tabular}{r|cc}\n",
       "\t& group & avgX\\\\\n",
       "\t\\hline\n",
       "\t& Symbol & Float64\\\\\n",
       "\t\\hline\n",
       "\t1 & A & 1.5 \\\\\n",
       "\t2 & B & 3.5 \\\\\n",
       "\\end{tabular}\n"
      ],
      "text/plain": [
       "\u001b[1m2×2 DataFrame\u001b[0m\n",
       "\u001b[1m Row \u001b[0m│\u001b[1m group  \u001b[0m\u001b[1m avgX    \u001b[0m\n",
       "\u001b[1m     \u001b[0m│\u001b[90m Symbol \u001b[0m\u001b[90m Float64 \u001b[0m\n",
       "─────┼─────────────────\n",
       "   1 │ A           1.5\n",
       "   2 │ B           3.5"
      ]
     },
     "execution_count": 70,
     "metadata": {},
     "output_type": "execute_result"
    }
   ],
   "source": [
    "@pipe df |> \n",
    "    groupby(_, :group) |> \n",
    "    combine(_, :X => mean => :avgX)"
   ]
  },
  {
   "cell_type": "code",
   "execution_count": 121,
   "metadata": {},
   "outputs": [
    {
     "data": {
      "text/html": [
       "<div class=\"data-frame\"><p>2 rows × 3 columns</p><table class=\"data-frame\"><thead><tr><th></th><th>group</th><th>X</th><th>Y</th></tr><tr><th></th><th title=\"Symbol\">Symbol</th><th title=\"Int64\">Int64</th><th title=\"Int64\">Int64</th></tr></thead><tbody><tr><th>1</th><td>A</td><td>2</td><td>6</td></tr><tr><th>2</th><td>B</td><td>4</td><td>8</td></tr></tbody></table></div>"
      ],
      "text/latex": [
       "\\begin{tabular}{r|ccc}\n",
       "\t& group & X & Y\\\\\n",
       "\t\\hline\n",
       "\t& Symbol & Int64 & Int64\\\\\n",
       "\t\\hline\n",
       "\t1 & A & 2 & 6 \\\\\n",
       "\t2 & B & 4 & 8 \\\\\n",
       "\\end{tabular}\n"
      ],
      "text/plain": [
       "\u001b[1m2×3 DataFrame\u001b[0m\n",
       "\u001b[1m Row \u001b[0m│\u001b[1m group  \u001b[0m\u001b[1m X     \u001b[0m\u001b[1m Y     \u001b[0m\n",
       "\u001b[1m     \u001b[0m│\u001b[90m Symbol \u001b[0m\u001b[90m Int64 \u001b[0m\u001b[90m Int64 \u001b[0m\n",
       "─────┼──────────────────────\n",
       "   1 │ A           2      6\n",
       "   2 │ B           4      8"
      ]
     },
     "execution_count": 121,
     "metadata": {},
     "output_type": "execute_result"
    }
   ],
   "source": [
    "gdf = groupby(df, :group)\n",
    "rounded_mean(data_col) = round(Int, mean(data_col))\n",
    "combine(gdf, [:X, :Y] .=> rounded_mean; renamecols=false)"
   ]
  },
  {
   "cell_type": "markdown",
   "metadata": {
    "tags": []
   },
   "source": [
    "## Join\n",
    "\n",
    "- `innerjoin(A, B; on=[:varA => :varB])`\n",
    "- `outerjoin(A, B; on=:var)`\n",
    "- `crossjoin(A, B; makeunique=true)`，行的笛卡尔积，会出现很多 missing 值\n",
    "- `leftjoin(A, B; on=[:varA => :varB])`\n",
    "- `rightjoin(A, B; on=:var)`\n",
    "- `semijoin(A, B; on=:var)`，仅返回存在于左侧 DataFrame 并同时存在于两张 DataFrame 的元素\n",
    "- `antijoin(A, B; on=:var)`，仅返回存在于左侧 DataFrame 但不存在于右侧 DataFrame 的元素\n"
   ]
  },
  {
   "cell_type": "markdown",
   "metadata": {},
   "source": [
    "## 提高性能\n",
    "\n",
    "- 使用 `!` 版本函数\n",
    "- 不要拷贝列，即使用 `df.col` 或 `df[!, :col]`，而不是 `df[:, :col]`\n",
    "- 不要拷贝 csv 数据，即使用 `CSV.read()` 而非 `CSV.File()`\n",
    "- `CSV.read()` 可以接收数据文件名的向量，并自动执行多线程并行计算，更快地将多个文件读到一个 DataFrame 中\n"
   ]
  },
  {
   "cell_type": "code",
   "execution_count": null,
   "metadata": {},
   "outputs": [],
   "source": []
  }
 ],
 "metadata": {
  "kernelspec": {
   "display_name": "Julia 1.7.3",
   "language": "julia",
   "name": "julia-1.7"
  },
  "language_info": {
   "file_extension": ".jl",
   "mimetype": "application/julia",
   "name": "julia",
   "version": "1.7.3"
  },
  "toc-autonumbering": true
 },
 "nbformat": 4,
 "nbformat_minor": 4
}
