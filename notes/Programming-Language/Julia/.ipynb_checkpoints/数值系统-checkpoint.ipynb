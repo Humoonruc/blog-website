{
 "cells": [
  {
   "cell_type": "markdown",
   "id": "e638d3c5-8e0e-4d2d-be55-a83d7b0bdf72",
   "metadata": {
    "tags": []
   },
   "source": [
    "# 3 数值系统"
   ]
  },
  {
   "cell_type": "markdown",
   "id": "a1f4c3b1-f1a2-4638-aa84-55d20b1c5966",
   "metadata": {},
   "source": [
    "## 3.1 整型"
   ]
  },
  {
   "cell_type": "markdown",
   "id": "3475f8a6-4495-47a0-a74d-ff24e3340f53",
   "metadata": {},
   "source": [
    "`typemin()`/`typemax()`查看类型能够表达的最小/大值"
   ]
  },
  {
   "cell_type": "code",
   "execution_count": 1,
   "id": "6d1091e2-a1c8-4de5-a248-5c040a5fc168",
   "metadata": {},
   "outputs": [
    {
     "data": {
      "text/plain": [
       "'\\0': ASCII/Unicode U+0000 (category Cc: Other, control)"
      ]
     },
     "execution_count": 1,
     "metadata": {},
     "output_type": "execute_result"
    }
   ],
   "source": [
    "typemin(Char)"
   ]
  },
  {
   "cell_type": "code",
   "execution_count": 2,
   "id": "d51abbd1-7de8-4809-ba6f-6426d37b21f7",
   "metadata": {},
   "outputs": [
    {
     "data": {
      "text/plain": [
       "'\\xff\\xff\\xff\\xff': Malformed UTF-8 (category Ma: Malformed, bad data)"
      ]
     },
     "execution_count": 2,
     "metadata": {},
     "output_type": "execute_result"
    }
   ],
   "source": [
    "typemax(Char)"
   ]
  },
  {
   "cell_type": "code",
   "execution_count": 3,
   "id": "cef7fcc2-25b9-431e-99c3-c64b8ae5b543",
   "metadata": {},
   "outputs": [
    {
     "data": {
      "text/plain": [
       "-9223372036854775808"
      ]
     },
     "execution_count": 3,
     "metadata": {},
     "output_type": "execute_result"
    }
   ],
   "source": [
    "typemin(Int64)"
   ]
  },
  {
   "cell_type": "code",
   "execution_count": 4,
   "id": "6a008c2a-7362-4f6f-8534-d571845b04e6",
   "metadata": {},
   "outputs": [
    {
     "data": {
      "text/plain": [
       "9223372036854775807"
      ]
     },
     "execution_count": 4,
     "metadata": {},
     "output_type": "execute_result"
    }
   ],
   "source": [
    "typemax(Int64)"
   ]
  },
  {
   "cell_type": "markdown",
   "id": "859ae28f-e80d-4e36-8959-7f71c65b2d3d",
   "metadata": {},
   "source": [
    "### 3.1.1 表达方式"
   ]
  },
  {
   "cell_type": "markdown",
   "id": "afb43005-ff46-4da6-b6fb-f3cb48202f38",
   "metadata": {},
   "source": [
    "前缀区分进制：\n",
    "- `0x` 十六进制\n",
    "- `0b` 二进制\n",
    "- `0o` 八进制"
   ]
  },
  {
   "cell_type": "markdown",
   "id": "cc2b11dd-f22c-42b7-81db-e7b2bca0b9d0",
   "metadata": {},
   "source": [
    "### 3.1.2 类型强制限定"
   ]
  },
  {
   "cell_type": "markdown",
   "id": "1809da59-1f39-469a-85cc-1014b47869a6",
   "metadata": {},
   "source": [
    "`类型名(输入值或变量)`"
   ]
  },
  {
   "cell_type": "code",
   "execution_count": 18,
   "id": "b72b982f-98e5-4f8a-8690-2aba9bc0a657",
   "metadata": {},
   "outputs": [
    {
     "data": {
      "text/plain": [
       "20"
      ]
     },
     "execution_count": 18,
     "metadata": {},
     "output_type": "execute_result"
    }
   ],
   "source": [
    "x2 = Int32(20)"
   ]
  },
  {
   "cell_type": "code",
   "execution_count": 22,
   "id": "25b34aac-1dbc-4b84-9dba-8d2d0e8253b6",
   "metadata": {},
   "outputs": [
    {
     "data": {
      "text/plain": [
       "0x14"
      ]
     },
     "execution_count": 22,
     "metadata": {},
     "output_type": "execute_result"
    }
   ],
   "source": [
    "UInt8(x2)"
   ]
  },
  {
   "cell_type": "markdown",
   "id": "5831ef78-4802-45d1-842e-e88c6828c93b",
   "metadata": {},
   "source": [
    "### 3.1.3 符号转换"
   ]
  },
  {
   "cell_type": "markdown",
   "id": "e147b1be-e1c2-4860-8523-c524980f11a1",
   "metadata": {},
   "source": [
    "## 3.2 Bool 型"
   ]
  },
  {
   "cell_type": "code",
   "execution_count": 23,
   "id": "a349e2df-1c1c-4c1e-9eae-6d8deaa254f3",
   "metadata": {},
   "outputs": [
    {
     "data": {
      "text/plain": [
       "1"
      ]
     },
     "execution_count": 23,
     "metadata": {},
     "output_type": "execute_result"
    }
   ],
   "source": [
    "Int64(true)"
   ]
  },
  {
   "cell_type": "code",
   "execution_count": 24,
   "id": "adc9ddd9-b3be-427f-b897-ddc91e784e11",
   "metadata": {},
   "outputs": [
    {
     "data": {
      "text/plain": [
       "0"
      ]
     },
     "execution_count": 24,
     "metadata": {},
     "output_type": "execute_result"
    }
   ],
   "source": [
    "Int64(false)"
   ]
  },
  {
   "cell_type": "code",
   "execution_count": 26,
   "id": "6a5d3b60-8a20-43bc-8b4c-6501cb834125",
   "metadata": {},
   "outputs": [
    {
     "data": {
      "text/plain": [
       "true"
      ]
     },
     "execution_count": 26,
     "metadata": {},
     "output_type": "execute_result"
    }
   ],
   "source": [
    "Bool(1::Int64)"
   ]
  },
  {
   "cell_type": "code",
   "execution_count": 27,
   "id": "0505082b-0fd0-4a29-9a5c-729561f787bc",
   "metadata": {},
   "outputs": [
    {
     "data": {
      "text/plain": [
       "false"
      ]
     },
     "execution_count": 27,
     "metadata": {},
     "output_type": "execute_result"
    }
   ],
   "source": [
    "Bool(0)"
   ]
  },
  {
   "cell_type": "code",
   "execution_count": 29,
   "id": "e641b58f-436c-4fb5-825c-710e49fe9bb8",
   "metadata": {},
   "outputs": [
    {
     "ename": "LoadError",
     "evalue": "InexactError: Bool(10)",
     "output_type": "error",
     "traceback": [
      "InexactError: Bool(10)",
      "",
      "Stacktrace:",
      " [1] Bool(x::Int64)",
      "   @ Base .\\float.jl:158",
      " [2] top-level scope",
      "   @ In[29]:1",
      " [3] eval",
      "   @ .\\boot.jl:373 [inlined]",
      " [4] include_string(mapexpr::typeof(REPL.softscope), mod::Module, code::String, filename::String)",
      "   @ Base .\\loading.jl:1196"
     ]
    }
   ],
   "source": [
    "Bool(10) # 非 1 和 0 的数值转换为 Bool 型会报错！这是 Julia 的一个特点"
   ]
  },
  {
   "cell_type": "markdown",
   "id": "d33a8cf9-e9c3-4411-b530-fe7d8820b669",
   "metadata": {},
   "source": [
    "## 3.3 浮点型"
   ]
  },
  {
   "cell_type": "code",
   "execution_count": null,
   "id": "d8da0bfc-b16b-4ecd-975c-4ccc1d155377",
   "metadata": {},
   "outputs": [],
   "source": []
  }
 ],
 "metadata": {
  "kernelspec": {
   "display_name": "Julia 1.7.3",
   "language": "julia",
   "name": "julia-1.7"
  },
  "language_info": {
   "file_extension": ".jl",
   "mimetype": "application/julia",
   "name": "julia",
   "version": "1.7.3"
  }
 },
 "nbformat": 4,
 "nbformat_minor": 5
}
