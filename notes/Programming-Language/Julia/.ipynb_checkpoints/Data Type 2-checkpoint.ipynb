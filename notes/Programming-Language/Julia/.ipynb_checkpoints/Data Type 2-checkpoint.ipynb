{
 "cells": [
  {
   "cell_type": "markdown",
   "id": "e638d3c5-8e0e-4d2d-be55-a83d7b0bdf72",
   "metadata": {
    "tags": []
   },
   "source": [
    "# 3 数值系统"
   ]
  },
  {
   "cell_type": "markdown",
   "id": "a1f4c3b1-f1a2-4638-aa84-55d20b1c5966",
   "metadata": {},
   "source": [
    "## 3.1 整型"
   ]
  },
  {
   "cell_type": "markdown",
   "id": "3475f8a6-4495-47a0-a74d-ff24e3340f53",
   "metadata": {},
   "source": [
    "`typemin()`/`typemax()`查看类型能够表达的最小/大值"
   ]
  },
  {
   "cell_type": "code",
   "execution_count": 47,
   "id": "6d1091e2-a1c8-4de5-a248-5c040a5fc168",
   "metadata": {},
   "outputs": [
    {
     "data": {
      "text/plain": [
       "'\\0': ASCII/Unicode U+0000 (category Cc: Other, control)"
      ]
     },
     "metadata": {},
     "output_type": "display_data"
    }
   ],
   "source": [
    "typemin(Char)"
   ]
  },
  {
   "cell_type": "code",
   "execution_count": 48,
   "id": "d51abbd1-7de8-4809-ba6f-6426d37b21f7",
   "metadata": {},
   "outputs": [
    {
     "data": {
      "text/plain": [
       "'\\xff\\xff\\xff\\xff': Malformed UTF-8 (category Ma: Malformed, bad data)"
      ]
     },
     "metadata": {},
     "output_type": "display_data"
    }
   ],
   "source": [
    "typemax(Char)"
   ]
  },
  {
   "cell_type": "code",
   "execution_count": 49,
   "id": "cef7fcc2-25b9-431e-99c3-c64b8ae5b543",
   "metadata": {},
   "outputs": [
    {
     "data": {
      "text/plain": [
       "-9223372036854775808"
      ]
     },
     "metadata": {},
     "output_type": "display_data"
    }
   ],
   "source": [
    "typemin(Int64)"
   ]
  },
  {
   "cell_type": "code",
   "execution_count": 50,
   "id": "6a008c2a-7362-4f6f-8534-d571845b04e6",
   "metadata": {},
   "outputs": [
    {
     "data": {
      "text/plain": [
       "9223372036854775807"
      ]
     },
     "metadata": {},
     "output_type": "display_data"
    }
   ],
   "source": [
    "typemax(Int64)"
   ]
  },
  {
   "cell_type": "markdown",
   "id": "859ae28f-e80d-4e36-8959-7f71c65b2d3d",
   "metadata": {},
   "source": [
    "### 3.1.1 表达方式"
   ]
  },
  {
   "cell_type": "markdown",
   "id": "afb43005-ff46-4da6-b6fb-f3cb48202f38",
   "metadata": {},
   "source": [
    "前缀区分进制：\n",
    "- `0x` 十六进制\n",
    "- `0b` 二进制\n",
    "- `0o` 八进制"
   ]
  },
  {
   "cell_type": "markdown",
   "id": "cc2b11dd-f22c-42b7-81db-e7b2bca0b9d0",
   "metadata": {},
   "source": [
    "### 3.1.2 类型强制限定"
   ]
  },
  {
   "cell_type": "markdown",
   "id": "1809da59-1f39-469a-85cc-1014b47869a6",
   "metadata": {},
   "source": [
    "`类型名(输入值或变量)`"
   ]
  },
  {
   "cell_type": "code",
   "execution_count": 51,
   "id": "b72b982f-98e5-4f8a-8690-2aba9bc0a657",
   "metadata": {},
   "outputs": [
    {
     "data": {
      "text/plain": [
       "20"
      ]
     },
     "metadata": {},
     "output_type": "display_data"
    }
   ],
   "source": [
    "x2 = Int32(20)"
   ]
  },
  {
   "cell_type": "code",
   "execution_count": 52,
   "id": "25b34aac-1dbc-4b84-9dba-8d2d0e8253b6",
   "metadata": {},
   "outputs": [
    {
     "data": {
      "text/plain": [
       "0x14"
      ]
     },
     "metadata": {},
     "output_type": "display_data"
    }
   ],
   "source": [
    "UInt8(x2)"
   ]
  },
  {
   "cell_type": "markdown",
   "id": "5831ef78-4802-45d1-842e-e88c6828c93b",
   "metadata": {},
   "source": [
    "### 3.1.3 符号转换"
   ]
  },
  {
   "cell_type": "markdown",
   "id": "e147b1be-e1c2-4860-8523-c524980f11a1",
   "metadata": {},
   "source": [
    "## 3.2 Bool 型"
   ]
  },
  {
   "cell_type": "code",
   "execution_count": 53,
   "id": "a349e2df-1c1c-4c1e-9eae-6d8deaa254f3",
   "metadata": {},
   "outputs": [
    {
     "data": {
      "text/plain": [
       "1"
      ]
     },
     "metadata": {},
     "output_type": "display_data"
    }
   ],
   "source": [
    "Int64(true)"
   ]
  },
  {
   "cell_type": "code",
   "execution_count": 54,
   "id": "adc9ddd9-b3be-427f-b897-ddc91e784e11",
   "metadata": {},
   "outputs": [
    {
     "data": {
      "text/plain": [
       "0"
      ]
     },
     "metadata": {},
     "output_type": "display_data"
    }
   ],
   "source": [
    "Int64(false)"
   ]
  },
  {
   "cell_type": "code",
   "execution_count": 55,
   "id": "6a5d3b60-8a20-43bc-8b4c-6501cb834125",
   "metadata": {},
   "outputs": [
    {
     "data": {
      "text/plain": [
       "true"
      ]
     },
     "metadata": {},
     "output_type": "display_data"
    }
   ],
   "source": [
    "Bool(1::Int64)"
   ]
  },
  {
   "cell_type": "code",
   "execution_count": 56,
   "id": "0505082b-0fd0-4a29-9a5c-729561f787bc",
   "metadata": {},
   "outputs": [
    {
     "data": {
      "text/plain": [
       "false"
      ]
     },
     "metadata": {},
     "output_type": "display_data"
    }
   ],
   "source": [
    "Bool(0)"
   ]
  },
  {
   "cell_type": "code",
   "execution_count": 57,
   "id": "e641b58f-436c-4fb5-825c-710e49fe9bb8",
   "metadata": {},
   "outputs": [
    {
     "ename": "InexactError",
     "evalue": "InexactError: Bool(10)",
     "output_type": "error",
     "traceback": [
      "InexactError: Bool(10)\n",
      "\n",
      "Stacktrace:\n",
      "  [1] Bool(x::Int64)\n",
      "    @ Base .\\float.jl:158\n",
      "  [2] top-level scope\n",
      "    @ c:\\Users\\humoo\\OneDrive\\ICT\\Programming-Language\\Julia\\notes\\数值系统.ipynb:1\n",
      "  [3] eval\n",
      "    @ .\\boot.jl:373 [inlined]\n",
      "  [4] include_string(mapexpr::typeof(REPL.softscope), mod::Module, code::String, filename::String)\n",
      "    @ Base .\\loading.jl:1196\n",
      "  [5] #invokelatest#2\n",
      "    @ .\\essentials.jl:716 [inlined]\n",
      "  [6] invokelatest\n",
      "    @ .\\essentials.jl:714 [inlined]\n",
      "  [7] (::VSCodeServer.var\"#164#165\"{VSCodeServer.NotebookRunCellArguments, String})()\n",
      "    @ VSCodeServer c:\\Users\\humoo\\.vscode\\extensions\\julialang.language-julia-1.6.24\\scripts\\packages\\VSCodeServer\\src\\serve_notebook.jl:19\n",
      "  [8] withpath(f::VSCodeServer.var\"#164#165\"{VSCodeServer.NotebookRunCellArguments, String}, path::String)\n",
      "    @ VSCodeServer c:\\Users\\humoo\\.vscode\\extensions\\julialang.language-julia-1.6.24\\scripts\\packages\\VSCodeServer\\src\\repl.jl:184\n",
      "  [9] notebook_runcell_request(conn::VSCodeServer.JSONRPC.JSONRPCEndpoint{Base.PipeEndpoint, Base.PipeEndpoint}, params::VSCodeServer.NotebookRunCellArguments)\n",
      "    @ VSCodeServer c:\\Users\\humoo\\.vscode\\extensions\\julialang.language-julia-1.6.24\\scripts\\packages\\VSCodeServer\\src\\serve_notebook.jl:13\n",
      " [10] dispatch_msg(x::VSCodeServer.JSONRPC.JSONRPCEndpoint{Base.PipeEndpoint, Base.PipeEndpoint}, dispatcher::VSCodeServer.JSONRPC.MsgDispatcher, msg::Dict{String, Any})\n",
      "    @ VSCodeServer.JSONRPC c:\\Users\\humoo\\.vscode\\extensions\\julialang.language-julia-1.6.24\\scripts\\packages\\JSONRPC\\src\\typed.jl:67\n",
      " [11] serve_notebook(pipename::String, outputchannel_logger::Base.CoreLogging.SimpleLogger; crashreporting_pipename::String)\n",
      "    @ VSCodeServer c:\\Users\\humoo\\.vscode\\extensions\\julialang.language-julia-1.6.24\\scripts\\packages\\VSCodeServer\\src\\serve_notebook.jl:136\n",
      " [12] top-level scope\n",
      "    @ c:\\Users\\humoo\\.vscode\\extensions\\julialang.language-julia-1.6.24\\scripts\\notebook\\notebook.jl:32\n",
      " [13] include(mod::Module, _path::String)\n",
      "    @ Base .\\Base.jl:418\n",
      " [14] exec_options(opts::Base.JLOptions)\n",
      "    @ Base .\\client.jl:292\n",
      " [15] _start()\n",
      "    @ Base .\\client.jl:495"
     ]
    }
   ],
   "source": [
    "Bool(10) # 非 1 和 0 的数值转换为 Bool 型会报错！这是 Julia 的一个特点"
   ]
  },
  {
   "cell_type": "markdown",
   "id": "d33a8cf9-e9c3-4411-b530-fe7d8820b669",
   "metadata": {},
   "source": [
    "## 3.3 浮点型\n",
    "\n",
    "### 3.3.1 基本定义"
   ]
  },
  {
   "cell_type": "markdown",
   "id": "d8da0bfc-b16b-4ecd-975c-4ccc1d155377",
   "metadata": {},
   "source": [
    "有 Float16, Float32, Float64 三类，精度不同。64 位系统默认使用 Float64\n",
    "\n",
    "用科学计数法输入数字时，默认为浮点数"
   ]
  },
  {
   "cell_type": "code",
   "execution_count": 58,
   "id": "5d0a7ece",
   "metadata": {},
   "outputs": [
    {
     "data": {
      "text/plain": [
       "1.0e10"
      ]
     },
     "metadata": {},
     "output_type": "display_data"
    }
   ],
   "source": [
    "1e10"
   ]
  },
  {
   "cell_type": "markdown",
   "id": "4049d077",
   "metadata": {},
   "source": [
    "浮点数在内存中的储存形式与整形有很大的不同"
   ]
  },
  {
   "cell_type": "code",
   "execution_count": 59,
   "id": "de9fe175",
   "metadata": {},
   "outputs": [
    {
     "data": {
      "text/plain": [
       "\"0000000000000000000000000000000000000000000000000000000000000001\""
      ]
     },
     "metadata": {},
     "output_type": "display_data"
    }
   ],
   "source": [
    "bitstring(1::Int64)"
   ]
  },
  {
   "cell_type": "code",
   "execution_count": 60,
   "id": "d0ec1fba",
   "metadata": {},
   "outputs": [
    {
     "data": {
      "text/plain": [
       "\"0011111111110000000000000000000000000000000000000000000000000000\""
      ]
     },
     "metadata": {},
     "output_type": "display_data"
    }
   ],
   "source": [
    "bitstring(1.0)"
   ]
  },
  {
   "cell_type": "markdown",
   "id": "8070b80b",
   "metadata": {},
   "source": [
    "### 3.3.2 epsilon"
   ]
  },
  {
   "cell_type": "markdown",
   "id": "5dca8e10",
   "metadata": {},
   "source": [
    "计算机所能构建的两个浮点数之间的最小间隔\n",
    "\n",
    "在计算机能够表达的浮点数集合中，越靠近零点，数值的分布越稠密；而远离零点时，则会变得越来越稀疏，精度也会越来越差。"
   ]
  },
  {
   "cell_type": "markdown",
   "id": "b56de5f9",
   "metadata": {},
   "source": [
    "### 3.3.3 无穷值"
   ]
  },
  {
   "cell_type": "markdown",
   "id": "7ecdce4b",
   "metadata": {},
   "source": [
    "Julia 允许除数为 0，返回 Inf 或 -Inf\n",
    "> 但不允许分子分母同时为0"
   ]
  },
  {
   "cell_type": "code",
   "execution_count": 61,
   "id": "f8fd7f7e",
   "metadata": {},
   "outputs": [
    {
     "data": {
      "text/plain": [
       "Inf"
      ]
     },
     "metadata": {},
     "output_type": "display_data"
    }
   ],
   "source": [
    "1.2/0"
   ]
  },
  {
   "cell_type": "code",
   "execution_count": 62,
   "id": "1aee85ac",
   "metadata": {},
   "outputs": [
    {
     "data": {
      "text/plain": [
       "-Inf"
      ]
     },
     "metadata": {},
     "output_type": "display_data"
    }
   ],
   "source": [
    "-1.2/0.0"
   ]
  },
  {
   "cell_type": "code",
   "execution_count": 63,
   "id": "45e40c4d",
   "metadata": {},
   "outputs": [
    {
     "data": {
      "text/plain": [
       "false"
      ]
     },
     "metadata": {},
     "output_type": "display_data"
    }
   ],
   "source": [
    "isfinite(Inf)"
   ]
  },
  {
   "cell_type": "code",
   "execution_count": 64,
   "id": "938ac6e4",
   "metadata": {},
   "outputs": [
    {
     "data": {
      "text/plain": [
       "true"
      ]
     },
     "metadata": {},
     "output_type": "display_data"
    }
   ],
   "source": [
    "isinf(-Inf)"
   ]
  },
  {
   "cell_type": "markdown",
   "id": "08ea9847",
   "metadata": {},
   "source": [
    "### 3.3.4 非数值"
   ]
  },
  {
   "cell_type": "markdown",
   "id": "88ea90ad",
   "metadata": {},
   "source": [
    "`NaN`, not a number, 用 `isnan()` 检验类型"
   ]
  },
  {
   "cell_type": "code",
   "execution_count": 65,
   "id": "e8b383c0",
   "metadata": {},
   "outputs": [
    {
     "data": {
      "text/plain": [
       "NaN"
      ]
     },
     "metadata": {},
     "output_type": "display_data"
    }
   ],
   "source": [
    "0/0"
   ]
  },
  {
   "cell_type": "markdown",
   "id": "8c21d7dc",
   "metadata": {},
   "source": [
    "### 3.3.5 内置常数\n",
    "\n",
    "需引入模块 Base.MathConstants"
   ]
  },
  {
   "cell_type": "markdown",
   "id": "a7968174",
   "metadata": {},
   "source": [
    "`pi`/`π`, `e`, "
   ]
  },
  {
   "cell_type": "code",
   "execution_count": 66,
   "id": "349b3151",
   "metadata": {},
   "outputs": [
    {
     "data": {
      "text/plain": [
       "ℯ = 2.7182818284590..."
      ]
     },
     "metadata": {},
     "output_type": "display_data"
    }
   ],
   "source": [
    "using Base.MathConstants\n",
    "e"
   ]
  },
  {
   "cell_type": "markdown",
   "id": "d2852183",
   "metadata": {},
   "source": [
    "## 3.4 有理数\n",
    "\n",
    "`Rational{T<:Integer>}<:Real` 分子、分母必须是整形的一种"
   ]
  },
  {
   "cell_type": "code",
   "execution_count": 67,
   "id": "d4372178",
   "metadata": {},
   "outputs": [
    {
     "data": {
      "text/plain": [
       "2//3"
      ]
     },
     "metadata": {},
     "output_type": "display_data"
    }
   ],
   "source": [
    "2//3"
   ]
  },
  {
   "cell_type": "code",
   "execution_count": 68,
   "id": "ab7d9685",
   "metadata": {},
   "outputs": [
    {
     "data": {
      "text/plain": [
       "Rational{Int64}"
      ]
     },
     "metadata": {},
     "output_type": "display_data"
    }
   ],
   "source": [
    "typeof(2//3)"
   ]
  },
  {
   "cell_type": "markdown",
   "id": "d6b8fc54",
   "metadata": {},
   "source": [
    "数学上等价的有理数，在 Julia 中表达形式唯一\n",
    "- 分子与分母为不同整型时，Julia会通过必要的隐式转换，将两者的类型进行统一\n",
    "- 创建的Rational数值在Julia内部会被约分为标准形式\n",
    "- 确保分母不为负数\n",
    "- 不允许分子、分母同时为 0"
   ]
  },
  {
   "cell_type": "code",
   "execution_count": 69,
   "id": "41be2a76",
   "metadata": {},
   "outputs": [
    {
     "data": {
      "text/plain": [
       "1//5"
      ]
     },
     "metadata": {},
     "output_type": "display_data"
    }
   ],
   "source": [
    "UInt32(2)//Int64(10) # 统一为 Int64"
   ]
  },
  {
   "cell_type": "code",
   "execution_count": 70,
   "id": "ce9060b8",
   "metadata": {},
   "outputs": [
    {
     "data": {
      "text/plain": [
       "Rational{Int64}"
      ]
     },
     "metadata": {},
     "output_type": "display_data"
    }
   ],
   "source": [
    "typeof(UInt32(2) // Int64(10))"
   ]
  },
  {
   "cell_type": "code",
   "execution_count": 71,
   "id": "b120d1df",
   "metadata": {},
   "outputs": [
    {
     "data": {
      "text/plain": [
       "1//5"
      ]
     },
     "metadata": {},
     "output_type": "display_data"
    }
   ],
   "source": [
    "5//25"
   ]
  },
  {
   "cell_type": "code",
   "execution_count": 72,
   "id": "4fbe967f",
   "metadata": {},
   "outputs": [
    {
     "data": {
      "text/plain": [
       "-1//2"
      ]
     },
     "metadata": {},
     "output_type": "display_data"
    }
   ],
   "source": [
    "1//-2"
   ]
  },
  {
   "cell_type": "code",
   "execution_count": 73,
   "id": "8be6bc12",
   "metadata": {},
   "outputs": [
    {
     "data": {
      "text/plain": [
       "1//0"
      ]
     },
     "metadata": {},
     "output_type": "display_data"
    }
   ],
   "source": [
    "5//0"
   ]
  },
  {
   "cell_type": "code",
   "execution_count": 74,
   "id": "962e7f5a",
   "metadata": {},
   "outputs": [
    {
     "ename": "ArgumentError",
     "evalue": "ArgumentError: invalid rational: zero(Int64)//zero(Int64)",
     "output_type": "error",
     "traceback": [
      "ArgumentError: invalid rational: zero(Int64)//zero(Int64)\n",
      "\n",
      "Stacktrace:\n",
      "  [1] __throw_rational_argerror_zero(T::Type)\n",
      "    @ Base .\\rational.jl:32\n",
      "  [2] Rational{Int64}(num::Int64, den::Int64)\n",
      "    @ Base .\\rational.jl:34\n",
      "  [3] Rational\n",
      "    @ .\\rational.jl:39 [inlined]\n",
      "  [4] //(n::Int64, d::Int64)\n",
      "    @ Base .\\rational.jl:62\n",
      "  [5] top-level scope\n",
      "    @ c:\\Users\\humoo\\OneDrive\\ICT\\Programming-Language\\Julia\\notes\\数值系统.ipynb:1\n",
      "  [6] eval\n",
      "    @ .\\boot.jl:373 [inlined]\n",
      "  [7] include_string(mapexpr::typeof(REPL.softscope), mod::Module, code::String, filename::String)\n",
      "    @ Base .\\loading.jl:1196\n",
      "  [8] #invokelatest#2\n",
      "    @ .\\essentials.jl:716 [inlined]\n",
      "  [9] invokelatest\n",
      "    @ .\\essentials.jl:714 [inlined]\n",
      " [10] (::VSCodeServer.var\"#164#165\"{VSCodeServer.NotebookRunCellArguments, String})()\n",
      "    @ VSCodeServer c:\\Users\\humoo\\.vscode\\extensions\\julialang.language-julia-1.6.24\\scripts\\packages\\VSCodeServer\\src\\serve_notebook.jl:19\n",
      " [11] withpath(f::VSCodeServer.var\"#164#165\"{VSCodeServer.NotebookRunCellArguments, String}, path::String)\n",
      "    @ VSCodeServer c:\\Users\\humoo\\.vscode\\extensions\\julialang.language-julia-1.6.24\\scripts\\packages\\VSCodeServer\\src\\repl.jl:184\n",
      " [12] notebook_runcell_request(conn::VSCodeServer.JSONRPC.JSONRPCEndpoint{Base.PipeEndpoint, Base.PipeEndpoint}, params::VSCodeServer.NotebookRunCellArguments)\n",
      "    @ VSCodeServer c:\\Users\\humoo\\.vscode\\extensions\\julialang.language-julia-1.6.24\\scripts\\packages\\VSCodeServer\\src\\serve_notebook.jl:13\n",
      " [13] dispatch_msg(x::VSCodeServer.JSONRPC.JSONRPCEndpoint{Base.PipeEndpoint, Base.PipeEndpoint}, dispatcher::VSCodeServer.JSONRPC.MsgDispatcher, msg::Dict{String, Any})\n",
      "    @ VSCodeServer.JSONRPC c:\\Users\\humoo\\.vscode\\extensions\\julialang.language-julia-1.6.24\\scripts\\packages\\JSONRPC\\src\\typed.jl:67\n",
      " [14] serve_notebook(pipename::String, outputchannel_logger::Base.CoreLogging.SimpleLogger; crashreporting_pipename::String)\n",
      "    @ VSCodeServer c:\\Users\\humoo\\.vscode\\extensions\\julialang.language-julia-1.6.24\\scripts\\packages\\VSCodeServer\\src\\serve_notebook.jl:136\n",
      " [15] top-level scope\n",
      "    @ c:\\Users\\humoo\\.vscode\\extensions\\julialang.language-julia-1.6.24\\scripts\\notebook\\notebook.jl:32\n",
      " [16] include(mod::Module, _path::String)\n",
      "    @ Base .\\Base.jl:418\n",
      " [17] exec_options(opts::Base.JLOptions)\n",
      "    @ Base .\\client.jl:292\n",
      " [18] _start()\n",
      "    @ Base .\\client.jl:495"
     ]
    }
   ],
   "source": [
    "0//0"
   ]
  },
  {
   "cell_type": "markdown",
   "id": "39e74c5a",
   "metadata": {},
   "source": [
    "`numerator()`/`denominator()`获得分子和分母"
   ]
  },
  {
   "cell_type": "markdown",
   "id": "b8571232",
   "metadata": {},
   "source": [
    "## 3.5 复数"
   ]
  },
  {
   "cell_type": "markdown",
   "id": "28a39205",
   "metadata": {},
   "source": [
    "## 3.6 随机数"
   ]
  }
 ],
 "metadata": {
  "kernelspec": {
   "display_name": "Julia 1.7.3",
   "language": "julia",
   "name": "julia-1.7"
  },
  "language_info": {
   "file_extension": ".jl",
   "mimetype": "application/julia",
   "name": "julia",
   "version": "1.7.3"
  }
 },
 "nbformat": 4,
 "nbformat_minor": 5
}
