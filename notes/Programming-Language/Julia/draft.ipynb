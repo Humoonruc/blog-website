{
 "cells": [
  {
   "cell_type": "code",
   "execution_count": 1,
   "id": "2a9147ba-372f-43b6-8c24-8979b1e05394",
   "metadata": {},
   "outputs": [
    {
     "data": {
      "text/plain": [
       "#1 (generic function with 1 method)"
      ]
     },
     "execution_count": 1,
     "metadata": {},
     "output_type": "execute_result"
    }
   ],
   "source": [
    "const foo = x -> (\n",
    "    t = √(x + 2);\n",
    "    return t^x\n",
    ")\n",
    "# 这样写函数定义有 js 那味儿了：end 关键字可以滚了"
   ]
  },
  {
   "cell_type": "code",
   "execution_count": 2,
   "id": "5649d625-7450-4fb1-8824-391c72a771b7",
   "metadata": {},
   "outputs": [
    {
     "name": "stdout",
     "output_type": "stream",
     "text": [
      "σ = 2886.8956799071675\n",
      "std(X) = 2886.8956799071675\n"
     ]
    },
    {
     "data": {
      "text/plain": [
       "12204.910256705658"
      ]
     },
     "execution_count": 2,
     "metadata": {},
     "output_type": "execute_result"
    }
   ],
   "source": [
    "using Statistics\n",
    "\n",
    "1:10000 |> X ->\n",
    "    (\n",
    "        n = length(X);\n",
    "        X̄ = mean(X);\n",
    "        SST = sum((X .- X̄) .^ 2);\n",
    "        σ = √(SST / (n - 1));\n",
    "        @show σ std(X);\n",
    "        X[@. abs(X - X̄) < 1σ]\n",
    "    ) .|>\n",
    "    (x -> x^(1 // 4)) .|>\n",
    "    log |>\n",
    "    sum\n",
    "# 这样写管道有 R 那味儿了，再复杂的逻辑都给你串联无数行直到天荒地老"
   ]
  },
  {
   "cell_type": "code",
   "execution_count": null,
   "id": "d93e41a7-3ade-4fd9-a42f-6032169fae33",
   "metadata": {},
   "outputs": [],
   "source": []
  }
 ],
 "metadata": {
  "kernelspec": {
   "display_name": "Julia 1.7.3",
   "language": "julia",
   "name": "julia-1.7"
  },
  "language_info": {
   "file_extension": ".jl",
   "mimetype": "application/julia",
   "name": "julia",
   "version": "1.7.3"
  }
 },
 "nbformat": 4,
 "nbformat_minor": 5
}
