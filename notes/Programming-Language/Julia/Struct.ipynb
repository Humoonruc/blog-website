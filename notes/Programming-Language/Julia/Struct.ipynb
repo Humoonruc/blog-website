{
 "cells": [
  {
   "cell_type": "markdown",
   "id": "d3887bc8",
   "metadata": {},
   "source": [
    "# Struct\n",
    "\n",
    "## 类型参数化\n",
    "\n",
    "在定义 Struct 时，尽可能通过类型参数化限定内部成员的类型；并在限定类型时，尽量采用具体类型而不是抽象类型"
   ]
  },
  {
   "cell_type": "markdown",
   "id": "5f3727e7-f5e9-4fe1-9f8e-8f2d9407a110",
   "metadata": {},
   "source": [
    "## 构造新类\n",
    "\n",
    "定义一个表示二维平面上点的类，具有 x 坐标和 y 坐标"
   ]
  },
  {
   "cell_type": "code",
   "execution_count": 10,
   "id": "a325c234-7040-4a2b-ba9a-b863b3ed5e65",
   "metadata": {},
   "outputs": [
    {
     "data": {
      "text/plain": [
       "Point"
      ]
     },
     "execution_count": 10,
     "metadata": {},
     "output_type": "execute_result"
    }
   ],
   "source": [
    "\"\"\"\n",
    "Represents a 2D point. \n",
    "\n",
    "fields: x, y\n",
    "\n",
    "x, y 类型相同，且都是 Real 的子类型\n",
    "\"\"\"\n",
    "struct Point{T<:Real}\n",
    "    x::T\n",
    "    y::T\n",
    "end"
   ]
  },
  {
   "cell_type": "code",
   "execution_count": 11,
   "id": "04a770ef-9567-4a7f-a752-ef309e05a517",
   "metadata": {},
   "outputs": [
    {
     "data": {
      "text/plain": [
       "true"
      ]
     },
     "execution_count": 11,
     "metadata": {},
     "output_type": "execute_result"
    }
   ],
   "source": [
    "Point{Int64} <: Point"
   ]
  },
  {
   "cell_type": "code",
   "execution_count": 12,
   "id": "62ff469a-46c9-4583-9050-2703a2e75477",
   "metadata": {},
   "outputs": [
    {
     "data": {
      "text/plain": [
       "true"
      ]
     },
     "execution_count": 12,
     "metadata": {},
     "output_type": "execute_result"
    }
   ],
   "source": [
    "Point{Float64} <: Point"
   ]
  },
  {
   "cell_type": "markdown",
   "id": "084be769-efd0-4fdc-9211-ec24bf08206e",
   "metadata": {},
   "source": [
    "### 默认构造函数\n",
    "\n",
    "新建 struct 时不写自定义内部构造函数，就会使用默认的构造函数"
   ]
  },
  {
   "cell_type": "code",
   "execution_count": 6,
   "id": "1e9658e3-4c5a-497e-a553-4818a956e403",
   "metadata": {},
   "outputs": [
    {
     "data": {
      "text/plain": [
       "Point{Float64}(3.0, 4.0)"
      ]
     },
     "execution_count": 6,
     "metadata": {},
     "output_type": "execute_result"
    }
   ],
   "source": [
    "p = Point(3.0, 4.0) # 隐式指定子类型，在实例化过程中进行自动的类型推断"
   ]
  },
  {
   "cell_type": "code",
   "execution_count": 2,
   "id": "5872d6c4-6d69-4c33-ad94-69c5b736f335",
   "metadata": {},
   "outputs": [
    {
     "data": {
      "text/plain": [
       "Point{Float64}(3.0, 4.0)"
      ]
     },
     "execution_count": 2,
     "metadata": {},
     "output_type": "execute_result"
    }
   ],
   "source": [
    "p = Point{Float64}(3, 4) # 显式指定子类型"
   ]
  },
  {
   "cell_type": "markdown",
   "id": "9068d824-41a5-4723-a01f-d29f70b69aab",
   "metadata": {},
   "source": [
    "Point 并非只是一个类型，下面有很多子类型。实例化时，根据传入的参数自动选择最“窄”的类型，以加速运算\n",
    "\n",
    "所以，上面的定义方式就比\n",
    "```julia\n",
    "struct Point\n",
    "    x::Real\n",
    "    y::Real\n",
    "end\n",
    "```\n",
    "要好，因为后者的实例永远是 Real 型"
   ]
  },
  {
   "cell_type": "markdown",
   "id": "78f892dd-759b-4939-80e3-22ee93260248",
   "metadata": {},
   "source": [
    "### 自定义外部构造函数"
   ]
  },
  {
   "cell_type": "code",
   "execution_count": 6,
   "id": "d8dcadaa-dd34-4947-8836-6b59612660c5",
   "metadata": {},
   "outputs": [
    {
     "data": {
      "text/plain": [
       "Point"
      ]
     },
     "execution_count": 6,
     "metadata": {},
     "output_type": "execute_result"
    }
   ],
   "source": [
    "\"\"\"\n",
    "这是一个复制构造函数，返回 p 的一个副本\n",
    "\"\"\"\n",
    "function Point(p)\n",
    "    Point(p.x, p.y)\n",
    "end"
   ]
  },
  {
   "cell_type": "code",
   "execution_count": 7,
   "id": "9cd8be53-1e50-40f2-a712-2398831b5f92",
   "metadata": {},
   "outputs": [
    {
     "data": {
      "text/plain": [
       "Point{Float64}(3.0, 4.0)"
      ]
     },
     "execution_count": 7,
     "metadata": {},
     "output_type": "execute_result"
    }
   ],
   "source": [
    "p2 = Point(p)"
   ]
  },
  {
   "cell_type": "code",
   "execution_count": 8,
   "id": "61209ffb-64e0-4186-8da9-00cf815a7948",
   "metadata": {},
   "outputs": [
    {
     "data": {
      "text/html": [
       "# 2 methods for type constructor:<ul><li> Point(x::<b>T</b>, y::<b>T</b>)<i> where T<:Real</i> in Main at In[1]:9</li> <li> Point(p) in Main at In[6]:4</li> </ul>"
      ],
      "text/plain": [
       "# 2 methods for type constructor:\n",
       "[1] Point(x::T, y::T) where T<:Real in Main at In[1]:9\n",
       "[2] Point(p) in Main at In[6]:4"
      ]
     },
     "execution_count": 8,
     "metadata": {},
     "output_type": "execute_result"
    }
   ],
   "source": [
    "methods(Point)"
   ]
  },
  {
   "cell_type": "markdown",
   "id": "88dc7387-3847-407e-a8b4-d9a1917bed58",
   "metadata": {},
   "source": [
    "### 自定义内部构造函数\n",
    "\n",
    "会顶替默认构造函数"
   ]
  },
  {
   "cell_type": "code",
   "execution_count": 9,
   "id": "9f1d2d30-30cf-4525-ad01-17854859242c",
   "metadata": {},
   "outputs": [
    {
     "data": {
      "text/plain": [
       "Point2(0, 0)"
      ]
     },
     "execution_count": 9,
     "metadata": {},
     "output_type": "execute_result"
    }
   ],
   "source": [
    "\n",
    "struct Point2\n",
    "    x::Int64\n",
    "    y::Int64\n",
    "    function Point2(x=0, y=0) # 自定义内部构造函数\n",
    "        new(x, y) # `new`关键字\n",
    "    end\n",
    "end\n",
    "\n",
    "Point2()"
   ]
  },
  {
   "cell_type": "markdown",
   "id": "bc6c6924-7179-40a9-bc91-b0322b181cc4",
   "metadata": {},
   "source": [
    "### 自定义显示函数\n",
    "\n",
    "为 `Base.show(io, ...)` 添加一个方法，便于调试"
   ]
  },
  {
   "cell_type": "code",
   "execution_count": 10,
   "id": "9cd6f7db-3093-4550-8ac7-2a288b0fb9ff",
   "metadata": {},
   "outputs": [
    {
     "data": {
      "text/plain": [
       "Point: x = 1.00, y = 2.00"
      ]
     },
     "execution_count": 10,
     "metadata": {},
     "output_type": "execute_result"
    }
   ],
   "source": [
    "using Printf\n",
    "\n",
    "function Base.show(io::IO, p::Point)\n",
    "   @printf(io, \"Point: x = %.2f, y = %.2f\", p.x, p.y)\n",
    "end\n",
    "\n",
    "p3 = Point(1.0, 2.0)"
   ]
  },
  {
   "cell_type": "markdown",
   "id": "7c3896b3-9d0d-4fb9-9865-3b644fc5a88a",
   "metadata": {},
   "source": [
    "### 操作符重载\n",
    "\n",
    "[Operators Overloading](Basic-Grammar.md#Operators%20Overloading)"
   ]
  },
  {
   "cell_type": "code",
   "execution_count": 11,
   "id": "c5cf7090-a922-482b-ac56-dabf500c6788",
   "metadata": {},
   "outputs": [
    {
     "data": {
      "text/plain": [
       "+ (generic function with 209 methods)"
      ]
     },
     "execution_count": 11,
     "metadata": {},
     "output_type": "execute_result"
    }
   ],
   "source": [
    "import Base.+\n",
    "\n",
    "function +(p1::Point, p2::Point)\n",
    "   Point(p1.x + p2.x, p1.y + p2.y) \n",
    "end"
   ]
  },
  {
   "cell_type": "code",
   "execution_count": 12,
   "id": "3106acb5-f9f2-40f1-a1c5-1b37f0649e4b",
   "metadata": {},
   "outputs": [
    {
     "data": {
      "text/plain": [
       "Point: x = 4.00, y = 6.00"
      ]
     },
     "execution_count": 12,
     "metadata": {},
     "output_type": "execute_result"
    }
   ],
   "source": [
    "p2 + p3"
   ]
  },
  {
   "cell_type": "markdown",
   "id": "ce887183-3384-4904-9298-78b180f7874a",
   "metadata": {},
   "source": [
    "## 常用操作"
   ]
  },
  {
   "cell_type": "markdown",
   "id": "88750485-bc84-4904-9d1b-751a2e4b53ff",
   "metadata": {},
   "source": [
    "### 种属判断"
   ]
  },
  {
   "cell_type": "code",
   "execution_count": 13,
   "id": "06ccf2b1",
   "metadata": {},
   "outputs": [
    {
     "data": {
      "text/plain": [
       "true"
      ]
     },
     "execution_count": 13,
     "metadata": {},
     "output_type": "execute_result"
    }
   ],
   "source": [
    "p isa Point"
   ]
  },
  {
   "cell_type": "markdown",
   "id": "52897808-bfa6-41d8-8e66-f0e828cbfa10",
   "metadata": {},
   "source": [
    "### 访问字段"
   ]
  },
  {
   "cell_type": "code",
   "execution_count": 14,
   "id": "532d2426",
   "metadata": {},
   "outputs": [
    {
     "data": {
      "text/plain": [
       "3.0"
      ]
     },
     "execution_count": 14,
     "metadata": {},
     "output_type": "execute_result"
    }
   ],
   "source": [
    "p.x"
   ]
  },
  {
   "cell_type": "code",
   "execution_count": 15,
   "id": "3e7fa31e",
   "metadata": {},
   "outputs": [
    {
     "data": {
      "text/plain": [
       "4.0"
      ]
     },
     "execution_count": 15,
     "metadata": {},
     "output_type": "execute_result"
    }
   ],
   "source": [
    "p.y"
   ]
  },
  {
   "cell_type": "code",
   "execution_count": 16,
   "id": "475422d0",
   "metadata": {},
   "outputs": [
    {
     "data": {
      "text/plain": [
       "5.0"
      ]
     },
     "execution_count": 16,
     "metadata": {},
     "output_type": "execute_result"
    }
   ],
   "source": [
    "dis = sqrt(p.x^2 + p.y^2)"
   ]
  },
  {
   "cell_type": "markdown",
   "id": "5210f8c4-f478-4d26-8456-ffa38dfd03dd",
   "metadata": {},
   "source": [
    "### 查看字段\n",
    "\n",
    "`fieldnames(stru::Struct)` 查看 struct 的字段，返回 tuple{Symbol}"
   ]
  },
  {
   "cell_type": "code",
   "execution_count": 17,
   "id": "959d5e55-1b30-4889-aa96-401e636e716a",
   "metadata": {},
   "outputs": [
    {
     "data": {
      "text/plain": [
       "(:x, :y)"
      ]
     },
     "execution_count": 17,
     "metadata": {},
     "output_type": "execute_result"
    }
   ],
   "source": [
    "fieldnames(Point)"
   ]
  },
  {
   "cell_type": "markdown",
   "id": "1f30f5de-d8d3-4b11-ac9f-19036153c0e7",
   "metadata": {},
   "source": [
    "`isdefined()` 对象是否有某个字段"
   ]
  },
  {
   "cell_type": "code",
   "execution_count": 18,
   "id": "653ce01c-51c0-497a-ac1b-187c65689fdc",
   "metadata": {},
   "outputs": [
    {
     "data": {
      "text/plain": [
       "true"
      ]
     },
     "execution_count": 18,
     "metadata": {},
     "output_type": "execute_result"
    }
   ],
   "source": [
    "isdefined(p, :x)"
   ]
  },
  {
   "cell_type": "code",
   "execution_count": 19,
   "id": "db680d4e-298f-401e-bf21-941f22dd4125",
   "metadata": {},
   "outputs": [
    {
     "data": {
      "text/plain": [
       "false"
      ]
     },
     "execution_count": 19,
     "metadata": {},
     "output_type": "execute_result"
    }
   ],
   "source": [
    "isdefined(p, :z)"
   ]
  },
  {
   "cell_type": "markdown",
   "id": "068d0269-0c26-4a16-a340-6ee81f332754",
   "metadata": {},
   "source": [
    "## mutable Struct\n",
    "\n",
    "Struct 是不可变对象，一旦构造，字段值不能被重新赋值\n",
    "\n",
    "除非专门用 `mutable struct` 声明一个可变的 struct"
   ]
  },
  {
   "cell_type": "code",
   "execution_count": 20,
   "id": "58fead6a",
   "metadata": {},
   "outputs": [
    {
     "ename": "LoadError",
     "evalue": "setfield!: immutable struct of type Point cannot be changed",
     "output_type": "error",
     "traceback": [
      "setfield!: immutable struct of type Point cannot be changed",
      "",
      "Stacktrace:",
      " [1] setproperty!(x::Point{Float64}, f::Symbol, v::Int64)",
      "   @ Base .\\Base.jl:43",
      " [2] top-level scope",
      "   @ In[20]:1",
      " [3] eval",
      "   @ .\\boot.jl:373 [inlined]",
      " [4] include_string(mapexpr::typeof(REPL.softscope), mod::Module, code::String, filename::String)",
      "   @ Base .\\loading.jl:1196"
     ]
    }
   ],
   "source": [
    "p.x = 2 # 实例化后不可修改"
   ]
  },
  {
   "cell_type": "code",
   "execution_count": 21,
   "id": "df7e13c7",
   "metadata": {},
   "outputs": [],
   "source": [
    "mutable struct MPoint\n",
    "  x::Float64\n",
    "  y::Float64\n",
    "end"
   ]
  },
  {
   "cell_type": "code",
   "execution_count": 22,
   "id": "98e73c3d",
   "metadata": {},
   "outputs": [
    {
     "data": {
      "text/plain": [
       "MPoint(1.0, 2.0)"
      ]
     },
     "execution_count": 22,
     "metadata": {},
     "output_type": "execute_result"
    }
   ],
   "source": [
    "p3 = MPoint(1, 2)"
   ]
  },
  {
   "cell_type": "code",
   "execution_count": 23,
   "id": "fc51d9a3",
   "metadata": {},
   "outputs": [
    {
     "data": {
      "text/plain": [
       "1.0"
      ]
     },
     "execution_count": 23,
     "metadata": {},
     "output_type": "execute_result"
    }
   ],
   "source": [
    "p3.x"
   ]
  },
  {
   "cell_type": "code",
   "execution_count": 24,
   "id": "6356564f",
   "metadata": {},
   "outputs": [
    {
     "data": {
      "text/plain": [
       "2"
      ]
     },
     "execution_count": 24,
     "metadata": {},
     "output_type": "execute_result"
    }
   ],
   "source": [
    "p3.x = 2"
   ]
  },
  {
   "cell_type": "code",
   "execution_count": 25,
   "id": "7bff7075",
   "metadata": {},
   "outputs": [
    {
     "data": {
      "text/plain": [
       "MPoint(2.0, 2.0)"
      ]
     },
     "execution_count": 25,
     "metadata": {},
     "output_type": "execute_result"
    }
   ],
   "source": [
    "p3"
   ]
  },
  {
   "cell_type": "code",
   "execution_count": 26,
   "id": "ae5343be-5ba7-4932-8b5a-96ca468e101c",
   "metadata": {},
   "outputs": [
    {
     "data": {
      "text/plain": [
       "Rectangle"
      ]
     },
     "execution_count": 26,
     "metadata": {},
     "output_type": "execute_result"
    }
   ],
   "source": [
    "\"\"\"\n",
    "Represents a rectangle.\n",
    "\n",
    "fields: width, height, corner.\n",
    "\"\"\"\n",
    "struct Rectangle\n",
    "    width\n",
    "    height\n",
    "    corner # corner 是一个 Point 类的对象\n",
    "end"
   ]
  },
  {
   "cell_type": "code",
   "execution_count": 27,
   "id": "0078a9e1-cff7-4be1-93b4-2c9c18d27ecf",
   "metadata": {},
   "outputs": [
    {
     "data": {
      "text/plain": [
       "MPoint(0.0, 0.0)"
      ]
     },
     "execution_count": 27,
     "metadata": {},
     "output_type": "execute_result"
    }
   ],
   "source": [
    "origin = MPoint(0.0, 0.0)"
   ]
  },
  {
   "cell_type": "code",
   "execution_count": 28,
   "id": "81d2305e-2b97-48a8-8a3f-c352c25de8f2",
   "metadata": {},
   "outputs": [
    {
     "data": {
      "text/plain": [
       "Rectangle(100.0, 200.0, MPoint(0.0, 0.0))"
      ]
     },
     "execution_count": 28,
     "metadata": {},
     "output_type": "execute_result"
    }
   ],
   "source": [
    "box = Rectangle(100.0, 200.0, origin)"
   ]
  },
  {
   "cell_type": "markdown",
   "id": "014ba9ce-900d-43ba-81cb-c7378716481a",
   "metadata": {},
   "source": [
    "### deepcopy()\n",
    "\n",
    "实现深拷贝"
   ]
  },
  {
   "cell_type": "markdown",
   "id": "d15502c4",
   "metadata": {},
   "source": [
    "## 多重派发与 Struct\n",
    "\n",
    "**多重派发**允许同一个函数针对不同的类型执行不同的操作"
   ]
  },
  {
   "cell_type": "code",
   "execution_count": 29,
   "id": "2ad5b116",
   "metadata": {},
   "outputs": [
    {
     "data": {
      "text/plain": [
       "dist1 (generic function with 1 method)"
      ]
     },
     "execution_count": 29,
     "metadata": {},
     "output_type": "execute_result"
    }
   ],
   "source": [
    "function dist1(p1::Point, p2::Point)\n",
    "  sqrt((p1.x-p2.x)^2+(p1.y-p2.y)^2) # 两个点的欧氏距离\n",
    "end"
   ]
  },
  {
   "cell_type": "code",
   "execution_count": 30,
   "id": "fcdab160",
   "metadata": {},
   "outputs": [
    {
     "data": {
      "text/plain": [
       "Point: x = 1.00, y = 2.00"
      ]
     },
     "execution_count": 30,
     "metadata": {},
     "output_type": "execute_result"
    }
   ],
   "source": [
    "p1 = Point(1, 2)"
   ]
  },
  {
   "cell_type": "code",
   "execution_count": 31,
   "id": "afee1e8b",
   "metadata": {},
   "outputs": [
    {
     "data": {
      "text/plain": [
       "Point: x = 2.00, y = 1.00"
      ]
     },
     "execution_count": 31,
     "metadata": {},
     "output_type": "execute_result"
    }
   ],
   "source": [
    "p2 = Point(2, 1)"
   ]
  },
  {
   "cell_type": "code",
   "execution_count": 32,
   "id": "e2f99be7",
   "metadata": {},
   "outputs": [
    {
     "data": {
      "text/plain": [
       "1.4142135623730951"
      ]
     },
     "execution_count": 32,
     "metadata": {},
     "output_type": "execute_result"
    }
   ],
   "source": [
    "dist1(p1, p2)"
   ]
  },
  {
   "cell_type": "code",
   "execution_count": 33,
   "id": "bb65c910",
   "metadata": {},
   "outputs": [
    {
     "data": {
      "text/plain": [
       "dist1 (generic function with 1 method)"
      ]
     },
     "execution_count": 33,
     "metadata": {},
     "output_type": "execute_result"
    }
   ],
   "source": [
    "dist1 # 函数有一个方法"
   ]
  },
  {
   "cell_type": "markdown",
   "id": "b729415f",
   "metadata": {},
   "source": [
    "增加一个方法："
   ]
  },
  {
   "cell_type": "code",
   "execution_count": 34,
   "id": "bf58b870",
   "metadata": {},
   "outputs": [
    {
     "data": {
      "text/plain": [
       "dist1 (generic function with 2 methods)"
      ]
     },
     "execution_count": 34,
     "metadata": {},
     "output_type": "execute_result"
    }
   ],
   "source": [
    "function dist1(p1::Point{Int64}, p2::Point{Int64})\n",
    "  abs(p1.x-p2.x) + abs(p1.y-p2.y) # 两个点的曼哈顿距离\n",
    "end"
   ]
  },
  {
   "cell_type": "code",
   "execution_count": 35,
   "id": "b35f3b00",
   "metadata": {},
   "outputs": [
    {
     "data": {
      "text/plain": [
       "dist1 (generic function with 2 methods)"
      ]
     },
     "execution_count": 35,
     "metadata": {},
     "output_type": "execute_result"
    }
   ],
   "source": [
    "dist1 # 函数有了两个方法"
   ]
  },
  {
   "cell_type": "code",
   "execution_count": 36,
   "id": "33b15087",
   "metadata": {},
   "outputs": [
    {
     "data": {
      "text/plain": [
       "2"
      ]
     },
     "execution_count": 36,
     "metadata": {},
     "output_type": "execute_result"
    }
   ],
   "source": [
    "dist1(Point(1, 1), Point(0, 0)) # 只有两个点均为整数点，才返回曼哈顿距离"
   ]
  },
  {
   "cell_type": "code",
   "execution_count": 37,
   "id": "1a8d4ab6",
   "metadata": {},
   "outputs": [
    {
     "data": {
      "text/plain": [
       "1.4142135623730951"
      ]
     },
     "execution_count": 37,
     "metadata": {},
     "output_type": "execute_result"
    }
   ],
   "source": [
    "dist1(Point(1.0, 1.0), Point(0.0, 0.0))"
   ]
  },
  {
   "cell_type": "code",
   "execution_count": 38,
   "id": "bdcdad36",
   "metadata": {},
   "outputs": [
    {
     "data": {
      "text/plain": [
       "1.4142135623730951"
      ]
     },
     "execution_count": 38,
     "metadata": {},
     "output_type": "execute_result"
    }
   ],
   "source": [
    "dist1(Point(1.0, 1.0), Point(0, 0))"
   ]
  },
  {
   "cell_type": "code",
   "execution_count": 39,
   "id": "f2f81529",
   "metadata": {},
   "outputs": [
    {
     "data": {
      "text/plain": [
       "+ (generic function with 209 methods)"
      ]
     },
     "execution_count": 39,
     "metadata": {},
     "output_type": "execute_result"
    }
   ],
   "source": [
    "+ # `+`() 有208个方法！"
   ]
  },
  {
   "cell_type": "markdown",
   "id": "f4171db0-12c3-4c70-9ee1-0efcbb75bb7a",
   "metadata": {},
   "source": [
    "# 实例"
   ]
  },
  {
   "cell_type": "markdown",
   "id": "8aa4eb4d-1192-4ef5-b591-ab536efc8ffb",
   "metadata": {},
   "source": [
    "从 Fox 和 Chicken 这两种 Animal 开始，定义 struct 和相关函数，并在后来需要时扩展"
   ]
  },
  {
   "cell_type": "code",
   "execution_count": 40,
   "id": "cfba79d8-6173-4249-876b-3008202f4d6e",
   "metadata": {},
   "outputs": [],
   "source": [
    "abstract type Animal end # 定义抽象类型\n",
    "\n",
    "struct Fox <: Animal # 定义两个基于 Animal 的具体类\n",
    "  weight::Float64\n",
    "end\n",
    "\n",
    "struct Chicken <: Animal\n",
    "  weight::Float64\n",
    "end"
   ]
  },
  {
   "cell_type": "code",
   "execution_count": 41,
   "id": "1772cb66-9250-4447-93d6-22b47fef97ca",
   "metadata": {},
   "outputs": [],
   "source": [
    "# 实例化两个动物\n",
    "fiona = Fox(4.2); \n",
    "big_bird = Chicken(2.9);"
   ]
  },
  {
   "cell_type": "code",
   "execution_count": 42,
   "id": "ab912c67-9e23-4eb6-b106-5a89dfc4c563",
   "metadata": {},
   "outputs": [
    {
     "data": {
      "text/plain": [
       "combined_weight (generic function with 1 method)"
      ]
     },
     "execution_count": 42,
     "metadata": {},
     "output_type": "execute_result"
    }
   ],
   "source": [
    "combined_weight(A1::Animal, A2::Animal) = A1.weight + A2.weight # 加总函数"
   ]
  },
  {
   "cell_type": "code",
   "execution_count": 43,
   "id": "0e39c977-ef2b-4bdd-9db5-ac7730218725",
   "metadata": {},
   "outputs": [
    {
     "data": {
      "text/plain": [
       "trouble"
      ]
     },
     "execution_count": 43,
     "metadata": {},
     "output_type": "execute_result"
    }
   ],
   "source": [
    "\"\"\"\n",
    "trouble(A::Animal, B::Animal) -> Bool\n",
    "\n",
    "两个动物相处，是否会有 trouble\n",
    "\"\"\"\n",
    "function trouble(A::Animal, B::Animal)\n",
    "  if A isa Fox && B isa Chicken \n",
    "    return true # 狐狸会吃鸡，自然会有 trouble\n",
    "  elseif A isa Chicken && B isa Fox\n",
    "    return true\n",
    "  elseif A isa Chicken && B isa Chicken\n",
    "    return false # 两只鸡在一起不会有 trouble\n",
    "  end\n",
    "end"
   ]
  },
  {
   "cell_type": "code",
   "execution_count": 44,
   "id": "2bd8894d-639a-4968-9c45-040ee7720a2b",
   "metadata": {},
   "outputs": [
    {
     "data": {
      "text/plain": [
       "true"
      ]
     },
     "execution_count": 44,
     "metadata": {},
     "output_type": "execute_result"
    }
   ],
   "source": [
    "trouble(fiona, big_bird)"
   ]
  },
  {
   "cell_type": "markdown",
   "id": "57a37ef7-e140-4239-93ec-d811c3dc54cf",
   "metadata": {},
   "source": [
    "## 扩展对函数 `trouble()` 的定义"
   ]
  },
  {
   "cell_type": "code",
   "execution_count": 45,
   "id": "d6d67561-f3cb-4773-9002-6d37fd1f4865",
   "metadata": {},
   "outputs": [
    {
     "data": {
      "text/plain": [
       "trouble (generic function with 4 methods)"
      ]
     },
     "execution_count": 45,
     "metadata": {},
     "output_type": "execute_result"
    }
   ],
   "source": [
    "trouble(F::Fox, C::Chicken) = true\n",
    "trouble(C::Chicken, F::Fox) = true\n",
    "trouble(C1::Chicken, C2::Chicken) = false"
   ]
  },
  {
   "cell_type": "code",
   "execution_count": 46,
   "id": "656e56e8-3346-4fce-a971-31c09011ac34",
   "metadata": {},
   "outputs": [
    {
     "data": {
      "text/html": [
       "# 4 methods for generic function <b>trouble</b>:<ul><li> trouble(F::<b>Fox</b>, C::<b>Chicken</b>) in Main at In[45]:1</li> <li> trouble(C::<b>Chicken</b>, F::<b>Fox</b>) in Main at In[45]:2</li> <li> trouble(C1::<b>Chicken</b>, C2::<b>Chicken</b>) in Main at In[45]:3</li> <li> trouble(A::<b>Animal</b>, B::<b>Animal</b>) in Main at In[43]:6</li> </ul>"
      ],
      "text/plain": [
       "# 4 methods for generic function \"trouble\":\n",
       "[1] trouble(F::Fox, C::Chicken) in Main at In[45]:1\n",
       "[2] trouble(C::Chicken, F::Fox) in Main at In[45]:2\n",
       "[3] trouble(C1::Chicken, C2::Chicken) in Main at In[45]:3\n",
       "[4] trouble(A::Animal, B::Animal) in Main at In[43]:6"
      ]
     },
     "execution_count": 46,
     "metadata": {},
     "output_type": "execute_result"
    }
   ],
   "source": [
    "methods(trouble)"
   ]
  },
  {
   "cell_type": "code",
   "execution_count": 47,
   "id": "97541829-9059-4ca2-88cc-b9a17939c597",
   "metadata": {},
   "outputs": [
    {
     "data": {
      "text/plain": [
       "false"
      ]
     },
     "execution_count": 47,
     "metadata": {},
     "output_type": "execute_result"
    }
   ],
   "source": [
    "dora = Chicken(2.2)\n",
    "trouble(dora, big_bird)"
   ]
  },
  {
   "cell_type": "markdown",
   "id": "4f67684a-c279-441b-8d0c-e0fff5db7d84",
   "metadata": {},
   "source": [
    "## 扩展 Animal 新的子类\n",
    "\n",
    "可以在其他包中定义新的 Animal 子类 Zebra，然后扩展 `trouble()` 使之能接收新的 Zebra 类型"
   ]
  },
  {
   "cell_type": "code",
   "execution_count": 48,
   "id": "fab910b1-1e6b-46df-abcb-fd76470fd1d3",
   "metadata": {},
   "outputs": [
    {
     "data": {
      "text/plain": [
       "trouble (generic function with 7 methods)"
      ]
     },
     "execution_count": 48,
     "metadata": {},
     "output_type": "execute_result"
    }
   ],
   "source": [
    "struct Zebra <: Animal\n",
    "  weight::Float64\n",
    "end\n",
    "\n",
    "# 斑马与狐狸、鸡在一起都没问题\n",
    "trouble(F::Fox, Z::Zebra) = false \n",
    "trouble(Z::Zebra, F::Fox) = false\n",
    "trouble(C::Chicken, Z::Zebra) = false\n",
    "trouble(Z::Zebra, F::Fox) = false"
   ]
  },
  {
   "cell_type": "code",
   "execution_count": 49,
   "id": "c0c648a4-7265-4d40-9a28-6b6d3ead9a14",
   "metadata": {},
   "outputs": [
    {
     "data": {
      "text/plain": [
       "false"
      ]
     },
     "execution_count": 49,
     "metadata": {},
     "output_type": "execute_result"
    }
   ],
   "source": [
    "marty = Zebra(412)\n",
    "trouble(big_bird, marty)"
   ]
  },
  {
   "cell_type": "markdown",
   "id": "26b793fc-511d-468b-8628-26428ca74415",
   "metadata": {},
   "source": [
    "而且，不需要额外定义任何函数即可计算 Zebra 和其他动物的重量之和"
   ]
  },
  {
   "cell_type": "code",
   "execution_count": 50,
   "id": "19a322d5-f257-4ce9-8ea1-790cec0448c2",
   "metadata": {},
   "outputs": [
    {
     "data": {
      "text/plain": [
       "414.9"
      ]
     },
     "execution_count": 50,
     "metadata": {},
     "output_type": "execute_result"
    }
   ],
   "source": [
    "combined_weight(big_bird, marty)"
   ]
  }
 ],
 "metadata": {
  "kernelspec": {
   "display_name": "Julia 1.7.3",
   "language": "julia",
   "name": "julia-1.7"
  },
  "language_info": {
   "file_extension": ".jl",
   "mimetype": "application/julia",
   "name": "julia",
   "version": "1.7.3"
  },
  "toc-autonumbering": true,
  "toc-showcode": false
 },
 "nbformat": 4,
 "nbformat_minor": 5
}
