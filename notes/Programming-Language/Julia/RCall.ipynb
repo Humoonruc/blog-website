{
 "cells": [
  {
   "cell_type": "markdown",
   "id": "14230b2f-019a-47b5-8f21-258312affc3c",
   "metadata": {},
   "source": [
    "# 在 Julia 中调用 R 代码\n",
    "\n",
    "#### 文档\n",
    "\n",
    "[Getting Started · RCall.jl (juliainterop.github.io)](https://juliainterop.github.io/RCall.jl/stable/gettingstarted/#@R_str-string-macro-1)"
   ]
  },
  {
   "cell_type": "markdown",
   "id": "d867ffa7-498d-4ad9-9eb1-24fbc7f4240c",
   "metadata": {},
   "source": [
    "#### 安装\n",
    "\n",
    "```julia\n",
    "ENV[\"R_HOME\"] = \"C:/Program Files/R/R-4.2.1\"\n",
    "Pkg.add(\"RCall\")\n",
    "Pkg.build(\"RCall\")\n",
    "using RCall\n",
    "```"
   ]
  },
  {
   "cell_type": "markdown",
   "id": "dd691d8e-d3d4-43d3-84c2-7afa073f2fcf",
   "metadata": {},
   "source": [
    "`using RCall` 后如果报错：package 'stats' in options(\"defaultPackages\") was not found\n",
    "\n",
    "则将 `...\\R-4.0.4\\bin\\x64` 目录下的文件复制到 `...\\R-4.0.4\\library\\stats\\libs\\x64` 目录中，即stats.dll文件所在目录处\n",
    "\n",
    "\n",
    "\n",
    "![](https://pic4.zhimg.com/v2-ebf1ff771a2d662cf1c4aa28072c3193_r.jpg)"
   ]
  },
  {
   "cell_type": "code",
   "execution_count": 4,
   "id": "ce6bb253-1946-42f4-a947-3d3f74d9e494",
   "metadata": {},
   "outputs": [],
   "source": [
    "using RCall"
   ]
  },
  {
   "cell_type": "markdown",
   "id": "50362ca8-ab8b-4a7f-9597-8057d1ef4cdc",
   "metadata": {},
   "source": [
    "## R 代码块返回 RObject\n",
    "\n",
    "单行\n",
    "```julia\n",
    "R\"...\" \n",
    "```\n",
    "\n",
    "多行\n",
    "```julia\n",
    "R\"\"\"\n",
    "...\n",
    "...\n",
    "\"\"\"\n",
    "```\n",
    "\n",
    "返回到 Julia 的对象为 `RObject{T}`，当然可以用 Julia 的语法对其进行下一步操作"
   ]
  },
  {
   "cell_type": "code",
   "execution_count": 5,
   "id": "0c35657b-9750-437d-8e31-946e42e93b6e",
   "metadata": {},
   "outputs": [
    {
     "data": {
      "text/plain": [
       "RObject{VecSxp}\n",
       "  name age\n",
       "1    a   1\n",
       "2    b   2\n",
       "3    c   3\n"
      ]
     },
     "execution_count": 5,
     "metadata": {},
     "output_type": "execute_result"
    }
   ],
   "source": [
    "R\"\"\"\n",
    "df <- data.frame(name = letters[1:3], age = 1:3)\n",
    "df\n",
    "\"\"\""
   ]
  },
  {
   "cell_type": "markdown",
   "id": "0d97ab2b-7446-42ee-b9b6-706bfdb9d019",
   "metadata": {},
   "source": [
    "## 在 R 代码块中使用 Julia 变量\n",
    "\n",
    "R 代码块需要使用 Juila 变量和函数时，用 `$` 标识\n"
   ]
  },
  {
   "cell_type": "code",
   "execution_count": 6,
   "id": "b1ebc51e-04a5-45dc-b4ed-8fd70c473643",
   "metadata": {},
   "outputs": [
    {
     "data": {
      "text/plain": [
       "RObject{VecSxp}\n",
       "\n",
       "\tOne Sample t-test\n",
       "\n",
       "data:  `#JL`$x\n",
       "t = -0.2587, df = 9, p-value = 0.8017\n",
       "alternative hypothesis: true mean is not equal to 0\n",
       "95 percent confidence interval:\n",
       " -0.7553297  0.6003000\n",
       "sample estimates:\n",
       "  mean of x \n",
       "-0.07751485 \n",
       "\n"
      ]
     },
     "execution_count": 6,
     "metadata": {},
     "output_type": "execute_result"
    }
   ],
   "source": [
    "x = randn(10)\n",
    "R\"t.test($x)\""
   ]
  },
  {
   "cell_type": "code",
   "execution_count": 4,
   "id": "dcbe0076-c947-4a44-a573-f91ffcfcdfc7",
   "metadata": {},
   "outputs": [
    {
     "data": {
      "text/plain": [
       "RObject{IntSxp}\n",
       "\n",
       "1 2 3 \n",
       "2 3 1 \n"
      ]
     },
     "execution_count": 4,
     "metadata": {},
     "output_type": "execute_result"
    }
   ],
   "source": [
    "numbers = [1, 1, 2, 2, 2, 3]\n",
    "R\"\"\"\n",
    "counter <- table($numbers)\n",
    "\"\"\""
   ]
  },
  {
   "cell_type": "code",
   "execution_count": 5,
   "id": "b81a34d0-da71-43cc-81d9-9d92a8d4cbd6",
   "metadata": {},
   "outputs": [
    {
     "data": {
      "text/plain": [
       "RObject{StrSxp}\n",
       "[1] \"table\"\n"
      ]
     },
     "execution_count": 5,
     "metadata": {},
     "output_type": "execute_result"
    }
   ],
   "source": [
    "R\"class(counter)\""
   ]
  },
  {
   "cell_type": "code",
   "execution_count": 6,
   "id": "ecccc775-1a70-4318-9ee6-89eeeb35539b",
   "metadata": {},
   "outputs": [],
   "source": [
    "x = rand(100);\n",
    "y = x .+ randn(100) ./ 10;"
   ]
  },
  {
   "cell_type": "code",
   "execution_count": 7,
   "id": "0ca51c8f-0c26-4342-9ba4-ed058aac0f8e",
   "metadata": {},
   "outputs": [
    {
     "name": "stderr",
     "output_type": "stream",
     "text": [
      "┌ Warning: RCall.jl: -- Attaching packages --------------------------------------- tidyverse 1.3.1 --\n",
      "│ v ggplot2 3.3.6     v purrr   0.3.4\n",
      "│ v tibble  3.1.7     v dplyr   1.0.9\n",
      "│ v tidyr   1.2.0     v stringr 1.4.0\n",
      "│ v readr   2.1.2     v forcats 0.5.1\n",
      "│ -- Conflicts ------------------------------------------ tidyverse_conflicts() --\n",
      "│ x dplyr::filter() masks stats::filter()\n",
      "│ x dplyr::lag()    masks stats::lag()\n",
      "└ @ RCall C:\\Users\\humoo\\.julia\\packages\\RCall\\6kphM\\src\\io.jl:172\n"
     ]
    },
    {
     "data": {
      "image/png": "[encoded data removed]"
     },
     "metadata": {},
     "output_type": "display_data"
    },
    {
     "data": {
      "text/plain": [
       "RObject{VecSxp}\n"
      ]
     },
     "execution_count": 7,
     "metadata": {},
     "output_type": "execute_result"
    }
   ],
   "source": [
    "R\"\"\"\n",
    "library(tidyverse)\n",
    "x_r <- $x\n",
    "y_r <- $y \n",
    "ggplot(data= NULL, aes(x = x_r, y = y_r)) +  \n",
    "  geom_point(color = \"darkred\") \n",
    "\"\"\""
   ]
  },
  {
   "cell_type": "markdown",
   "id": "0b2213cd-0de7-4110-8b73-540745b3f68f",
   "metadata": {},
   "source": [
    "## 将 RObject 转换为 Julia 对象\n",
    "\n",
    "- `rcopy(R\"R变量名\")`，好处在于可以与管道连用\n",
    "- `@rget` + R变量名，**使 julia 的环境空间出现一个与 R 变量同名的 julia 变量**，且返回这个变量\n"
   ]
  },
  {
   "cell_type": "code",
   "execution_count": 1,
   "id": "d21efcc6-258f-43b8-810a-d50563abf6da",
   "metadata": {},
   "outputs": [
    {
     "ename": "LoadError",
     "evalue": "LoadError: UndefVarError: @R_str not defined\nin expression starting at In[1]:1",
     "output_type": "error",
     "traceback": [
      "LoadError: UndefVarError: @R_str not defined\nin expression starting at In[1]:1",
      "",
      "Stacktrace:",
      " [1] top-level scope",
      "   @ :0",
      " [2] eval",
      "   @ .\\boot.jl:373 [inlined]",
      " [3] include_string(mapexpr::typeof(REPL.softscope), mod::Module, code::String, filename::String)",
      "   @ Base .\\loading.jl:1196"
     ]
    }
   ],
   "source": [
    "df_julia = rcopy(R\"df\")"
   ]
  },
  {
   "cell_type": "code",
   "execution_count": 9,
   "id": "b356b8de-3033-4ba5-b57b-68685da2b3ce",
   "metadata": {},
   "outputs": [
    {
     "ename": "LoadError",
     "evalue": "UndefVarError: df not defined",
     "output_type": "error",
     "traceback": [
      "UndefVarError: df not defined",
      "",
      "Stacktrace:",
      " [1] top-level scope",
      "   @ :0",
      " [2] eval",
      "   @ .\\boot.jl:373 [inlined]",
      " [3] include_string(mapexpr::typeof(REPL.softscope), mod::Module, code::String, filename::String)",
      "   @ Base .\\loading.jl:1196"
     ]
    }
   ],
   "source": [
    "df"
   ]
  },
  {
   "cell_type": "code",
   "execution_count": 10,
   "id": "52348fa8-37dc-4d50-a35e-67f63e5aaca6",
   "metadata": {},
   "outputs": [
    {
     "data": {
      "text/html": [
       "<div class=\"data-frame\"><p>3 rows × 2 columns</p><table class=\"data-frame\"><thead><tr><th></th><th>name</th><th>age</th></tr><tr><th></th><th title=\"String\">String</th><th title=\"Int64\">Int64</th></tr></thead><tbody><tr><th>1</th><td>a</td><td>1</td></tr><tr><th>2</th><td>b</td><td>2</td></tr><tr><th>3</th><td>c</td><td>3</td></tr></tbody></table></div>"
      ],
      "text/latex": [
       "\\begin{tabular}{r|cc}\n",
       "\t& name & age\\\\\n",
       "\t\\hline\n",
       "\t& String & Int64\\\\\n",
       "\t\\hline\n",
       "\t1 & a & 1 \\\\\n",
       "\t2 & b & 2 \\\\\n",
       "\t3 & c & 3 \\\\\n",
       "\\end{tabular}\n"
      ],
      "text/plain": [
       "\u001b[1m3×2 DataFrame\u001b[0m\n",
       "\u001b[1m Row \u001b[0m│\u001b[1m name   \u001b[0m\u001b[1m age   \u001b[0m\n",
       "\u001b[1m     \u001b[0m│\u001b[90m String \u001b[0m\u001b[90m Int64 \u001b[0m\n",
       "─────┼───────────────\n",
       "   1 │ a           1\n",
       "   2 │ b           2\n",
       "   3 │ c           3"
      ]
     },
     "execution_count": 10,
     "metadata": {},
     "output_type": "execute_result"
    }
   ],
   "source": [
    "df_julia2 = @rget df"
   ]
  },
  {
   "cell_type": "code",
   "execution_count": 11,
   "id": "7d3b51ee-58cf-41db-9b69-374690a02087",
   "metadata": {},
   "outputs": [
    {
     "data": {
      "text/html": [
       "<div class=\"data-frame\"><p>3 rows × 2 columns</p><table class=\"data-frame\"><thead><tr><th></th><th>name</th><th>age</th></tr><tr><th></th><th title=\"String\">String</th><th title=\"Int64\">Int64</th></tr></thead><tbody><tr><th>1</th><td>a</td><td>1</td></tr><tr><th>2</th><td>b</td><td>2</td></tr><tr><th>3</th><td>c</td><td>3</td></tr></tbody></table></div>"
      ],
      "text/latex": [
       "\\begin{tabular}{r|cc}\n",
       "\t& name & age\\\\\n",
       "\t\\hline\n",
       "\t& String & Int64\\\\\n",
       "\t\\hline\n",
       "\t1 & a & 1 \\\\\n",
       "\t2 & b & 2 \\\\\n",
       "\t3 & c & 3 \\\\\n",
       "\\end{tabular}\n"
      ],
      "text/plain": [
       "\u001b[1m3×2 DataFrame\u001b[0m\n",
       "\u001b[1m Row \u001b[0m│\u001b[1m name   \u001b[0m\u001b[1m age   \u001b[0m\n",
       "\u001b[1m     \u001b[0m│\u001b[90m String \u001b[0m\u001b[90m Int64 \u001b[0m\n",
       "─────┼───────────────\n",
       "   1 │ a           1\n",
       "   2 │ b           2\n",
       "   3 │ c           3"
      ]
     },
     "execution_count": 11,
     "metadata": {},
     "output_type": "execute_result"
    }
   ],
   "source": [
    "df"
   ]
  },
  {
   "cell_type": "code",
   "execution_count": 12,
   "id": "54fabd62-21d8-484f-a9b1-242d8c5f6e63",
   "metadata": {},
   "outputs": [
    {
     "data": {
      "text/plain": [
       "3-element Vector{Int64}:\n",
       " 2\n",
       " 3\n",
       " 1"
      ]
     },
     "execution_count": 12,
     "metadata": {},
     "output_type": "execute_result"
    }
   ],
   "source": [
    "R\"counter\" |> rcopy"
   ]
  },
  {
   "cell_type": "code",
   "execution_count": 13,
   "id": "7058ffa4-fd2b-443f-9f4c-be2fb87e462c",
   "metadata": {},
   "outputs": [
    {
     "data": {
      "text/plain": [
       "RObject{RealSxp}\n",
       "a b \n",
       "1 2 \n"
      ]
     },
     "execution_count": 13,
     "metadata": {},
     "output_type": "execute_result"
    }
   ],
   "source": [
    "R\"\"\"\n",
    "v = c(\"a\" = 1, \"b\" = 2)\n",
    "\"\"\""
   ]
  },
  {
   "cell_type": "code",
   "execution_count": 14,
   "id": "ec6e8846-2898-4e29-ae61-9b2c6087bc48",
   "metadata": {},
   "outputs": [
    {
     "data": {
      "text/plain": [
       "2-element Vector{Float64}:\n",
       " 1.0\n",
       " 2.0"
      ]
     },
     "execution_count": 14,
     "metadata": {},
     "output_type": "execute_result"
    }
   ],
   "source": [
    "R\"v\" |> rcopy"
   ]
  },
  {
   "cell_type": "markdown",
   "id": "2a3b2745-be02-436c-b7e1-d57b1878a4db",
   "metadata": {},
   "source": [
    "可见，**named vector 无法有效地转化为 julia 数据结构，names 属性会消失**"
   ]
  },
  {
   "cell_type": "code",
   "execution_count": 15,
   "id": "c5eb0a38",
   "metadata": {},
   "outputs": [
    {
     "data": {
      "text/plain": [
       "RObject{VecSxp}\n",
       "                     mpg cyl  disp  hp drat    wt  qsec vs am gear carb\n",
       "Mazda RX4           21.0   6 160.0 110 3.90 2.620 16.46  0  1    4    4\n",
       "Mazda RX4 Wag       21.0   6 160.0 110 3.90 2.875 17.02  0  1    4    4\n",
       "Datsun 710          22.8   4 108.0  93 3.85 2.320 18.61  1  1    4    1\n",
       "Hornet 4 Drive      21.4   6 258.0 110 3.08 3.215 19.44  1  0    3    1\n",
       "Hornet Sportabout   18.7   8 360.0 175 3.15 3.440 17.02  0  0    3    2\n",
       "Valiant             18.1   6 225.0 105 2.76 3.460 20.22  1  0    3    1\n",
       "Duster 360          14.3   8 360.0 245 3.21 3.570 15.84  0  0    3    4\n",
       "Merc 240D           24.4   4 146.7  62 3.69 3.190 20.00  1  0    4    2\n",
       "Merc 230            22.8   4 140.8  95 3.92 3.150 22.90  1  0    4    2\n",
       "Merc 280            19.2   6 167.6 123 3.92 3.440 18.30  1  0    4    4\n",
       "Merc 280C           17.8   6 167.6 123 3.92 3.440 18.90  1  0    4    4\n",
       "Merc 450SE          16.4   8 275.8 180 3.07 4.070 17.40  0  0    3    3\n",
       "Merc 450SL          17.3   8 275.8 180 3.07 3.730 17.60  0  0    3    3\n",
       "Merc 450SLC         15.2   8 275.8 180 3.07 3.780 18.00  0  0    3    3\n",
       "Cadillac Fleetwood  10.4   8 472.0 205 2.93 5.250 17.98  0  0    3    4\n",
       "Lincoln Continental 10.4   8 460.0 215 3.00 5.424 17.82  0  0    3    4\n",
       "Chrysler Imperial   14.7   8 440.0 230 3.23 5.345 17.42  0  0    3    4\n",
       "Fiat 128            32.4   4  78.7  66 4.08 2.200 19.47  1  1    4    1\n",
       "Honda Civic         30.4   4  75.7  52 4.93 1.615 18.52  1  1    4    2\n",
       "Toyota Corolla      33.9   4  71.1  65 4.22 1.835 19.90  1  1    4    1\n",
       "Toyota Corona       21.5   4 120.1  97 3.70 2.465 20.01  1  0    3    1\n",
       "Dodge Challenger    15.5   8 318.0 150 2.76 3.520 16.87  0  0    3    2\n",
       "AMC Javelin         15.2   8 304.0 150 3.15 3.435 17.30  0  0    3    2\n",
       "Camaro Z28          13.3   8 350.0 245 3.73 3.840 15.41  0  0    3    4\n",
       "Pontiac Firebird    19.2   8 400.0 175 3.08 3.845 17.05  0  0    3    2\n",
       "Fiat X1-9           27.3   4  79.0  66 4.08 1.935 18.90  1  1    4    1\n",
       "Porsche 914-2       26.0   4 120.3  91 4.43 2.140 16.70  0  1    5    2\n",
       "Lotus Europa        30.4   4  95.1 113 3.77 1.513 16.90  1  1    5    2\n",
       "Ford Pantera L      15.8   8 351.0 264 4.22 3.170 14.50  0  1    5    4\n",
       "Ferrari Dino        19.7   6 145.0 175 3.62 2.770 15.50  0  1    5    6\n",
       "Maserati Bora       15.0   8 301.0 335 3.54 3.570 14.60  0  1    5    8\n",
       "Volvo 142E          21.4   4 121.0 109 4.11 2.780 18.60  1  1    4    2\n"
      ]
     },
     "execution_count": 15,
     "metadata": {},
     "output_type": "execute_result"
    }
   ],
   "source": [
    "jmtcars = R\"mtcars\""
   ]
  },
  {
   "cell_type": "code",
   "execution_count": 16,
   "id": "68578643",
   "metadata": {},
   "outputs": [
    {
     "data": {
      "text/plain": [
       "RObject{RealSxp}\n",
       " [1] 21.0 21.0 22.8 21.4 18.7 18.1 14.3 24.4 22.8 19.2 17.8 16.4 17.3 15.2 10.4\n",
       "[16] 10.4 14.7 32.4 30.4 33.9 21.5 15.5 15.2 13.3 19.2 27.3 26.0 30.4 15.8 19.7\n",
       "[31] 15.0 21.4\n"
      ]
     },
     "execution_count": 16,
     "metadata": {},
     "output_type": "execute_result"
    }
   ],
   "source": [
    "jmtcars[:mpg] # 对 RObject 提取一列的数据类型仍为 RObject"
   ]
  },
  {
   "cell_type": "code",
   "execution_count": 17,
   "id": "a17ad2d5",
   "metadata": {},
   "outputs": [
    {
     "data": {
      "text/plain": [
       "32-element Vector{Float64}:\n",
       " 21.0\n",
       " 21.0\n",
       " 22.8\n",
       " 21.4\n",
       " 18.7\n",
       " 18.1\n",
       " 14.3\n",
       " 24.4\n",
       " 22.8\n",
       " 19.2\n",
       " 17.8\n",
       " 16.4\n",
       " 17.3\n",
       "  ⋮\n",
       " 21.5\n",
       " 15.5\n",
       " 15.2\n",
       " 13.3\n",
       " 19.2\n",
       " 27.3\n",
       " 26.0\n",
       " 30.4\n",
       " 15.8\n",
       " 19.7\n",
       " 15.0\n",
       " 21.4"
      ]
     },
     "execution_count": 17,
     "metadata": {},
     "output_type": "execute_result"
    }
   ],
   "source": [
    "jmtcars[:mpg] |> rcopy # 用 rcopy() 将其转换为 julia 变量"
   ]
  },
  {
   "cell_type": "markdown",
   "id": "1d50f139",
   "metadata": {},
   "source": [
    "## 在 Julia 中使用 R 函数: `rcall()`\n",
    "\n",
    "- `rcall(f::Symbol, x)::RObject` \n",
    "- `robject()` 将 Julia 变量格式转换为 RObject，在某些 R 函数无法作用于 Julia 变量时可能需要先转换一下"
   ]
  },
  {
   "cell_type": "code",
   "execution_count": 18,
   "id": "fbbb0836-e052-46e7-a241-c40013343c40",
   "metadata": {},
   "outputs": [
    {
     "data": {
      "text/plain": [
       "RObject{IntSxp}\n",
       "[1] 32 11\n"
      ]
     },
     "execution_count": 18,
     "metadata": {},
     "output_type": "execute_result"
    }
   ],
   "source": [
    "R\"dim(mtcars)\""
   ]
  },
  {
   "cell_type": "code",
   "execution_count": 19,
   "id": "171a0fc4-87f2-4440-aa90-18eb6a0b239e",
   "metadata": {},
   "outputs": [
    {
     "data": {
      "text/plain": [
       "RObject{IntSxp}\n",
       "[1] 32 11\n"
      ]
     },
     "execution_count": 19,
     "metadata": {},
     "output_type": "execute_result"
    }
   ],
   "source": [
    "R\"dim($jmtcars)\""
   ]
  },
  {
   "cell_type": "code",
   "execution_count": 20,
   "id": "bd8f697f-52f1-4c76-88d3-fb7a27c87025",
   "metadata": {},
   "outputs": [
    {
     "data": {
      "text/plain": [
       "RObject{IntSxp}\n",
       "[1] 32 11\n"
      ]
     },
     "execution_count": 20,
     "metadata": {},
     "output_type": "execute_result"
    }
   ],
   "source": [
    "rcall(:dim, jmtcars)"
   ]
  },
  {
   "cell_type": "code",
   "execution_count": 21,
   "id": "c1e92b71-6369-4de0-8847-95d3e0e7d23b",
   "metadata": {},
   "outputs": [
    {
     "data": {
      "text/plain": [
       "RObject{RealSxp}\n",
       "[1] 1.833333\n"
      ]
     },
     "execution_count": 21,
     "metadata": {},
     "output_type": "execute_result"
    }
   ],
   "source": [
    "R\"mean($numbers)\""
   ]
  },
  {
   "cell_type": "code",
   "execution_count": 22,
   "id": "2a4460f1-918b-44f6-bd60-1f052edbf8a4",
   "metadata": {},
   "outputs": [
    {
     "data": {
      "text/plain": [
       "RObject{IntSxp}\n",
       "\n",
       "1 2 3 \n",
       "2 3 1 \n"
      ]
     },
     "execution_count": 22,
     "metadata": {},
     "output_type": "execute_result"
    }
   ],
   "source": [
    "rcall(:table, numbers)"
   ]
  },
  {
   "cell_type": "code",
   "execution_count": 23,
   "id": "55c95810-ac4d-4329-b7a7-33d475969a0a",
   "metadata": {},
   "outputs": [
    {
     "data": {
      "text/plain": [
       "4-element Vector{Int64}:\n",
       " 1\n",
       " 2\n",
       " 3\n",
       " 4"
      ]
     },
     "execution_count": 23,
     "metadata": {},
     "output_type": "execute_result"
    }
   ],
   "source": [
    "rcall(:unique, [1, 2, 3, 4, 3, 2, 2]) |> rcopy"
   ]
  },
  {
   "cell_type": "code",
   "execution_count": null,
   "id": "087502c5-6299-4f84-bdde-212e46164472",
   "metadata": {},
   "outputs": [],
   "source": []
  },
  {
   "cell_type": "code",
   "execution_count": null,
   "id": "c57bd14f-6cf0-4d9d-b3b5-5a7e2e4c8943",
   "metadata": {},
   "outputs": [],
   "source": []
  },
  {
   "cell_type": "code",
   "execution_count": null,
   "id": "c2bd766e-0b1c-4bb9-afde-5820df2c1fb5",
   "metadata": {},
   "outputs": [],
   "source": []
  }
 ],
 "metadata": {
  "kernelspec": {
   "display_name": "Julia 1.7.3",
   "language": "julia",
   "name": "julia-1.7"
  },
  "language_info": {
   "file_extension": ".jl",
   "mimetype": "application/julia",
   "name": "julia",
   "version": "1.7.3"
  },
  "toc-autonumbering": true
 },
 "nbformat": 4,
 "nbformat_minor": 5
}
