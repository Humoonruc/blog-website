{
 "cells": [
  {
   "cell_type": "markdown",
   "id": "c425e03e",
   "metadata": {},
   "source": [
    "[TOC]\n",
    "\n",
    "# Type System\n",
    "\n",
    "类型系统是 Julia 的精华\n",
    "\n",
    "## 类型系统\n",
    "\n",
    "### 类型的分类\n",
    "\n",
    "- abstract type，定义行为\n",
    "- concrete type，定义数据的存储方式\n",
    "  - 原始类型\n",
    "  - 复合类型\n",
    "\n",
    "### 类型申明\n",
    "\n",
    "`::`类型申明，有两大作用：\n",
    "\n",
    "#### 检查表达式输出结果\n",
    "\n",
    "1. 写在表达式最后\n",
    "2. 不能检查赋值语句中`=`左边的全局变量（函数内没问题）"
   ]
  },
  {
   "cell_type": "code",
   "execution_count": null,
   "id": "30fb4142",
   "metadata": {},
   "outputs": [],
   "source": [
    "s = 'a'::String # 注意，String 检查的是 = 后面整个表达式的类型"
   ]
  },
  {
   "cell_type": "markdown",
   "id": "914d491a",
   "metadata": {},
   "source": [
    "报错，表明输出不是预想的 String"
   ]
  },
  {
   "cell_type": "code",
   "execution_count": null,
   "id": "244561b9",
   "metadata": {},
   "outputs": [],
   "source": [
    "s = 'a'::Char"
   ]
  },
  {
   "cell_type": "code",
   "execution_count": null,
   "id": "6ab2a4a6",
   "metadata": {},
   "outputs": [],
   "source": [
    "b = Int64(3.0::Float64) # 检查 3.0"
   ]
  },
  {
   "cell_type": "code",
   "execution_count": null,
   "id": "05927b04",
   "metadata": {},
   "outputs": [],
   "source": [
    "b = convert(Int, 3.0)::Int64 # 检查 convert(Int, 3.0)"
   ]
  },
  {
   "cell_type": "markdown",
   "id": "a35d4df5",
   "metadata": {},
   "source": [
    "#### 提升程序性能\n",
    "\n",
    "使用中，对类型的规范越细致，程序运行速度越快"
   ]
  },
  {
   "cell_type": "code",
   "execution_count": null,
   "id": "259d7e91",
   "metadata": {},
   "outputs": [],
   "source": [
    "function foo()\n",
    "  x::Int8 = 1.0\n",
    "  x\n",
    "end"
   ]
  },
  {
   "cell_type": "code",
   "execution_count": null,
   "id": "e762de4e",
   "metadata": {},
   "outputs": [],
   "source": [
    "foo() # 自动将类型转换为了 Int8"
   ]
  },
  {
   "cell_type": "markdown",
   "id": "857ad6cd",
   "metadata": {},
   "source": [
    "### 查看类型\n",
    "\n",
    "`typeof()`\n",
    "\n",
    "`eltype()` 数组中元素的类型\n",
    "\n",
    "`typemin()`/`typemax()`查看类型能够表达的最小/大值\n",
    "\n",
    "`supertype()`/`supertypes()`/`subtypes()`查看类型之间的关系\n",
    "\n",
    "`subtypetree()` 自定义函数，已在 startup.jl 中加载，查看树状子类型关系图"
   ]
  },
  {
   "cell_type": "code",
   "execution_count": 22,
   "id": "b256b0cf-9261-4cc7-aa1a-c7030d743668",
   "metadata": {},
   "outputs": [
    {
     "data": {
      "text/plain": [
       "subtypetree (generic function with 3 methods)"
      ]
     },
     "execution_count": 22,
     "metadata": {},
     "output_type": "execute_result"
    }
   ],
   "source": [
    "# Display the entire type hierarchy starting from the specified `roottype`\n",
    "function subtypetree(roottype, level=1, indent=4)\n",
    "    level == 1 && println(roottype)\n",
    "    for s in subtypes(roottype)\n",
    "        println(join(fill(\" \", level * indent)) * string(s))\n",
    "        subtypetree(s, level + 1, indent)\n",
    "    end\n",
    "end"
   ]
  },
  {
   "cell_type": "markdown",
   "id": "9d3debbe-392c-42a7-ab78-5763938197e0",
   "metadata": {},
   "source": [
    "### `is..()` 判断类型\n",
    "\n",
    "返回 `Bool`\n",
    "\n",
    "`isodd()`/`iseven()` 判断奇偶数\n",
    "\n",
    "`isinteger()` 判断是否为整数\n",
    "\n",
    "`isfinite()`/`isinf()` 判断是否为无穷值\n",
    "\n",
    "`isnan(x)` `x` 是否是 `NaN`\n",
    "\n",
    "`isdigit(char)` 判断一个字符是否在 `'0':'9'` 的范围内"
   ]
  },
  {
   "cell_type": "markdown",
   "id": "f56cd9f1-92a4-4292-a529-4e8dc654c26e",
   "metadata": {},
   "source": [
    "### Type Conversion\n",
    "\n",
    "#### `convert(T, x)`/ 构造函数`T()`\n",
    "\n",
    "**`convert()` 性能更好**\n",
    "\n",
    "构造函数包括 `Int64()`, `Float64()`, `UInt8()`, `BigInt()`, etc"
   ]
  },
  {
   "cell_type": "code",
   "execution_count": 1,
   "id": "0fc3e962",
   "metadata": {},
   "outputs": [
    {
     "data": {
      "text/plain": [
       "1.0"
      ]
     },
     "execution_count": 1,
     "metadata": {},
     "output_type": "execute_result"
    }
   ],
   "source": [
    "convert(Float64, 1) "
   ]
  },
  {
   "cell_type": "code",
   "execution_count": 5,
   "id": "561d8fb2",
   "metadata": {},
   "outputs": [
    {
     "data": {
      "text/plain": [
       "3.0"
      ]
     },
     "execution_count": 5,
     "metadata": {},
     "output_type": "execute_result"
    }
   ],
   "source": [
    "Float64(3)"
   ]
  },
  {
   "cell_type": "markdown",
   "id": "a862c326",
   "metadata": {},
   "source": [
    "#### `parse(T, string; base)`\n",
    "\n",
    "将一个 base 进制的字符串解析为 10 进制数字\n",
    "\n",
    "#### `trunc([T,] x)`\n",
    "\n",
    "`trunc([T,] x)` 截取整数部分（不论小数部分多大）\n",
    "`trunc(x; digits::Integer= [, base = 10])`\n",
    "`trunc(x; sigdigits::Integer= [, base = 10])`\n",
    "\n",
    "#### `string()`\n",
    "\n",
    "转换为字符串\n",
    "\n",
    "#### `big()`\n",
    "\n",
    "将数据类型升格为更大的类型，Int 变 BigInt，Float 变 BigFloat\n",
    "\n",
    "#### 自动转换\n",
    "\n",
    "1. 赋值给数组会将值转换为该数组的元素类型。\n",
    "2. 赋值给对象的字段会将值转换为该字段的声明类型。\n",
    "3. 使用new构造对象会将值转换为该对象的声明的字段类型。\n",
    "4. 赋值给具有声明类型的变量会将值转换为该类型。\n",
    "5. 具有声明的返回类型的函数会将其返回值转换为该类型。\n",
    "6. 将值传递给ccall会将值转换为相应的参数类型。"
   ]
  },
  {
   "cell_type": "code",
   "execution_count": 6,
   "id": "d6d17656-0e5c-4692-8b64-02ea9546adb6",
   "metadata": {},
   "outputs": [
    {
     "data": {
      "text/plain": [
       "3-element Vector{Float64}:\n",
       " 0.9247724162546608\n",
       " 0.2431208477977339\n",
       " 0.6736535587819961"
      ]
     },
     "execution_count": 6,
     "metadata": {},
     "output_type": "execute_result"
    }
   ],
   "source": [
    "x = rand(3)"
   ]
  },
  {
   "cell_type": "code",
   "execution_count": 8,
   "id": "6bd0ae44-f67f-4a1a-b165-9aa7b0e2b9b9",
   "metadata": {},
   "outputs": [
    {
     "data": {
      "text/plain": [
       "3-element Vector{Float64}:\n",
       " 1.0\n",
       " 0.2431208477977339\n",
       " 0.6736535587819961"
      ]
     },
     "execution_count": 8,
     "metadata": {},
     "output_type": "execute_result"
    }
   ],
   "source": [
    "x[1] = 1\n",
    "x"
   ]
  },
  {
   "cell_type": "code",
   "execution_count": 13,
   "id": "c3887992-5866-4f43-b4d4-25eae02c68c3",
   "metadata": {},
   "outputs": [
    {
     "data": {
      "text/plain": [
       "Foo(1.0)"
      ]
     },
     "execution_count": 13,
     "metadata": {},
     "output_type": "execute_result"
    }
   ],
   "source": [
    "mutable struct Foo\n",
    "    x::Float64\n",
    "end\n",
    "\n",
    "foo = Foo(1) # 使用 new 构造对象"
   ]
  },
  {
   "cell_type": "code",
   "execution_count": 12,
   "id": "b814ccd6-d09b-4abd-b1f9-7fe7dc5cae9f",
   "metadata": {},
   "outputs": [
    {
     "data": {
      "text/plain": [
       "Foo(2.0)"
      ]
     },
     "execution_count": 12,
     "metadata": {},
     "output_type": "execute_result"
    }
   ],
   "source": [
    "foo.x = 2\n",
    "foo"
   ]
  },
  {
   "cell_type": "code",
   "execution_count": 15,
   "id": "18d32cc4-ce4a-4a09-8e5b-595964dbb95f",
   "metadata": {},
   "outputs": [
    {
     "name": "stdout",
     "output_type": "stream",
     "text": [
      "1.0 has type of Float64\n"
     ]
    }
   ],
   "source": [
    "function foo2()\n",
    "    local x::Float64\n",
    "    x = 1\n",
    "    println(x, \" has type of \", typeof(x))\n",
    "end\n",
    "foo2()"
   ]
  },
  {
   "cell_type": "code",
   "execution_count": 18,
   "id": "d0d593f1-f924-4474-af35-531698f44e2f",
   "metadata": {},
   "outputs": [
    {
     "data": {
      "text/plain": [
       "1.0"
      ]
     },
     "execution_count": 18,
     "metadata": {},
     "output_type": "execute_result"
    }
   ],
   "source": [
    "function foo3()::Float64\n",
    "    return 1\n",
    "end\n",
    "foo3()"
   ]
  },
  {
   "cell_type": "markdown",
   "id": "1bd02204-42a8-409f-81f5-a90f8cf1e15d",
   "metadata": {},
   "source": [
    "但是，**传递参数不会自动转换类型**"
   ]
  },
  {
   "cell_type": "code",
   "execution_count": 20,
   "id": "c9b9e2ff-3463-45d6-bf8b-1de9e0d4dc00",
   "metadata": {},
   "outputs": [
    {
     "data": {
      "text/plain": [
       "2.4"
      ]
     },
     "execution_count": 20,
     "metadata": {},
     "output_type": "execute_result"
    }
   ],
   "source": [
    "twice = x::AbstractFloat -> 2x\n",
    "twice(1.2)"
   ]
  },
  {
   "cell_type": "code",
   "execution_count": 21,
   "id": "57ba5a35-56df-48b8-adff-deed0ce014ec",
   "metadata": {},
   "outputs": [
    {
     "ename": "LoadError",
     "evalue": "MethodError: no method matching (::var\"#1#2\")(::Int64)\n\u001b[0mClosest candidates are:\n\u001b[0m  (::var\"#1#2\")(\u001b[91m::AbstractFloat\u001b[39m) at In[20]:1",
     "output_type": "error",
     "traceback": [
      "MethodError: no method matching (::var\"#1#2\")(::Int64)\n\u001b[0mClosest candidates are:\n\u001b[0m  (::var\"#1#2\")(\u001b[91m::AbstractFloat\u001b[39m) at In[20]:1",
      "",
      "Stacktrace:",
      " [1] top-level scope",
      "   @ In[21]:1",
      " [2] eval",
      "   @ .\\boot.jl:373 [inlined]",
      " [3] include_string(mapexpr::typeof(REPL.softscope), mod::Module, code::String, filename::String)",
      "   @ Base .\\loading.jl:1196"
     ]
    }
   ],
   "source": [
    "twice(1) # 会报错"
   ]
  },
  {
   "cell_type": "markdown",
   "id": "f28b5358-72ed-4dda-a061-aa61ad92a319",
   "metadata": {},
   "source": [
    "### Type Unions\n",
    "\n",
    "比如一个函数的输入可以是整数或字符串，如何进行类型申明？就要构造 type union\n",
    "\n",
    "`Union{Types...}` 任何对象都不是它的实例"
   ]
  },
  {
   "cell_type": "code",
   "execution_count": null,
   "id": "ed2aef57",
   "metadata": {
    "lines_to_next_cell": 0
   },
   "outputs": [],
   "source": [
    "IntOrString = Union{Int64, String}"
   ]
  },
  {
   "cell_type": "code",
   "execution_count": null,
   "id": "19003831",
   "metadata": {},
   "outputs": [],
   "source": [
    "input_value = Union{Missing, Int64}"
   ]
  },
  {
   "cell_type": "markdown",
   "id": "bf928db5",
   "metadata": {},
   "source": [
    "### Type Promotion"
   ]
  },
  {
   "cell_type": "code",
   "execution_count": null,
   "id": "94492503",
   "metadata": {},
   "outputs": [],
   "source": [
    "promote(1, 2.5, 1//2)"
   ]
  },
  {
   "cell_type": "markdown",
   "id": "6ce7d697",
   "metadata": {},
   "source": [
    "### 类型与性能\n",
    "\n",
    "尽量保持变量类型的稳定，比如一个整数如果参与除法，就尽量在定义这个变量时将其声明为浮点型"
   ]
  },
  {
   "cell_type": "code",
   "execution_count": null,
   "id": "8a431199",
   "metadata": {
    "lines_to_next_cell": 0
   },
   "outputs": [],
   "source": [
    "x = 1.0"
   ]
  },
  {
   "cell_type": "markdown",
   "id": "d327a36d",
   "metadata": {},
   "source": [
    "## Abstract Type\n"
   ]
  },
  {
   "cell_type": "markdown",
   "id": "4de40eae",
   "metadata": {},
   "source": [
    "- 抽象类无法被实例化\n",
    "  - 比如正多边形是正三角形和正方形的父类。后两者是具体类，有相应的数据储存格式，而前者只是一个用来说明后两者有某些共同行为的抽象类，在内存中没有具体实现，仅作为一种标记行为的工具。\n",
    "\n",
    "  - 在处理抽象类型时，可以只关注特定的行为以及它们之间可能的交互。\n",
    "\n",
    "  - 这就是传说中的鸭子类型，不管它里面放着什么数据，只要行为像鸭子，它就是鸭子。即根据行为而非计算机实现来标注类型。\n",
    "\n",
    "- 具体类之间不能互为子类型（必然是类型层次结构中的叶子节点），只有抽象类可以作为其他类型的超类\n",
    "\n",
    "- 抽象类一般用*斜体*表示\n",
    "\n",
    "`Any` 是顶级类型，所有类都是它的子类\n",
    "\n",
    "\n"
   ]
  },
  {
   "cell_type": "markdown",
   "id": "9664d533",
   "metadata": {},
   "source": [
    "## Built-in Types\n",
    "\n",
    "也被称为原始类型，相对于复合类型\n",
    "\n",
    "### Number\n",
    "\n",
    "#### Integer\n",
    "\n",
    "##### 整数取值范围的上限\n",
    "\n",
    "| 类型                                                         | 带符号？ | 比特数 | 最小值    | 最大值    |\n",
    "| :----------------------------------------------------------- | :------- | :----- | :-------- | :-------- |\n",
    "| [Int8](https://docs.julialang.org/en/v1/base/numbers/#Core.Int8) | ✓        | 8      | -2^7      | 2^7 – 1   |\n",
    "| [UInt8](https://docs.julialang.org/en/v1/base/numbers/#Core.UInt8) |          | 8      | 0         | 2^8 – 1   |\n",
    "| [Int16](https://docs.julialang.org/en/v1/base/numbers/#Core.Int16) | ✓        | 16     | -2^15     | 2^15 – 1  |\n",
    "| [UInt16](https://docs.julialang.org/en/v1/base/numbers/#Core.UInt16) |          | 16     | 0         | 2^16 – 1  |\n",
    "| [Int32](https://docs.julialang.org/en/v1/base/numbers/#Core.Int32) | ✓        | 32     | -2^31     | 2^31 – 1  |\n",
    "| [UInt32](https://docs.julialang.org/en/v1/base/numbers/#Core.UInt32) |          | 32     | 0         | 2^32 – 1  |\n",
    "| [Int64](https://docs.julialang.org/en/v1/base/numbers/#Core.Int64) | ✓        | 64     | -2^63     | 2^63 – 1  |\n",
    "| [UInt64](https://docs.julialang.org/en/v1/base/numbers/#Core.UInt64) |          | 64     | 0         | 2^64 – 1  |\n",
    "| [Int128](https://docs.julialang.org/en/v1/base/numbers/#Core.Int128) | ✓        | 128    | -2^127    | 2^127 – 1 |\n",
    "| [UInt128](https://docs.julialang.org/en/v1/base/numbers/#Core.UInt128) |          | 128    | 0         | 2^128 – 1 |\n",
    "| [Bool](https://docs.julialang.org/en/v1/base/numbers/#Core.Bool) | N/A      | 8      | false (0) | true (1)  |\n",
    "\n",
    "整数类型值域的上限不足，是 Julia 一个非常突出的特点。这是为了速度优化而对数据进行严格分类的一种牺牲。\n",
    "\n",
    "注意，integer 类型的取值范围是比较小的，因此如果程序中某个表达式需要处理的数值大小超过 $2^{64}$ 乃至 $2^{128}$，就会溢出。必须将数据转换为 Float 再计算。\n",
    "\n",
    "转换的方法很灵活，运算过程中任何一个数是浮点数，结果都会是浮点数。"
   ]
  },
  {
   "cell_type": "code",
   "execution_count": null,
   "id": "08a77493",
   "metadata": {},
   "outputs": [],
   "source": [
    "typemax(Int64) # 2^63 - 1\n",
    "# 9223372036854775807"
   ]
  },
  {
   "cell_type": "code",
   "execution_count": null,
   "id": "5f818d0f",
   "metadata": {},
   "outputs": [],
   "source": [
    "typemax(Float64)\n",
    "# Inf"
   ]
  },
  {
   "cell_type": "code",
   "execution_count": null,
   "id": "ce0ffbf9",
   "metadata": {},
   "outputs": [],
   "source": [
    "1000^21\n",
    "# -9223372036854775808"
   ]
  },
  {
   "cell_type": "code",
   "execution_count": null,
   "id": "6d8e86b4",
   "metadata": {},
   "outputs": [],
   "source": [
    "Float64(1000)^21\n",
    "# 1.0e63"
   ]
  },
  {
   "cell_type": "code",
   "execution_count": null,
   "id": "0cee034a",
   "metadata": {},
   "outputs": [],
   "source": [
    "(1000+0.0)^21\n",
    "# 1.0e63"
   ]
  },
  {
   "cell_type": "markdown",
   "id": "553f0bd2",
   "metadata": {},
   "source": [
    "上述计算结果（大于 $2^{64}$ 乃至 $2^{128}$ 的浮点数）仍然可以被转换为整数，但必须用 `BigInt` 格式来储存。\n",
    "\n",
    "转换函数为 `big()` 或 `BigInt()`，或使用 `convert(BigInt, x)`"
   ]
  },
  {
   "cell_type": "code",
   "execution_count": null,
   "id": "95093919",
   "metadata": {},
   "outputs": [],
   "source": [
    "x = BigInt(10212313131352519345963644753026192783913791739137917391739137)"
   ]
  },
  {
   "cell_type": "code",
   "execution_count": null,
   "id": "c013fde7",
   "metadata": {
    "lines_to_next_cell": 2
   },
   "outputs": [],
   "source": [
    "convert(BigInt, Float64(1000)^21)"
   ]
  },
  {
   "cell_type": "markdown",
   "id": "3c53dc52",
   "metadata": {},
   "source": [
    "##### 进位制\n",
    "\n",
    "前缀区分进制：\n",
    "\n",
    "\\- `0x` 十六进制\n",
    "\n",
    "\\- `0b` 二进制\n",
    "\n",
    "\\- `0o` 八进制\n"
   ]
  },
  {
   "cell_type": "markdown",
   "id": "4874171d",
   "metadata": {},
   "source": [
    "10 进制（数字）与其他进制（字符串）的互转\n",
    "\n",
    "- `parse(type, str; base)` 将 base 进制的字符串解析为 10 进制整数\n",
    "- `string(n; base, pad)` 将 10 进制整数转换为 base 进制的字符串，并补齐至 pad 长度\n",
    "- 忽略 base 时，则是 10 进制数字与字符串的互转"
   ]
  },
  {
   "cell_type": "code",
   "execution_count": null,
   "id": "17c987d2",
   "metadata": {},
   "outputs": [],
   "source": [
    "parse(Int64, \"FF\"; base=16)"
   ]
  },
  {
   "cell_type": "code",
   "execution_count": null,
   "id": "1afad0dd",
   "metadata": {},
   "outputs": [],
   "source": [
    "string(12; base=16, pad=2)"
   ]
  },
  {
   "cell_type": "markdown",
   "id": "0c6d1d8d",
   "metadata": {},
   "source": [
    "#### Floating-point\n",
    "\n",
    "用科学计数法输入数字时，默认为浮点数（可能因为整数的值域太小了）"
   ]
  },
  {
   "cell_type": "code",
   "execution_count": null,
   "id": "c637faee",
   "metadata": {},
   "outputs": [],
   "source": [
    "2e2"
   ]
  },
  {
   "cell_type": "markdown",
   "id": "a2a7f832",
   "metadata": {},
   "source": [
    "在计算机能够表达的浮点数集合中，越靠近零点，数值的分布越稠密；而远离零点时，则会变得越来越稀疏，精度也会越来越差。\n",
    "\n",
    "##### NaN\n",
    "\n",
    "not a number, 用 `isnan()` 检查是否 NaN"
   ]
  },
  {
   "cell_type": "code",
   "execution_count": null,
   "id": "7cf76752",
   "metadata": {},
   "outputs": [],
   "source": [
    "0/0 # NaN"
   ]
  },
  {
   "cell_type": "code",
   "execution_count": null,
   "id": "364aae1a",
   "metadata": {},
   "outputs": [],
   "source": [
    "typeof(NaN) # Float64"
   ]
  },
  {
   "cell_type": "markdown",
   "id": "8c7f57cd",
   "metadata": {},
   "source": [
    "##### 无穷大\n",
    "\n",
    "Julia 允许除数为 0，返回 Inf 或 -Inf，用 `isfinite()`, `isinf()` 检查是否无穷大\n",
    "\n",
    "> 但不允许分子分母同时为0"
   ]
  },
  {
   "cell_type": "code",
   "execution_count": null,
   "id": "3a3f7eb6",
   "metadata": {
    "lines_to_next_cell": 0
   },
   "outputs": [],
   "source": [
    "isfinite(Inf) # false"
   ]
  },
  {
   "cell_type": "code",
   "execution_count": null,
   "id": "b76e56ed",
   "metadata": {},
   "outputs": [],
   "source": [
    "isinf(-Inf) # true"
   ]
  },
  {
   "cell_type": "markdown",
   "id": "736aa6ec",
   "metadata": {},
   "source": [
    "#### 复数"
   ]
  },
  {
   "cell_type": "code",
   "execution_count": null,
   "id": "9a74ad74",
   "metadata": {},
   "outputs": [],
   "source": [
    "1+im  |> typeof # Complex{Int64}"
   ]
  },
  {
   "cell_type": "markdown",
   "id": "7b268d6f",
   "metadata": {},
   "source": [
    "#### 有理数\n",
    "\n",
    "`Rational{T<:Integer>}<:Real` 分子、分母必须都是整数\n",
    "\n",
    "`numerator()`, `denominator()` 分别返回标准化的分子和分母"
   ]
  },
  {
   "cell_type": "code",
   "execution_count": null,
   "id": "9eb74840",
   "metadata": {},
   "outputs": [],
   "source": [
    "1 // 2 # 分数"
   ]
  },
  {
   "cell_type": "code",
   "execution_count": null,
   "id": "1eb53c4d",
   "metadata": {},
   "outputs": [],
   "source": [
    "typeof(1 // 2)"
   ]
  },
  {
   "cell_type": "code",
   "execution_count": null,
   "id": "d3b7e2bd",
   "metadata": {},
   "outputs": [],
   "source": [
    "numerator(1//2)"
   ]
  },
  {
   "cell_type": "code",
   "execution_count": null,
   "id": "6e671d8a",
   "metadata": {},
   "outputs": [],
   "source": [
    "denominator(1//2)"
   ]
  },
  {
   "cell_type": "markdown",
   "id": "42a03b8d",
   "metadata": {},
   "source": [
    "数学上等价的有理数，在 Julia 中表达形式唯一\n",
    "\n",
    "- 分子与分母为不同整型时，Julia会通过必要的隐式转换，将两者的类型进行统一\n",
    "- 创建的Rational数值在Julia内部会被约分为标准形式\n",
    "- 确保分母不为负数\n",
    "- 不允许分子、分母同时为 0\n",
    "- 在 julia 底层，比较两个分数值是否相等时，是通过**校验分子与分母都相等**来实现的"
   ]
  },
  {
   "cell_type": "code",
   "execution_count": null,
   "id": "ebcd8d12",
   "metadata": {},
   "outputs": [],
   "source": [
    "UInt32(2)//Int64(10) # 统一为 Int64"
   ]
  },
  {
   "cell_type": "code",
   "execution_count": null,
   "id": "d9e5999c",
   "metadata": {},
   "outputs": [],
   "source": [
    "typeof(UInt32(2) // Int64(10))"
   ]
  },
  {
   "cell_type": "code",
   "execution_count": null,
   "id": "47977915",
   "metadata": {},
   "outputs": [],
   "source": [
    "5//25"
   ]
  },
  {
   "cell_type": "code",
   "execution_count": null,
   "id": "b3fc4b6d",
   "metadata": {},
   "outputs": [],
   "source": [
    "1//-2"
   ]
  },
  {
   "cell_type": "code",
   "execution_count": null,
   "id": "4849b6f4",
   "metadata": {},
   "outputs": [],
   "source": [
    "5//0"
   ]
  },
  {
   "cell_type": "code",
   "execution_count": null,
   "id": "87679ab1",
   "metadata": {},
   "outputs": [],
   "source": [
    "0//0"
   ]
  },
  {
   "cell_type": "code",
   "execution_count": null,
   "id": "beed483c",
   "metadata": {},
   "outputs": [],
   "source": [
    "2//3 == 6//9"
   ]
  },
  {
   "cell_type": "code",
   "execution_count": null,
   "id": "50c7c003",
   "metadata": {},
   "outputs": [],
   "source": [
    "5//8 * 3//12"
   ]
  },
  {
   "cell_type": "code",
   "execution_count": null,
   "id": "a76fd854",
   "metadata": {},
   "outputs": [],
   "source": [
    "6//5 / 10//7"
   ]
  },
  {
   "cell_type": "markdown",
   "id": "f0c71cc3",
   "metadata": {},
   "source": [
    "#### 无理数\n",
    "\n",
    "julia 有一些内置常数，如 ℯ (**\\euler TAB**)"
   ]
  },
  {
   "cell_type": "code",
   "execution_count": null,
   "id": "f037bc46",
   "metadata": {},
   "outputs": [],
   "source": [
    "typeof(ℯ)"
   ]
  },
  {
   "cell_type": "markdown",
   "id": "18715638",
   "metadata": {},
   "source": [
    "### Nothing\n",
    "\n",
    "没有返回值的函数，返回 `nothing`，其 type 为 `Nothing`\n",
    "\n",
    "### Missing"
   ]
  },
  {
   "cell_type": "code",
   "execution_count": null,
   "id": "1dec7be1",
   "metadata": {},
   "outputs": [],
   "source": [
    "typeof(missing) # Missing"
   ]
  },
  {
   "cell_type": "markdown",
   "id": "ac0f578f",
   "metadata": {},
   "source": [
    "在包含 missing 的数组上调用归约函数会返回 missing，需要先用 `skipmissing()` 跳过缺失值"
   ]
  },
  {
   "cell_type": "code",
   "execution_count": null,
   "id": "47d2413c",
   "metadata": {
    "lines_to_next_cell": 0
   },
   "outputs": [],
   "source": [
    "a = [1, missing]"
   ]
  },
  {
   "cell_type": "code",
   "execution_count": null,
   "id": "dad3700f",
   "metadata": {},
   "outputs": [],
   "source": [
    "typeof(a)"
   ]
  },
  {
   "cell_type": "code",
   "execution_count": null,
   "id": "467f517c",
   "metadata": {},
   "outputs": [],
   "source": [
    "sum(a)"
   ]
  },
  {
   "cell_type": "code",
   "execution_count": null,
   "id": "36857df5",
   "metadata": {},
   "outputs": [],
   "source": [
    "skipmissing(a)"
   ]
  },
  {
   "cell_type": "code",
   "execution_count": null,
   "id": "22f631d2",
   "metadata": {},
   "outputs": [],
   "source": [
    "skipmissing(a) |> sum"
   ]
  },
  {
   "cell_type": "markdown",
   "id": "f1b5a9fd",
   "metadata": {},
   "source": [
    "### Bool\n",
    "\n",
    "true/false 参与数值计算会自动转化为 1/0"
   ]
  },
  {
   "cell_type": "code",
   "execution_count": null,
   "id": "cdca103d",
   "metadata": {},
   "outputs": [],
   "source": [
    "true == 1"
   ]
  },
  {
   "cell_type": "code",
   "execution_count": null,
   "id": "0850c700",
   "metadata": {},
   "outputs": [],
   "source": [
    "false == 0"
   ]
  },
  {
   "cell_type": "code",
   "execution_count": null,
   "id": "87393094",
   "metadata": {},
   "outputs": [],
   "source": [
    "true == 2"
   ]
  },
  {
   "cell_type": "code",
   "execution_count": null,
   "id": "02e9912c",
   "metadata": {},
   "outputs": [],
   "source": [
    "Int64(true) # 1"
   ]
  },
  {
   "cell_type": "code",
   "execution_count": null,
   "id": "4a5dfc8f",
   "metadata": {},
   "outputs": [],
   "source": [
    "Int64(false) # 0"
   ]
  },
  {
   "cell_type": "code",
   "execution_count": null,
   "id": "90acda9f",
   "metadata": {},
   "outputs": [],
   "source": [
    "Bool(1::Int64) # true"
   ]
  },
  {
   "cell_type": "code",
   "execution_count": null,
   "id": "1bdeab0f",
   "metadata": {},
   "outputs": [],
   "source": [
    "Bool(0) # false"
   ]
  },
  {
   "cell_type": "code",
   "execution_count": null,
   "id": "cd7091a9",
   "metadata": {},
   "outputs": [],
   "source": [
    "Bool(10) # 非 1 和 0 的数值转换为 Bool 型会报错！这是 Julia 的一个特点"
   ]
  },
  {
   "cell_type": "markdown",
   "id": "783f913a",
   "metadata": {},
   "source": [
    "### Symbol\n",
    "\n",
    "以`:`开始，可以和 String 相互转换"
   ]
  },
  {
   "cell_type": "code",
   "execution_count": null,
   "id": "2188c544",
   "metadata": {},
   "outputs": [],
   "source": [
    "sym = :some_text"
   ]
  },
  {
   "cell_type": "code",
   "execution_count": null,
   "id": "7523e7ef",
   "metadata": {},
   "outputs": [],
   "source": [
    "typeof(sym)"
   ]
  },
  {
   "cell_type": "code",
   "execution_count": null,
   "id": "c8b3a3b6",
   "metadata": {},
   "outputs": [],
   "source": [
    "s = string(sym)"
   ]
  },
  {
   "cell_type": "code",
   "execution_count": null,
   "id": "435ab7ba",
   "metadata": {},
   "outputs": [],
   "source": [
    "sym = Symbol(s)"
   ]
  },
  {
   "cell_type": "markdown",
   "id": "0a248ca1",
   "metadata": {},
   "source": [
    "但 Symbol 不能像 String 一样使用数字索引\n",
    "\n",
    "### Char\n",
    "\n",
    "#### 构造\n",
    "\n",
    "字符的类型为 `Char`，父类型为 `AbstractChar`，形式为一对单引号 `'x'`，且其中只能有一个字符"
   ]
  },
  {
   "cell_type": "code",
   "execution_count": null,
   "id": "ba679737",
   "metadata": {},
   "outputs": [],
   "source": [
    "typeof('x')"
   ]
  },
  {
   "cell_type": "code",
   "execution_count": null,
   "id": "cd0a630d",
   "metadata": {},
   "outputs": [],
   "source": [
    "'x'"
   ]
  },
  {
   "cell_type": "code",
   "execution_count": null,
   "id": "d65dda17",
   "metadata": {},
   "outputs": [],
   "source": [
    "# 除了提示该字符的 Unicode 码值（16进制）外，还告知其在字符集中的分类\n",
    "'￥'"
   ]
  },
  {
   "cell_type": "markdown",
   "id": "5fddbcec",
   "metadata": {},
   "source": [
    "也可以用 `Char(数字)` 创建字符"
   ]
  },
  {
   "cell_type": "code",
   "execution_count": null,
   "id": "dc4b96eb",
   "metadata": {},
   "outputs": [],
   "source": [
    "Char(0x78)"
   ]
  },
  {
   "cell_type": "code",
   "execution_count": null,
   "id": "5854cafe",
   "metadata": {},
   "outputs": [],
   "source": [
    "Char(120) # 10进制的120，对应16进制的78"
   ]
  },
  {
   "cell_type": "code",
   "execution_count": null,
   "id": "6786b1b2",
   "metadata": {},
   "outputs": [],
   "source": [
    "Int('x')"
   ]
  },
  {
   "cell_type": "markdown",
   "id": "cd625c69",
   "metadata": {},
   "source": [
    "#### 运算\n",
    "\n",
    "字符之间的四则运算仅支持减法，返回二者编码之间的距离"
   ]
  },
  {
   "cell_type": "code",
   "execution_count": null,
   "id": "898e8a18",
   "metadata": {},
   "outputs": [],
   "source": [
    "'x' - 'a'"
   ]
  },
  {
   "cell_type": "code",
   "execution_count": null,
   "id": "c68eedf4",
   "metadata": {},
   "outputs": [],
   "source": [
    "'x' - 23"
   ]
  },
  {
   "cell_type": "code",
   "execution_count": null,
   "id": "47da43ec",
   "metadata": {},
   "outputs": [],
   "source": [
    "'A' + 1"
   ]
  },
  {
   "cell_type": "markdown",
   "id": "dbe0da2e",
   "metadata": {},
   "source": [
    "#### 判断分类\n",
    "\n",
    "`isletter(c::AbstractChar)` 是否在 letter 类中\n",
    "\n",
    "`isascii(c::Union(AbstractChar, AbstractString))` Char 是否在 ASCII 中，或 String 的所有字符是否都在 ASCII 中\n",
    "\n",
    "`isnumber(c::AbstractChar)` 是否在 numeric 类中\n",
    "\n",
    "`isdigit(c::AbstractChar)` 是否为 0-9 的数字\n",
    "\n",
    "`isprint(c::AbstractChar)` 是否为可打印字符\n",
    "\n",
    "`iscntrl(c::AbstractChar)` 是否为不可打印字符（如换行符、制表符）\n",
    "\n",
    "`ispunct(c::AbstractChar)` 是否为标点符号\n",
    "\n",
    "`isspace(c::AbstractChar)` 是否为白空格\n",
    "\n",
    "`islowercase(c::AbstractChar)` 是否为小写字符\n",
    "\n",
    "`isuppercase(c::AbstractChar)` 是否为大写字符\n",
    "\n",
    "## 复合类型\n",
    "\n",
    "不可变对象的字段如果是可变的（如数组），这个字段就仍然能被改写。\n",
    "\n",
    "可变对象的所有字段都能被改写。\n",
    "\n",
    "不可变对象更易于处理，但空间开销更大。\n",
    "\n",
    "### 参数化复合类型\n",
    "\n",
    "复合类型接收一些参数，这些参数对字段的类型进行了某种规定，并在实例化时具体确定。"
   ]
  },
  {
   "cell_type": "code",
   "execution_count": 23,
   "id": "d7ee86a5",
   "metadata": {},
   "outputs": [],
   "source": [
    "# 抽象类型\n",
    "abstract type Asset end\n",
    "abstract type Investment <: Asset end\n",
    "abstract type Equity <: Investment end\n",
    "\n",
    "# 具体类型\n",
    "struct Stock <: Equity\n",
    "    symbol::String\n",
    "    name::String\n",
    "end\n",
    "\n",
    "# 参数化类型\n",
    "struct StockHolding{T <: Real} \n",
    "    stock::Stock\n",
    "    quantity::T\n",
    "end"
   ]
  },
  {
   "cell_type": "markdown",
   "id": "45fcb52b",
   "metadata": {},
   "source": [
    "实例化时，有可能出现 StockHolding{Int}，也有可能出现 StockHolding{Float}"
   ]
  },
  {
   "cell_type": "code",
   "execution_count": 24,
   "id": "d0329763",
   "metadata": {
    "lines_to_next_cell": 0
   },
   "outputs": [
    {
     "data": {
      "text/plain": [
       "Stock(\"AAPL\", \"Apple, Inc.\")"
      ]
     },
     "execution_count": 24,
     "metadata": {},
     "output_type": "execute_result"
    }
   ],
   "source": [
    "stock = Stock(\"AAPL\", \"Apple, Inc.\")"
   ]
  },
  {
   "cell_type": "code",
   "execution_count": 25,
   "id": "d5633227",
   "metadata": {},
   "outputs": [
    {
     "data": {
      "text/plain": [
       "StockHolding{Int64}(Stock(\"AAPL\", \"Apple, Inc.\"), 100)"
      ]
     },
     "execution_count": 25,
     "metadata": {},
     "output_type": "execute_result"
    }
   ],
   "source": [
    "holding = StockHolding(stock, 100)"
   ]
  },
  {
   "cell_type": "code",
   "execution_count": 26,
   "id": "80ce7386",
   "metadata": {},
   "outputs": [
    {
     "data": {
      "text/plain": [
       "StockHolding{Float64}(Stock(\"AAPL\", \"Apple, Inc.\"), 100.0)"
      ]
     },
     "execution_count": 26,
     "metadata": {},
     "output_type": "execute_result"
    }
   ],
   "source": [
    "holding = StockHolding(stock, 100.00)"
   ]
  },
  {
   "cell_type": "code",
   "execution_count": 27,
   "id": "95ecde0d",
   "metadata": {},
   "outputs": [
    {
     "data": {
      "text/plain": [
       "StockHolding{Rational{Int64}}(Stock(\"AAPL\", \"Apple, Inc.\"), 100//3)"
      ]
     },
     "execution_count": 27,
     "metadata": {},
     "output_type": "execute_result"
    }
   ],
   "source": [
    "holding = StockHolding(stock, 100 // 3)"
   ]
  },
  {
   "cell_type": "markdown",
   "id": "a4056be4",
   "metadata": {
    "lines_to_next_cell": 0
   },
   "source": [
    "参数化类型可以强制约定字段类型的一致性"
   ]
  },
  {
   "cell_type": "code",
   "execution_count": 28,
   "id": "a49aedbe",
   "metadata": {},
   "outputs": [],
   "source": [
    "struct StockHolding2{T<:Real,P<:AbstractFloat}\n",
    "    stock::Stock\n",
    "    quantity::T\n",
    "    price::P\n",
    "    marketvalue::P\n",
    "end"
   ]
  },
  {
   "cell_type": "code",
   "execution_count": 29,
   "id": "035f07ca",
   "metadata": {},
   "outputs": [
    {
     "data": {
      "text/plain": [
       "StockHolding2{Int64, Float64}(Stock(\"AAPL\", \"Apple, Inc.\"), 100, 180.0, 18000.0)"
      ]
     },
     "execution_count": 29,
     "metadata": {},
     "output_type": "execute_result"
    }
   ],
   "source": [
    "holding = StockHolding2(stock, 100, 180.00, 18000.00)"
   ]
  },
  {
   "cell_type": "code",
   "execution_count": 30,
   "id": "e99400f8",
   "metadata": {},
   "outputs": [],
   "source": [
    "abstract type Holding{P} end\n",
    "\n",
    "mutable struct StockHolding3{T,P} <: Holding{P}\n",
    "    stock::Stock\n",
    "    quantity::T\n",
    "    price::P\n",
    "    marketvalue::P\n",
    "end\n",
    "\n",
    "mutable struct CashHolding{P} <: Holding{P}\n",
    "    currency::String\n",
    "    amount::P\n",
    "    marketvalue::P\n",
    "end"
   ]
  },
  {
   "cell_type": "code",
   "execution_count": 31,
   "id": "8991933f",
   "metadata": {},
   "outputs": [
    {
     "data": {
      "text/plain": [
       "StockHolding3{Int64, Float64}(Stock(\"AAPL\", \"Apple, Inc.\"), 100, 180.0, 18000.0)"
      ]
     },
     "execution_count": 31,
     "metadata": {},
     "output_type": "execute_result"
    }
   ],
   "source": [
    "certificate_in_the_safe = StockHolding3(stock, 100, 180.00, 18000.00)"
   ]
  },
  {
   "cell_type": "code",
   "execution_count": 32,
   "id": "14d9c0e5",
   "metadata": {},
   "outputs": [
    {
     "data": {
      "text/plain": [
       "true"
      ]
     },
     "execution_count": 32,
     "metadata": {},
     "output_type": "execute_result"
    }
   ],
   "source": [
    "certificate_in_the_safe isa Holding{Float64}"
   ]
  }
 ],
 "metadata": {
  "jupytext": {
   "cell_metadata_filter": "-all",
   "main_language": "julia",
   "notebook_metadata_filter": "-all"
  },
  "kernelspec": {
   "display_name": "Julia 1.7.3",
   "language": "julia",
   "name": "julia-1.7"
  },
  "language_info": {
   "file_extension": ".jl",
   "mimetype": "application/julia",
   "name": "julia",
   "version": "1.7.3"
  },
  "toc-autonumbering": true
 },
 "nbformat": 4,
 "nbformat_minor": 5
}
