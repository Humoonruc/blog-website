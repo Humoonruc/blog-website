{
  "cells": [
    {
      "cell_type": "raw",
      "metadata": {},
      "source": [
        "---\n",
        "title: Numerical Analysis in Julia\n",
        "author: Humoon\n",
        "date: '2022-07-29'\n",
        "format:\n",
        "  html:\n",
        "    toc: true\n",
        "    number-sections: true\n",
        "    code-tools: true\n",
        "    highlight-style: monokai\n",
        "    code-copy: true\n",
        "    self-contained: true\n",
        "execute:\n",
        "  cache: true\n",
        "  daemon: true\n",
        "  output: asis\n",
        "---"
      ]
    },
    {
      "cell_type": "markdown",
      "metadata": {},
      "source": [
        "# Root Solving\n",
        "\n",
        "文档：[NLsolve.jl](https://github.com/JuliaNLSolvers/NLsolve.jl)\n",
        "\n",
        "`nlsolve(f![, j!], x_initial, ...)`，其中 `f!` 为方程组，`j!` 为 Jacobian Matrix"
      ]
    },
    {
      "cell_type": "code",
      "metadata": {},
      "source": [
        "#| eval: false\n",
        "\n",
        "using NLsolve"
      ],
      "execution_count": null,
      "outputs": []
    },
    {
      "cell_type": "markdown",
      "metadata": {},
      "source": [
        "## Jacobian Matrix\n",
        "\n",
        "显式给出最好，可以提高求解性能，否则，有两种情况：\n",
        "\n",
        "1. 默认使用有限差分（finite differencing）\n",
        "2. 参数 autodiff= :forward，自动微分\n",
        "\n",
        "\n",
        "\n",
        "\n",
        "## 可选参数\n",
        "\n",
        "- `xtol`: norm difference in `x` between two successive iterates under which convergence is declared. Default: `0.0`. 两次迭代，x 的相对变化小于多少时，被认为是收敛的。\n",
        "- `ftol`: infinite norm of residuals under which convergence is declared. Default: `1e-8`. 方程残差小于多少时，被认为是收敛的。\n",
        "- `iterations`: maximum number of iterations. Default: `1_000`. 最大迭代次数。\n",
        "- `store_trace`: should a trace of the optimization algorithm's state be stored? Default: `false`. 是否储存收敛轨迹。\n",
        "- `show_trace`: should a trace of the optimization algorithm's state be shown on `STDOUT`? Default: `false`. 是否显示收敛轨迹。\n",
        "- `extended_trace`: should additional algorithm internals be added to the state trace? Default: `false`."
      ]
    },
    {
      "cell_type": "code",
      "metadata": {},
      "source": [
        "# 注意，不能写成向量形式，F = ...\n",
        "# 必须用分量形式\n",
        "function f!(F, x)\n",
        "    F[1] = (x[1]+3)*(x[2]^3-7)+18\n",
        "    F[2] = sin(x[2]*exp(x[1])-1)\n",
        "end\n",
        "\n",
        "function j!(J, x)\n",
        "    J[1, 1] = x[2]^3-7\n",
        "    J[1, 2] = 3*x[2]^2*(x[1]+3)\n",
        "    u = exp(x[1])*cos(x[2]*exp(x[1])-1)\n",
        "    J[2, 1] = x[2]*u\n",
        "    J[2, 2] = u\n",
        "end\n",
        "\n",
        "# nlsolve 会迭代f!的第二个参数（向量），不断地修改f!的第一个参数（向量）\n",
        "# 直到其所有分量为0，最后返回第二个参数，即为方程组的解\n",
        "nlsolve(f!, j!, [ 0.1; 1.2])"
      ],
      "execution_count": null,
      "outputs": []
    },
    {
      "cell_type": "code",
      "metadata": {},
      "source": [
        "# 给 Jacobian Matrix 性能会好一些，但也可以不给 Jacobian Matrix\n",
        "solve1 = nlsolve(f!, [0.1; 1.2])\n",
        "solve1.zero"
      ],
      "execution_count": null,
      "outputs": []
    },
    {
      "cell_type": "code",
      "metadata": {},
      "source": [
        "# 自动微分\n",
        "solve2 = nlsolve(f!, [0.1; 1.2], autodiff=:forward)\n",
        "solve2.zero"
      ],
      "execution_count": null,
      "outputs": []
    },
    {
      "cell_type": "markdown",
      "metadata": {},
      "source": [
        "## 迭代算法\n",
        "\n",
        "- 默认算法：Trust region method, `method = :trust_region`\n",
        "- Newton method with linesearch, `method = :newton`\n",
        "- Anderson acceleration, `method = :anderson`\n",
        "\n",
        "## 不动点方程（组）\n",
        "\n",
        "`fixedpoint(f!, init_x; method = :newton, autodiff = :true, iterations = 500, ...)`\n",
        "\n",
        "普通方程到不动点方程相当于将 `f` 映射为 `f-x`，则 `j` 也应当映射为 `j-I`\n",
        "\n",
        "# 导数与微分\n",
        "\n",
        "[Calculus.jl](https://github.com/JuliaMath/Calculus.jl)"
      ]
    },
    {
      "cell_type": "code",
      "metadata": {},
      "source": [
        "using Calculus"
      ],
      "execution_count": null,
      "outputs": []
    },
    {
      "cell_type": "code",
      "metadata": {},
      "source": [
        "names(Calculus)"
      ],
      "execution_count": null,
      "outputs": []
    },
    {
      "cell_type": "markdown",
      "metadata": {},
      "source": [
        "## API\n",
        "\n",
        "- `derivative()`: Use this for functions from R to R\n",
        "- `second_derivative()`: Use this for functions from R to R\n",
        "- `Calculus.gradient()`: Use this for functions from R^n to R\n",
        "- `hessian()`: Use this for functions from R^n to R\n",
        "- `differentiate()`: Use this to perform symbolic differentiation\n",
        "- `simplify()`: Use this to perform symbolic simplification\n",
        "- `deparse()`: Use this to get usual infix representation of expressions\n",
        "\n",
        "这些函数的第一个参数是函数，第二个可选参数是自变量的取值\n",
        "\n",
        "## 计算某个点的导数"
      ]
    },
    {
      "cell_type": "code",
      "metadata": {},
      "source": [
        "f(x) = sin(x)"
      ],
      "execution_count": null,
      "outputs": []
    },
    {
      "cell_type": "code",
      "metadata": {},
      "source": [
        "derivative(f, pi/2) # f'(pi/2) == cos(pi/2)"
      ],
      "execution_count": null,
      "outputs": []
    },
    {
      "cell_type": "markdown",
      "metadata": {},
      "source": [
        "## 创建导函数"
      ]
    },
    {
      "cell_type": "code",
      "metadata": {},
      "source": [
        "g1 = derivative(sin) # 导函数"
      ],
      "execution_count": null,
      "outputs": []
    },
    {
      "cell_type": "code",
      "metadata": {},
      "source": [
        "g1(0.0)"
      ],
      "execution_count": null,
      "outputs": []
    },
    {
      "cell_type": "code",
      "metadata": {},
      "source": [
        "g1(1.0)"
      ],
      "execution_count": null,
      "outputs": []
    },
    {
      "cell_type": "code",
      "metadata": {},
      "source": [
        "g1(pi)"
      ],
      "execution_count": null,
      "outputs": []
    },
    {
      "cell_type": "code",
      "metadata": {},
      "source": [
        "g2 = Calculus.gradient(x -> sin(x[1]) + cos(x[2])) # 梯度函数"
      ],
      "execution_count": null,
      "outputs": []
    },
    {
      "cell_type": "code",
      "metadata": {},
      "source": [
        "g2([0.0, 0.0])"
      ],
      "execution_count": null,
      "outputs": []
    },
    {
      "cell_type": "code",
      "metadata": {},
      "source": [
        "g2([1.0, 1.0])"
      ],
      "execution_count": null,
      "outputs": []
    },
    {
      "cell_type": "code",
      "metadata": {},
      "source": [
        "g2([pi, pi])"
      ],
      "execution_count": null,
      "outputs": []
    },
    {
      "cell_type": "code",
      "metadata": {},
      "source": [
        "h1 = second_derivative(sin) # 二阶导函数"
      ],
      "execution_count": null,
      "outputs": []
    },
    {
      "cell_type": "code",
      "metadata": {},
      "source": [
        "h1(0.0)"
      ],
      "execution_count": null,
      "outputs": []
    },
    {
      "cell_type": "code",
      "metadata": {},
      "source": [
        "h1(1.0)"
      ],
      "execution_count": null,
      "outputs": []
    },
    {
      "cell_type": "code",
      "metadata": {},
      "source": [
        "h1(pi/2) "
      ],
      "execution_count": null,
      "outputs": []
    },
    {
      "cell_type": "code",
      "metadata": {},
      "source": [
        "h2 = hessian(x -> sin(x[1]) + cos(x[2])) # hessian 矩阵函数"
      ],
      "execution_count": null,
      "outputs": []
    },
    {
      "cell_type": "code",
      "metadata": {},
      "source": [
        "h2([0.0, 0.0])"
      ],
      "execution_count": null,
      "outputs": []
    },
    {
      "cell_type": "code",
      "metadata": {},
      "source": [
        "h2([1.0, 1.0])"
      ],
      "execution_count": null,
      "outputs": []
    },
    {
      "cell_type": "markdown",
      "metadata": {},
      "source": [
        "## 符号微分 symbolic differentiation\n",
        "\n",
        "仅适用于一些比较简单的函数"
      ]
    },
    {
      "cell_type": "code",
      "metadata": {},
      "source": [
        "differentiate(\"cos(x) + sin(x) + exp(-x) * cos(x)\", :x)"
      ],
      "execution_count": null,
      "outputs": []
    },
    {
      "cell_type": "code",
      "metadata": {},
      "source": [
        "differentiate(\"cos(x) + sin(y) + exp(-x) * cos(y)\", [:x, :y])"
      ],
      "execution_count": null,
      "outputs": []
    },
    {
      "cell_type": "markdown",
      "metadata": {},
      "source": [
        "# 数值积分\n",
        "\n",
        "[QuadGK.jl](https://github.com/JuliaMath/QuadGK.jl)"
      ]
    },
    {
      "cell_type": "code",
      "metadata": {},
      "source": [
        "using QuadGK"
      ],
      "execution_count": null,
      "outputs": []
    },
    {
      "cell_type": "code",
      "metadata": {},
      "source": [
        "integral, err = quadgk(x -> exp(-x^2), 0, 1, rtol=1e-8)"
      ],
      "execution_count": null,
      "outputs": []
    }
  ],
  "metadata": {
    "kernelspec": {
      "name": "julia-1.7",
      "language": "julia",
      "display_name": "Julia 1.7.3"
    }
  },
  "nbformat": 4,
  "nbformat_minor": 4
}