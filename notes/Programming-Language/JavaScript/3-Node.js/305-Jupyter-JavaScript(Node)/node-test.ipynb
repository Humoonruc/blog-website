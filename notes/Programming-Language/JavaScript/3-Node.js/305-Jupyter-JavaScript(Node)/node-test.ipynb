{
 "cells": [
  {
   "cell_type": "code",
   "execution_count": 1,
   "id": "4e56324e-8acc-4e55-a425-645bdc1ded9a",
   "metadata": {},
   "outputs": [],
   "source": [
    "let a = 3;"
   ]
  },
  {
   "cell_type": "code",
   "execution_count": 2,
   "id": "moved-classification",
   "metadata": {},
   "outputs": [
    {
     "name": "stdout",
     "output_type": "stream",
     "text": [
      "a\n"
     ]
    }
   ],
   "source": [
    "console.log(\"a\");"
   ]
  },
  {
   "cell_type": "code",
   "execution_count": 3,
   "id": "2d1224ab-f73b-4464-823b-0a3950fb782d",
   "metadata": {},
   "outputs": [
    {
     "name": "stdout",
     "output_type": "stream",
     "text": [
      "3\n"
     ]
    }
   ],
   "source": [
    "console.log(a)"
   ]
  },
  {
   "cell_type": "code",
   "execution_count": 4,
   "id": "e4c70ef3-aa90-4f96-9590-4739fd96e670",
   "metadata": {},
   "outputs": [
    {
     "name": "stdout",
     "output_type": "stream",
     "text": [
      "[ 1, 2, 3, 4, 5, 6 ]\n"
     ]
    }
   ],
   "source": [
    "let b = [1, 2, 3];\n",
    "let c = [4, 5, 6];\n",
    "console.log(b.concat(c));"
   ]
  },
  {
   "cell_type": "code",
   "execution_count": 5,
   "id": "worse-answer",
   "metadata": {},
   "outputs": [],
   "source": [
    "let d = b.concat(c)"
   ]
  },
  {
   "cell_type": "code",
   "execution_count": 6,
   "id": "combined-packaging",
   "metadata": {},
   "outputs": [
    {
     "name": "stdout",
     "output_type": "stream",
     "text": [
      "[ 1, 2, 3, 4, 5, 6 ]\n"
     ]
    }
   ],
   "source": [
    "console.log(d);"
   ]
  },
  {
   "cell_type": "code",
   "execution_count": null,
   "id": "2c9bb607-d68c-4dcf-8dca-7057cb1102f3",
   "metadata": {},
   "outputs": [],
   "source": []
  }
 ],
 "metadata": {
  "kernelspec": {
   "display_name": "Javascript (Node.js)",
   "language": "javascript",
   "name": "javascript"
  },
  "language_info": {
   "file_extension": ".js",
   "mimetype": "application/javascript",
   "name": "javascript",
   "version": "16.13.1"
  },
  "toc-autonumbering": false,
  "toc-showcode": false,
  "toc-showmarkdowntxt": true
 },
 "nbformat": 4,
 "nbformat_minor": 5
}
