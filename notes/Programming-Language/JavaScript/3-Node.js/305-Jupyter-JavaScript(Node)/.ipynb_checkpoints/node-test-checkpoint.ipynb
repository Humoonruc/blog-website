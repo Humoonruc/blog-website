{
 "cells": [
  {
   "cell_type": "code",
   "execution_count": 10,
   "id": "4e56324e-8acc-4e55-a425-645bdc1ded9a",
   "metadata": {},
   "outputs": [
    {
     "ename": "SyntaxError",
     "evalue": "Identifier 'a' has already been declared",
     "execution_count": 10,
     "output_type": "error",
     "traceback": [
      "evalmachine.<anonymous>:1",
      "let a = 3;",
      "^",
      "",
      "SyntaxError: Identifier 'a' has already been declared",
      "    at Script.runInThisContext (node:vm:129:12)",
      "    at Object.runInThisContext (node:vm:305:38)",
      "    at run ([eval]:1020:15)",
      "    at onRunRequest ([eval]:864:18)",
      "    at onMessage ([eval]:828:13)",
      "    at process.emit (node:events:390:28)",
      "    at emit (node:internal/child_process:917:12)",
      "    at processTicksAndRejections (node:internal/process/task_queues:84:21)"
     ]
    }
   ],
   "source": [
    "let a = 3;"
   ]
  },
  {
   "cell_type": "code",
   "execution_count": null,
   "id": "moved-classification",
   "metadata": {},
   "outputs": [],
   "source": [
    "console.log(\"a\");"
   ]
  },
  {
   "cell_type": "code",
   "execution_count": null,
   "id": "2d1224ab-f73b-4464-823b-0a3950fb782d",
   "metadata": {},
   "outputs": [],
   "source": [
    "console.log(a)"
   ]
  },
  {
   "cell_type": "code",
   "execution_count": null,
   "id": "e4c70ef3-aa90-4f96-9590-4739fd96e670",
   "metadata": {},
   "outputs": [],
   "source": [
    "let b = [1, 2, 3];\n",
    "let c = [4, 5, 6];\n",
    "console.log(b.concat(c));"
   ]
  },
  {
   "cell_type": "code",
   "execution_count": null,
   "id": "worse-answer",
   "metadata": {},
   "outputs": [],
   "source": [
    "let d = b.concat(c)"
   ]
  },
  {
   "cell_type": "code",
   "execution_count": null,
   "id": "combined-packaging",
   "metadata": {},
   "outputs": [],
   "source": [
    "console.log(d);"
   ]
  },
  {
   "cell_type": "code",
   "execution_count": null,
   "id": "2c9bb607-d68c-4dcf-8dca-7057cb1102f3",
   "metadata": {},
   "outputs": [],
   "source": []
  }
 ],
 "metadata": {
  "kernelspec": {
   "display_name": "JavaScript (Node.js)",
   "language": "javascript",
   "name": "javascript"
  },
  "language_info": {
   "file_extension": ".js",
   "mimetype": "application/javascript",
   "name": "javascript",
   "version": "16.13.1"
  },
  "toc-autonumbering": false,
  "toc-showcode": false,
  "toc-showmarkdowntxt": true
 },
 "nbformat": 4,
 "nbformat_minor": 5
}
