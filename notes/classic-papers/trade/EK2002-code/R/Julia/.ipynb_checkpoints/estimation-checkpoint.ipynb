{
 "cells": [
  {
   "cell_type": "markdown",
   "metadata": {
    "tags": []
   },
   "source": [
    "# Estimation\n",
    "\n",
    "这里只包含了作为 Simulation 部分前置的代码，有些意义不大的回归和图表就不写了"
   ]
  },
  {
   "cell_type": "markdown",
   "metadata": {
    "tags": []
   },
   "source": [
    "## Data Processing\n",
    "\n",
    "### Import Modules"
   ]
  },
  {
   "cell_type": "code",
   "execution_count": 2,
   "metadata": {},
   "outputs": [
    {
     "data": {
      "text/plain": [
       "RObject{StrSxp}\n",
       " [1] \"ivreg\"      \"magrittr\"   \"data.table\" \"forcats\"    \"stringr\"   \n",
       " [6] \"dplyr\"      \"purrr\"      \"readr\"      \"tidyr\"      \"tibble\"    \n",
       "[11] \"ggplot2\"    \"tidyverse\"  \"stats\"      \"graphics\"   \"grDevices\" \n",
       "[16] \"utils\"      \"datasets\"   \"methods\"    \"base\"      \n"
      ]
     },
     "execution_count": 2,
     "metadata": {},
     "output_type": "execute_result"
    }
   ],
   "source": [
    "using JSON, CSV, JLD # IO\n",
    "using DataFrames # Data Processing\n",
    "using LinearAlgebra, Statistics, Kronecker # Math\n",
    "using Pipe # Programming\n",
    "\n",
    "using RCall # Use R for regression and visualization\n",
    "R\"\"\"\n",
    "library(tidyverse)\n",
    "library(data.table)\n",
    "library(magrittr)\n",
    "library(ivreg)\n",
    "\"\"\""
   ]
  },
  {
   "cell_type": "markdown",
   "metadata": {
    "tags": []
   },
   "source": [
    "### Read Data"
   ]
  },
  {
   "cell_type": "code",
   "execution_count": 2,
   "metadata": {},
   "outputs": [
    {
     "data": {
      "text/plain": [
       "Dict{String, Any} with 3 entries:\n",
       "  \"theta\" => Any[3.6, 8.28, 12.86]\n",
       "  \"N\"     => 19\n",
       "  \"beta\"  => 0.21221"
      ]
     },
     "execution_count": 2,
     "metadata": {},
     "output_type": "execute_result"
    }
   ],
   "source": [
    "# 标量\n",
    "const scalars = JSON.parsefile(\"../data/scalar.json\")"
   ]
  },
  {
   "cell_type": "code",
   "execution_count": 3,
   "metadata": {},
   "outputs": [
    {
     "name": "stdout",
     "output_type": "stream",
     "text": [
      "\u001b[1m19×3 DataFrame\u001b[0m\n",
      "\u001b[1m Row \u001b[0m│\u001b[1m id    \u001b[0m\u001b[1m code    \u001b[0m\u001b[1m name           \u001b[0m\n",
      "\u001b[1m     \u001b[0m│\u001b[90m Int64 \u001b[0m\u001b[90m String3 \u001b[0m\u001b[90m String15       \u001b[0m\n",
      "─────┼────────────────────────────────\n",
      "   1 │     1  AL       Australia\n",
      "   2 │     2  AU       Austria\n",
      "   3 │     3  BE       Belgium\n",
      "   4 │     4  CA       Canada\n",
      "   5 │     5  DK       Denmark\n",
      "   6 │     6  FI       Finland\n",
      "   7 │     7  FR       France\n",
      "   8 │     8  GE       Germany\n",
      "   9 │     9  GR       Greece\n",
      "  10 │    10  IT       Italy\n",
      "  11 │    11  JP       Japan\n",
      "  12 │    12  NE       Netherlands\n",
      "  13 │    13  NZ       New Zealand\n",
      "  14 │    14  NO       Norway\n",
      "  15 │    15  PO       Portugal\n",
      "  16 │    16  SP       Spain\n",
      "  17 │    17  SW       Sweden\n",
      "  18 │    18  UK       United Kingdom\n",
      "  19 │    19  US       United States\n"
     ]
    }
   ],
   "source": [
    "# 国家代码表\n",
    "const country_table = CSV.read(\"../data/country_code.csv\", DataFrame);\n",
    "println(country_table)"
   ]
  },
  {
   "cell_type": "code",
   "execution_count": 4,
   "metadata": {},
   "outputs": [
    {
     "data": {
      "text/html": [
       "<div class=\"data-frame\"><p>22 rows × 7 columns</p><table class=\"data-frame\"><thead><tr><th></th><th>variable</th><th>mean</th><th>min</th><th>median</th><th>max</th><th>nmissing</th><th>eltype</th></tr><tr><th></th><th title=\"Symbol\">Symbol</th><th title=\"Float64\">Float64</th><th title=\"Real\">Real</th><th title=\"Float64\">Float64</th><th title=\"Real\">Real</th><th title=\"Int64\">Int64</th><th title=\"DataType\">DataType</th></tr></thead><tbody><tr><th>1</th><td>import_country</td><td>10.0</td><td>1</td><td>10.0</td><td>19</td><td>0</td><td>Int64</td></tr><tr><th>2</th><td>export_country</td><td>10.0</td><td>1</td><td>10.0</td><td>19</td><td>0</td><td>Int64</td></tr><tr><th>3</th><td>unknown1</td><td>90.0</td><td>90</td><td>90.0</td><td>90</td><td>0</td><td>Int64</td></tr><tr><th>4</th><td>trade</td><td>-4.59988</td><td>-10.698</td><td>-4.467</td><td>0.0</td><td>0</td><td>Float64</td></tr><tr><th>5</th><td>trade_prime</td><td>-4.59985</td><td>-12.533</td><td>-4.888</td><td>3.758</td><td>0</td><td>Float64</td></tr><tr><th>6</th><td>dist1</td><td>0.130194</td><td>0</td><td>0.0</td><td>1</td><td>0</td><td>Int64</td></tr><tr><th>7</th><td>dist2</td><td>0.149584</td><td>0</td><td>0.0</td><td>1</td><td>0</td><td>Int64</td></tr><tr><th>8</th><td>dist3</td><td>0.238227</td><td>0</td><td>0.0</td><td>1</td><td>0</td><td>Int64</td></tr><tr><th>9</th><td>dist4</td><td>0.0498615</td><td>0</td><td>0.0</td><td>1</td><td>0</td><td>Int64</td></tr><tr><th>10</th><td>dist5</td><td>0.221607</td><td>0</td><td>0.0</td><td>1</td><td>0</td><td>Int64</td></tr><tr><th>11</th><td>dist6</td><td>0.210526</td><td>0</td><td>0.0</td><td>1</td><td>0</td><td>Int64</td></tr><tr><th>12</th><td>border</td><td>0.0803324</td><td>0</td><td>0.0</td><td>1</td><td>0</td><td>Int64</td></tr><tr><th>13</th><td>r_and_d</td><td>1.90675e-17</td><td>-7.642</td><td>0.0</td><td>7.642</td><td>0</td><td>Float64</td></tr><tr><th>14</th><td>human_capital</td><td>1.23016e-18</td><td>-0.618</td><td>0.0</td><td>0.618</td><td>0</td><td>Float64</td></tr><tr><th>15</th><td>density</td><td>-4.92066e-18</td><td>-5.103</td><td>0.0</td><td>5.103</td><td>0</td><td>Float64</td></tr><tr><th>16</th><td>labor</td><td>8.61115e-18</td><td>-4.391</td><td>0.0</td><td>4.391</td><td>0</td><td>Float64</td></tr><tr><th>17</th><td>wage</td><td>-2.46033e-18</td><td>-1.502</td><td>0.0</td><td>1.502</td><td>0</td><td>Float64</td></tr><tr><th>18</th><td>common_language</td><td>0.0914127</td><td>0</td><td>0.0</td><td>1</td><td>0</td><td>Int64</td></tr><tr><th>19</th><td>both_in_EU</td><td>0.277008</td><td>0</td><td>0.0</td><td>1</td><td>0</td><td>Int64</td></tr><tr><th>20</th><td>both_in_EFTA</td><td>0.0443213</td><td>0</td><td>0.0</td><td>1</td><td>0</td><td>Int64</td></tr><tr><th>21</th><td>distance</td><td>3.54259</td><td>0.0</td><td>1.475</td><td>12.338</td><td>0</td><td>Float64</td></tr><tr><th>22</th><td>edu_year</td><td>9.24526</td><td>6.52</td><td>9.35</td><td>12.09</td><td>0</td><td>Float64</td></tr></tbody></table></div>"
      ],
      "text/latex": [
       "\\begin{tabular}{r|ccccccc}\n",
       "\t& variable & mean & min & median & max & nmissing & eltype\\\\\n",
       "\t\\hline\n",
       "\t& Symbol & Float64 & Real & Float64 & Real & Int64 & DataType\\\\\n",
       "\t\\hline\n",
       "\t1 & import\\_country & 10.0 & 1 & 10.0 & 19 & 0 & Int64 \\\\\n",
       "\t2 & export\\_country & 10.0 & 1 & 10.0 & 19 & 0 & Int64 \\\\\n",
       "\t3 & unknown1 & 90.0 & 90 & 90.0 & 90 & 0 & Int64 \\\\\n",
       "\t4 & trade & -4.59988 & -10.698 & -4.467 & 0.0 & 0 & Float64 \\\\\n",
       "\t5 & trade\\_prime & -4.59985 & -12.533 & -4.888 & 3.758 & 0 & Float64 \\\\\n",
       "\t6 & dist1 & 0.130194 & 0 & 0.0 & 1 & 0 & Int64 \\\\\n",
       "\t7 & dist2 & 0.149584 & 0 & 0.0 & 1 & 0 & Int64 \\\\\n",
       "\t8 & dist3 & 0.238227 & 0 & 0.0 & 1 & 0 & Int64 \\\\\n",
       "\t9 & dist4 & 0.0498615 & 0 & 0.0 & 1 & 0 & Int64 \\\\\n",
       "\t10 & dist5 & 0.221607 & 0 & 0.0 & 1 & 0 & Int64 \\\\\n",
       "\t11 & dist6 & 0.210526 & 0 & 0.0 & 1 & 0 & Int64 \\\\\n",
       "\t12 & border & 0.0803324 & 0 & 0.0 & 1 & 0 & Int64 \\\\\n",
       "\t13 & r\\_and\\_d & 1.90675e-17 & -7.642 & 0.0 & 7.642 & 0 & Float64 \\\\\n",
       "\t14 & human\\_capital & 1.23016e-18 & -0.618 & 0.0 & 0.618 & 0 & Float64 \\\\\n",
       "\t15 & density & -4.92066e-18 & -5.103 & 0.0 & 5.103 & 0 & Float64 \\\\\n",
       "\t16 & labor & 8.61115e-18 & -4.391 & 0.0 & 4.391 & 0 & Float64 \\\\\n",
       "\t17 & wage & -2.46033e-18 & -1.502 & 0.0 & 1.502 & 0 & Float64 \\\\\n",
       "\t18 & common\\_language & 0.0914127 & 0 & 0.0 & 1 & 0 & Int64 \\\\\n",
       "\t19 & both\\_in\\_EU & 0.277008 & 0 & 0.0 & 1 & 0 & Int64 \\\\\n",
       "\t20 & both\\_in\\_EFTA & 0.0443213 & 0 & 0.0 & 1 & 0 & Int64 \\\\\n",
       "\t21 & distance & 3.54259 & 0.0 & 1.475 & 12.338 & 0 & Float64 \\\\\n",
       "\t22 & edu\\_year & 9.24526 & 6.52 & 9.35 & 12.09 & 0 & Float64 \\\\\n",
       "\\end{tabular}\n"
      ],
      "text/plain": [
       "\u001b[1m22×7 DataFrame\u001b[0m\n",
       "\u001b[1m Row \u001b[0m│\u001b[1m variable        \u001b[0m\u001b[1m mean         \u001b[0m\u001b[1m min     \u001b[0m\u001b[1m median  \u001b[0m\u001b[1m max    \u001b[0m\u001b[1m nmissing \u001b[0m\u001b[1m elty\u001b[0m ⋯\n",
       "\u001b[1m     \u001b[0m│\u001b[90m Symbol          \u001b[0m\u001b[90m Float64      \u001b[0m\u001b[90m Real    \u001b[0m\u001b[90m Float64 \u001b[0m\u001b[90m Real   \u001b[0m\u001b[90m Int64    \u001b[0m\u001b[90m Data\u001b[0m ⋯\n",
       "─────┼──────────────────────────────────────────────────────────────────────────\n",
       "   1 │ import_country   10.0            1       10.0    19             0  Int6 ⋯\n",
       "   2 │ export_country   10.0            1       10.0    19             0  Int6\n",
       "   3 │ unknown1         90.0           90       90.0    90             0  Int6\n",
       "   4 │ trade            -4.59988      -10.698   -4.467   0.0           0  Floa\n",
       "   5 │ trade_prime      -4.59985      -12.533   -4.888   3.758         0  Floa ⋯\n",
       "   6 │ dist1             0.130194       0        0.0     1             0  Int6\n",
       "   7 │ dist2             0.149584       0        0.0     1             0  Int6\n",
       "   8 │ dist3             0.238227       0        0.0     1             0  Int6\n",
       "   9 │ dist4             0.0498615      0        0.0     1             0  Int6 ⋯\n",
       "  10 │ dist5             0.221607       0        0.0     1             0  Int6\n",
       "  11 │ dist6             0.210526       0        0.0     1             0  Int6\n",
       "  12 │ border            0.0803324      0        0.0     1             0  Int6\n",
       "  13 │ r_and_d           1.90675e-17   -7.642    0.0     7.642         0  Floa ⋯\n",
       "  14 │ human_capital     1.23016e-18   -0.618    0.0     0.618         0  Floa\n",
       "  15 │ density          -4.92066e-18   -5.103    0.0     5.103         0  Floa\n",
       "  16 │ labor             8.61115e-18   -4.391    0.0     4.391         0  Floa\n",
       "  17 │ wage             -2.46033e-18   -1.502    0.0     1.502         0  Floa ⋯\n",
       "  18 │ common_language   0.0914127      0        0.0     1             0  Int6\n",
       "  19 │ both_in_EU        0.277008       0        0.0     1             0  Int6\n",
       "  20 │ both_in_EFTA      0.0443213      0        0.0     1             0  Int6\n",
       "  21 │ distance          3.54259        0.0      1.475  12.338         0  Floa ⋯\n",
       "  22 │ edu_year          9.24526        6.52     9.35   12.09          0  Floa\n",
       "\u001b[36m                                                                1 column omitted\u001b[0m"
      ]
     },
     "execution_count": 4,
     "metadata": {},
     "output_type": "execute_result"
    }
   ],
   "source": [
    "# 用于回归的数据\n",
    "const regression_data =  CSV.read(\"../data/regression_data.csv\", DataFrame)\n",
    "describe(regression_data) # 22个变量"
   ]
  },
  {
   "cell_type": "code",
   "execution_count": 5,
   "metadata": {},
   "outputs": [
    {
     "name": "stdout",
     "output_type": "stream",
     "text": [
      "\u001b[1m1×51 DataFrame\u001b[0m\n",
      "\u001b[1m Row \u001b[0m│\u001b[1m country \u001b[0m\u001b[1m good1    \u001b[0m\u001b[1m good2     \u001b[0m\u001b[1m good3   \u001b[0m\u001b[1m good4    \u001b[0m\u001b[1m good5     \u001b[0m\u001b[1m good6   \u001b[0m\u001b[1m good7    \u001b[0m\u001b[1m good8    \u001b[0m\u001b[1m good9      \u001b[0m\u001b[1m good10    \u001b[0m\u001b[1m good11   \u001b[0m\u001b[1m good12    \u001b[0m\u001b[1m good13   \u001b[0m\u001b[1m good14   \u001b[0m\u001b[1m good15    \u001b[0m\u001b[1m good16   \u001b[0m\u001b[1m good17  \u001b[0m\u001b[1m good18   \u001b[0m\u001b[1m good19     \u001b[0m\u001b[1m good20    \u001b[0m\u001b[1m good21   \u001b[0m\u001b[1m good22     \u001b[0m\u001b[1m good23     \u001b[0m\u001b[1m good24   \u001b[0m\u001b[1m good25    \u001b[0m\u001b[1m good26   \u001b[0m\u001b[1m good27   \u001b[0m\u001b[1m good28    \u001b[0m\u001b[1m good29   \u001b[0m\u001b[1m good30   \u001b[0m\u001b[1m good31   \u001b[0m\u001b[1m good32   \u001b[0m\u001b[1m good33   \u001b[0m\u001b[1m good34   \u001b[0m\u001b[1m good35   \u001b[0m\u001b[1m good36   \u001b[0m\u001b[1m good37   \u001b[0m\u001b[1m good38   \u001b[0m\u001b[1m good39   \u001b[0m\u001b[1m good40   \u001b[0m\u001b[1m good41   \u001b[0m\u001b[1m good42   \u001b[0m\u001b[1m good43   \u001b[0m\u001b[1m good44   \u001b[0m\u001b[1m good45   \u001b[0m\u001b[1m good46    \u001b[0m\u001b[1m good47   \u001b[0m\u001b[1m good48   \u001b[0m\u001b[1m good49    \u001b[0m\u001b[1m good50    \u001b[0m\n",
      "\u001b[1m     \u001b[0m│\u001b[90m Int64   \u001b[0m\u001b[90m Float64  \u001b[0m\u001b[90m Float64   \u001b[0m\u001b[90m Float64 \u001b[0m\u001b[90m Float64  \u001b[0m\u001b[90m Float64   \u001b[0m\u001b[90m Float64 \u001b[0m\u001b[90m Float64  \u001b[0m\u001b[90m Float64  \u001b[0m\u001b[90m Float64    \u001b[0m\u001b[90m Float64   \u001b[0m\u001b[90m Float64  \u001b[0m\u001b[90m Float64   \u001b[0m\u001b[90m Float64  \u001b[0m\u001b[90m Float64  \u001b[0m\u001b[90m Float64   \u001b[0m\u001b[90m Float64  \u001b[0m\u001b[90m Float64 \u001b[0m\u001b[90m Float64  \u001b[0m\u001b[90m Float64    \u001b[0m\u001b[90m Float64   \u001b[0m\u001b[90m Float64  \u001b[0m\u001b[90m Float64    \u001b[0m\u001b[90m Float64    \u001b[0m\u001b[90m Float64  \u001b[0m\u001b[90m Float64   \u001b[0m\u001b[90m Float64  \u001b[0m\u001b[90m Float64  \u001b[0m\u001b[90m Float64   \u001b[0m\u001b[90m Float64  \u001b[0m\u001b[90m Float64  \u001b[0m\u001b[90m Float64  \u001b[0m\u001b[90m Float64  \u001b[0m\u001b[90m Float64  \u001b[0m\u001b[90m Float64  \u001b[0m\u001b[90m Float64  \u001b[0m\u001b[90m Float64  \u001b[0m\u001b[90m Float64  \u001b[0m\u001b[90m Float64  \u001b[0m\u001b[90m Float64  \u001b[0m\u001b[90m Float64  \u001b[0m\u001b[90m Float64  \u001b[0m\u001b[90m Float64  \u001b[0m\u001b[90m Float64  \u001b[0m\u001b[90m Float64  \u001b[0m\u001b[90m Float64  \u001b[0m\u001b[90m Float64   \u001b[0m\u001b[90m Float64  \u001b[0m\u001b[90m Float64  \u001b[0m\u001b[90m Float64   \u001b[0m\u001b[90m Float64   \u001b[0m\n",
      "─────┼─────────────────────────────────────────────────────────────────────────────────────────────────────────────────────────────────────────────────────────────────────────────────────────────────────────────────────────────────────────────────────────────────────────────────────────────────────────────────────────────────────────────────────────────────────────────────────────────────────────────────────────────────────────────────────────────────────────────────────────────────────────────────────────────────────────────\n",
      "   1 │       1  0.161989  -0.315302  0.45165  0.646735  0.0922889  0.43822  0.118827  0.622043  -0.0777937  -0.188575  0.477017  -0.194214  0.375716  0.287735  -0.250431  0.113991  1.58363  0.609464  -0.0553954  0.0287407  0.195737  -0.0803136  -0.0521194  0.297005  -0.530498  0.127746  0.279552  0.0591923  0.108435  0.108435  0.108435  0.184829  -1.35004  0.264176  0.126379  0.331579  0.296428  0.564149  0.135232  0.612413  0.233926  0.189977  0.316423  0.205896  0.291221  0.0577282  0.685799  0.499404  -0.139205  -0.198938\n"
     ]
    }
   ],
   "source": [
    "# 价格数据\n",
    "const price_table = CSV.read(\"../data/price.csv\", DataFrame)\n",
    "first(price_table, 1) |> println # 变量更多，打印一行"
   ]
  },
  {
   "cell_type": "markdown",
   "metadata": {},
   "source": [
    "### Data Transforming"
   ]
  },
  {
   "cell_type": "code",
   "execution_count": 6,
   "metadata": {},
   "outputs": [
    {
     "data": {
      "text/plain": [
       "extract"
      ]
     },
     "execution_count": 6,
     "metadata": {},
     "output_type": "execute_result"
    }
   ],
   "source": [
    "\"\"\"\n",
    "`select(df, args...)` 永远返回 DataFrame，有时候计算起来不方便\n",
    "所以自定义一个 `extract(df, args...)`，返回多列 Matrix 或单列 Vector\n",
    "\"\"\"\n",
    "function extract(df::DataFrame, var)\n",
    "    M = select(df, var) |> Matrix\n",
    "    size(M, 2) > 1 ? M : reshape(M, length(M))\n",
    "end"
   ]
  },
  {
   "cell_type": "markdown",
   "metadata": {},
   "source": [
    "#### scalar.json"
   ]
  },
  {
   "cell_type": "code",
   "execution_count": 7,
   "metadata": {},
   "outputs": [
    {
     "data": {
      "text/plain": [
       "19"
      ]
     },
     "execution_count": 7,
     "metadata": {},
     "output_type": "execute_result"
    }
   ],
   "source": [
    "const N = scalars[\"N\"]"
   ]
  },
  {
   "cell_type": "code",
   "execution_count": 8,
   "metadata": {},
   "outputs": [
    {
     "data": {
      "text/plain": [
       "0.21221"
      ]
     },
     "execution_count": 8,
     "metadata": {},
     "output_type": "execute_result"
    }
   ],
   "source": [
    "const β = scalars[\"beta\"]"
   ]
  },
  {
   "cell_type": "code",
   "execution_count": 9,
   "metadata": {},
   "outputs": [
    {
     "data": {
      "text/plain": [
       "3-element Vector{Any}:\n",
       "  3.6\n",
       "  8.28\n",
       " 12.86"
      ]
     },
     "execution_count": 9,
     "metadata": {},
     "output_type": "execute_result"
    }
   ],
   "source": [
    "const θₛ= scalars[\"theta\"] # 三种方法估计出的 θ 值"
   ]
  },
  {
   "cell_type": "markdown",
   "metadata": {},
   "source": [
    "#### regression_data.csv"
   ]
  },
  {
   "cell_type": "markdown",
   "metadata": {},
   "source": [
    "##### 进出口国 index"
   ]
  },
  {
   "cell_type": "code",
   "execution_count": 10,
   "metadata": {},
   "outputs": [],
   "source": [
    "# 这两个变量不从文件读取也可以\n",
    "index_n = extract(regression_data, :import_country); # 本质上是 (1:N) ⊗ ones(Int, N)，或 repeat(1:N, inner=N)\n",
    "index_i = extract(regression_data, :export_country); # 本质上是 ones(Int, N) ⊗ (1:N)，或 repeat(1:N, outer=N)"
   ]
  },
  {
   "cell_type": "markdown",
   "metadata": {},
   "source": [
    "##### 双边贸易数据"
   ]
  },
  {
   "cell_type": "code",
   "execution_count": 11,
   "metadata": {},
   "outputs": [],
   "source": [
    "# 对数标准化的制造业双边贸易数据 ln(Xni/Xnn)\n",
    "normalized_trade = extract(regression_data, :trade);\n",
    "\n",
    "# ln(X'ni/X'nn), (26)式等号的左边\n",
    "normalized_trade_prime = extract(regression_data, :trade_prime);\n",
    "\n",
    "# 由 ln(X'ni) 的定义计算 (12) 式的左边 ln (Xni/Xn)/(Xii/Xi)\n",
    "# 可将其视为 country n's normalized import share from country i\n",
    "normalized_trade_share = -(normalized_trade_prime - normalized_trade) * β / (1 - β) + normalized_trade;\n",
    "# size相同的向量的加减法，以及向量与标量的数乘，在Julia运算符重载中都有原生定义，不必写成广播形式"
   ]
  },
  {
   "cell_type": "markdown",
   "metadata": {},
   "source": [
    "##### 地理虚拟变量"
   ]
  },
  {
   "cell_type": "code",
   "execution_count": 12,
   "metadata": {},
   "outputs": [
    {
     "name": "stdout",
     "output_type": "stream",
     "text": [
      "\u001b[1m5×10 DataFrame\u001b[0m\n",
      "\u001b[1m Row \u001b[0m│\u001b[1m dist1 \u001b[0m\u001b[1m dist2 \u001b[0m\u001b[1m dist3 \u001b[0m\u001b[1m dist4 \u001b[0m\u001b[1m dist5 \u001b[0m\u001b[1m dist6 \u001b[0m\u001b[1m border \u001b[0m\u001b[1m common_language \u001b[0m\u001b[1m both_in_EU \u001b[0m\u001b[1m both_in_EFTA \u001b[0m\n",
      "\u001b[1m     \u001b[0m│\u001b[90m Int64 \u001b[0m\u001b[90m Int64 \u001b[0m\u001b[90m Int64 \u001b[0m\u001b[90m Int64 \u001b[0m\u001b[90m Int64 \u001b[0m\u001b[90m Int64 \u001b[0m\u001b[90m Int64  \u001b[0m\u001b[90m Int64           \u001b[0m\u001b[90m Int64      \u001b[0m\u001b[90m Int64        \u001b[0m\n",
      "─────┼─────────────────────────────────────────────────────────────────────────────────────────────\n",
      "   1 │     1      0      0      0      0      0       0                1           0             0\n",
      "   2 │     0      0      0      0      0      1       0                0           0             0\n",
      "   3 │     0      0      0      0      0      1       0                0           0             0\n",
      "   4 │     0      0      0      0      0      1       0                1           0             0\n",
      "   5 │     0      0      0      0      0      1       0                0           0             0\n"
     ]
    }
   ],
   "source": [
    "# 这批变量需要的计算较少，保留变量名则很重要，所以用select()返回DataFrame\n",
    "\n",
    "# 六档距离，说明见P21\n",
    "dist = select(regression_data, 6:11)\n",
    "\n",
    "# 是否 share border/language\n",
    "border = select(regression_data, :border);\n",
    "language =  select(regression_data, :common_language);\n",
    "\n",
    "# 是否在同一个 RTA 中（欧共体EEC是EU的前身，EFTA是欧自联）\n",
    "RTA = select(regression_data, :both_in_EU, :both_in_EFTA); \n",
    "\n",
    "# 横向合并 distance, border, language, RTA 等虚拟变量\n",
    "geography_dummy = hcat(dist, border, language, RTA);\n",
    "first(geography_dummy, 5) |> println # 注意，六档距离只需要 5 个 dummy variable，后面回归需要时会删除 dist1"
   ]
  },
  {
   "cell_type": "markdown",
   "metadata": {},
   "source": [
    "##### 对数标准化的国家特征变量\n",
    "\n",
    "这些变量用于估计原文 5.2 节中的回归模型"
   ]
  },
  {
   "cell_type": "code",
   "execution_count": 13,
   "metadata": {},
   "outputs": [],
   "source": [
    "# 以下 5 个变量的数值都是对数标准化的，即 ln(varᵢ/varₙ)\n",
    "# 分别是(1)R&D存量 R, (2)平均受教育年限 H（衡量 human capital）\n",
    "# (3)人口密度, (4)制造业劳动力数量 L, (5)经过教育调整的美元工资 w\n",
    "r_and_d = extract(regression_data, :r_and_d);\n",
    "human_capital = extract(regression_data, :human_capital);\n",
    "density = extract(regression_data, :density);\n",
    "labor = extract(regression_data, :labor);\n",
    "wage = extract(regression_data, :wage);"
   ]
  },
  {
   "cell_type": "markdown",
   "metadata": {},
   "source": [
    "##### 距离"
   ]
  },
  {
   "cell_type": "code",
   "execution_count": 14,
   "metadata": {},
   "outputs": [],
   "source": [
    "# 国家首都之间的对数距离\n",
    "ln_distance = extract(regression_data, :distance) .|> log;"
   ]
  },
  {
   "cell_type": "markdown",
   "metadata": {
    "tags": []
   },
   "source": [
    "##### 国家虚拟变量"
   ]
  },
  {
   "cell_type": "code",
   "execution_count": 15,
   "metadata": {
    "tags": []
   },
   "outputs": [],
   "source": [
    "# 进口国（目的地国）虚拟变量的矩阵\n",
    "destination_matrix = Matrix{Int64}(I, N, N) ⊗ ones(Int, N);\n",
    "# 出口国（来源国）虚拟变量的稀疏矩阵\n",
    "source_matrix = ones(Int, N) ⊗ Matrix{Int64}(I, N, N);"
   ]
  },
  {
   "cell_type": "code",
   "execution_count": 16,
   "metadata": {},
   "outputs": [],
   "source": [
    "# (28)式中的来源国虚拟变量 S_i-S_n\n",
    "source_dummy = source_matrix - destination_matrix;\n",
    "# 这个减法决定了 source_dummy 和 destination_dummy 在(30)式中是不对称的\n",
    "\n",
    "# (29)式中的目的地国虚拟变量 m_n\n",
    "destination_dummy = destination_matrix;"
   ]
  },
  {
   "cell_type": "code",
   "execution_count": 17,
   "metadata": {},
   "outputs": [],
   "source": [
    "# 以其中一个虚拟变量为基准，用其他虚拟变量与这个基准的相对差异，作为回归模型的自变量\n",
    "# 然后与虚拟变量名一起封装为 DataFrame\n",
    "\n",
    "# DataFrame()的第一个参数是矩阵，第二个参数是列名向量\n",
    "relative_source_dummy = DataFrame(\n",
    "    source_dummy[:, 1:(N-1)] .- source_dummy[:, N],# 以美国（第19列）为基准，前18列都减去19列\n",
    "    \"S\" .* string.(1:(N-1))\n",
    ");\n",
    "\n",
    "relative_destination_dummy = DataFrame(\n",
    "  destination_dummy[:, 1:(N-1)] .- destination_dummy[:, N],\n",
    "  \"m\" .* string.(1:(N-1)) # 列名\n",
    ");"
   ]
  },
  {
   "cell_type": "markdown",
   "metadata": {},
   "source": [
    "#### price.csv"
   ]
  },
  {
   "cell_type": "markdown",
   "metadata": {},
   "source": [
    "50种商品的对数标准化价格 $\\ln p_n(j)$（以美国为基准）"
   ]
  },
  {
   "cell_type": "code",
   "execution_count": 18,
   "metadata": {},
   "outputs": [],
   "source": [
    "ln_p_Mat = extract(price_table, Not(:country));"
   ]
  },
  {
   "cell_type": "markdown",
   "metadata": {},
   "source": [
    "相对价格 $r_{ni}(j)=\\ln p_n(j)-\\ln p_i(j)$"
   ]
  },
  {
   "cell_type": "code",
   "execution_count": 19,
   "metadata": {},
   "outputs": [],
   "source": [
    "# 求对应每一行 (n, i) 的50种产品相对价格\n",
    "ln_pₙ_Mat = ln_p_Mat ⊗ ones(Int, N)\n",
    "ln_pᵢ_Mat = ones(Int, N) ⊗ ln_p_Mat\n",
    "rₙᵢ_Mat = ln_pₙ_Mat - ln_pᵢ_Mat;\n",
    "\n",
    "# 另一种写法：对 n, i 交叉遍历\n",
    "# rₙᵢ_Mat = vcat([ln_p_Mat[n:n, :] - ln_p_Mat[i:i, :] for n ∈ 1:N for i ∈ 1:N]...)"
   ]
  },
  {
   "cell_type": "markdown",
   "metadata": {},
   "source": [
    "各行第二大的 $r_{ni}(j)$，作为作为 $\\ln d_{ni}$ 的代理变量"
   ]
  },
  {
   "cell_type": "code",
   "execution_count": 20,
   "metadata": {
    "tags": []
   },
   "outputs": [],
   "source": [
    "function max2(vector)\n",
    "  sorted = vector |> sort |> reverse # 此处不要改变原矩阵，拷贝一份\n",
    "  sorted[2] \n",
    "end\n",
    "\n",
    "ln_dₙᵢ = @pipe mapslices(max2, rₙᵢ_Mat; dims=2) |> reshape(_, N^2);\n",
    "# dims=2，沿列的方向依次应用函数，即函数的参数总是一行"
   ]
  },
  {
   "cell_type": "markdown",
   "metadata": {},
   "source": [
    "用 50 种商品对数标准化价格的平均值作为各国价格指数 $\\ln p_n$ 的代理变量"
   ]
  },
  {
   "cell_type": "code",
   "execution_count": 21,
   "metadata": {},
   "outputs": [],
   "source": [
    "ln_p_index = @pipe mapslices(mean, ln_p_Mat; dims=2) |> reshape(_, N);"
   ]
  },
  {
   "cell_type": "markdown",
   "metadata": {},
   "source": [
    "由 (13)式: $D_{ni}$ = ln(pᵢ) - ln(pₙ) + ln(dₙᵢ)"
   ]
  },
  {
   "cell_type": "code",
   "execution_count": 22,
   "metadata": {},
   "outputs": [],
   "source": [
    "Dₙᵢ = [ln_p_index[i] - ln_p_index[n] for n ∈ 1:N for i ∈ 1:N] + ln_dₙᵢ;"
   ]
  },
  {
   "cell_type": "markdown",
   "metadata": {},
   "source": [
    "#### delete invalid observations"
   ]
  },
  {
   "cell_type": "markdown",
   "metadata": {
    "tags": []
   },
   "source": [
    "删掉 `n==i` 的无用行，保留342行\n",
    "\n",
    "> 这些行很多变量的标准化值都等于0，属于无效数据"
   ]
  },
  {
   "cell_type": "code",
   "execution_count": 23,
   "metadata": {},
   "outputs": [],
   "source": [
    "valid_index = index_n .!= index_i;\n",
    "# 这里可见提取 index_n 和 index_i 为向量的重要性\n",
    "# 若 index_n 和 index_i 均为单列矩阵，则返回也是 Bool 型的单列矩阵\n",
    "# 不 reshape 成向量，就无法作为 DataFrame 的行选择器"
   ]
  },
  {
   "cell_type": "code",
   "execution_count": 24,
   "metadata": {},
   "outputs": [
    {
     "name": "stdout",
     "output_type": "stream",
     "text": [
      "\u001b[1m1×36 DataFrame\u001b[0m\n",
      "\u001b[1m Row \u001b[0m│\u001b[1m S1    \u001b[0m\u001b[1m S2    \u001b[0m\u001b[1m S3    \u001b[0m\u001b[1m S4    \u001b[0m\u001b[1m S5    \u001b[0m\u001b[1m S6    \u001b[0m\u001b[1m S7    \u001b[0m\u001b[1m S8    \u001b[0m\u001b[1m S9    \u001b[0m\u001b[1m S10   \u001b[0m\u001b[1m S11   \u001b[0m\u001b[1m S12   \u001b[0m\u001b[1m S13   \u001b[0m\u001b[1m S14   \u001b[0m\u001b[1m S15   \u001b[0m\u001b[1m S16   \u001b[0m\u001b[1m S17   \u001b[0m\u001b[1m S18   \u001b[0m\u001b[1m m1    \u001b[0m\u001b[1m m2    \u001b[0m\u001b[1m m3    \u001b[0m\u001b[1m m4    \u001b[0m\u001b[1m m5    \u001b[0m\u001b[1m m6    \u001b[0m\u001b[1m m7    \u001b[0m\u001b[1m m8    \u001b[0m\u001b[1m m9    \u001b[0m\u001b[1m m10   \u001b[0m\u001b[1m m11   \u001b[0m\u001b[1m m12   \u001b[0m\u001b[1m m13   \u001b[0m\u001b[1m m14   \u001b[0m\u001b[1m m15   \u001b[0m\u001b[1m m16   \u001b[0m\u001b[1m m17   \u001b[0m\u001b[1m m18   \u001b[0m\n",
      "\u001b[1m     \u001b[0m│\u001b[90m Int64 \u001b[0m\u001b[90m Int64 \u001b[0m\u001b[90m Int64 \u001b[0m\u001b[90m Int64 \u001b[0m\u001b[90m Int64 \u001b[0m\u001b[90m Int64 \u001b[0m\u001b[90m Int64 \u001b[0m\u001b[90m Int64 \u001b[0m\u001b[90m Int64 \u001b[0m\u001b[90m Int64 \u001b[0m\u001b[90m Int64 \u001b[0m\u001b[90m Int64 \u001b[0m\u001b[90m Int64 \u001b[0m\u001b[90m Int64 \u001b[0m\u001b[90m Int64 \u001b[0m\u001b[90m Int64 \u001b[0m\u001b[90m Int64 \u001b[0m\u001b[90m Int64 \u001b[0m\u001b[90m Int64 \u001b[0m\u001b[90m Int64 \u001b[0m\u001b[90m Int64 \u001b[0m\u001b[90m Int64 \u001b[0m\u001b[90m Int64 \u001b[0m\u001b[90m Int64 \u001b[0m\u001b[90m Int64 \u001b[0m\u001b[90m Int64 \u001b[0m\u001b[90m Int64 \u001b[0m\u001b[90m Int64 \u001b[0m\u001b[90m Int64 \u001b[0m\u001b[90m Int64 \u001b[0m\u001b[90m Int64 \u001b[0m\u001b[90m Int64 \u001b[0m\u001b[90m Int64 \u001b[0m\u001b[90m Int64 \u001b[0m\u001b[90m Int64 \u001b[0m\u001b[90m Int64 \u001b[0m\n",
      "─────┼────────────────────────────────────────────────────────────────────────────────────────────────────────────────────────────────────────────────────────────────────────────────────────────────────────────────────────────────────────────────────────────\n",
      "   1 │    -1      1      0      0      0      0      0      0      0      0      0      0      0      0      0      0      0      0      1      0      0      0      0      0      0      0      0      0      0      0      0      0      0      0      0      0"
     ]
    }
   ],
   "source": [
    "# destinations and sources index\n",
    "index_n_valid = index_n[valid_index]\n",
    "index_i_valid = index_i[valid_index]\n",
    "\n",
    "# ln(X'ni/X'nn)\n",
    "normalized_trade_prime_valid = normalized_trade_prime[valid_index]\n",
    "\n",
    "# ln (Xni/Xn)/(Xii/Xi)\n",
    "normalized_trade_share_valid = normalized_trade_share[valid_index]\n",
    "\n",
    "# price_measure = exp(Dₙᵢ)，用于 Figure 2\n",
    "Dₙᵢ_valid = Dₙᵢ[valid_index]\n",
    "price_measure = exp.(Dₙᵢ_valid) \n",
    "\n",
    "# ln_distance\n",
    "ln_distance_valid = ln_distance[valid_index];\n",
    "\n",
    "# 距离、边界、语言、RTA等虚拟变量\n",
    "geography_dummy_valid = geography_dummy[valid_index, :]; \n",
    "\n",
    "# 国家虚拟变量\n",
    "relative_source_dummy_valid = relative_source_dummy[valid_index, :];\n",
    "relative_destination_dummy_valid = relative_destination_dummy[valid_index, :];\n",
    "country_dummy_valid = hcat(relative_source_dummy_valid, relative_destination_dummy_valid);\n",
    "first(country_dummy_valid, 1) |> print"
   ]
  },
  {
   "cell_type": "markdown",
   "metadata": {},
   "source": [
    "## Section 3\n",
    "\n",
    "\n",
    "\n",
    "\n",
    "\n",
    "\n"
   ]
  },
  {
   "cell_type": "markdown",
   "metadata": {},
   "source": [
    "### Figure I"
   ]
  },
  {
   "cell_type": "code",
   "execution_count": 25,
   "metadata": {},
   "outputs": [
    {
     "data": {
      "text/plain": [
       "(3.70330780199431e-5, 0.35848984394233474)"
      ]
     },
     "execution_count": 25,
     "metadata": {},
     "output_type": "execute_result"
    }
   ],
   "source": [
    "lowest, highest = exp.(normalized_trade_share_valid) |> extrema"
   ]
  },
  {
   "cell_type": "code",
   "execution_count": 26,
   "metadata": {},
   "outputs": [
    {
     "name": "stdout",
     "output_type": "stream",
     "text": [
      "0.35848984394233474\n"
     ]
    }
   ],
   "source": [
    "# 标准化贸易份额的最大值\n",
    "println(highest)"
   ]
  },
  {
   "cell_type": "code",
   "execution_count": 27,
   "metadata": {},
   "outputs": [
    {
     "data": {
      "text/plain": [
       "3.9858870464473295"
      ]
     },
     "execution_count": 27,
     "metadata": {},
     "output_type": "execute_result"
    }
   ],
   "source": [
    "# 横跨近四个数量级\n",
    "log10(highest/lowest)"
   ]
  },
  {
   "cell_type": "markdown",
   "metadata": {},
   "source": [
    "### Figure II"
   ]
  },
  {
   "cell_type": "code",
   "execution_count": 28,
   "metadata": {},
   "outputs": [
    {
     "data": {
      "text/plain": [
       "-0.40417825378100086"
      ]
     },
     "execution_count": 28,
     "metadata": {},
     "output_type": "execute_result"
    }
   ],
   "source": [
    "# 相关系数 correlation\n",
    "cor(Dₙᵢ_valid, normalized_trade_share_valid)"
   ]
  },
  {
   "cell_type": "markdown",
   "metadata": {},
   "source": [
    "### Table II\n",
    "\n",
    "略"
   ]
  },
  {
   "cell_type": "markdown",
   "metadata": {},
   "source": [
    "### 用 (12) 式估计 $\\theta$\n",
    "\n",
    "以 $\\ln (Xni/Xn)/(Xii/Xi)$ 为被解释变量，以 $D_{ni}$ 为解释变量，估计出来的系数是 $-\\theta$，因此 $\\theta$ 值还要取一个负号。"
   ]
  },
  {
   "cell_type": "markdown",
   "metadata": {},
   "source": [
    "#### Moments Estimation\n",
    "\n",
    "最简单的一阶矩估计"
   ]
  },
  {
   "cell_type": "code",
   "execution_count": 29,
   "metadata": {},
   "outputs": [
    {
     "data": {
      "text/plain": [
       "-8.27592961561157"
      ]
     },
     "execution_count": 29,
     "metadata": {},
     "output_type": "execute_result"
    }
   ],
   "source": [
    "x_center = mean(Dₙᵢ_valid)\n",
    "y_center = mean(normalized_trade_share_valid)\n",
    "θ = y_center / x_center"
   ]
  },
  {
   "cell_type": "markdown",
   "metadata": {},
   "source": [
    "$\\therefore  \\theta=8.28$"
   ]
  },
  {
   "cell_type": "markdown",
   "metadata": {
    "tags": []
   },
   "source": [
    "## Section 5.3\n",
    "\n",
    "这部分唯一的用途在于展示 $\\theta=12.86$ 这个值，对 Simulation 部分其实没什么影响\n",
    "\n",
    "\n",
    "### IV Estimation\n",
    "\n",
    "估计一个模型：以 $\\ln (X_{ni}'/X_{nn}')$ 为被解释变量，以 geography_dummies 为工具变量，包括距离、边界、语言、RTA 等，以 source & destination dummies 为外生解释变量，解释内生变量 $D_{ni}$\n",
    "\n",
    "\n",
    "统计、计量部分，调用生态非常完善的 R 语言"
   ]
  },
  {
   "cell_type": "code",
   "execution_count": 57,
   "metadata": {},
   "outputs": [],
   "source": [
    "# R 不支持 Unicode 字符，部分变量要先换个名字\n",
    "Dni_valid = Dₙᵢ_valid;\n",
    "\n",
    "# 将 julia 变量转变为 R 变量，便于多次使用\n",
    "# 为了回归，geography_dummy_valid 去掉 dist1 列\n",
    "R\"\"\"\n",
    "normalized_trade_prime_valid <- $normalized_trade_prime_valid\n",
    "geography_dummy_valid <- ($geography_dummy_valid)[, -1]\n",
    "country_dummy_valid <- $country_dummy_valid\n",
    "Dni_valid <- $Dni_valid\n",
    "\"\"\";"
   ]
  },
  {
   "cell_type": "code",
   "execution_count": 58,
   "metadata": {},
   "outputs": [
    {
     "data": {
      "text/plain": [
       "RObject{VecSxp}\n",
       "  normalized_trade_prime_valid Dni_valid dist2 dist3 dist4 dist5 dist6 border\n",
       "1                       -7.410 0.4218053     0     0     0     0     1      0\n",
       "2                      -10.074 0.3989645     0     0     0     0     1      0\n",
       "3                       -5.826 0.4690127     0     0     0     0     1      0\n",
       "  common_language both_in_EU both_in_EFTA S1 S2 S3 S4 S5 S6 S7 S8 S9 S10 S11\n",
       "1               0          0            0 -1  1  0  0  0  0  0  0  0   0   0\n",
       "2               0          0            0 -1  0  1  0  0  0  0  0  0   0   0\n",
       "3               1          0            0 -1  0  0  1  0  0  0  0  0   0   0\n",
       "  S12 S13 S14 S15 S16 S17 S18 m1 m2 m3 m4 m5 m6 m7 m8 m9 m10 m11 m12 m13 m14\n",
       "1   0   0   0   0   0   0   0  1  0  0  0  0  0  0  0  0   0   0   0   0   0\n",
       "2   0   0   0   0   0   0   0  1  0  0  0  0  0  0  0  0   0   0   0   0   0\n",
       "3   0   0   0   0   0   0   0  1  0  0  0  0  0  0  0  0   0   0   0   0   0\n",
       "  m15 m16 m17 m18\n",
       "1   0   0   0   0\n",
       "2   0   0   0   0\n",
       "3   0   0   0   0\n"
      ]
     },
     "execution_count": 58,
     "metadata": {},
     "output_type": "execute_result"
    }
   ],
   "source": [
    "# 组织数据框\n",
    "R\"\"\"\n",
    "TSLS_data <- cbind(normalized_trade_prime_valid, Dni_valid, geography_dummy_valid, country_dummy_valid)\n",
    "head(TSLS_data, 3)\n",
    "\"\"\""
   ]
  },
  {
   "cell_type": "code",
   "execution_count": 59,
   "metadata": {
    "tags": []
   },
   "outputs": [
    {
     "data": {
      "text/plain": [
       "RObject{StrSxp}\n",
       "[1] \"normalized_trade_prime_valid ~ Dni_valid + S1 + S2 + S3 + S4 + S5 + S6 + S7 + S8 + S9 + S10 + S11 + S12 + S13 + S14 + S15 + S16 + S17 + S18 + m1 + m2 + m3 + m4 + m5 + m6 + m7 + m8 + m9 + m10 + m11 + m12 + m13 + m14 + m15 + m16 + m17 + m18 | dist2 + dist3 + dist4 + dist5 + dist6 + border + common_language + both_in_EU + both_in_EFTA + S1 + S2 + S3 + S4 + S5 + S6 + S7 + S8 + S9 + S10 + S11 + S12 + S13 + S14 + S15 + S16 + S17 + S18 + m1 + m2 + m3 + m4 + m5 + m6 + m7 + m8 + m9 + m10 + m11 + m12 + m13 + m14 + m15 + m16 + m17 + m18\"\n"
      ]
     },
     "execution_count": 59,
     "metadata": {},
     "output_type": "execute_result"
    }
   ],
   "source": [
    "# IV Regression 的公式\n",
    "R\"\"\"\n",
    "formula_exogenous <- colnames(country_dummy_valid) %>% str_c(collapse = \" + \")\n",
    "formula_instrument <- colnames(geography_dummy_valid) %>% str_c(collapse = \" + \")\n",
    "formula <- str_c(\n",
    "  \"normalized_trade_prime_valid ~ Dni_valid + \", formula_exogenous, \" | \",\n",
    "  formula_instrument, \" + \", formula_exogenous\n",
    ")\n",
    "\"\"\""
   ]
  },
  {
   "cell_type": "code",
   "execution_count": 60,
   "metadata": {},
   "outputs": [
    {
     "data": {
      "text/plain": [
       "RObject{VecSxp}\n",
       "\n",
       "Call:\n",
       "ivreg(formula = formula, data = TSLS_data)\n",
       "\n",
       "Residuals:\n",
       "     Min       1Q   Median       3Q      Max \n",
       "-4.03108 -0.87353 -0.07295  0.91475  5.54823 \n",
       "\n",
       "Coefficients:\n",
       "              Estimate Std. Error t value Pr(>|t|)    \n",
       "(Intercept)   2.690744   1.021376   2.634 0.008860 ** \n",
       "Dni_valid   -12.862154   1.736076  -7.409 1.27e-12 ***\n",
       "S1           -1.842036   0.330782  -5.569 5.65e-08 ***\n",
       "S2           -1.314255   0.336172  -3.909 0.000114 ***\n",
       "S3           -4.478607   0.398783 -11.231  < 2e-16 ***\n",
       "S4           -0.904355   0.324455  -2.787 0.005649 ** \n",
       "S5           -1.987282   0.339413  -5.855 1.24e-08 ***\n",
       "S6           -0.116991   0.323000  -0.362 0.717454    \n",
       "S7            1.468290   0.327295   4.486 1.03e-05 ***\n",
       "S8            1.982772   0.353079   5.616 4.42e-08 ***\n",
       "S9           -2.055326   0.330982  -6.210 1.74e-09 ***\n",
       "S10           1.167665   0.349046   3.345 0.000925 ***\n",
       "S11           5.101323   0.453382  11.252  < 2e-16 ***\n",
       "S12          -2.475357   0.343273  -7.211 4.43e-12 ***\n",
       "S13           0.247988   0.512895   0.484 0.629084    \n",
       "S14          -1.556102   0.337816  -4.606 6.03e-06 ***\n",
       "S15           0.932966   0.446422   2.090 0.037460 *  \n",
       "S16           0.219792   0.327012   0.672 0.502017    \n",
       "S17          -0.097743   0.334265  -0.292 0.770172    \n",
       "S18           1.245900   0.336963   3.697 0.000258 ***\n",
       "m1           -4.379061   0.516788  -8.474 1.04e-15 ***\n",
       "m2           -2.373090   0.526655  -4.506 9.44e-06 ***\n",
       "m3           -0.762720   0.625382  -1.220 0.223560    \n",
       "m4           -1.195235   0.470969  -2.538 0.011654 *  \n",
       "m5           -0.886755   0.508505  -1.744 0.082197 .  \n",
       "m6           -0.634263   0.469543  -1.351 0.177761    \n",
       "m7            0.461957   0.485230   0.952 0.341834    \n",
       "m8            0.638974   0.524368   1.219 0.223956    \n",
       "m9           -0.455004   0.508776  -0.894 0.371863    \n",
       "m10          -0.867693   0.520670  -1.666 0.096645 .  \n",
       "m11           3.217836   0.772093   4.168 4.02e-05 ***\n",
       "m12           0.455939   0.522336   0.873 0.383415    \n",
       "m13           0.621791   0.672382   0.925 0.355825    \n",
       "m14           0.008904   0.469333   0.019 0.984876    \n",
       "m15           1.569687   0.564966   2.778 0.005803 ** \n",
       "m16          -1.578771   0.488795  -3.230 0.001374 ** \n",
       "m17           0.990810   0.469322   2.111 0.035575 *  \n",
       "m18           1.106633   0.483976   2.287 0.022910 *  \n",
       "\n",
       "Diagnostic tests:\n",
       "                 df1 df2 statistic  p-value    \n",
       "Weak instruments   9 296     8.176 7.44e-11 ***\n",
       "Wu-Hausman         1 303   173.953  < 2e-16 ***\n",
       "Sargan             8  NA    47.419 1.28e-07 ***\n",
       "---\n",
       "Signif. codes:  0 '***' 0.001 '**' 0.01 '*' 0.05 '.' 0.1 ' ' 1\n",
       "\n",
       "Residual standard error: 1.406 on 304 degrees of freedom\n",
       "Multiple R-Squared: 0.7955,\tAdjusted R-squared: 0.7706 \n",
       "Wald test: 38.05 on 37 and 304 DF,  p-value: < 2.2e-16 \n",
       "\n"
      ]
     },
     "execution_count": 60,
     "metadata": {},
     "output_type": "execute_result"
    }
   ],
   "source": [
    "# IV Regression 结果\n",
    "R\"\"\"\n",
    "fit_iv_3 <- ivreg(formula = formula, data = TSLS_data)\n",
    "summary(fit_iv_3, test = TRUE)\n",
    "\"\"\""
   ]
  },
  {
   "cell_type": "markdown",
   "metadata": {},
   "source": [
    "由 Dni_valid 的系数可知 $\\theta=12.86(1.74)$"
   ]
  },
  {
   "cell_type": "markdown",
   "metadata": {},
   "source": [
    "## Section 5.1"
   ]
  },
  {
   "cell_type": "markdown",
   "metadata": {},
   "source": [
    "### Table III\n",
    "\n",
    "估计 (30) 式"
   ]
  },
  {
   "cell_type": "markdown",
   "metadata": {},
   "source": [
    "#### OLS Estimation"
   ]
  },
  {
   "cell_type": "code",
   "execution_count": 34,
   "metadata": {},
   "outputs": [
    {
     "data": {
      "text/plain": [
       "RObject{VecSxp}\n",
       "     normalized_trade_prime_valid dist1 dist2 dist3 dist4 dist5 dist6 border\n",
       "  1:                       -7.410     0     0     0     0     0     1      0\n",
       "  2:                      -10.074     0     0     0     0     0     1      0\n",
       "  3:                       -5.826     0     0     0     0     0     1      0\n",
       "  4:                       -8.206     0     0     0     0     0     1      0\n",
       "  5:                       -6.461     0     0     0     0     0     1      0\n",
       " ---                                                                        \n",
       "338:                       -8.887     0     0     0     0     1     0      0\n",
       "339:                       -9.624     0     0     0     0     1     0      0\n",
       "340:                       -7.248     0     0     0     0     1     0      0\n",
       "341:                       -7.448     0     0     0     0     1     0      0\n",
       "342:                       -5.596     0     0     0     0     1     0      0\n",
       "     common_language both_in_EU both_in_EFTA S1 S2 S3 S4 S5 S6 S7 S8 S9 S10 S11\n",
       "  1:               0          0            0 -1  1  0  0  0  0  0  0  0   0   0\n",
       "  2:               0          0            0 -1  0  1  0  0  0  0  0  0   0   0\n",
       "  3:               1          0            0 -1  0  0  1  0  0  0  0  0   0   0\n",
       "  4:               0          0            0 -1  0  0  0  1  0  0  0  0   0   0\n",
       "  5:               0          0            0 -1  0  0  0  0  1  0  0  0   0   0\n",
       " ---                                                                           \n",
       "338:               0          0            0  1  1  1  1  1  1  1  1  1   1   1\n",
       "339:               0          0            0  1  1  1  1  1  1  1  1  1   1   1\n",
       "340:               0          0            0  1  1  1  1  1  1  1  1  1   1   1\n",
       "341:               0          0            0  1  1  1  1  1  1  1  1  1   1   1\n",
       "342:               1          0            0  1  1  1  1  1  1  1  1  1   1   1\n",
       "     S12 S13 S14 S15 S16 S17 S18 m1 m2 m3 m4 m5 m6 m7 m8 m9 m10 m11 m12 m13 m14\n",
       "  1:   0   0   0   0   0   0   0  1  0  0  0  0  0  0  0  0   0   0   0   0   0\n",
       "  2:   0   0   0   0   0   0   0  1  0  0  0  0  0  0  0  0   0   0   0   0   0\n",
       "  3:   0   0   0   0   0   0   0  1  0  0  0  0  0  0  0  0   0   0   0   0   0\n",
       "  4:   0   0   0   0   0   0   0  1  0  0  0  0  0  0  0  0   0   0   0   0   0\n",
       "  5:   0   0   0   0   0   0   0  1  0  0  0  0  0  0  0  0   0   0   0   0   0\n",
       " ---                                                                           \n",
       "338:   1   1   2   1   1   1   1 -1 -1 -1 -1 -1 -1 -1 -1 -1  -1  -1  -1  -1  -1\n",
       "339:   1   1   1   2   1   1   1 -1 -1 -1 -1 -1 -1 -1 -1 -1  -1  -1  -1  -1  -1\n",
       "340:   1   1   1   1   2   1   1 -1 -1 -1 -1 -1 -1 -1 -1 -1  -1  -1  -1  -1  -1\n",
       "341:   1   1   1   1   1   2   1 -1 -1 -1 -1 -1 -1 -1 -1 -1  -1  -1  -1  -1  -1\n",
       "342:   1   1   1   1   1   1   2 -1 -1 -1 -1 -1 -1 -1 -1 -1  -1  -1  -1  -1  -1\n",
       "     m15 m16 m17 m18\n",
       "  1:   0   0   0   0\n",
       "  2:   0   0   0   0\n",
       "  3:   0   0   0   0\n",
       "  4:   0   0   0   0\n",
       "  5:   0   0   0   0\n",
       " ---                \n",
       "338:  -1  -1  -1  -1\n",
       "339:  -1  -1  -1  -1\n",
       "340:  -1  -1  -1  -1\n",
       "341:  -1  -1  -1  -1\n",
       "342:  -1  -1  -1  -1\n"
      ]
     },
     "execution_count": 34,
     "metadata": {},
     "output_type": "execute_result"
    }
   ],
   "source": [
    "# 组织数据框\n",
    "# 这次要有 dist1，故重新从 Julia 中传递包含dist1的 geography_dummy_valid 到 R\n",
    "R\"\"\"\n",
    "geography_dummy_valid <- $geography_dummy_valid\n",
    "table3_data <- cbind(normalized_trade_prime_valid, geography_dummy_valid, country_dummy_valid) %>%\n",
    "  as.data.table()\n",
    "\"\"\""
   ]
  },
  {
   "cell_type": "code",
   "execution_count": 35,
   "metadata": {},
   "outputs": [
    {
     "data": {
      "text/plain": [
       "RObject{VecSxp}\n",
       "\n",
       "Call:\n",
       "lm(formula = normalized_trade_prime_valid ~ 0 + ., data = table3_data)\n",
       "\n",
       "Residuals:\n",
       "     Min       1Q   Median       3Q      Max \n",
       "-1.37812 -0.28260  0.00324  0.27485  1.35971 \n",
       "\n",
       "Coefficients:\n",
       "                 Estimate Std. Error t value Pr(>|t|)    \n",
       "dist1           -3.102440   0.154903 -20.028  < 2e-16 ***\n",
       "dist2           -3.665941   0.106969 -34.271  < 2e-16 ***\n",
       "dist3           -4.033395   0.095713 -42.141  < 2e-16 ***\n",
       "dist4           -4.218077   0.153080 -27.555  < 2e-16 ***\n",
       "dist5           -6.064372   0.087005 -69.701  < 2e-16 ***\n",
       "dist6           -6.558933   0.097792 -67.070  < 2e-16 ***\n",
       "border           0.303564   0.137159   2.213 0.027645 *  \n",
       "common_language  0.510080   0.145505   3.506 0.000526 ***\n",
       "both_in_EU       0.035912   0.121613   0.295 0.767974    \n",
       "both_in_EFTA     0.536071   0.182563   2.936 0.003581 ** \n",
       "S1               0.192558   0.149741   1.286 0.199471    \n",
       "S2              -1.161839   0.128054  -9.073  < 2e-16 ***\n",
       "S3              -3.335625   0.118827 -28.071  < 2e-16 ***\n",
       "S4               0.411561   0.141915   2.900 0.004010 ** \n",
       "S5              -1.749550   0.121735 -14.372  < 2e-16 ***\n",
       "S6              -0.522466   0.129777  -4.026 7.22e-05 ***\n",
       "S7               1.281384   0.118952  10.772  < 2e-16 ***\n",
       "S8               2.352748   0.121609  19.347  < 2e-16 ***\n",
       "S9              -2.813521   0.122484 -22.971  < 2e-16 ***\n",
       "S10              1.781510   0.120437  14.792  < 2e-16 ***\n",
       "S11              4.198787   0.132413  31.710  < 2e-16 ***\n",
       "S12             -2.189319   0.120839 -18.118  < 2e-16 ***\n",
       "S13             -1.197687   0.149741  -7.998 2.87e-14 ***\n",
       "S14             -1.346152   0.129424 -10.401  < 2e-16 ***\n",
       "S15             -1.573180   0.126130 -12.473  < 2e-16 ***\n",
       "S16              0.303089   0.121268   2.499 0.012984 *  \n",
       "S17              0.009816   0.129869   0.076 0.939800    \n",
       "S18              1.374167   0.121654  11.296  < 2e-16 ***\n",
       "m1               0.236221   0.256161   0.922 0.357197    \n",
       "m2              -1.678415   0.203764  -8.237 5.75e-15 ***\n",
       "m3               1.120118   0.180023   6.222 1.67e-09 ***\n",
       "m4               0.688596   0.237671   2.897 0.004045 ** \n",
       "m5              -0.505889   0.187633  -2.696 0.007416 ** \n",
       "m6              -1.334488   0.207808  -6.422 5.36e-10 ***\n",
       "m7               0.218294   0.180352   1.210 0.227099    \n",
       "m8               0.998812   0.187305   5.333 1.93e-07 ***\n",
       "m9              -2.356411   0.189573 -12.430  < 2e-16 ***\n",
       "m10              0.070178   0.184252   0.381 0.703566    \n",
       "m11              1.584890   0.214620   7.385 1.56e-12 ***\n",
       "m12              1.004782   0.185301   5.422 1.22e-07 ***\n",
       "m13              0.066574   0.256161   0.260 0.795129    \n",
       "m14             -1.000409   0.207199  -4.828 2.21e-06 ***\n",
       "m15             -1.206780   0.198907  -6.067 3.97e-09 ***\n",
       "m16             -1.156611   0.186420  -6.204 1.85e-09 ***\n",
       "m17             -0.024864   0.208183  -0.119 0.905012    \n",
       "m18              0.816808   0.187422   4.358 1.81e-05 ***\n",
       "---\n",
       "Signif. codes:  0 '***' 0.001 '**' 0.01 '*' 0.05 '.' 0.1 ' ' 1\n",
       "\n",
       "Residual standard error: 0.4913 on 296 degrees of freedom\n",
       "Multiple R-squared:  0.9935,\tAdjusted R-squared:  0.9925 \n",
       "F-statistic: 984.2 on 46 and 296 DF,  p-value: < 2.2e-16\n",
       "\n"
      ]
     },
     "execution_count": 35,
     "metadata": {},
     "output_type": "execute_result"
    }
   ],
   "source": [
    "# OLS\n",
    "R\"\"\"\n",
    "lm_table3 <- lm(normalized_trade_prime_valid ~ 0 + ., data = table3_data)\n",
    "summary(lm_table3)\n",
    "\"\"\""
   ]
  },
  {
   "cell_type": "markdown",
   "metadata": {},
   "source": [
    "#### GLS Estimation"
   ]
  },
  {
   "cell_type": "markdown",
   "metadata": {},
   "source": [
    "上述 OLS 所得残差，并将其扩展为矩阵，作为估计误差协方差的材料"
   ]
  },
  {
   "cell_type": "code",
   "execution_count": 36,
   "metadata": {},
   "outputs": [
    {
     "data": {
      "text/plain": [
       "0.20891654679896704"
      ]
     },
     "execution_count": 36,
     "metadata": {},
     "output_type": "execute_result"
    }
   ],
   "source": [
    "R\"res <- lm_table3$residuals\"\n",
    "@rget res # 在 Julia 中获得与 R 同名的变量\n",
    "\n",
    "ee_Mat = res * res'\n",
    "sum_σ² = diag(ee_Mat) |> mean"
   ]
  },
  {
   "cell_type": "markdown",
   "metadata": {},
   "source": [
    "对 $\\sigma_1^2 + \\sigma_2^2$ 的估计结果大概是 $0.21$\n",
    "\n",
    "然后估计 $\\sigma_2^2$，关键是计算所有的对称国家对 $(n, i)$ 和 $(i, n)$ 在 `ee_Mat` 中交叉的行列坐标\n",
    "\n",
    "把 `ee_Mat` 中这 342 个元素加起来求平均，就是 $\\sigma_2^2$ 的估计值"
   ]
  },
  {
   "cell_type": "code",
   "execution_count": 37,
   "metadata": {},
   "outputs": [
    {
     "name": "stdout",
     "output_type": "stream",
     "text": [
      "\u001b[1m5×3 DataFrame\u001b[0m\n",
      "\u001b[1m Row \u001b[0m│\u001b[1m n     \u001b[0m\u001b[1m i     \u001b[0m\u001b[1m row_index \u001b[0m\n",
      "\u001b[1m     \u001b[0m│\u001b[90m Int64 \u001b[0m\u001b[90m Int64 \u001b[0m\u001b[90m Int64     \u001b[0m\n",
      "─────┼─────────────────────────\n",
      "   1 │     1      2          1\n",
      "   2 │     1      3          2\n",
      "   3 │     1      4          3\n",
      "   4 │     1      5          4\n",
      "   5 │     1      6          5\n"
     ]
    }
   ],
   "source": [
    "country_pairs = DataFrame(\n",
    "    hcat(index_n_valid, index_i_valid, 1:N^2-N), \n",
    "    [\"n\", \"i\", \"row_index\"]\n",
    ")\n",
    "first(country_pairs, 5) |> println "
   ]
  },
  {
   "cell_type": "markdown",
   "metadata": {},
   "source": [
    "对某一行的索引 row，求对应的进口国index(n)和出口国index(i)  \n",
    "进出口关系反转，求得相应的行索引 col  \n",
    "\n",
    "则在ee_Mat中，col列与row行的交叉处，协方差应为σ₂²  \n",
    "找到所有的这种交叉处，对残差平方和取平均，就是我们估计的σ₂²  "
   ]
  },
  {
   "cell_type": "code",
   "execution_count": 38,
   "metadata": {},
   "outputs": [
    {
     "data": {
      "text/plain": [
       "cross_indices"
      ]
     },
     "execution_count": 38,
     "metadata": {},
     "output_type": "execute_result"
    }
   ],
   "source": [
    "\"\"\"\n",
    "根据行号求相应的对称国家对在ee_Mat中行列坐标的函数\n",
    "\"\"\"\n",
    "function cross_indices(row)\n",
    "    n, i = Matrix(subset(country_pairs, :row_index => ByRow(==(row))))[1, 1:2]\n",
    "    col = subset(country_pairs, :n => ByRow(==(i)), :i => ByRow(==(n)))[1, :row_index]\n",
    "    return row, col\n",
    "end"
   ]
  },
  {
   "cell_type": "code",
   "execution_count": 39,
   "metadata": {},
   "outputs": [
    {
     "data": {
      "text/plain": [
       "0.05064992755973885"
      ]
     },
     "execution_count": 39,
     "metadata": {},
     "output_type": "execute_result"
    }
   ],
   "source": [
    "σ₂² = @pipe 1:size(country_pairs, 1) .|> cross_indices .|> ee_Mat[_...] |> mean"
   ]
  },
  {
   "cell_type": "code",
   "execution_count": 40,
   "metadata": {},
   "outputs": [
    {
     "data": {
      "text/plain": [
       "0.1582666192392282"
      ]
     },
     "execution_count": 40,
     "metadata": {},
     "output_type": "execute_result"
    }
   ],
   "source": [
    "σ₁² = sum_σ² - σ₂²"
   ]
  },
  {
   "cell_type": "markdown",
   "metadata": {},
   "source": [
    "有了 $\\sigma_1^2$ 和 $\\sigma_2^2$，就可以构建 $342 \\times 342$ 的误差协方差矩阵 $\\Omega$ "
   ]
  },
  {
   "cell_type": "code",
   "execution_count": 41,
   "metadata": {},
   "outputs": [
    {
     "data": {
      "text/plain": [
       "342×342 Matrix{Float64}:\n",
       " 0.208917  0.0       0.0       0.0       …  0.0       0.0       0.0\n",
       " 0.0       0.208917  0.0       0.0          0.0       0.0       0.0\n",
       " 0.0       0.0       0.208917  0.0          0.0       0.0       0.0\n",
       " 0.0       0.0       0.0       0.208917     0.0       0.0       0.0\n",
       " 0.0       0.0       0.0       0.0          0.0       0.0       0.0\n",
       " 0.0       0.0       0.0       0.0       …  0.0       0.0       0.0\n",
       " 0.0       0.0       0.0       0.0          0.0       0.0       0.0\n",
       " 0.0       0.0       0.0       0.0          0.0       0.0       0.0\n",
       " 0.0       0.0       0.0       0.0          0.0       0.0       0.0\n",
       " 0.0       0.0       0.0       0.0          0.0       0.0       0.0\n",
       " 0.0       0.0       0.0       0.0       …  0.0       0.0       0.0\n",
       " 0.0       0.0       0.0       0.0          0.0       0.0       0.0\n",
       " 0.0       0.0       0.0       0.0          0.0       0.0       0.0\n",
       " ⋮                                       ⋱            ⋮         \n",
       " 0.0       0.0       0.0       0.0       …  0.0       0.0       0.0\n",
       " 0.0       0.0       0.0       0.0          0.0       0.0       0.0\n",
       " 0.0       0.0       0.0       0.0          0.0       0.0       0.0\n",
       " 0.0       0.0       0.0       0.0          0.0       0.0       0.0\n",
       " 0.0       0.0       0.0       0.0          0.0       0.0       0.0\n",
       " 0.0       0.0       0.0       0.0       …  0.0       0.0       0.0\n",
       " 0.0       0.0       0.0       0.0          0.0       0.0       0.0\n",
       " 0.0       0.0       0.0       0.0          0.0       0.0       0.0\n",
       " 0.0       0.0       0.0       0.0          0.0       0.0       0.0\n",
       " 0.0       0.0       0.0       0.0          0.208917  0.0       0.0\n",
       " 0.0       0.0       0.0       0.0       …  0.0       0.208917  0.0\n",
       " 0.0       0.0       0.0       0.0          0.0       0.0       0.208917"
      ]
     },
     "execution_count": 41,
     "metadata": {},
     "output_type": "execute_result"
    }
   ],
   "source": [
    "# 构建 Ω\n",
    "Ω = sum_σ² * I(N^2 - N)\n",
    "for i ∈ 1:N^2-N\n",
    "    Ω[cross_indices(i)...] = σ₂²\n",
    "end\n",
    "Ω"
   ]
  },
  {
   "cell_type": "code",
   "execution_count": 42,
   "metadata": {},
   "outputs": [],
   "source": [
    "# GLS estimation（代数运算），仍用 OLS 的数据框\n",
    "@rget table3_data\n",
    "\n",
    "Y = extract(table3_data, :normalized_trade_prime_valid)\n",
    "X = extract(table3_data, Not(:normalized_trade_prime_valid))\n",
    "\n",
    "\n",
    "estimate = inv(X'inv(Ω)X)X'inv(Ω)Y # 几乎就是数学公式，返回各系数估计值的向量\n",
    "estimate_S19 = -sum(estimate[11:28]) \n",
    "estimate_m19 = -sum(estimate[29:46])\n",
    "gls_estimate = [estimate[1:28]..., estimate_S19, estimate[29:46]..., estimate_m19]\n",
    "\n",
    "\n",
    "var_estimate = inv(X'inv(Ω)X)\n",
    "stand_error = diag(var_estimate) .|> sqrt\n",
    "stand_error_S19 = var_estimate[11:28, 11:28] |> sum |> sqrt\n",
    "stand_error_m19 = var_estimate[29:46, 29:46] |> sum |> sqrt\n",
    "gls_stand_error = [stand_error[1:28]..., stand_error_S19, stand_error[29:46]..., stand_error_m19];"
   ]
  },
  {
   "cell_type": "code",
   "execution_count": 43,
   "metadata": {},
   "outputs": [
    {
     "data": {
      "text/plain": [
       "RObject{VecSxp}\n",
       "                               Variable         parameter  est.   s.e.\n",
       " 1:                   Distance [0, 375)  $-\\\\theta d_{1}$ -3.10 (0.16)\n",
       " 2:                 Distance [375, 750)  $-\\\\theta d_{2}$ -3.66 (0.11)\n",
       " 3:                Distance [750, 1500)  $-\\\\theta d_{3}$ -4.03  (0.1)\n",
       " 4:               Distance [1500, 3000)  $-\\\\theta d_{4}$ -4.22 (0.16)\n",
       " 5:               Distance [3000, 6000)  $-\\\\theta d_{5}$ -6.06 (0.09)\n",
       " 6:            Distance [6000, maximum)  $-\\\\theta d_{6}$ -6.56  (0.1)\n",
       " 7:                       Shared border      $-\\\\theta b$  0.30 (0.14)\n",
       " 8:                     Shared language      $-\\\\theta l$  0.51 (0.15)\n",
       " 9:                      Both in EEC/EU    $-\\\\theta e_1$  0.04 (0.13)\n",
       "10:                        Both in EFTA    $-\\\\theta e_2$  0.54 (0.19)\n",
       "11:           Source country: Australia           $S_{1}$  0.19 (0.15)\n",
       "12:             Source country: Austria           $S_{2}$ -1.16 (0.12)\n",
       "13:             Source country: Belgium           $S_{3}$ -3.34 (0.11)\n",
       "14:              Source country: Canada           $S_{4}$  0.41 (0.14)\n",
       "15:             Source country: Denmark           $S_{5}$ -1.75 (0.12)\n",
       "16:             Source country: Finland           $S_{6}$ -0.52 (0.12)\n",
       "17:              Source country: France           $S_{7}$  1.28 (0.11)\n",
       "18:             Source country: Germany           $S_{8}$  2.35 (0.12)\n",
       "19:              Source country: Greece           $S_{9}$ -2.81 (0.12)\n",
       "20:               Source country: Italy          $S_{10}$  1.78 (0.11)\n",
       "21:               Source country: Japan          $S_{11}$  4.20 (0.13)\n",
       "22:         Source country: Netherlands          $S_{12}$ -2.19 (0.11)\n",
       "23:         Source country: New Zealand          $S_{13}$ -1.20 (0.15)\n",
       "24:              Source country: Norway          $S_{14}$ -1.35 (0.12)\n",
       "25:            Source country: Portugal          $S_{15}$ -1.57 (0.12)\n",
       "26:               Source country: Spain          $S_{16}$  0.30 (0.12)\n",
       "27:              Source country: Sweden          $S_{17}$  0.01 (0.12)\n",
       "28:      Source country: United Kingdom          $S_{18}$  1.37 (0.12)\n",
       "29:       Source country: United States          $S_{19}$  3.98 (0.14)\n",
       "30:      Destination country: Australia  $-\\\\theta m_{1}$  0.24 (0.27)\n",
       "31:        Destination country: Austria  $-\\\\theta m_{2}$ -1.68 (0.21)\n",
       "32:        Destination country: Belgium  $-\\\\theta m_{3}$  1.12 (0.19)\n",
       "33:         Destination country: Canada  $-\\\\theta m_{4}$  0.69 (0.25)\n",
       "34:        Destination country: Denmark  $-\\\\theta m_{5}$ -0.51 (0.19)\n",
       "35:        Destination country: Finland  $-\\\\theta m_{6}$ -1.33 (0.22)\n",
       "36:         Destination country: France  $-\\\\theta m_{7}$  0.22 (0.19)\n",
       "37:        Destination country: Germany  $-\\\\theta m_{8}$  1.00 (0.19)\n",
       "38:         Destination country: Greece  $-\\\\theta m_{9}$ -2.36  (0.2)\n",
       "39:          Destination country: Italy $-\\\\theta m_{10}$  0.07 (0.19)\n",
       "40:          Destination country: Japan $-\\\\theta m_{11}$  1.59 (0.22)\n",
       "41:    Destination country: Netherlands $-\\\\theta m_{12}$  1.00 (0.19)\n",
       "42:    Destination country: New Zealand $-\\\\theta m_{13}$  0.07 (0.27)\n",
       "43:         Destination country: Norway $-\\\\theta m_{14}$ -1.00 (0.21)\n",
       "44:       Destination country: Portugal $-\\\\theta m_{15}$ -1.21 (0.21)\n",
       "45:          Destination country: Spain $-\\\\theta m_{16}$ -1.16 (0.19)\n",
       "46:         Destination country: Sweden $-\\\\theta m_{17}$ -0.02 (0.22)\n",
       "47: Destination country: United Kingdom $-\\\\theta m_{18}$  0.81 (0.19)\n",
       "48:  Destination country: United States $-\\\\theta m_{19}$  2.46 (0.25)\n",
       "                               Variable         parameter  est.   s.e.\n"
      ]
     },
     "execution_count": 43,
     "metadata": {},
     "output_type": "execute_result"
    }
   ],
   "source": [
    "# Table III\n",
    "\n",
    "R\"\"\"\n",
    "country_table = $country_table\n",
    "gls_estimate <- $gls_estimate\n",
    "gls_stand_error <- $gls_stand_error\n",
    "\n",
    "gls_parameters <- c(\n",
    "  1:6 %>% str_c(\"$-\\\\theta d_{\", ., \"}$\"),\n",
    "  \"$-\\\\theta b$\", \"$-\\\\theta l$\", \"$-\\\\theta e_1$\", \"$-\\\\theta e_2$\",\n",
    "  1:19 %>% str_c(\"$S_{\", ., \"}$\"),\n",
    "  1:19 %>% str_c(\"$-\\\\theta m_{\", ., \"}$\")\n",
    ")\n",
    "variable_names <- c(\n",
    "  \"Distance [0, 375)\", \"Distance [375, 750)\", \"Distance [750, 1500)\",\n",
    "  \"Distance [1500, 3000)\", \"Distance [3000, 6000)\", \"Distance [6000, maximum)\",\n",
    "  \"Shared border\", \"Shared language\", \"Both in EEC/EU\", \"Both in EFTA\",\n",
    "  country_table$name %>% str_c(\"Source country: \", .),\n",
    "  country_table$name %>% str_c(\"Destination country: \", .)\n",
    ")\n",
    "table3 <- data.table(\n",
    "  variables = variable_names,\n",
    "  parameters = gls_parameters,\n",
    "  estimate = round(gls_estimate, 2),\n",
    "  std_error = round(gls_stand_error, 2)\n",
    ")\n",
    "table3 %>%\n",
    "  mutate(std_error = str_c(\"(\", std_error, \")\")) %>%\n",
    "  set_colnames(c(\"Variable\", \"parameter\", \"est.\", \"s.e.\"))\n",
    "\"\"\""
   ]
  },
  {
   "cell_type": "markdown",
   "metadata": {},
   "source": [
    "#### 保存估计结果\n",
    "\n",
    "TABLE III 的估计值对于下一步的 simulation 非常重要。\n",
    "\n",
    "1. Source country dummy 的估计值可用于计算各国技术水平\n",
    "2. 由其他虚拟变量系数的估计值可计算双边障碍 $-\\theta \\ln(d_{ni})$ 的拟合值。将此拟合值命名为 dni_measure，作为 simulation 阶段 $d_{ni}$ 的数据来源。"
   ]
  },
  {
   "cell_type": "code",
   "execution_count": 44,
   "metadata": {},
   "outputs": [
    {
     "data": {
      "text/plain": [
       "342-element Vector{Float64}:\n",
       " -6.32308562884616\n",
       " -6.32308562884616\n",
       " -5.811442086342885\n",
       " -6.32308562884616\n",
       " -6.32308562884616\n",
       " -6.32308562884616\n",
       " -6.32308562884616\n",
       " -6.32308562884616\n",
       " -6.32308562884616\n",
       " -5.828453822321084\n",
       " -6.32308562884616\n",
       " -3.286113016210577\n",
       " -6.32308562884616\n",
       "  ⋮\n",
       " -3.605517711163891\n",
       " -3.605517711163891\n",
       " -3.605517711163891\n",
       " -3.605517711163891\n",
       " -4.100149517688967\n",
       " -3.605517711163891\n",
       " -3.5885059751856927\n",
       " -3.605517711163891\n",
       " -3.605517711163891\n",
       " -3.605517711163891\n",
       " -3.605517711163891\n",
       " -3.0938741686606166"
      ]
     },
     "execution_count": 44,
     "metadata": {},
     "output_type": "execute_result"
    }
   ],
   "source": [
    "# 由 Table III 估计出的 48 个系数（gls_estimate）可计算拟合值: d_measure\n",
    "barrier_dummy = hcat(Matrix(geography_dummy_valid), destination_dummy[valid_index,:]) # 包含dist1\n",
    "barrier_estimate =gls_estimate[[1:10;30:48]]\n",
    "barrier_sum = barrier_dummy * barrier_estimate"
   ]
  },
  {
   "cell_type": "code",
   "execution_count": 45,
   "metadata": {},
   "outputs": [
    {
     "data": {
      "text/plain": [
       "19×19 Matrix{Float64}:\n",
       "  0.0      -6.32309  -6.32309  -5.81144   …  -6.32309  -5.81144  -5.81144\n",
       " -8.23702   0.0      -5.34225  -7.74239      -5.1748   -5.71169  -7.74239\n",
       " -5.43925  -2.54448   0.0      -4.94462      -2.91392  -1.94204  -4.94462\n",
       " -5.35851  -5.37552  -5.37552   0.0          -5.37552  -4.86387  -2.16785\n",
       " -7.06717  -4.1724   -4.13555  -6.57254      -3.60681  -4.13555  -6.57254\n",
       " -7.89396  -4.83175  -5.36864  -7.39933   …  -3.60083  -5.36864  -7.39933\n",
       " -6.34016  -3.44539  -2.03542  -5.84553      -3.81483  -2.84296  -5.84553\n",
       " -5.55831  -1.29043  -2.3308   -5.06368      -2.66355  -2.62669  -5.06368\n",
       " -8.9161   -6.39077  -6.35392  -8.42147      -6.39077  -6.35392  -8.42147\n",
       " -6.48756  -3.2969   -3.55594  -5.99293      -3.96223  -3.92538  -5.99293\n",
       " -4.47917  -4.47917  -4.47917  -4.9738    …  -4.47917  -4.47917  -4.9738\n",
       " -5.55555  -2.66078  -1.76245  -5.06092      -2.66078  -2.05834  -5.06092\n",
       " -3.45576  -6.49273  -6.49273  -5.98109      -6.49273  -5.98109  -5.98109\n",
       " -7.56032  -4.49811  -4.66556  -7.06569      -3.26719  -4.66556  -7.06569\n",
       " -7.76592  -5.24059  -5.20374  -7.27128      -5.42479  -5.20374  -7.27128\n",
       " -7.71491  -5.18958  -5.15273  -7.22028   …  -5.37379  -5.15273  -7.22028\n",
       " -6.58411  -3.52189  -4.05878  -6.08947       0.0      -4.05878  -6.08947\n",
       " -5.23371  -3.22002  -2.24815  -4.73908      -3.22002   0.0      -4.73908\n",
       " -3.58851  -3.60552  -3.60552  -0.397847     -3.60552  -3.09387   0.0"
      ]
     },
     "execution_count": 45,
     "metadata": {},
     "output_type": "execute_result"
    }
   ],
   "source": [
    "# 为了后续使用的方便，将其变形为矩阵\n",
    "dni_measure = zeros(N, N)\n",
    "for row in 1:342\n",
    "    n, i = Matrix(subset(country_pairs, :row_index => ByRow(==(row))))[1, 1:2]\n",
    "    dni_measure[n, i] = barrier_sum[row]\n",
    "end\n",
    "dni_measure"
   ]
  },
  {
   "cell_type": "code",
   "execution_count": 46,
   "metadata": {},
   "outputs": [],
   "source": [
    "save(\"../data/table3-output.jld\", \"table3_estimate\", gls_estimate, \"dni_measure\", dni_measure) "
   ]
  },
  {
   "cell_type": "code",
   "execution_count": null,
   "metadata": {},
   "outputs": [],
   "source": []
  }
 ],
 "metadata": {
  "kernelspec": {
   "display_name": "Julia 1.7.3",
   "language": "julia",
   "name": "julia-1.7"
  },
  "language_info": {
   "file_extension": ".jl",
   "mimetype": "application/julia",
   "name": "julia",
   "version": "1.7.3"
  },
  "toc-autonumbering": true,
  "toc-showcode": false,
  "toc-showmarkdowntxt": false,
  "toc-showtags": false
 },
 "nbformat": 4,
 "nbformat_minor": 4
}
