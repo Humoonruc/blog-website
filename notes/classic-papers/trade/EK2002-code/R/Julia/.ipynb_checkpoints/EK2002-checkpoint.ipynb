{
 "cells": [
  {
   "cell_type": "markdown",
   "metadata": {
    "tags": []
   },
   "source": [
    "# Estimation"
   ]
  },
  {
   "cell_type": "markdown",
   "metadata": {
    "tags": []
   },
   "source": [
    "## Data Processing\n",
    "\n",
    "### Import Modules"
   ]
  },
  {
   "cell_type": "code",
   "execution_count": 67,
   "metadata": {},
   "outputs": [
    {
     "data": {
      "text/plain": [
       "RObject{StrSxp}\n",
       " [1] \"ivreg\"      \"magrittr\"   \"data.table\" \"forcats\"    \"stringr\"   \n",
       " [6] \"dplyr\"      \"purrr\"      \"readr\"      \"tidyr\"      \"tibble\"    \n",
       "[11] \"ggplot2\"    \"tidyverse\"  \"stats\"      \"graphics\"   \"grDevices\" \n",
       "[16] \"utils\"      \"datasets\"   \"methods\"    \"base\"      \n"
      ]
     },
     "execution_count": 67,
     "metadata": {},
     "output_type": "execute_result"
    }
   ],
   "source": [
    "using JSON, CSV, JLD, DataFrames # data\n",
    "using LinearAlgebra, Statistics # math\n",
    "using NLsolve # numeric\n",
    "using Pipe # programming\n",
    "\n",
    "using RCall\n",
    "R\"\"\"\n",
    "library(tidyverse)\n",
    "library(data.table)\n",
    "library(magrittr)\n",
    "library(ivreg)\n",
    "\"\"\""
   ]
  },
  {
   "cell_type": "markdown",
   "metadata": {
    "tags": []
   },
   "source": [
    "### Read Data"
   ]
  },
  {
   "cell_type": "code",
   "execution_count": 61,
   "metadata": {},
   "outputs": [
    {
     "data": {
      "text/plain": [
       "Dict{String, Any} with 3 entries:\n",
       "  \"theta\" => Any[3.6, 8.28, 12.86]\n",
       "  \"N\"     => 19\n",
       "  \"beta\"  => 0.21221"
      ]
     },
     "execution_count": 61,
     "metadata": {},
     "output_type": "execute_result"
    }
   ],
   "source": [
    "scalars = JSON.parsefile(\"../data/scalar.json\")"
   ]
  },
  {
   "cell_type": "code",
   "execution_count": 3,
   "metadata": {},
   "outputs": [
    {
     "data": {
      "text/html": [
       "<div class=\"data-frame\"><p>19 rows × 3 columns</p><table class=\"data-frame\"><thead><tr><th></th><th>id</th><th>code</th><th>name</th></tr><tr><th></th><th title=\"Int64\">Int64</th><th title=\"String3\">String3</th><th title=\"String15\">String15</th></tr></thead><tbody><tr><th>1</th><td>1</td><td>AL</td><td>Australia</td></tr><tr><th>2</th><td>2</td><td>AU</td><td>Austria</td></tr><tr><th>3</th><td>3</td><td>BE</td><td>Belgium</td></tr><tr><th>4</th><td>4</td><td>CA</td><td>Canada</td></tr><tr><th>5</th><td>5</td><td>DK</td><td>Denmark</td></tr><tr><th>6</th><td>6</td><td>FI</td><td>Finland</td></tr><tr><th>7</th><td>7</td><td>FR</td><td>France</td></tr><tr><th>8</th><td>8</td><td>GE</td><td>Germany</td></tr><tr><th>9</th><td>9</td><td>GR</td><td>Greece</td></tr><tr><th>10</th><td>10</td><td>IT</td><td>Italy</td></tr><tr><th>11</th><td>11</td><td>JP</td><td>Japan</td></tr><tr><th>12</th><td>12</td><td>NE</td><td>Netherlands</td></tr><tr><th>13</th><td>13</td><td>NZ</td><td>New Zealand</td></tr><tr><th>14</th><td>14</td><td>NO</td><td>Norway</td></tr><tr><th>15</th><td>15</td><td>PO</td><td>Portugal</td></tr><tr><th>16</th><td>16</td><td>SP</td><td>Spain</td></tr><tr><th>17</th><td>17</td><td>SW</td><td>Sweden</td></tr><tr><th>18</th><td>18</td><td>UK</td><td>United Kingdom</td></tr><tr><th>19</th><td>19</td><td>US</td><td>United States</td></tr></tbody></table></div>"
      ],
      "text/latex": [
       "\\begin{tabular}{r|ccc}\n",
       "\t& id & code & name\\\\\n",
       "\t\\hline\n",
       "\t& Int64 & String3 & String15\\\\\n",
       "\t\\hline\n",
       "\t1 & 1 & AL & Australia \\\\\n",
       "\t2 & 2 & AU & Austria \\\\\n",
       "\t3 & 3 & BE & Belgium \\\\\n",
       "\t4 & 4 & CA & Canada \\\\\n",
       "\t5 & 5 & DK & Denmark \\\\\n",
       "\t6 & 6 & FI & Finland \\\\\n",
       "\t7 & 7 & FR & France \\\\\n",
       "\t8 & 8 & GE & Germany \\\\\n",
       "\t9 & 9 & GR & Greece \\\\\n",
       "\t10 & 10 & IT & Italy \\\\\n",
       "\t11 & 11 & JP & Japan \\\\\n",
       "\t12 & 12 & NE & Netherlands \\\\\n",
       "\t13 & 13 & NZ & New Zealand \\\\\n",
       "\t14 & 14 & NO & Norway \\\\\n",
       "\t15 & 15 & PO & Portugal \\\\\n",
       "\t16 & 16 & SP & Spain \\\\\n",
       "\t17 & 17 & SW & Sweden \\\\\n",
       "\t18 & 18 & UK & United Kingdom \\\\\n",
       "\t19 & 19 & US & United States \\\\\n",
       "\\end{tabular}\n"
      ],
      "text/plain": [
       "\u001b[1m19×3 DataFrame\u001b[0m\n",
       "\u001b[1m Row \u001b[0m│\u001b[1m id    \u001b[0m\u001b[1m code    \u001b[0m\u001b[1m name           \u001b[0m\n",
       "\u001b[1m     \u001b[0m│\u001b[90m Int64 \u001b[0m\u001b[90m String3 \u001b[0m\u001b[90m String15       \u001b[0m\n",
       "─────┼────────────────────────────────\n",
       "   1 │     1  AL       Australia\n",
       "   2 │     2  AU       Austria\n",
       "   3 │     3  BE       Belgium\n",
       "   4 │     4  CA       Canada\n",
       "   5 │     5  DK       Denmark\n",
       "   6 │     6  FI       Finland\n",
       "   7 │     7  FR       France\n",
       "   8 │     8  GE       Germany\n",
       "   9 │     9  GR       Greece\n",
       "  10 │    10  IT       Italy\n",
       "  11 │    11  JP       Japan\n",
       "  12 │    12  NE       Netherlands\n",
       "  13 │    13  NZ       New Zealand\n",
       "  14 │    14  NO       Norway\n",
       "  15 │    15  PO       Portugal\n",
       "  16 │    16  SP       Spain\n",
       "  17 │    17  SW       Sweden\n",
       "  18 │    18  UK       United Kingdom\n",
       "  19 │    19  US       United States"
      ]
     },
     "execution_count": 3,
     "metadata": {},
     "output_type": "execute_result"
    }
   ],
   "source": [
    "country_table = CSV.read(\"../data/country_code.csv\", DataFrame)"
   ]
  },
  {
   "cell_type": "code",
   "execution_count": 4,
   "metadata": {},
   "outputs": [
    {
     "data": {
      "text/html": [
       "<div class=\"data-frame\"><p>361 rows × 22 columns (omitted printing of 14 columns)</p><table class=\"data-frame\"><thead><tr><th></th><th>import_country</th><th>export_country</th><th>unknown1</th><th>trade</th><th>trade_prime</th><th>dist1</th><th>dist2</th><th>dist3</th></tr><tr><th></th><th title=\"Int64\">Int64</th><th title=\"Int64\">Int64</th><th title=\"Int64\">Int64</th><th title=\"Float64\">Float64</th><th title=\"Float64\">Float64</th><th title=\"Int64\">Int64</th><th title=\"Int64\">Int64</th><th title=\"Int64\">Int64</th></tr></thead><tbody><tr><th>1</th><td>1</td><td>1</td><td>90</td><td>0.0</td><td>0.0</td><td>1</td><td>0</td><td>0</td></tr><tr><th>2</th><td>1</td><td>2</td><td>90</td><td>-6.502</td><td>-7.41</td><td>0</td><td>0</td><td>0</td></tr><tr><th>3</th><td>1</td><td>3</td><td>90</td><td>-5.968</td><td>-10.074</td><td>0</td><td>0</td><td>0</td></tr><tr><th>4</th><td>1</td><td>4</td><td>90</td><td>-5.105</td><td>-5.826</td><td>0</td><td>0</td><td>0</td></tr><tr><th>5</th><td>1</td><td>5</td><td>90</td><td>-6.587</td><td>-8.206</td><td>0</td><td>0</td><td>0</td></tr><tr><th>6</th><td>1</td><td>6</td><td>90</td><td>-6.079</td><td>-6.461</td><td>0</td><td>0</td><td>0</td></tr><tr><th>7</th><td>1</td><td>7</td><td>90</td><td>-4.886</td><td>-5.176</td><td>0</td><td>0</td><td>0</td></tr><tr><th>8</th><td>1</td><td>8</td><td>90</td><td>-3.86</td><td>-3.918</td><td>0</td><td>0</td><td>0</td></tr><tr><th>9</th><td>1</td><td>9</td><td>90</td><td>-8.021</td><td>-9.092</td><td>0</td><td>0</td><td>0</td></tr><tr><th>10</th><td>1</td><td>10</td><td>90</td><td>-4.652</td><td>-4.528</td><td>0</td><td>0</td><td>0</td></tr><tr><th>11</th><td>1</td><td>11</td><td>90</td><td>-2.804</td><td>-2.04</td><td>0</td><td>0</td><td>0</td></tr><tr><th>12</th><td>1</td><td>12</td><td>90</td><td>-5.709</td><td>-8.801</td><td>0</td><td>0</td><td>0</td></tr><tr><th>13</th><td>1</td><td>13</td><td>90</td><td>-4.299</td><td>-4.96</td><td>0</td><td>0</td><td>1</td></tr><tr><th>14</th><td>1</td><td>14</td><td>90</td><td>-7.021</td><td>-8.137</td><td>0</td><td>0</td><td>0</td></tr><tr><th>15</th><td>1</td><td>15</td><td>90</td><td>-7.999</td><td>-8.985</td><td>0</td><td>0</td><td>0</td></tr><tr><th>16</th><td>1</td><td>16</td><td>90</td><td>-6.657</td><td>-6.688</td><td>0</td><td>0</td><td>0</td></tr><tr><th>17</th><td>1</td><td>17</td><td>90</td><td>-5.162</td><td>-5.886</td><td>0</td><td>0</td><td>0</td></tr><tr><th>18</th><td>1</td><td>18</td><td>90</td><td>-3.657</td><td>-4.04</td><td>0</td><td>0</td><td>0</td></tr><tr><th>19</th><td>1</td><td>19</td><td>90</td><td>-2.61</td><td>-2.179</td><td>0</td><td>0</td><td>0</td></tr><tr><th>20</th><td>2</td><td>1</td><td>90</td><td>-8.85</td><td>-7.942</td><td>0</td><td>0</td><td>0</td></tr><tr><th>21</th><td>2</td><td>2</td><td>90</td><td>0.0</td><td>0.0</td><td>1</td><td>0</td><td>0</td></tr><tr><th>22</th><td>2</td><td>3</td><td>90</td><td>-3.885</td><td>-7.083</td><td>0</td><td>1</td><td>0</td></tr><tr><th>23</th><td>2</td><td>4</td><td>90</td><td>-5.919</td><td>-5.732</td><td>0</td><td>0</td><td>0</td></tr><tr><th>24</th><td>2</td><td>5</td><td>90</td><td>-5.401</td><td>-6.113</td><td>0</td><td>1</td><td>0</td></tr><tr><th>25</th><td>2</td><td>6</td><td>90</td><td>-5.314</td><td>-4.788</td><td>0</td><td>0</td><td>1</td></tr><tr><th>26</th><td>2</td><td>7</td><td>90</td><td>-3.484</td><td>-2.866</td><td>0</td><td>1</td><td>0</td></tr><tr><th>27</th><td>2</td><td>8</td><td>90</td><td>-1.108</td><td>-0.258</td><td>1</td><td>0</td><td>0</td></tr><tr><th>28</th><td>2</td><td>9</td><td>90</td><td>-6.265</td><td>-6.428</td><td>0</td><td>0</td><td>1</td></tr><tr><th>29</th><td>2</td><td>10</td><td>90</td><td>-2.751</td><td>-1.721</td><td>0</td><td>1</td><td>0</td></tr><tr><th>30</th><td>2</td><td>11</td><td>90</td><td>-3.607</td><td>-1.935</td><td>0</td><td>0</td><td>0</td></tr><tr><th>&vellip;</th><td>&vellip;</td><td>&vellip;</td><td>&vellip;</td><td>&vellip;</td><td>&vellip;</td><td>&vellip;</td><td>&vellip;</td><td>&vellip;</td></tr></tbody></table></div>"
      ],
      "text/latex": [
       "\\begin{tabular}{r|ccccccccc}\n",
       "\t& import\\_country & export\\_country & unknown1 & trade & trade\\_prime & dist1 & dist2 & dist3 & \\\\\n",
       "\t\\hline\n",
       "\t& Int64 & Int64 & Int64 & Float64 & Float64 & Int64 & Int64 & Int64 & \\\\\n",
       "\t\\hline\n",
       "\t1 & 1 & 1 & 90 & 0.0 & 0.0 & 1 & 0 & 0 & $\\dots$ \\\\\n",
       "\t2 & 1 & 2 & 90 & -6.502 & -7.41 & 0 & 0 & 0 & $\\dots$ \\\\\n",
       "\t3 & 1 & 3 & 90 & -5.968 & -10.074 & 0 & 0 & 0 & $\\dots$ \\\\\n",
       "\t4 & 1 & 4 & 90 & -5.105 & -5.826 & 0 & 0 & 0 & $\\dots$ \\\\\n",
       "\t5 & 1 & 5 & 90 & -6.587 & -8.206 & 0 & 0 & 0 & $\\dots$ \\\\\n",
       "\t6 & 1 & 6 & 90 & -6.079 & -6.461 & 0 & 0 & 0 & $\\dots$ \\\\\n",
       "\t7 & 1 & 7 & 90 & -4.886 & -5.176 & 0 & 0 & 0 & $\\dots$ \\\\\n",
       "\t8 & 1 & 8 & 90 & -3.86 & -3.918 & 0 & 0 & 0 & $\\dots$ \\\\\n",
       "\t9 & 1 & 9 & 90 & -8.021 & -9.092 & 0 & 0 & 0 & $\\dots$ \\\\\n",
       "\t10 & 1 & 10 & 90 & -4.652 & -4.528 & 0 & 0 & 0 & $\\dots$ \\\\\n",
       "\t11 & 1 & 11 & 90 & -2.804 & -2.04 & 0 & 0 & 0 & $\\dots$ \\\\\n",
       "\t12 & 1 & 12 & 90 & -5.709 & -8.801 & 0 & 0 & 0 & $\\dots$ \\\\\n",
       "\t13 & 1 & 13 & 90 & -4.299 & -4.96 & 0 & 0 & 1 & $\\dots$ \\\\\n",
       "\t14 & 1 & 14 & 90 & -7.021 & -8.137 & 0 & 0 & 0 & $\\dots$ \\\\\n",
       "\t15 & 1 & 15 & 90 & -7.999 & -8.985 & 0 & 0 & 0 & $\\dots$ \\\\\n",
       "\t16 & 1 & 16 & 90 & -6.657 & -6.688 & 0 & 0 & 0 & $\\dots$ \\\\\n",
       "\t17 & 1 & 17 & 90 & -5.162 & -5.886 & 0 & 0 & 0 & $\\dots$ \\\\\n",
       "\t18 & 1 & 18 & 90 & -3.657 & -4.04 & 0 & 0 & 0 & $\\dots$ \\\\\n",
       "\t19 & 1 & 19 & 90 & -2.61 & -2.179 & 0 & 0 & 0 & $\\dots$ \\\\\n",
       "\t20 & 2 & 1 & 90 & -8.85 & -7.942 & 0 & 0 & 0 & $\\dots$ \\\\\n",
       "\t21 & 2 & 2 & 90 & 0.0 & 0.0 & 1 & 0 & 0 & $\\dots$ \\\\\n",
       "\t22 & 2 & 3 & 90 & -3.885 & -7.083 & 0 & 1 & 0 & $\\dots$ \\\\\n",
       "\t23 & 2 & 4 & 90 & -5.919 & -5.732 & 0 & 0 & 0 & $\\dots$ \\\\\n",
       "\t24 & 2 & 5 & 90 & -5.401 & -6.113 & 0 & 1 & 0 & $\\dots$ \\\\\n",
       "\t25 & 2 & 6 & 90 & -5.314 & -4.788 & 0 & 0 & 1 & $\\dots$ \\\\\n",
       "\t26 & 2 & 7 & 90 & -3.484 & -2.866 & 0 & 1 & 0 & $\\dots$ \\\\\n",
       "\t27 & 2 & 8 & 90 & -1.108 & -0.258 & 1 & 0 & 0 & $\\dots$ \\\\\n",
       "\t28 & 2 & 9 & 90 & -6.265 & -6.428 & 0 & 0 & 1 & $\\dots$ \\\\\n",
       "\t29 & 2 & 10 & 90 & -2.751 & -1.721 & 0 & 1 & 0 & $\\dots$ \\\\\n",
       "\t30 & 2 & 11 & 90 & -3.607 & -1.935 & 0 & 0 & 0 & $\\dots$ \\\\\n",
       "\t$\\dots$ & $\\dots$ & $\\dots$ & $\\dots$ & $\\dots$ & $\\dots$ & $\\dots$ & $\\dots$ & $\\dots$ &  \\\\\n",
       "\\end{tabular}\n"
      ],
      "text/plain": [
       "\u001b[1m361×22 DataFrame\u001b[0m\n",
       "\u001b[1m Row \u001b[0m│\u001b[1m import_country \u001b[0m\u001b[1m export_country \u001b[0m\u001b[1m unknown1 \u001b[0m\u001b[1m trade   \u001b[0m\u001b[1m trade_prime \u001b[0m\u001b[1m dist1 \u001b[0m\u001b[1m \u001b[0m ⋯\n",
       "\u001b[1m     \u001b[0m│\u001b[90m Int64          \u001b[0m\u001b[90m Int64          \u001b[0m\u001b[90m Int64    \u001b[0m\u001b[90m Float64 \u001b[0m\u001b[90m Float64     \u001b[0m\u001b[90m Int64 \u001b[0m\u001b[90m \u001b[0m ⋯\n",
       "─────┼──────────────────────────────────────────────────────────────────────────\n",
       "   1 │              1               1        90    0.0          0.0        1   ⋯\n",
       "   2 │              1               2        90   -6.502       -7.41       0\n",
       "   3 │              1               3        90   -5.968      -10.074      0\n",
       "   4 │              1               4        90   -5.105       -5.826      0\n",
       "   5 │              1               5        90   -6.587       -8.206      0   ⋯\n",
       "   6 │              1               6        90   -6.079       -6.461      0\n",
       "   7 │              1               7        90   -4.886       -5.176      0\n",
       "   8 │              1               8        90   -3.86        -3.918      0\n",
       "   9 │              1               9        90   -8.021       -9.092      0   ⋯\n",
       "  10 │              1              10        90   -4.652       -4.528      0\n",
       "  11 │              1              11        90   -2.804       -2.04       0\n",
       "  ⋮  │       ⋮               ⋮            ⋮         ⋮          ⋮         ⋮     ⋱\n",
       " 352 │             19              10        90   -5.36        -5.667      0\n",
       " 353 │             19              11        90   -3.388       -3.054      0   ⋯\n",
       " 354 │             19              12        90   -6.416       -9.938      0\n",
       " 355 │             19              13        90   -7.79        -8.882      0\n",
       " 356 │             19              14        90   -7.341       -8.887      0\n",
       " 357 │             19              15        90   -8.209       -9.624      0   ⋯\n",
       " 358 │             19              16        90   -6.787       -7.248      0\n",
       " 359 │             19              17        90   -6.294       -7.448      0\n",
       " 360 │             19              18        90   -4.783       -5.596      0\n",
       " 361 │             19              19        90    0.0          0.0        1   ⋯\n",
       "\u001b[36m                                                 16 columns and 340 rows omitted\u001b[0m"
      ]
     },
     "execution_count": 4,
     "metadata": {},
     "output_type": "execute_result"
    }
   ],
   "source": [
    "regression_data =  CSV.read(\"../data/regression_data.csv\", DataFrame)"
   ]
  },
  {
   "cell_type": "code",
   "execution_count": 5,
   "metadata": {},
   "outputs": [
    {
     "data": {
      "text/html": [
       "<div class=\"data-frame\"><p>19 rows × 51 columns (omitted printing of 43 columns)</p><table class=\"data-frame\"><thead><tr><th></th><th>country</th><th>good1</th><th>good2</th><th>good3</th><th>good4</th><th>good5</th><th>good6</th><th>good7</th></tr><tr><th></th><th title=\"Int64\">Int64</th><th title=\"Float64\">Float64</th><th title=\"Float64\">Float64</th><th title=\"Float64\">Float64</th><th title=\"Float64\">Float64</th><th title=\"Float64\">Float64</th><th title=\"Float64\">Float64</th><th title=\"Float64\">Float64</th></tr></thead><tbody><tr><th>1</th><td>1</td><td>0.161989</td><td>-0.315302</td><td>0.45165</td><td>0.646735</td><td>0.0922889</td><td>0.43822</td><td>0.118827</td></tr><tr><th>2</th><td>2</td><td>0.567858</td><td>0.0408838</td><td>0.626906</td><td>0.778685</td><td>0.0420848</td><td>0.450719</td><td>0.321531</td></tr><tr><th>3</th><td>3</td><td>0.515134</td><td>-0.100861</td><td>0.40755</td><td>0.674117</td><td>-0.0962559</td><td>0.739956</td><td>0.10123</td></tr><tr><th>4</th><td>4</td><td>0.417219</td><td>0.248158</td><td>0.249496</td><td>0.192377</td><td>0.0494942</td><td>0.510573</td><td>0.283041</td></tr><tr><th>5</th><td>5</td><td>0.649159</td><td>-0.0202231</td><td>0.627496</td><td>0.632754</td><td>0.2776</td><td>1.18786</td><td>0.743538</td></tr><tr><th>6</th><td>6</td><td>0.796529</td><td>0.152668</td><td>0.754082</td><td>0.923049</td><td>0.154586</td><td>1.15172</td><td>0.723222</td></tr><tr><th>7</th><td>7</td><td>0.578505</td><td>-0.000171362</td><td>0.527799</td><td>0.751085</td><td>-0.0246781</td><td>0.307837</td><td>0.208937</td></tr><tr><th>8</th><td>8</td><td>0.255417</td><td>-0.149133</td><td>0.291817</td><td>0.590581</td><td>-0.224614</td><td>0.615473</td><td>0.131839</td></tr><tr><th>9</th><td>9</td><td>0.466734</td><td>0.221986</td><td>0.502458</td><td>0.98048</td><td>0.034479</td><td>0.490448</td><td>-0.220059</td></tr><tr><th>10</th><td>10</td><td>0.165575</td><td>-0.157801</td><td>0.453423</td><td>0.76783</td><td>-0.104945</td><td>0.423525</td><td>0.0447079</td></tr><tr><th>11</th><td>11</td><td>0.815621</td><td>-0.133038</td><td>0.44498</td><td>0.872298</td><td>1.06608</td><td>1.10641</td><td>0.495021</td></tr><tr><th>12</th><td>12</td><td>0.303741</td><td>-0.224243</td><td>0.344348</td><td>0.530409</td><td>-0.199185</td><td>0.855542</td><td>0.192651</td></tr><tr><th>13</th><td>13</td><td>0.463483</td><td>0.475348</td><td>0.465346</td><td>0.700186</td><td>0.0957166</td><td>0.125966</td><td>0.027147</td></tr><tr><th>14</th><td>14</td><td>0.558934</td><td>0.0588994</td><td>0.461902</td><td>0.840058</td><td>0.16931</td><td>1.26926</td><td>0.770464</td></tr><tr><th>15</th><td>15</td><td>0.189202</td><td>-0.12761</td><td>0.55011</td><td>0.504027</td><td>-0.275983</td><td>-0.667404</td><td>-0.209116</td></tr><tr><th>16</th><td>16</td><td>0.612557</td><td>0.131778</td><td>0.577051</td><td>0.808437</td><td>-2.66667e-6</td><td>0.0348313</td><td>0.255449</td></tr><tr><th>17</th><td>17</td><td>0.514233</td><td>-0.0543084</td><td>0.578796</td><td>0.824388</td><td>-0.0725777</td><td>1.37414</td><td>0.661005</td></tr><tr><th>18</th><td>18</td><td>0.2017</td><td>-0.411296</td><td>0.459593</td><td>0.501333</td><td>-0.398326</td><td>0.447498</td><td>0.260742</td></tr><tr><th>19</th><td>19</td><td>0.0</td><td>0.0</td><td>0.0</td><td>0.0</td><td>0.0</td><td>0.0</td><td>0.0</td></tr></tbody></table></div>"
      ],
      "text/latex": [
       "\\begin{tabular}{r|ccccccccc}\n",
       "\t& country & good1 & good2 & good3 & good4 & good5 & good6 & good7 & \\\\\n",
       "\t\\hline\n",
       "\t& Int64 & Float64 & Float64 & Float64 & Float64 & Float64 & Float64 & Float64 & \\\\\n",
       "\t\\hline\n",
       "\t1 & 1 & 0.161989 & -0.315302 & 0.45165 & 0.646735 & 0.0922889 & 0.43822 & 0.118827 & $\\dots$ \\\\\n",
       "\t2 & 2 & 0.567858 & 0.0408838 & 0.626906 & 0.778685 & 0.0420848 & 0.450719 & 0.321531 & $\\dots$ \\\\\n",
       "\t3 & 3 & 0.515134 & -0.100861 & 0.40755 & 0.674117 & -0.0962559 & 0.739956 & 0.10123 & $\\dots$ \\\\\n",
       "\t4 & 4 & 0.417219 & 0.248158 & 0.249496 & 0.192377 & 0.0494942 & 0.510573 & 0.283041 & $\\dots$ \\\\\n",
       "\t5 & 5 & 0.649159 & -0.0202231 & 0.627496 & 0.632754 & 0.2776 & 1.18786 & 0.743538 & $\\dots$ \\\\\n",
       "\t6 & 6 & 0.796529 & 0.152668 & 0.754082 & 0.923049 & 0.154586 & 1.15172 & 0.723222 & $\\dots$ \\\\\n",
       "\t7 & 7 & 0.578505 & -0.000171362 & 0.527799 & 0.751085 & -0.0246781 & 0.307837 & 0.208937 & $\\dots$ \\\\\n",
       "\t8 & 8 & 0.255417 & -0.149133 & 0.291817 & 0.590581 & -0.224614 & 0.615473 & 0.131839 & $\\dots$ \\\\\n",
       "\t9 & 9 & 0.466734 & 0.221986 & 0.502458 & 0.98048 & 0.034479 & 0.490448 & -0.220059 & $\\dots$ \\\\\n",
       "\t10 & 10 & 0.165575 & -0.157801 & 0.453423 & 0.76783 & -0.104945 & 0.423525 & 0.0447079 & $\\dots$ \\\\\n",
       "\t11 & 11 & 0.815621 & -0.133038 & 0.44498 & 0.872298 & 1.06608 & 1.10641 & 0.495021 & $\\dots$ \\\\\n",
       "\t12 & 12 & 0.303741 & -0.224243 & 0.344348 & 0.530409 & -0.199185 & 0.855542 & 0.192651 & $\\dots$ \\\\\n",
       "\t13 & 13 & 0.463483 & 0.475348 & 0.465346 & 0.700186 & 0.0957166 & 0.125966 & 0.027147 & $\\dots$ \\\\\n",
       "\t14 & 14 & 0.558934 & 0.0588994 & 0.461902 & 0.840058 & 0.16931 & 1.26926 & 0.770464 & $\\dots$ \\\\\n",
       "\t15 & 15 & 0.189202 & -0.12761 & 0.55011 & 0.504027 & -0.275983 & -0.667404 & -0.209116 & $\\dots$ \\\\\n",
       "\t16 & 16 & 0.612557 & 0.131778 & 0.577051 & 0.808437 & -2.66667e-6 & 0.0348313 & 0.255449 & $\\dots$ \\\\\n",
       "\t17 & 17 & 0.514233 & -0.0543084 & 0.578796 & 0.824388 & -0.0725777 & 1.37414 & 0.661005 & $\\dots$ \\\\\n",
       "\t18 & 18 & 0.2017 & -0.411296 & 0.459593 & 0.501333 & -0.398326 & 0.447498 & 0.260742 & $\\dots$ \\\\\n",
       "\t19 & 19 & 0.0 & 0.0 & 0.0 & 0.0 & 0.0 & 0.0 & 0.0 & $\\dots$ \\\\\n",
       "\\end{tabular}\n"
      ],
      "text/plain": [
       "\u001b[1m19×51 DataFrame\u001b[0m\n",
       "\u001b[1m Row \u001b[0m│\u001b[1m country \u001b[0m\u001b[1m good1    \u001b[0m\u001b[1m good2        \u001b[0m\u001b[1m good3    \u001b[0m\u001b[1m good4    \u001b[0m\u001b[1m good5       \u001b[0m\u001b[1m good6\u001b[0m ⋯\n",
       "\u001b[1m     \u001b[0m│\u001b[90m Int64   \u001b[0m\u001b[90m Float64  \u001b[0m\u001b[90m Float64      \u001b[0m\u001b[90m Float64  \u001b[0m\u001b[90m Float64  \u001b[0m\u001b[90m Float64     \u001b[0m\u001b[90m Float\u001b[0m ⋯\n",
       "─────┼──────────────────────────────────────────────────────────────────────────\n",
       "   1 │       1  0.161989  -0.315302     0.45165   0.646735   0.0922889    0.43 ⋯\n",
       "   2 │       2  0.567858   0.0408838    0.626906  0.778685   0.0420848    0.45\n",
       "   3 │       3  0.515134  -0.100861     0.40755   0.674117  -0.0962559    0.73\n",
       "   4 │       4  0.417219   0.248158     0.249496  0.192377   0.0494942    0.51\n",
       "   5 │       5  0.649159  -0.0202231    0.627496  0.632754   0.2776       1.18 ⋯\n",
       "   6 │       6  0.796529   0.152668     0.754082  0.923049   0.154586     1.15\n",
       "   7 │       7  0.578505  -0.000171362  0.527799  0.751085  -0.0246781    0.30\n",
       "   8 │       8  0.255417  -0.149133     0.291817  0.590581  -0.224614     0.61\n",
       "   9 │       9  0.466734   0.221986     0.502458  0.98048    0.034479     0.49 ⋯\n",
       "  10 │      10  0.165575  -0.157801     0.453423  0.76783   -0.104945     0.42\n",
       "  11 │      11  0.815621  -0.133038     0.44498   0.872298   1.06608      1.10\n",
       "  12 │      12  0.303741  -0.224243     0.344348  0.530409  -0.199185     0.85\n",
       "  13 │      13  0.463483   0.475348     0.465346  0.700186   0.0957166    0.12 ⋯\n",
       "  14 │      14  0.558934   0.0588994    0.461902  0.840058   0.16931      1.26\n",
       "  15 │      15  0.189202  -0.12761      0.55011   0.504027  -0.275983    -0.66\n",
       "  16 │      16  0.612557   0.131778     0.577051  0.808437  -2.66667e-6   0.03\n",
       "  17 │      17  0.514233  -0.0543084    0.578796  0.824388  -0.0725777    1.37 ⋯\n",
       "  18 │      18  0.2017    -0.411296     0.459593  0.501333  -0.398326     0.44\n",
       "  19 │      19  0.0        0.0          0.0       0.0        0.0          0.0\n",
       "\u001b[36m                                                              45 columns omitted\u001b[0m"
      ]
     },
     "execution_count": 5,
     "metadata": {},
     "output_type": "execute_result"
    }
   ],
   "source": [
    "price_table = CSV.read(\"../data/price.csv\", DataFrame)"
   ]
  },
  {
   "cell_type": "markdown",
   "metadata": {},
   "source": [
    "### Data Transforming"
   ]
  },
  {
   "cell_type": "markdown",
   "metadata": {},
   "source": [
    "#### scalar.json"
   ]
  },
  {
   "cell_type": "code",
   "execution_count": 60,
   "metadata": {},
   "outputs": [
    {
     "data": {
      "text/plain": [
       "19"
      ]
     },
     "execution_count": 60,
     "metadata": {},
     "output_type": "execute_result"
    }
   ],
   "source": [
    "N = scalars[\"N\"]"
   ]
  },
  {
   "cell_type": "code",
   "execution_count": 7,
   "metadata": {},
   "outputs": [
    {
     "data": {
      "text/plain": [
       "0.21221"
      ]
     },
     "execution_count": 7,
     "metadata": {},
     "output_type": "execute_result"
    }
   ],
   "source": [
    "β = scalars[\"beta\"]"
   ]
  },
  {
   "cell_type": "code",
   "execution_count": 68,
   "metadata": {},
   "outputs": [
    {
     "data": {
      "text/plain": [
       "3-element Vector{Any}:\n",
       "  3.6\n",
       "  8.28\n",
       " 12.86"
      ]
     },
     "execution_count": 68,
     "metadata": {},
     "output_type": "execute_result"
    }
   ],
   "source": [
    "θs = scalars[\"theta\"] # 三种方法估计出的 θ 值"
   ]
  },
  {
   "cell_type": "markdown",
   "metadata": {},
   "source": [
    "#### regression_data.csv"
   ]
  },
  {
   "cell_type": "markdown",
   "metadata": {},
   "source": [
    "##### destination(n) and source(i) index"
   ]
  },
  {
   "cell_type": "code",
   "execution_count": 74,
   "metadata": {},
   "outputs": [
    {
     "data": {
      "text/plain": [
       "361-element Vector{Int64}:\n",
       "  1\n",
       "  2\n",
       "  3\n",
       "  4\n",
       "  5\n",
       "  6\n",
       "  7\n",
       "  8\n",
       "  9\n",
       " 10\n",
       " 11\n",
       " 12\n",
       " 13\n",
       "  ⋮\n",
       "  8\n",
       "  9\n",
       " 10\n",
       " 11\n",
       " 12\n",
       " 13\n",
       " 14\n",
       " 15\n",
       " 16\n",
       " 17\n",
       " 18\n",
       " 19"
      ]
     },
     "execution_count": 74,
     "metadata": {},
     "output_type": "execute_result"
    }
   ],
   "source": [
    "n_index = regression_data.import_country # kron(1:N, ones(Int, N))\n",
    "i_index = regression_data.export_country # kron(ones(Int, N), 1:N)"
   ]
  },
  {
   "cell_type": "markdown",
   "metadata": {},
   "source": [
    "##### 双边贸易数据"
   ]
  },
  {
   "cell_type": "code",
   "execution_count": 70,
   "metadata": {},
   "outputs": [
    {
     "data": {
      "text/plain": [
       "361-element Vector{Float64}:\n",
       "  0.0\n",
       " -6.257408573350766\n",
       " -4.861951103720535\n",
       " -4.91078147729725\n",
       " -6.150883788826971\n",
       " -5.976099201563868\n",
       " -4.807881592810267\n",
       " -3.844376318562053\n",
       " -7.732500641033779\n",
       " -4.685402353419058\n",
       " -3.0098015968722627\n",
       " -4.876096155066705\n",
       " -4.120943906370988\n",
       "  ⋮\n",
       " -4.397545576866931\n",
       " -8.439669899338655\n",
       " -5.277302237906041\n",
       " -3.477970855177141\n",
       " -5.467265413371584\n",
       " -7.49584379085797\n",
       " -6.924548077533353\n",
       " -7.82783604767768\n",
       " -6.662818669950114\n",
       " -5.98314261414844\n",
       " -4.563999086050852\n",
       "  0.0"
      ]
     },
     "execution_count": 70,
     "metadata": {},
     "output_type": "execute_result"
    }
   ],
   "source": [
    "# 对数标准化的制造业双边贸易数据 ln(Xni/Xnn)\n",
    "normalized_trade = regression_data.trade\n",
    "\n",
    "# ln(X'ni/X'nn), (26)式等号的左边\n",
    "normalized_trade_prime = regression_data.trade_prime\n",
    "\n",
    "# 由 ln(X'ni) 的定义计算 (12) 式的左边 ln (Xni/Xn)/(Xii/Xi)\n",
    "# 可将其视为 country n's normalized import share from country i\n",
    "normalized_trade_share = -(normalized_trade_prime .- normalized_trade) .* β ./ (1 - β) .+ normalized_trade"
   ]
  },
  {
   "cell_type": "markdown",
   "metadata": {},
   "source": [
    "##### 地理虚拟变量"
   ]
  },
  {
   "cell_type": "code",
   "execution_count": 71,
   "metadata": {},
   "outputs": [
    {
     "data": {
      "text/html": [
       "<div class=\"data-frame\"><p>361 rows × 9 columns</p><table class=\"data-frame\"><thead><tr><th></th><th>dist2</th><th>dist3</th><th>dist4</th><th>dist5</th><th>dist6</th><th>border</th><th>common_language</th><th>both_in_EU</th><th>both_in_EFTA</th></tr><tr><th></th><th title=\"Int64\">Int64</th><th title=\"Int64\">Int64</th><th title=\"Int64\">Int64</th><th title=\"Int64\">Int64</th><th title=\"Int64\">Int64</th><th title=\"Int64\">Int64</th><th title=\"Int64\">Int64</th><th title=\"Int64\">Int64</th><th title=\"Int64\">Int64</th></tr></thead><tbody><tr><th>1</th><td>0</td><td>0</td><td>0</td><td>0</td><td>0</td><td>0</td><td>1</td><td>0</td><td>0</td></tr><tr><th>2</th><td>0</td><td>0</td><td>0</td><td>0</td><td>1</td><td>0</td><td>0</td><td>0</td><td>0</td></tr><tr><th>3</th><td>0</td><td>0</td><td>0</td><td>0</td><td>1</td><td>0</td><td>0</td><td>0</td><td>0</td></tr><tr><th>4</th><td>0</td><td>0</td><td>0</td><td>0</td><td>1</td><td>0</td><td>1</td><td>0</td><td>0</td></tr><tr><th>5</th><td>0</td><td>0</td><td>0</td><td>0</td><td>1</td><td>0</td><td>0</td><td>0</td><td>0</td></tr><tr><th>6</th><td>0</td><td>0</td><td>0</td><td>0</td><td>1</td><td>0</td><td>0</td><td>0</td><td>0</td></tr><tr><th>7</th><td>0</td><td>0</td><td>0</td><td>0</td><td>1</td><td>0</td><td>0</td><td>0</td><td>0</td></tr><tr><th>8</th><td>0</td><td>0</td><td>0</td><td>0</td><td>1</td><td>0</td><td>0</td><td>0</td><td>0</td></tr><tr><th>9</th><td>0</td><td>0</td><td>0</td><td>0</td><td>1</td><td>0</td><td>0</td><td>0</td><td>0</td></tr><tr><th>10</th><td>0</td><td>0</td><td>0</td><td>0</td><td>1</td><td>0</td><td>0</td><td>0</td><td>0</td></tr><tr><th>11</th><td>0</td><td>0</td><td>0</td><td>1</td><td>0</td><td>0</td><td>0</td><td>0</td><td>0</td></tr><tr><th>12</th><td>0</td><td>0</td><td>0</td><td>0</td><td>1</td><td>0</td><td>0</td><td>0</td><td>0</td></tr><tr><th>13</th><td>0</td><td>1</td><td>0</td><td>0</td><td>0</td><td>0</td><td>1</td><td>0</td><td>0</td></tr><tr><th>14</th><td>0</td><td>0</td><td>0</td><td>0</td><td>1</td><td>0</td><td>0</td><td>0</td><td>0</td></tr><tr><th>15</th><td>0</td><td>0</td><td>0</td><td>0</td><td>1</td><td>0</td><td>0</td><td>0</td><td>0</td></tr><tr><th>16</th><td>0</td><td>0</td><td>0</td><td>0</td><td>1</td><td>0</td><td>0</td><td>0</td><td>0</td></tr><tr><th>17</th><td>0</td><td>0</td><td>0</td><td>0</td><td>1</td><td>0</td><td>0</td><td>0</td><td>0</td></tr><tr><th>18</th><td>0</td><td>0</td><td>0</td><td>0</td><td>1</td><td>0</td><td>1</td><td>0</td><td>0</td></tr><tr><th>19</th><td>0</td><td>0</td><td>0</td><td>0</td><td>1</td><td>0</td><td>1</td><td>0</td><td>0</td></tr><tr><th>20</th><td>0</td><td>0</td><td>0</td><td>0</td><td>1</td><td>0</td><td>0</td><td>0</td><td>0</td></tr><tr><th>21</th><td>0</td><td>0</td><td>0</td><td>0</td><td>0</td><td>0</td><td>1</td><td>0</td><td>1</td></tr><tr><th>22</th><td>1</td><td>0</td><td>0</td><td>0</td><td>0</td><td>0</td><td>0</td><td>0</td><td>0</td></tr><tr><th>23</th><td>0</td><td>0</td><td>0</td><td>1</td><td>0</td><td>0</td><td>0</td><td>0</td><td>0</td></tr><tr><th>24</th><td>1</td><td>0</td><td>0</td><td>0</td><td>0</td><td>0</td><td>0</td><td>0</td><td>0</td></tr><tr><th>25</th><td>0</td><td>1</td><td>0</td><td>0</td><td>0</td><td>0</td><td>0</td><td>0</td><td>1</td></tr><tr><th>26</th><td>1</td><td>0</td><td>0</td><td>0</td><td>0</td><td>0</td><td>0</td><td>0</td><td>0</td></tr><tr><th>27</th><td>0</td><td>0</td><td>0</td><td>0</td><td>0</td><td>1</td><td>1</td><td>0</td><td>0</td></tr><tr><th>28</th><td>0</td><td>1</td><td>0</td><td>0</td><td>0</td><td>0</td><td>0</td><td>0</td><td>0</td></tr><tr><th>29</th><td>1</td><td>0</td><td>0</td><td>0</td><td>0</td><td>1</td><td>0</td><td>0</td><td>0</td></tr><tr><th>30</th><td>0</td><td>0</td><td>0</td><td>1</td><td>0</td><td>0</td><td>0</td><td>0</td><td>0</td></tr><tr><th>&vellip;</th><td>&vellip;</td><td>&vellip;</td><td>&vellip;</td><td>&vellip;</td><td>&vellip;</td><td>&vellip;</td><td>&vellip;</td><td>&vellip;</td><td>&vellip;</td></tr></tbody></table></div>"
      ],
      "text/latex": [
       "\\begin{tabular}{r|ccccccccc}\n",
       "\t& dist2 & dist3 & dist4 & dist5 & dist6 & border & common\\_language & both\\_in\\_EU & both\\_in\\_EFTA\\\\\n",
       "\t\\hline\n",
       "\t& Int64 & Int64 & Int64 & Int64 & Int64 & Int64 & Int64 & Int64 & Int64\\\\\n",
       "\t\\hline\n",
       "\t1 & 0 & 0 & 0 & 0 & 0 & 0 & 1 & 0 & 0 \\\\\n",
       "\t2 & 0 & 0 & 0 & 0 & 1 & 0 & 0 & 0 & 0 \\\\\n",
       "\t3 & 0 & 0 & 0 & 0 & 1 & 0 & 0 & 0 & 0 \\\\\n",
       "\t4 & 0 & 0 & 0 & 0 & 1 & 0 & 1 & 0 & 0 \\\\\n",
       "\t5 & 0 & 0 & 0 & 0 & 1 & 0 & 0 & 0 & 0 \\\\\n",
       "\t6 & 0 & 0 & 0 & 0 & 1 & 0 & 0 & 0 & 0 \\\\\n",
       "\t7 & 0 & 0 & 0 & 0 & 1 & 0 & 0 & 0 & 0 \\\\\n",
       "\t8 & 0 & 0 & 0 & 0 & 1 & 0 & 0 & 0 & 0 \\\\\n",
       "\t9 & 0 & 0 & 0 & 0 & 1 & 0 & 0 & 0 & 0 \\\\\n",
       "\t10 & 0 & 0 & 0 & 0 & 1 & 0 & 0 & 0 & 0 \\\\\n",
       "\t11 & 0 & 0 & 0 & 1 & 0 & 0 & 0 & 0 & 0 \\\\\n",
       "\t12 & 0 & 0 & 0 & 0 & 1 & 0 & 0 & 0 & 0 \\\\\n",
       "\t13 & 0 & 1 & 0 & 0 & 0 & 0 & 1 & 0 & 0 \\\\\n",
       "\t14 & 0 & 0 & 0 & 0 & 1 & 0 & 0 & 0 & 0 \\\\\n",
       "\t15 & 0 & 0 & 0 & 0 & 1 & 0 & 0 & 0 & 0 \\\\\n",
       "\t16 & 0 & 0 & 0 & 0 & 1 & 0 & 0 & 0 & 0 \\\\\n",
       "\t17 & 0 & 0 & 0 & 0 & 1 & 0 & 0 & 0 & 0 \\\\\n",
       "\t18 & 0 & 0 & 0 & 0 & 1 & 0 & 1 & 0 & 0 \\\\\n",
       "\t19 & 0 & 0 & 0 & 0 & 1 & 0 & 1 & 0 & 0 \\\\\n",
       "\t20 & 0 & 0 & 0 & 0 & 1 & 0 & 0 & 0 & 0 \\\\\n",
       "\t21 & 0 & 0 & 0 & 0 & 0 & 0 & 1 & 0 & 1 \\\\\n",
       "\t22 & 1 & 0 & 0 & 0 & 0 & 0 & 0 & 0 & 0 \\\\\n",
       "\t23 & 0 & 0 & 0 & 1 & 0 & 0 & 0 & 0 & 0 \\\\\n",
       "\t24 & 1 & 0 & 0 & 0 & 0 & 0 & 0 & 0 & 0 \\\\\n",
       "\t25 & 0 & 1 & 0 & 0 & 0 & 0 & 0 & 0 & 1 \\\\\n",
       "\t26 & 1 & 0 & 0 & 0 & 0 & 0 & 0 & 0 & 0 \\\\\n",
       "\t27 & 0 & 0 & 0 & 0 & 0 & 1 & 1 & 0 & 0 \\\\\n",
       "\t28 & 0 & 1 & 0 & 0 & 0 & 0 & 0 & 0 & 0 \\\\\n",
       "\t29 & 1 & 0 & 0 & 0 & 0 & 1 & 0 & 0 & 0 \\\\\n",
       "\t30 & 0 & 0 & 0 & 1 & 0 & 0 & 0 & 0 & 0 \\\\\n",
       "\t$\\dots$ & $\\dots$ & $\\dots$ & $\\dots$ & $\\dots$ & $\\dots$ & $\\dots$ & $\\dots$ & $\\dots$ & $\\dots$ \\\\\n",
       "\\end{tabular}\n"
      ],
      "text/plain": [
       "\u001b[1m361×9 DataFrame\u001b[0m\n",
       "\u001b[1m Row \u001b[0m│\u001b[1m dist2 \u001b[0m\u001b[1m dist3 \u001b[0m\u001b[1m dist4 \u001b[0m\u001b[1m dist5 \u001b[0m\u001b[1m dist6 \u001b[0m\u001b[1m border \u001b[0m\u001b[1m common_language \u001b[0m\u001b[1m both_in_EU \u001b[0m\u001b[1m\u001b[0m ⋯\n",
       "\u001b[1m     \u001b[0m│\u001b[90m Int64 \u001b[0m\u001b[90m Int64 \u001b[0m\u001b[90m Int64 \u001b[0m\u001b[90m Int64 \u001b[0m\u001b[90m Int64 \u001b[0m\u001b[90m Int64  \u001b[0m\u001b[90m Int64           \u001b[0m\u001b[90m Int64      \u001b[0m\u001b[90m\u001b[0m ⋯\n",
       "─────┼──────────────────────────────────────────────────────────────────────────\n",
       "   1 │     0      0      0      0      0       0                1           0  ⋯\n",
       "   2 │     0      0      0      0      1       0                0           0\n",
       "   3 │     0      0      0      0      1       0                0           0\n",
       "   4 │     0      0      0      0      1       0                1           0\n",
       "   5 │     0      0      0      0      1       0                0           0  ⋯\n",
       "   6 │     0      0      0      0      1       0                0           0\n",
       "   7 │     0      0      0      0      1       0                0           0\n",
       "   8 │     0      0      0      0      1       0                0           0\n",
       "   9 │     0      0      0      0      1       0                0           0  ⋯\n",
       "  10 │     0      0      0      0      1       0                0           0\n",
       "  11 │     0      0      0      1      0       0                0           0\n",
       "  ⋮  │   ⋮      ⋮      ⋮      ⋮      ⋮      ⋮            ⋮             ⋮       ⋱\n",
       " 352 │     0      0      0      1      0       0                0           0\n",
       " 353 │     0      0      0      0      1       0                0           0  ⋯\n",
       " 354 │     0      0      0      1      0       0                0           0\n",
       " 355 │     0      0      0      0      1       0                1           0\n",
       " 356 │     0      0      0      1      0       0                0           0\n",
       " 357 │     0      0      0      1      0       0                0           0  ⋯\n",
       " 358 │     0      0      0      1      0       0                0           0\n",
       " 359 │     0      0      0      1      0       0                0           0\n",
       " 360 │     0      0      0      1      0       0                1           0\n",
       " 361 │     0      0      0      0      0       0                1           0  ⋯\n",
       "\u001b[36m                                                   1 column and 340 rows omitted\u001b[0m"
      ]
     },
     "execution_count": 71,
     "metadata": {},
     "output_type": "execute_result"
    }
   ],
   "source": [
    "# 六档距离，说明见P21\n",
    "dist = regression_data[!, 6:11] # 仍为 DataFrame\n",
    "\n",
    "# 是否 share border/language\n",
    "border = select(regression_data, :border)\n",
    "language = select(regression_data, :common_language)\n",
    "\n",
    "# 是否在同一个 RTA 中（欧共体EEC是EU的前身，EFTA是欧自联）\n",
    "RTA = select(regression_data, :both_in_EU, :both_in_EFTA)\n",
    "\n",
    "# 横向合并 distance, border, language, RTA 等虚拟变量\n",
    "# 注意，六档距离只需要 5 个 dummy variable\n",
    "geography_dummy = hcat(select(dist, Not(:dist1)), border, language, RTA)"
   ]
  },
  {
   "cell_type": "markdown",
   "metadata": {},
   "source": [
    "##### 对数标准化的国家特征变量"
   ]
  },
  {
   "cell_type": "code",
   "execution_count": 76,
   "metadata": {},
   "outputs": [
    {
     "data": {
      "text/plain": [
       "361-element Vector{Float64}:\n",
       "  0.0\n",
       "  0.136\n",
       "  0.406\n",
       "  0.359\n",
       "  0.272\n",
       "  0.511\n",
       "  0.41\n",
       "  0.459\n",
       " -0.424\n",
       "  0.19\n",
       "  0.24\n",
       "  0.396\n",
       " -0.245\n",
       "  ⋮\n",
       " -0.032\n",
       " -0.915\n",
       " -0.301\n",
       " -0.251\n",
       " -0.096\n",
       " -0.736\n",
       " -0.008\n",
       " -1.482\n",
       " -0.574\n",
       " -0.045\n",
       " -0.311\n",
       "  0.0"
      ]
     },
     "execution_count": 76,
     "metadata": {},
     "output_type": "execute_result"
    }
   ],
   "source": [
    "# 以下 5 个变量的数值都是对数标准化的，即 ln(var_i/var_n)\n",
    "# 分别是(1)R&D 支出, (2)以平均受教育年限来衡量的 human capital\n",
    "# (3)人口密度, (4)制造业劳动力数量, (5)工资（均以美元计）\n",
    "r_and_d = regression_data.r_and_d\n",
    "human_capital = regression_data.human_capital\n",
    "density = regression_data.density\n",
    "labor = regression_data.labor\n",
    "wage = regression_data.wage"
   ]
  },
  {
   "cell_type": "code",
   "execution_count": 77,
   "metadata": {},
   "outputs": [
    {
     "data": {
      "text/plain": [
       "361-element Vector{Float64}:\n",
       " -Inf\n",
       "   2.291625252757704\n",
       "   2.3407475540883946\n",
       "   2.303484688236882\n",
       "   2.2993799620450974\n",
       "   2.246332151443247\n",
       "   2.352992995537891\n",
       "   2.301284247260998\n",
       "   2.2460147415056513\n",
       "   2.309858576960544\n",
       "   1.5941212083222072\n",
       "   2.335439429864993\n",
       "   0.3667242797917339\n",
       "   ⋮\n",
       "   1.4847813078345447\n",
       "   1.6948813942515677\n",
       "   1.5750534855722698\n",
       "   1.8427693901358\n",
       "   1.4156104154539437\n",
       "   2.1219021928685997\n",
       "   1.3987168811184478\n",
       "   1.3877932372436266\n",
       "   1.4329393689429344\n",
       "   1.4551205520497432\n",
       "   1.3764965186397795\n",
       " -Inf"
      ]
     },
     "execution_count": 77,
     "metadata": {},
     "output_type": "execute_result"
    }
   ],
   "source": [
    "# 国家首都之间的对数距离\n",
    "ln_distance = regression_data.distance .|> log"
   ]
  },
  {
   "cell_type": "markdown",
   "metadata": {},
   "source": [
    "##### 国家虚拟变量"
   ]
  },
  {
   "cell_type": "code",
   "execution_count": 78,
   "metadata": {},
   "outputs": [
    {
     "data": {
      "text/plain": [
       "361×19 Matrix{Int64}:\n",
       " 1  0  0  0  0  0  0  0  0  0  0  0  0  0  0  0  0  0  0\n",
       " 0  1  0  0  0  0  0  0  0  0  0  0  0  0  0  0  0  0  0\n",
       " 0  0  1  0  0  0  0  0  0  0  0  0  0  0  0  0  0  0  0\n",
       " 0  0  0  1  0  0  0  0  0  0  0  0  0  0  0  0  0  0  0\n",
       " 0  0  0  0  1  0  0  0  0  0  0  0  0  0  0  0  0  0  0\n",
       " 0  0  0  0  0  1  0  0  0  0  0  0  0  0  0  0  0  0  0\n",
       " 0  0  0  0  0  0  1  0  0  0  0  0  0  0  0  0  0  0  0\n",
       " 0  0  0  0  0  0  0  1  0  0  0  0  0  0  0  0  0  0  0\n",
       " 0  0  0  0  0  0  0  0  1  0  0  0  0  0  0  0  0  0  0\n",
       " 0  0  0  0  0  0  0  0  0  1  0  0  0  0  0  0  0  0  0\n",
       " 0  0  0  0  0  0  0  0  0  0  1  0  0  0  0  0  0  0  0\n",
       " 0  0  0  0  0  0  0  0  0  0  0  1  0  0  0  0  0  0  0\n",
       " 0  0  0  0  0  0  0  0  0  0  0  0  1  0  0  0  0  0  0\n",
       " ⋮              ⋮              ⋮              ⋮        \n",
       " 0  0  0  0  0  0  0  1  0  0  0  0  0  0  0  0  0  0  0\n",
       " 0  0  0  0  0  0  0  0  1  0  0  0  0  0  0  0  0  0  0\n",
       " 0  0  0  0  0  0  0  0  0  1  0  0  0  0  0  0  0  0  0\n",
       " 0  0  0  0  0  0  0  0  0  0  1  0  0  0  0  0  0  0  0\n",
       " 0  0  0  0  0  0  0  0  0  0  0  1  0  0  0  0  0  0  0\n",
       " 0  0  0  0  0  0  0  0  0  0  0  0  1  0  0  0  0  0  0\n",
       " 0  0  0  0  0  0  0  0  0  0  0  0  0  1  0  0  0  0  0\n",
       " 0  0  0  0  0  0  0  0  0  0  0  0  0  0  1  0  0  0  0\n",
       " 0  0  0  0  0  0  0  0  0  0  0  0  0  0  0  1  0  0  0\n",
       " 0  0  0  0  0  0  0  0  0  0  0  0  0  0  0  0  1  0  0\n",
       " 0  0  0  0  0  0  0  0  0  0  0  0  0  0  0  0  0  1  0\n",
       " 0  0  0  0  0  0  0  0  0  0  0  0  0  0  0  0  0  0  1"
      ]
     },
     "execution_count": 78,
     "metadata": {},
     "output_type": "execute_result"
    }
   ],
   "source": [
    "\"\"\"\n",
    "生成某对 (n, i) 对应的进/出口国虚拟变量，维度为 1×N\n",
    "\n",
    "# arguments\n",
    "- k 为某行对应的 n_index 列或 i_index 列的数值，则该行第 k 列应该被赋 1\n",
    "\"\"\"\n",
    "function render_line(k::Int)\n",
    "  [x == k ? 1 : 0 for x ∈ 1:19]'\n",
    "end\n",
    "\n",
    "# 进口国（目的地国）虚拟变量的矩阵，在 n_index 对应的列标 1\n",
    "destination_matrix = vcat([render_line(n) for n ∈ 1:N for i ∈ 1:N]...)\n",
    "# destination_matrix = kron(diagm(ones(Int, N)), ones(Int, N)) # 另一种写法\n",
    "\n",
    "# 出口国（来源国）虚拟变量的稀疏矩阵，在 i_index 对应的列标 1 \n",
    "source_matrix = vcat([render_line(i) for n ∈ 1:N for i ∈ 1:N]...)\n",
    "# source_matrix = kron(ones(Int, N), diagm(ones(Int, N))) # 另一种写法"
   ]
  },
  {
   "cell_type": "code",
   "execution_count": 79,
   "metadata": {},
   "outputs": [
    {
     "data": {
      "text/plain": [
       "361×19 Matrix{Int64}:\n",
       " 1  0  0  0  0  0  0  0  0  0  0  0  0  0  0  0  0  0  0\n",
       " 1  0  0  0  0  0  0  0  0  0  0  0  0  0  0  0  0  0  0\n",
       " 1  0  0  0  0  0  0  0  0  0  0  0  0  0  0  0  0  0  0\n",
       " 1  0  0  0  0  0  0  0  0  0  0  0  0  0  0  0  0  0  0\n",
       " 1  0  0  0  0  0  0  0  0  0  0  0  0  0  0  0  0  0  0\n",
       " 1  0  0  0  0  0  0  0  0  0  0  0  0  0  0  0  0  0  0\n",
       " 1  0  0  0  0  0  0  0  0  0  0  0  0  0  0  0  0  0  0\n",
       " 1  0  0  0  0  0  0  0  0  0  0  0  0  0  0  0  0  0  0\n",
       " 1  0  0  0  0  0  0  0  0  0  0  0  0  0  0  0  0  0  0\n",
       " 1  0  0  0  0  0  0  0  0  0  0  0  0  0  0  0  0  0  0\n",
       " 1  0  0  0  0  0  0  0  0  0  0  0  0  0  0  0  0  0  0\n",
       " 1  0  0  0  0  0  0  0  0  0  0  0  0  0  0  0  0  0  0\n",
       " 1  0  0  0  0  0  0  0  0  0  0  0  0  0  0  0  0  0  0\n",
       " ⋮              ⋮              ⋮              ⋮        \n",
       " 0  0  0  0  0  0  0  0  0  0  0  0  0  0  0  0  0  0  1\n",
       " 0  0  0  0  0  0  0  0  0  0  0  0  0  0  0  0  0  0  1\n",
       " 0  0  0  0  0  0  0  0  0  0  0  0  0  0  0  0  0  0  1\n",
       " 0  0  0  0  0  0  0  0  0  0  0  0  0  0  0  0  0  0  1\n",
       " 0  0  0  0  0  0  0  0  0  0  0  0  0  0  0  0  0  0  1\n",
       " 0  0  0  0  0  0  0  0  0  0  0  0  0  0  0  0  0  0  1\n",
       " 0  0  0  0  0  0  0  0  0  0  0  0  0  0  0  0  0  0  1\n",
       " 0  0  0  0  0  0  0  0  0  0  0  0  0  0  0  0  0  0  1\n",
       " 0  0  0  0  0  0  0  0  0  0  0  0  0  0  0  0  0  0  1\n",
       " 0  0  0  0  0  0  0  0  0  0  0  0  0  0  0  0  0  0  1\n",
       " 0  0  0  0  0  0  0  0  0  0  0  0  0  0  0  0  0  0  1\n",
       " 0  0  0  0  0  0  0  0  0  0  0  0  0  0  0  0  0  0  1"
      ]
     },
     "execution_count": 79,
     "metadata": {},
     "output_type": "execute_result"
    }
   ],
   "source": [
    "# (28)式中的来源国虚拟变量 S_i-S_n\n",
    "source_dummy = source_matrix .- destination_matrix\n",
    "# 这个减法决定了 source_dummy 和 destination_dummy 在(30)式中是不对称的\n",
    "\n",
    "# (29)式中的目的地国虚拟变量 m_n\n",
    "destination_dummy = destination_matrix"
   ]
  },
  {
   "cell_type": "code",
   "execution_count": 82,
   "metadata": {},
   "outputs": [
    {
     "data": {
      "text/html": [
       "<div class=\"data-frame\"><p>361 rows × 18 columns (omitted printing of 6 columns)</p><table class=\"data-frame\"><thead><tr><th></th><th>S1</th><th>S2</th><th>S3</th><th>S4</th><th>S5</th><th>S6</th><th>S7</th><th>S8</th><th>S9</th><th>S10</th><th>S11</th><th>S12</th></tr><tr><th></th><th title=\"Int64\">Int64</th><th title=\"Int64\">Int64</th><th title=\"Int64\">Int64</th><th title=\"Int64\">Int64</th><th title=\"Int64\">Int64</th><th title=\"Int64\">Int64</th><th title=\"Int64\">Int64</th><th title=\"Int64\">Int64</th><th title=\"Int64\">Int64</th><th title=\"Int64\">Int64</th><th title=\"Int64\">Int64</th><th title=\"Int64\">Int64</th></tr></thead><tbody><tr><th>1</th><td>0</td><td>0</td><td>0</td><td>0</td><td>0</td><td>0</td><td>0</td><td>0</td><td>0</td><td>0</td><td>0</td><td>0</td></tr><tr><th>2</th><td>-1</td><td>1</td><td>0</td><td>0</td><td>0</td><td>0</td><td>0</td><td>0</td><td>0</td><td>0</td><td>0</td><td>0</td></tr><tr><th>3</th><td>-1</td><td>0</td><td>1</td><td>0</td><td>0</td><td>0</td><td>0</td><td>0</td><td>0</td><td>0</td><td>0</td><td>0</td></tr><tr><th>4</th><td>-1</td><td>0</td><td>0</td><td>1</td><td>0</td><td>0</td><td>0</td><td>0</td><td>0</td><td>0</td><td>0</td><td>0</td></tr><tr><th>5</th><td>-1</td><td>0</td><td>0</td><td>0</td><td>1</td><td>0</td><td>0</td><td>0</td><td>0</td><td>0</td><td>0</td><td>0</td></tr><tr><th>6</th><td>-1</td><td>0</td><td>0</td><td>0</td><td>0</td><td>1</td><td>0</td><td>0</td><td>0</td><td>0</td><td>0</td><td>0</td></tr><tr><th>7</th><td>-1</td><td>0</td><td>0</td><td>0</td><td>0</td><td>0</td><td>1</td><td>0</td><td>0</td><td>0</td><td>0</td><td>0</td></tr><tr><th>8</th><td>-1</td><td>0</td><td>0</td><td>0</td><td>0</td><td>0</td><td>0</td><td>1</td><td>0</td><td>0</td><td>0</td><td>0</td></tr><tr><th>9</th><td>-1</td><td>0</td><td>0</td><td>0</td><td>0</td><td>0</td><td>0</td><td>0</td><td>1</td><td>0</td><td>0</td><td>0</td></tr><tr><th>10</th><td>-1</td><td>0</td><td>0</td><td>0</td><td>0</td><td>0</td><td>0</td><td>0</td><td>0</td><td>1</td><td>0</td><td>0</td></tr><tr><th>11</th><td>-1</td><td>0</td><td>0</td><td>0</td><td>0</td><td>0</td><td>0</td><td>0</td><td>0</td><td>0</td><td>1</td><td>0</td></tr><tr><th>12</th><td>-1</td><td>0</td><td>0</td><td>0</td><td>0</td><td>0</td><td>0</td><td>0</td><td>0</td><td>0</td><td>0</td><td>1</td></tr><tr><th>13</th><td>-1</td><td>0</td><td>0</td><td>0</td><td>0</td><td>0</td><td>0</td><td>0</td><td>0</td><td>0</td><td>0</td><td>0</td></tr><tr><th>14</th><td>-1</td><td>0</td><td>0</td><td>0</td><td>0</td><td>0</td><td>0</td><td>0</td><td>0</td><td>0</td><td>0</td><td>0</td></tr><tr><th>15</th><td>-1</td><td>0</td><td>0</td><td>0</td><td>0</td><td>0</td><td>0</td><td>0</td><td>0</td><td>0</td><td>0</td><td>0</td></tr><tr><th>16</th><td>-1</td><td>0</td><td>0</td><td>0</td><td>0</td><td>0</td><td>0</td><td>0</td><td>0</td><td>0</td><td>0</td><td>0</td></tr><tr><th>17</th><td>-1</td><td>0</td><td>0</td><td>0</td><td>0</td><td>0</td><td>0</td><td>0</td><td>0</td><td>0</td><td>0</td><td>0</td></tr><tr><th>18</th><td>-1</td><td>0</td><td>0</td><td>0</td><td>0</td><td>0</td><td>0</td><td>0</td><td>0</td><td>0</td><td>0</td><td>0</td></tr><tr><th>19</th><td>-2</td><td>-1</td><td>-1</td><td>-1</td><td>-1</td><td>-1</td><td>-1</td><td>-1</td><td>-1</td><td>-1</td><td>-1</td><td>-1</td></tr><tr><th>20</th><td>1</td><td>-1</td><td>0</td><td>0</td><td>0</td><td>0</td><td>0</td><td>0</td><td>0</td><td>0</td><td>0</td><td>0</td></tr><tr><th>21</th><td>0</td><td>0</td><td>0</td><td>0</td><td>0</td><td>0</td><td>0</td><td>0</td><td>0</td><td>0</td><td>0</td><td>0</td></tr><tr><th>22</th><td>0</td><td>-1</td><td>1</td><td>0</td><td>0</td><td>0</td><td>0</td><td>0</td><td>0</td><td>0</td><td>0</td><td>0</td></tr><tr><th>23</th><td>0</td><td>-1</td><td>0</td><td>1</td><td>0</td><td>0</td><td>0</td><td>0</td><td>0</td><td>0</td><td>0</td><td>0</td></tr><tr><th>24</th><td>0</td><td>-1</td><td>0</td><td>0</td><td>1</td><td>0</td><td>0</td><td>0</td><td>0</td><td>0</td><td>0</td><td>0</td></tr><tr><th>25</th><td>0</td><td>-1</td><td>0</td><td>0</td><td>0</td><td>1</td><td>0</td><td>0</td><td>0</td><td>0</td><td>0</td><td>0</td></tr><tr><th>26</th><td>0</td><td>-1</td><td>0</td><td>0</td><td>0</td><td>0</td><td>1</td><td>0</td><td>0</td><td>0</td><td>0</td><td>0</td></tr><tr><th>27</th><td>0</td><td>-1</td><td>0</td><td>0</td><td>0</td><td>0</td><td>0</td><td>1</td><td>0</td><td>0</td><td>0</td><td>0</td></tr><tr><th>28</th><td>0</td><td>-1</td><td>0</td><td>0</td><td>0</td><td>0</td><td>0</td><td>0</td><td>1</td><td>0</td><td>0</td><td>0</td></tr><tr><th>29</th><td>0</td><td>-1</td><td>0</td><td>0</td><td>0</td><td>0</td><td>0</td><td>0</td><td>0</td><td>1</td><td>0</td><td>0</td></tr><tr><th>30</th><td>0</td><td>-1</td><td>0</td><td>0</td><td>0</td><td>0</td><td>0</td><td>0</td><td>0</td><td>0</td><td>1</td><td>0</td></tr><tr><th>&vellip;</th><td>&vellip;</td><td>&vellip;</td><td>&vellip;</td><td>&vellip;</td><td>&vellip;</td><td>&vellip;</td><td>&vellip;</td><td>&vellip;</td><td>&vellip;</td><td>&vellip;</td><td>&vellip;</td><td>&vellip;</td></tr></tbody></table></div>"
      ],
      "text/latex": [
       "\\begin{tabular}{r|ccccccccccccc}\n",
       "\t& S1 & S2 & S3 & S4 & S5 & S6 & S7 & S8 & S9 & S10 & S11 & S12 & \\\\\n",
       "\t\\hline\n",
       "\t& Int64 & Int64 & Int64 & Int64 & Int64 & Int64 & Int64 & Int64 & Int64 & Int64 & Int64 & Int64 & \\\\\n",
       "\t\\hline\n",
       "\t1 & 0 & 0 & 0 & 0 & 0 & 0 & 0 & 0 & 0 & 0 & 0 & 0 & $\\dots$ \\\\\n",
       "\t2 & -1 & 1 & 0 & 0 & 0 & 0 & 0 & 0 & 0 & 0 & 0 & 0 & $\\dots$ \\\\\n",
       "\t3 & -1 & 0 & 1 & 0 & 0 & 0 & 0 & 0 & 0 & 0 & 0 & 0 & $\\dots$ \\\\\n",
       "\t4 & -1 & 0 & 0 & 1 & 0 & 0 & 0 & 0 & 0 & 0 & 0 & 0 & $\\dots$ \\\\\n",
       "\t5 & -1 & 0 & 0 & 0 & 1 & 0 & 0 & 0 & 0 & 0 & 0 & 0 & $\\dots$ \\\\\n",
       "\t6 & -1 & 0 & 0 & 0 & 0 & 1 & 0 & 0 & 0 & 0 & 0 & 0 & $\\dots$ \\\\\n",
       "\t7 & -1 & 0 & 0 & 0 & 0 & 0 & 1 & 0 & 0 & 0 & 0 & 0 & $\\dots$ \\\\\n",
       "\t8 & -1 & 0 & 0 & 0 & 0 & 0 & 0 & 1 & 0 & 0 & 0 & 0 & $\\dots$ \\\\\n",
       "\t9 & -1 & 0 & 0 & 0 & 0 & 0 & 0 & 0 & 1 & 0 & 0 & 0 & $\\dots$ \\\\\n",
       "\t10 & -1 & 0 & 0 & 0 & 0 & 0 & 0 & 0 & 0 & 1 & 0 & 0 & $\\dots$ \\\\\n",
       "\t11 & -1 & 0 & 0 & 0 & 0 & 0 & 0 & 0 & 0 & 0 & 1 & 0 & $\\dots$ \\\\\n",
       "\t12 & -1 & 0 & 0 & 0 & 0 & 0 & 0 & 0 & 0 & 0 & 0 & 1 & $\\dots$ \\\\\n",
       "\t13 & -1 & 0 & 0 & 0 & 0 & 0 & 0 & 0 & 0 & 0 & 0 & 0 & $\\dots$ \\\\\n",
       "\t14 & -1 & 0 & 0 & 0 & 0 & 0 & 0 & 0 & 0 & 0 & 0 & 0 & $\\dots$ \\\\\n",
       "\t15 & -1 & 0 & 0 & 0 & 0 & 0 & 0 & 0 & 0 & 0 & 0 & 0 & $\\dots$ \\\\\n",
       "\t16 & -1 & 0 & 0 & 0 & 0 & 0 & 0 & 0 & 0 & 0 & 0 & 0 & $\\dots$ \\\\\n",
       "\t17 & -1 & 0 & 0 & 0 & 0 & 0 & 0 & 0 & 0 & 0 & 0 & 0 & $\\dots$ \\\\\n",
       "\t18 & -1 & 0 & 0 & 0 & 0 & 0 & 0 & 0 & 0 & 0 & 0 & 0 & $\\dots$ \\\\\n",
       "\t19 & -2 & -1 & -1 & -1 & -1 & -1 & -1 & -1 & -1 & -1 & -1 & -1 & $\\dots$ \\\\\n",
       "\t20 & 1 & -1 & 0 & 0 & 0 & 0 & 0 & 0 & 0 & 0 & 0 & 0 & $\\dots$ \\\\\n",
       "\t21 & 0 & 0 & 0 & 0 & 0 & 0 & 0 & 0 & 0 & 0 & 0 & 0 & $\\dots$ \\\\\n",
       "\t22 & 0 & -1 & 1 & 0 & 0 & 0 & 0 & 0 & 0 & 0 & 0 & 0 & $\\dots$ \\\\\n",
       "\t23 & 0 & -1 & 0 & 1 & 0 & 0 & 0 & 0 & 0 & 0 & 0 & 0 & $\\dots$ \\\\\n",
       "\t24 & 0 & -1 & 0 & 0 & 1 & 0 & 0 & 0 & 0 & 0 & 0 & 0 & $\\dots$ \\\\\n",
       "\t25 & 0 & -1 & 0 & 0 & 0 & 1 & 0 & 0 & 0 & 0 & 0 & 0 & $\\dots$ \\\\\n",
       "\t26 & 0 & -1 & 0 & 0 & 0 & 0 & 1 & 0 & 0 & 0 & 0 & 0 & $\\dots$ \\\\\n",
       "\t27 & 0 & -1 & 0 & 0 & 0 & 0 & 0 & 1 & 0 & 0 & 0 & 0 & $\\dots$ \\\\\n",
       "\t28 & 0 & -1 & 0 & 0 & 0 & 0 & 0 & 0 & 1 & 0 & 0 & 0 & $\\dots$ \\\\\n",
       "\t29 & 0 & -1 & 0 & 0 & 0 & 0 & 0 & 0 & 0 & 1 & 0 & 0 & $\\dots$ \\\\\n",
       "\t30 & 0 & -1 & 0 & 0 & 0 & 0 & 0 & 0 & 0 & 0 & 1 & 0 & $\\dots$ \\\\\n",
       "\t$\\dots$ & $\\dots$ & $\\dots$ & $\\dots$ & $\\dots$ & $\\dots$ & $\\dots$ & $\\dots$ & $\\dots$ & $\\dots$ & $\\dots$ & $\\dots$ & $\\dots$ &  \\\\\n",
       "\\end{tabular}\n"
      ],
      "text/plain": [
       "\u001b[1m361×18 DataFrame\u001b[0m\n",
       "\u001b[1m Row \u001b[0m│\u001b[1m S1    \u001b[0m\u001b[1m S2    \u001b[0m\u001b[1m S3    \u001b[0m\u001b[1m S4    \u001b[0m\u001b[1m S5    \u001b[0m\u001b[1m S6    \u001b[0m\u001b[1m S7    \u001b[0m\u001b[1m S8    \u001b[0m\u001b[1m S9    \u001b[0m\u001b[1m S10   \u001b[0m\u001b[1m S\u001b[0m ⋯\n",
       "\u001b[1m     \u001b[0m│\u001b[90m Int64 \u001b[0m\u001b[90m Int64 \u001b[0m\u001b[90m Int64 \u001b[0m\u001b[90m Int64 \u001b[0m\u001b[90m Int64 \u001b[0m\u001b[90m Int64 \u001b[0m\u001b[90m Int64 \u001b[0m\u001b[90m Int64 \u001b[0m\u001b[90m Int64 \u001b[0m\u001b[90m Int64 \u001b[0m\u001b[90m I\u001b[0m ⋯\n",
       "─────┼──────────────────────────────────────────────────────────────────────────\n",
       "   1 │     0      0      0      0      0      0      0      0      0      0    ⋯\n",
       "   2 │    -1      1      0      0      0      0      0      0      0      0\n",
       "   3 │    -1      0      1      0      0      0      0      0      0      0\n",
       "   4 │    -1      0      0      1      0      0      0      0      0      0\n",
       "   5 │    -1      0      0      0      1      0      0      0      0      0    ⋯\n",
       "   6 │    -1      0      0      0      0      1      0      0      0      0\n",
       "   7 │    -1      0      0      0      0      0      1      0      0      0\n",
       "   8 │    -1      0      0      0      0      0      0      1      0      0\n",
       "   9 │    -1      0      0      0      0      0      0      0      1      0    ⋯\n",
       "  10 │    -1      0      0      0      0      0      0      0      0      1\n",
       "  11 │    -1      0      0      0      0      0      0      0      0      0\n",
       "  ⋮  │   ⋮      ⋮      ⋮      ⋮      ⋮      ⋮      ⋮      ⋮      ⋮      ⋮      ⋱\n",
       " 352 │     1      1      1      1      1      1      1      1      1      2\n",
       " 353 │     1      1      1      1      1      1      1      1      1      1    ⋯\n",
       " 354 │     1      1      1      1      1      1      1      1      1      1\n",
       " 355 │     1      1      1      1      1      1      1      1      1      1\n",
       " 356 │     1      1      1      1      1      1      1      1      1      1\n",
       " 357 │     1      1      1      1      1      1      1      1      1      1    ⋯\n",
       " 358 │     1      1      1      1      1      1      1      1      1      1\n",
       " 359 │     1      1      1      1      1      1      1      1      1      1\n",
       " 360 │     1      1      1      1      1      1      1      1      1      1\n",
       " 361 │     0      0      0      0      0      0      0      0      0      0    ⋯\n",
       "\u001b[36m                                                  8 columns and 340 rows omitted\u001b[0m"
      ]
     },
     "execution_count": 82,
     "metadata": {},
     "output_type": "execute_result"
    }
   ],
   "source": [
    "# 以其中一个虚拟变量为基准，用其他虚拟变量与这个基准的相对差异，作为回归模型的自变量\n",
    "# 以美国（第19列）为基准，前18列都减去19列\n",
    "relative_source_dummy = DataFrame(\n",
    "  source_dummy[:, 1:(N-1)] .- source_dummy[:, N],\n",
    "  \"S\" .* string.(1:(N-1)) # DataFrame 的第二个参数是列名向量\n",
    ")"
   ]
  },
  {
   "cell_type": "code",
   "execution_count": 83,
   "metadata": {},
   "outputs": [
    {
     "data": {
      "text/html": [
       "<div class=\"data-frame\"><p>361 rows × 18 columns (omitted printing of 6 columns)</p><table class=\"data-frame\"><thead><tr><th></th><th>m1</th><th>m2</th><th>m3</th><th>m4</th><th>m5</th><th>m6</th><th>m7</th><th>m8</th><th>m9</th><th>m10</th><th>m11</th><th>m12</th></tr><tr><th></th><th title=\"Int64\">Int64</th><th title=\"Int64\">Int64</th><th title=\"Int64\">Int64</th><th title=\"Int64\">Int64</th><th title=\"Int64\">Int64</th><th title=\"Int64\">Int64</th><th title=\"Int64\">Int64</th><th title=\"Int64\">Int64</th><th title=\"Int64\">Int64</th><th title=\"Int64\">Int64</th><th title=\"Int64\">Int64</th><th title=\"Int64\">Int64</th></tr></thead><tbody><tr><th>1</th><td>1</td><td>0</td><td>0</td><td>0</td><td>0</td><td>0</td><td>0</td><td>0</td><td>0</td><td>0</td><td>0</td><td>0</td></tr><tr><th>2</th><td>1</td><td>0</td><td>0</td><td>0</td><td>0</td><td>0</td><td>0</td><td>0</td><td>0</td><td>0</td><td>0</td><td>0</td></tr><tr><th>3</th><td>1</td><td>0</td><td>0</td><td>0</td><td>0</td><td>0</td><td>0</td><td>0</td><td>0</td><td>0</td><td>0</td><td>0</td></tr><tr><th>4</th><td>1</td><td>0</td><td>0</td><td>0</td><td>0</td><td>0</td><td>0</td><td>0</td><td>0</td><td>0</td><td>0</td><td>0</td></tr><tr><th>5</th><td>1</td><td>0</td><td>0</td><td>0</td><td>0</td><td>0</td><td>0</td><td>0</td><td>0</td><td>0</td><td>0</td><td>0</td></tr><tr><th>6</th><td>1</td><td>0</td><td>0</td><td>0</td><td>0</td><td>0</td><td>0</td><td>0</td><td>0</td><td>0</td><td>0</td><td>0</td></tr><tr><th>7</th><td>1</td><td>0</td><td>0</td><td>0</td><td>0</td><td>0</td><td>0</td><td>0</td><td>0</td><td>0</td><td>0</td><td>0</td></tr><tr><th>8</th><td>1</td><td>0</td><td>0</td><td>0</td><td>0</td><td>0</td><td>0</td><td>0</td><td>0</td><td>0</td><td>0</td><td>0</td></tr><tr><th>9</th><td>1</td><td>0</td><td>0</td><td>0</td><td>0</td><td>0</td><td>0</td><td>0</td><td>0</td><td>0</td><td>0</td><td>0</td></tr><tr><th>10</th><td>1</td><td>0</td><td>0</td><td>0</td><td>0</td><td>0</td><td>0</td><td>0</td><td>0</td><td>0</td><td>0</td><td>0</td></tr><tr><th>11</th><td>1</td><td>0</td><td>0</td><td>0</td><td>0</td><td>0</td><td>0</td><td>0</td><td>0</td><td>0</td><td>0</td><td>0</td></tr><tr><th>12</th><td>1</td><td>0</td><td>0</td><td>0</td><td>0</td><td>0</td><td>0</td><td>0</td><td>0</td><td>0</td><td>0</td><td>0</td></tr><tr><th>13</th><td>1</td><td>0</td><td>0</td><td>0</td><td>0</td><td>0</td><td>0</td><td>0</td><td>0</td><td>0</td><td>0</td><td>0</td></tr><tr><th>14</th><td>1</td><td>0</td><td>0</td><td>0</td><td>0</td><td>0</td><td>0</td><td>0</td><td>0</td><td>0</td><td>0</td><td>0</td></tr><tr><th>15</th><td>1</td><td>0</td><td>0</td><td>0</td><td>0</td><td>0</td><td>0</td><td>0</td><td>0</td><td>0</td><td>0</td><td>0</td></tr><tr><th>16</th><td>1</td><td>0</td><td>0</td><td>0</td><td>0</td><td>0</td><td>0</td><td>0</td><td>0</td><td>0</td><td>0</td><td>0</td></tr><tr><th>17</th><td>1</td><td>0</td><td>0</td><td>0</td><td>0</td><td>0</td><td>0</td><td>0</td><td>0</td><td>0</td><td>0</td><td>0</td></tr><tr><th>18</th><td>1</td><td>0</td><td>0</td><td>0</td><td>0</td><td>0</td><td>0</td><td>0</td><td>0</td><td>0</td><td>0</td><td>0</td></tr><tr><th>19</th><td>1</td><td>0</td><td>0</td><td>0</td><td>0</td><td>0</td><td>0</td><td>0</td><td>0</td><td>0</td><td>0</td><td>0</td></tr><tr><th>20</th><td>0</td><td>1</td><td>0</td><td>0</td><td>0</td><td>0</td><td>0</td><td>0</td><td>0</td><td>0</td><td>0</td><td>0</td></tr><tr><th>21</th><td>0</td><td>1</td><td>0</td><td>0</td><td>0</td><td>0</td><td>0</td><td>0</td><td>0</td><td>0</td><td>0</td><td>0</td></tr><tr><th>22</th><td>0</td><td>1</td><td>0</td><td>0</td><td>0</td><td>0</td><td>0</td><td>0</td><td>0</td><td>0</td><td>0</td><td>0</td></tr><tr><th>23</th><td>0</td><td>1</td><td>0</td><td>0</td><td>0</td><td>0</td><td>0</td><td>0</td><td>0</td><td>0</td><td>0</td><td>0</td></tr><tr><th>24</th><td>0</td><td>1</td><td>0</td><td>0</td><td>0</td><td>0</td><td>0</td><td>0</td><td>0</td><td>0</td><td>0</td><td>0</td></tr><tr><th>25</th><td>0</td><td>1</td><td>0</td><td>0</td><td>0</td><td>0</td><td>0</td><td>0</td><td>0</td><td>0</td><td>0</td><td>0</td></tr><tr><th>26</th><td>0</td><td>1</td><td>0</td><td>0</td><td>0</td><td>0</td><td>0</td><td>0</td><td>0</td><td>0</td><td>0</td><td>0</td></tr><tr><th>27</th><td>0</td><td>1</td><td>0</td><td>0</td><td>0</td><td>0</td><td>0</td><td>0</td><td>0</td><td>0</td><td>0</td><td>0</td></tr><tr><th>28</th><td>0</td><td>1</td><td>0</td><td>0</td><td>0</td><td>0</td><td>0</td><td>0</td><td>0</td><td>0</td><td>0</td><td>0</td></tr><tr><th>29</th><td>0</td><td>1</td><td>0</td><td>0</td><td>0</td><td>0</td><td>0</td><td>0</td><td>0</td><td>0</td><td>0</td><td>0</td></tr><tr><th>30</th><td>0</td><td>1</td><td>0</td><td>0</td><td>0</td><td>0</td><td>0</td><td>0</td><td>0</td><td>0</td><td>0</td><td>0</td></tr><tr><th>&vellip;</th><td>&vellip;</td><td>&vellip;</td><td>&vellip;</td><td>&vellip;</td><td>&vellip;</td><td>&vellip;</td><td>&vellip;</td><td>&vellip;</td><td>&vellip;</td><td>&vellip;</td><td>&vellip;</td><td>&vellip;</td></tr></tbody></table></div>"
      ],
      "text/latex": [
       "\\begin{tabular}{r|ccccccccccccc}\n",
       "\t& m1 & m2 & m3 & m4 & m5 & m6 & m7 & m8 & m9 & m10 & m11 & m12 & \\\\\n",
       "\t\\hline\n",
       "\t& Int64 & Int64 & Int64 & Int64 & Int64 & Int64 & Int64 & Int64 & Int64 & Int64 & Int64 & Int64 & \\\\\n",
       "\t\\hline\n",
       "\t1 & 1 & 0 & 0 & 0 & 0 & 0 & 0 & 0 & 0 & 0 & 0 & 0 & $\\dots$ \\\\\n",
       "\t2 & 1 & 0 & 0 & 0 & 0 & 0 & 0 & 0 & 0 & 0 & 0 & 0 & $\\dots$ \\\\\n",
       "\t3 & 1 & 0 & 0 & 0 & 0 & 0 & 0 & 0 & 0 & 0 & 0 & 0 & $\\dots$ \\\\\n",
       "\t4 & 1 & 0 & 0 & 0 & 0 & 0 & 0 & 0 & 0 & 0 & 0 & 0 & $\\dots$ \\\\\n",
       "\t5 & 1 & 0 & 0 & 0 & 0 & 0 & 0 & 0 & 0 & 0 & 0 & 0 & $\\dots$ \\\\\n",
       "\t6 & 1 & 0 & 0 & 0 & 0 & 0 & 0 & 0 & 0 & 0 & 0 & 0 & $\\dots$ \\\\\n",
       "\t7 & 1 & 0 & 0 & 0 & 0 & 0 & 0 & 0 & 0 & 0 & 0 & 0 & $\\dots$ \\\\\n",
       "\t8 & 1 & 0 & 0 & 0 & 0 & 0 & 0 & 0 & 0 & 0 & 0 & 0 & $\\dots$ \\\\\n",
       "\t9 & 1 & 0 & 0 & 0 & 0 & 0 & 0 & 0 & 0 & 0 & 0 & 0 & $\\dots$ \\\\\n",
       "\t10 & 1 & 0 & 0 & 0 & 0 & 0 & 0 & 0 & 0 & 0 & 0 & 0 & $\\dots$ \\\\\n",
       "\t11 & 1 & 0 & 0 & 0 & 0 & 0 & 0 & 0 & 0 & 0 & 0 & 0 & $\\dots$ \\\\\n",
       "\t12 & 1 & 0 & 0 & 0 & 0 & 0 & 0 & 0 & 0 & 0 & 0 & 0 & $\\dots$ \\\\\n",
       "\t13 & 1 & 0 & 0 & 0 & 0 & 0 & 0 & 0 & 0 & 0 & 0 & 0 & $\\dots$ \\\\\n",
       "\t14 & 1 & 0 & 0 & 0 & 0 & 0 & 0 & 0 & 0 & 0 & 0 & 0 & $\\dots$ \\\\\n",
       "\t15 & 1 & 0 & 0 & 0 & 0 & 0 & 0 & 0 & 0 & 0 & 0 & 0 & $\\dots$ \\\\\n",
       "\t16 & 1 & 0 & 0 & 0 & 0 & 0 & 0 & 0 & 0 & 0 & 0 & 0 & $\\dots$ \\\\\n",
       "\t17 & 1 & 0 & 0 & 0 & 0 & 0 & 0 & 0 & 0 & 0 & 0 & 0 & $\\dots$ \\\\\n",
       "\t18 & 1 & 0 & 0 & 0 & 0 & 0 & 0 & 0 & 0 & 0 & 0 & 0 & $\\dots$ \\\\\n",
       "\t19 & 1 & 0 & 0 & 0 & 0 & 0 & 0 & 0 & 0 & 0 & 0 & 0 & $\\dots$ \\\\\n",
       "\t20 & 0 & 1 & 0 & 0 & 0 & 0 & 0 & 0 & 0 & 0 & 0 & 0 & $\\dots$ \\\\\n",
       "\t21 & 0 & 1 & 0 & 0 & 0 & 0 & 0 & 0 & 0 & 0 & 0 & 0 & $\\dots$ \\\\\n",
       "\t22 & 0 & 1 & 0 & 0 & 0 & 0 & 0 & 0 & 0 & 0 & 0 & 0 & $\\dots$ \\\\\n",
       "\t23 & 0 & 1 & 0 & 0 & 0 & 0 & 0 & 0 & 0 & 0 & 0 & 0 & $\\dots$ \\\\\n",
       "\t24 & 0 & 1 & 0 & 0 & 0 & 0 & 0 & 0 & 0 & 0 & 0 & 0 & $\\dots$ \\\\\n",
       "\t25 & 0 & 1 & 0 & 0 & 0 & 0 & 0 & 0 & 0 & 0 & 0 & 0 & $\\dots$ \\\\\n",
       "\t26 & 0 & 1 & 0 & 0 & 0 & 0 & 0 & 0 & 0 & 0 & 0 & 0 & $\\dots$ \\\\\n",
       "\t27 & 0 & 1 & 0 & 0 & 0 & 0 & 0 & 0 & 0 & 0 & 0 & 0 & $\\dots$ \\\\\n",
       "\t28 & 0 & 1 & 0 & 0 & 0 & 0 & 0 & 0 & 0 & 0 & 0 & 0 & $\\dots$ \\\\\n",
       "\t29 & 0 & 1 & 0 & 0 & 0 & 0 & 0 & 0 & 0 & 0 & 0 & 0 & $\\dots$ \\\\\n",
       "\t30 & 0 & 1 & 0 & 0 & 0 & 0 & 0 & 0 & 0 & 0 & 0 & 0 & $\\dots$ \\\\\n",
       "\t$\\dots$ & $\\dots$ & $\\dots$ & $\\dots$ & $\\dots$ & $\\dots$ & $\\dots$ & $\\dots$ & $\\dots$ & $\\dots$ & $\\dots$ & $\\dots$ & $\\dots$ &  \\\\\n",
       "\\end{tabular}\n"
      ],
      "text/plain": [
       "\u001b[1m361×18 DataFrame\u001b[0m\n",
       "\u001b[1m Row \u001b[0m│\u001b[1m m1    \u001b[0m\u001b[1m m2    \u001b[0m\u001b[1m m3    \u001b[0m\u001b[1m m4    \u001b[0m\u001b[1m m5    \u001b[0m\u001b[1m m6    \u001b[0m\u001b[1m m7    \u001b[0m\u001b[1m m8    \u001b[0m\u001b[1m m9    \u001b[0m\u001b[1m m10   \u001b[0m\u001b[1m m\u001b[0m ⋯\n",
       "\u001b[1m     \u001b[0m│\u001b[90m Int64 \u001b[0m\u001b[90m Int64 \u001b[0m\u001b[90m Int64 \u001b[0m\u001b[90m Int64 \u001b[0m\u001b[90m Int64 \u001b[0m\u001b[90m Int64 \u001b[0m\u001b[90m Int64 \u001b[0m\u001b[90m Int64 \u001b[0m\u001b[90m Int64 \u001b[0m\u001b[90m Int64 \u001b[0m\u001b[90m I\u001b[0m ⋯\n",
       "─────┼──────────────────────────────────────────────────────────────────────────\n",
       "   1 │     1      0      0      0      0      0      0      0      0      0    ⋯\n",
       "   2 │     1      0      0      0      0      0      0      0      0      0\n",
       "   3 │     1      0      0      0      0      0      0      0      0      0\n",
       "   4 │     1      0      0      0      0      0      0      0      0      0\n",
       "   5 │     1      0      0      0      0      0      0      0      0      0    ⋯\n",
       "   6 │     1      0      0      0      0      0      0      0      0      0\n",
       "   7 │     1      0      0      0      0      0      0      0      0      0\n",
       "   8 │     1      0      0      0      0      0      0      0      0      0\n",
       "   9 │     1      0      0      0      0      0      0      0      0      0    ⋯\n",
       "  10 │     1      0      0      0      0      0      0      0      0      0\n",
       "  11 │     1      0      0      0      0      0      0      0      0      0\n",
       "  ⋮  │   ⋮      ⋮      ⋮      ⋮      ⋮      ⋮      ⋮      ⋮      ⋮      ⋮      ⋱\n",
       " 352 │    -1     -1     -1     -1     -1     -1     -1     -1     -1     -1\n",
       " 353 │    -1     -1     -1     -1     -1     -1     -1     -1     -1     -1    ⋯\n",
       " 354 │    -1     -1     -1     -1     -1     -1     -1     -1     -1     -1\n",
       " 355 │    -1     -1     -1     -1     -1     -1     -1     -1     -1     -1\n",
       " 356 │    -1     -1     -1     -1     -1     -1     -1     -1     -1     -1\n",
       " 357 │    -1     -1     -1     -1     -1     -1     -1     -1     -1     -1    ⋯\n",
       " 358 │    -1     -1     -1     -1     -1     -1     -1     -1     -1     -1\n",
       " 359 │    -1     -1     -1     -1     -1     -1     -1     -1     -1     -1\n",
       " 360 │    -1     -1     -1     -1     -1     -1     -1     -1     -1     -1\n",
       " 361 │    -1     -1     -1     -1     -1     -1     -1     -1     -1     -1    ⋯\n",
       "\u001b[36m                                                  8 columns and 340 rows omitted\u001b[0m"
      ]
     },
     "execution_count": 83,
     "metadata": {},
     "output_type": "execute_result"
    }
   ],
   "source": [
    "relative_destination_dummy = DataFrame(\n",
    "  destination_dummy[:, 1:(N-1)] .- destination_dummy[:, N],\n",
    "  \"m\" .* string.(1:(N-1)) # 列名\n",
    ")"
   ]
  },
  {
   "cell_type": "markdown",
   "metadata": {},
   "source": [
    "#### price.csv"
   ]
  },
  {
   "cell_type": "markdown",
   "metadata": {},
   "source": [
    "50种商品的对数标准化价格 $\\ln p_n(j)$（以美国为基准）"
   ]
  },
  {
   "cell_type": "code",
   "execution_count": 19,
   "metadata": {},
   "outputs": [
    {
     "data": {
      "text/plain": [
       "19×50 Matrix{Float64}:\n",
       " 0.161989  -0.315302     0.45165   …   0.499404    -0.139205   -0.198938\n",
       " 0.567858   0.0408838    0.626906     -0.00804254   0.406579   -0.300053\n",
       " 0.515134  -0.100861     0.40755       0.480502     0.0893319  -0.154065\n",
       " 0.417219   0.248158     0.249496      0.0388165    0.274597    0.242111\n",
       " 0.649159  -0.0202231    0.627496      0.210857     0.223206   -0.397866\n",
       " 0.796529   0.152668     0.754082  …   0.291252     0.511048   -0.479867\n",
       " 0.578505  -0.000171362  0.527799      0.435106     0.0800443   0.211319\n",
       " 0.255417  -0.149133     0.291817      0.377614    -0.108147   -0.0989721\n",
       " 0.466734   0.221986     0.502458      0.233888    -0.272059   -0.588944\n",
       " 0.165575  -0.157801     0.453423      0.350445     0.292342   -0.195294\n",
       " 0.815621  -0.133038     0.44498   …  -0.352701     0.472001   -0.527035\n",
       " 0.303741  -0.224243     0.344348      0.570876    -0.0453972  -0.394793\n",
       " 0.463483   0.475348     0.465346     -0.0304528    0.425082   -0.794516\n",
       " 0.558934   0.0588994    0.461902      0.177052     0.34056    -0.174129\n",
       " 0.189202  -0.12761      0.55011       0.164408    -0.28162    -0.583764\n",
       " 0.612557   0.131778     0.577051  …   0.124392     0.10778    -0.324421\n",
       " 0.514233  -0.0543084    0.578796      0.151584     0.36746    -0.281988\n",
       " 0.2017    -0.411296     0.459593     -0.122961    -0.177246   -0.274832\n",
       " 0.0        0.0          0.0           0.0          0.0         0.0"
      ]
     },
     "execution_count": 19,
     "metadata": {},
     "output_type": "execute_result"
    }
   ],
   "source": [
    "price = select(price_table, Not(:country)) |> Matrix"
   ]
  },
  {
   "cell_type": "markdown",
   "metadata": {},
   "source": [
    "相对价格 $r_{ni}(j)=\\ln p_n(j)-\\ln p_i(j)$"
   ]
  },
  {
   "cell_type": "code",
   "execution_count": 85,
   "metadata": {},
   "outputs": [
    {
     "data": {
      "text/plain": [
       "361×50 Matrix{Float64}:\n",
       "  0.0          0.0         0.0         …   0.0         0.0         0.0\n",
       " -0.405869    -0.356185   -0.175257        0.507447   -0.545784    0.101115\n",
       " -0.353145    -0.21444     0.0440999       0.0189018  -0.228537   -0.0448726\n",
       " -0.25523     -0.563459    0.202153        0.460587   -0.413802   -0.441049\n",
       " -0.48717     -0.295079   -0.175846        0.288547   -0.362411    0.198928\n",
       " -0.63454     -0.46797    -0.302432    …   0.208152   -0.650253    0.280929\n",
       " -0.416516    -0.31513    -0.076149        0.0642979  -0.219249   -0.410257\n",
       " -0.0934279   -0.166169    0.159832        0.121789   -0.0310586  -0.0999659\n",
       " -0.304745    -0.537288   -0.0508088       0.265515    0.132854    0.390006\n",
       " -0.00358568  -0.157501   -0.00177387      0.148959   -0.431548   -0.00364431\n",
       " -0.653632    -0.182263    0.00666904  …   0.852105   -0.611206    0.328097\n",
       " -0.141752    -0.0910589   0.107301       -0.0714721  -0.0938079   0.195855\n",
       " -0.301494    -0.79065    -0.0136965       0.529857   -0.564287    0.595578\n",
       "  ⋮                                    ⋱                          \n",
       " -0.255417     0.149133   -0.291817       -0.377614    0.108147    0.0989721\n",
       " -0.466734    -0.221986   -0.502458    …  -0.233888    0.272059    0.588944\n",
       " -0.165575     0.157801   -0.453423       -0.350445   -0.292342    0.195294\n",
       " -0.815621     0.133038   -0.44498         0.352701   -0.472001    0.527035\n",
       " -0.303741     0.224243   -0.344348       -0.570876    0.0453972   0.394793\n",
       " -0.463483    -0.475348   -0.465346        0.0304528  -0.425082    0.794516\n",
       " -0.558934    -0.0588994  -0.461902    …  -0.177052   -0.34056     0.174129\n",
       " -0.189202     0.12761    -0.55011        -0.164408    0.28162     0.583764\n",
       " -0.612557    -0.131778   -0.577051       -0.124392   -0.10778     0.324421\n",
       " -0.514233     0.0543084  -0.578796       -0.151584   -0.36746     0.281988\n",
       " -0.2017       0.411296   -0.459593        0.122961    0.177246    0.274832\n",
       "  0.0          0.0         0.0         …   0.0         0.0         0.0"
      ]
     },
     "execution_count": 85,
     "metadata": {},
     "output_type": "execute_result"
    }
   ],
   "source": [
    "# 对 n, i 交叉遍历，求对应每一行 (n, i) 的50种产品相对价格\n",
    "relative_price = vcat([(price[n, :] .- price[i, :])' for n ∈ 1:N for i ∈ 1:N]...)\n",
    "# 另一种写法：\n",
    "# destination_price = kron(price, ones(Int, N)) # 目的地国 $\\ln p_n(j)$\n",
    "# source_price = kron(ones(Int, N), price) # 来源地国 $\\ln p_i(j)$\n",
    "# relative_price = destination_price .- source_price"
   ]
  },
  {
   "cell_type": "markdown",
   "metadata": {},
   "source": [
    "各行第二大的 $r_{ni}(j)$，作为作为 $\\ln d_{ni}$ 的代理变量"
   ]
  },
  {
   "cell_type": "code",
   "execution_count": 86,
   "metadata": {
    "tags": []
   },
   "outputs": [
    {
     "data": {
      "text/plain": [
       "361×1 Matrix{Float64}:\n",
       " 0.0\n",
       " 0.28921320000000006\n",
       " 0.25728826000000005\n",
       " 0.45435793\n",
       " 0.28854733\n",
       " 0.20815218999999996\n",
       " 0.26276306\n",
       " 0.316902636\n",
       " 0.42207197\n",
       " 0.27348450000000013\n",
       " 0.430528366\n",
       " 0.291474086\n",
       " 0.57087205\n",
       " ⋮\n",
       " 0.52021667\n",
       " 0.58894381\n",
       " 0.19529373\n",
       " 0.83731219\n",
       " 0.43493967\n",
       " 0.79451576\n",
       " 0.30693062\n",
       " 0.66740406\n",
       " 0.32442098\n",
       " 0.31903749\n",
       " 0.41129604\n",
       " 0.0"
      ]
     },
     "execution_count": 86,
     "metadata": {},
     "output_type": "execute_result"
    }
   ],
   "source": [
    "function max2(arr)\n",
    "  sorted = arr |> sort |> reverse # 此处不要改变原矩阵，拷贝一份\n",
    "  sorted[2] \n",
    "end\n",
    "\n",
    "ln_dni = mapslices(max2, relative_price; dims=2) \n",
    "# dims=2，沿列的方向依次应用函数，即函数的参数为一行"
   ]
  },
  {
   "cell_type": "code",
   "execution_count": 22,
   "metadata": {},
   "outputs": [
    {
     "data": {
      "text/plain": [
       "19×1 Matrix{Float64}:\n",
       " 0.17710617868\n",
       " 0.30969828908\n",
       " 0.31878238892\n",
       " 0.19176095697999998\n",
       " 0.47249725791999997\n",
       " 0.57585816534\n",
       " 0.36289958088000007\n",
       " 0.2785198433\n",
       " 0.2291447273\n",
       " 0.34702730684000005\n",
       " 0.28664830212\n",
       " 0.25296723060000004\n",
       " 0.09797552427999999\n",
       " 0.52948366216\n",
       " 0.12267802558000002\n",
       " 0.33727203654659993\n",
       " 0.37991236553999996\n",
       " 0.2087230099\n",
       " 0.0"
      ]
     },
     "execution_count": 22,
     "metadata": {},
     "output_type": "execute_result"
    }
   ],
   "source": [
    "# 用 50 种商品对数标准化价格的平均值作为各国价格指数的代理变量\n",
    "price_index = mapslices(mean, price; dims=2) "
   ]
  },
  {
   "cell_type": "code",
   "execution_count": 87,
   "metadata": {},
   "outputs": [
    {
     "data": {
      "text/plain": [
       "361×1 Matrix{Float64}:\n",
       " 0.0\n",
       " 0.4218053104000001\n",
       " 0.39896447024000004\n",
       " 0.46901270829999997\n",
       " 0.58393840924\n",
       " 0.60690417666\n",
       " 0.44855646220000006\n",
       " 0.41831630062\n",
       " 0.47411051862\n",
       " 0.4434056281600002\n",
       " 0.5400704894399999\n",
       " 0.36733513792000005\n",
       " 0.49174139559999996\n",
       " ⋮\n",
       " 0.7987365133000001\n",
       " 0.8180885373\n",
       " 0.54232103684\n",
       " 1.12396049212\n",
       " 0.6879069006\n",
       " 0.89249128428\n",
       " 0.83641428216\n",
       " 0.7900820855799999\n",
       " 0.6616930165466\n",
       " 0.69894985554\n",
       " 0.6200190499\n",
       " 0.0"
      ]
     },
     "execution_count": 87,
     "metadata": {},
     "output_type": "execute_result"
    }
   ],
   "source": [
    "# (13)式: D_{ni}=ln(p_i)-ln(p_n)+ln(d_{ni})\n",
    "Dni = [price_index[i] - price_index[n] for n ∈ 1:N for i ∈ 1:N] .+ ln_dni"
   ]
  },
  {
   "cell_type": "markdown",
   "metadata": {},
   "source": [
    "#### delete invalid observations"
   ]
  },
  {
   "cell_type": "markdown",
   "metadata": {
    "tags": []
   },
   "source": [
    "删掉 `n==i` 的无用行，保留342行\n",
    "\n",
    "> 这些行很多变量的标准化值都等于0，属于无效数据"
   ]
  },
  {
   "cell_type": "code",
   "execution_count": 88,
   "metadata": {},
   "outputs": [
    {
     "data": {
      "text/plain": [
       "361-element BitVector:\n",
       " 0\n",
       " 1\n",
       " 1\n",
       " 1\n",
       " 1\n",
       " 1\n",
       " 1\n",
       " 1\n",
       " 1\n",
       " 1\n",
       " 1\n",
       " 1\n",
       " 1\n",
       " ⋮\n",
       " 1\n",
       " 1\n",
       " 1\n",
       " 1\n",
       " 1\n",
       " 1\n",
       " 1\n",
       " 1\n",
       " 1\n",
       " 1\n",
       " 1\n",
       " 0"
      ]
     },
     "execution_count": 88,
     "metadata": {},
     "output_type": "execute_result"
    }
   ],
   "source": [
    "valid_index = n_index .!= i_index # 返回 Bool 向量"
   ]
  },
  {
   "cell_type": "code",
   "execution_count": 89,
   "metadata": {},
   "outputs": [
    {
     "data": {
      "text/html": [
       "<div class=\"data-frame\"><p>342 rows × 36 columns (omitted printing of 24 columns)</p><table class=\"data-frame\"><thead><tr><th></th><th>S1</th><th>S2</th><th>S3</th><th>S4</th><th>S5</th><th>S6</th><th>S7</th><th>S8</th><th>S9</th><th>S10</th><th>S11</th><th>S12</th></tr><tr><th></th><th title=\"Int64\">Int64</th><th title=\"Int64\">Int64</th><th title=\"Int64\">Int64</th><th title=\"Int64\">Int64</th><th title=\"Int64\">Int64</th><th title=\"Int64\">Int64</th><th title=\"Int64\">Int64</th><th title=\"Int64\">Int64</th><th title=\"Int64\">Int64</th><th title=\"Int64\">Int64</th><th title=\"Int64\">Int64</th><th title=\"Int64\">Int64</th></tr></thead><tbody><tr><th>1</th><td>-1</td><td>1</td><td>0</td><td>0</td><td>0</td><td>0</td><td>0</td><td>0</td><td>0</td><td>0</td><td>0</td><td>0</td></tr><tr><th>2</th><td>-1</td><td>0</td><td>1</td><td>0</td><td>0</td><td>0</td><td>0</td><td>0</td><td>0</td><td>0</td><td>0</td><td>0</td></tr><tr><th>3</th><td>-1</td><td>0</td><td>0</td><td>1</td><td>0</td><td>0</td><td>0</td><td>0</td><td>0</td><td>0</td><td>0</td><td>0</td></tr><tr><th>4</th><td>-1</td><td>0</td><td>0</td><td>0</td><td>1</td><td>0</td><td>0</td><td>0</td><td>0</td><td>0</td><td>0</td><td>0</td></tr><tr><th>5</th><td>-1</td><td>0</td><td>0</td><td>0</td><td>0</td><td>1</td><td>0</td><td>0</td><td>0</td><td>0</td><td>0</td><td>0</td></tr><tr><th>6</th><td>-1</td><td>0</td><td>0</td><td>0</td><td>0</td><td>0</td><td>1</td><td>0</td><td>0</td><td>0</td><td>0</td><td>0</td></tr><tr><th>7</th><td>-1</td><td>0</td><td>0</td><td>0</td><td>0</td><td>0</td><td>0</td><td>1</td><td>0</td><td>0</td><td>0</td><td>0</td></tr><tr><th>8</th><td>-1</td><td>0</td><td>0</td><td>0</td><td>0</td><td>0</td><td>0</td><td>0</td><td>1</td><td>0</td><td>0</td><td>0</td></tr><tr><th>9</th><td>-1</td><td>0</td><td>0</td><td>0</td><td>0</td><td>0</td><td>0</td><td>0</td><td>0</td><td>1</td><td>0</td><td>0</td></tr><tr><th>10</th><td>-1</td><td>0</td><td>0</td><td>0</td><td>0</td><td>0</td><td>0</td><td>0</td><td>0</td><td>0</td><td>1</td><td>0</td></tr><tr><th>11</th><td>-1</td><td>0</td><td>0</td><td>0</td><td>0</td><td>0</td><td>0</td><td>0</td><td>0</td><td>0</td><td>0</td><td>1</td></tr><tr><th>12</th><td>-1</td><td>0</td><td>0</td><td>0</td><td>0</td><td>0</td><td>0</td><td>0</td><td>0</td><td>0</td><td>0</td><td>0</td></tr><tr><th>13</th><td>-1</td><td>0</td><td>0</td><td>0</td><td>0</td><td>0</td><td>0</td><td>0</td><td>0</td><td>0</td><td>0</td><td>0</td></tr><tr><th>14</th><td>-1</td><td>0</td><td>0</td><td>0</td><td>0</td><td>0</td><td>0</td><td>0</td><td>0</td><td>0</td><td>0</td><td>0</td></tr><tr><th>15</th><td>-1</td><td>0</td><td>0</td><td>0</td><td>0</td><td>0</td><td>0</td><td>0</td><td>0</td><td>0</td><td>0</td><td>0</td></tr><tr><th>16</th><td>-1</td><td>0</td><td>0</td><td>0</td><td>0</td><td>0</td><td>0</td><td>0</td><td>0</td><td>0</td><td>0</td><td>0</td></tr><tr><th>17</th><td>-1</td><td>0</td><td>0</td><td>0</td><td>0</td><td>0</td><td>0</td><td>0</td><td>0</td><td>0</td><td>0</td><td>0</td></tr><tr><th>18</th><td>-2</td><td>-1</td><td>-1</td><td>-1</td><td>-1</td><td>-1</td><td>-1</td><td>-1</td><td>-1</td><td>-1</td><td>-1</td><td>-1</td></tr><tr><th>19</th><td>1</td><td>-1</td><td>0</td><td>0</td><td>0</td><td>0</td><td>0</td><td>0</td><td>0</td><td>0</td><td>0</td><td>0</td></tr><tr><th>20</th><td>0</td><td>-1</td><td>1</td><td>0</td><td>0</td><td>0</td><td>0</td><td>0</td><td>0</td><td>0</td><td>0</td><td>0</td></tr><tr><th>21</th><td>0</td><td>-1</td><td>0</td><td>1</td><td>0</td><td>0</td><td>0</td><td>0</td><td>0</td><td>0</td><td>0</td><td>0</td></tr><tr><th>22</th><td>0</td><td>-1</td><td>0</td><td>0</td><td>1</td><td>0</td><td>0</td><td>0</td><td>0</td><td>0</td><td>0</td><td>0</td></tr><tr><th>23</th><td>0</td><td>-1</td><td>0</td><td>0</td><td>0</td><td>1</td><td>0</td><td>0</td><td>0</td><td>0</td><td>0</td><td>0</td></tr><tr><th>24</th><td>0</td><td>-1</td><td>0</td><td>0</td><td>0</td><td>0</td><td>1</td><td>0</td><td>0</td><td>0</td><td>0</td><td>0</td></tr><tr><th>25</th><td>0</td><td>-1</td><td>0</td><td>0</td><td>0</td><td>0</td><td>0</td><td>1</td><td>0</td><td>0</td><td>0</td><td>0</td></tr><tr><th>26</th><td>0</td><td>-1</td><td>0</td><td>0</td><td>0</td><td>0</td><td>0</td><td>0</td><td>1</td><td>0</td><td>0</td><td>0</td></tr><tr><th>27</th><td>0</td><td>-1</td><td>0</td><td>0</td><td>0</td><td>0</td><td>0</td><td>0</td><td>0</td><td>1</td><td>0</td><td>0</td></tr><tr><th>28</th><td>0</td><td>-1</td><td>0</td><td>0</td><td>0</td><td>0</td><td>0</td><td>0</td><td>0</td><td>0</td><td>1</td><td>0</td></tr><tr><th>29</th><td>0</td><td>-1</td><td>0</td><td>0</td><td>0</td><td>0</td><td>0</td><td>0</td><td>0</td><td>0</td><td>0</td><td>1</td></tr><tr><th>30</th><td>0</td><td>-1</td><td>0</td><td>0</td><td>0</td><td>0</td><td>0</td><td>0</td><td>0</td><td>0</td><td>0</td><td>0</td></tr><tr><th>&vellip;</th><td>&vellip;</td><td>&vellip;</td><td>&vellip;</td><td>&vellip;</td><td>&vellip;</td><td>&vellip;</td><td>&vellip;</td><td>&vellip;</td><td>&vellip;</td><td>&vellip;</td><td>&vellip;</td><td>&vellip;</td></tr></tbody></table></div>"
      ],
      "text/latex": [
       "\\begin{tabular}{r|ccccccccccccc}\n",
       "\t& S1 & S2 & S3 & S4 & S5 & S6 & S7 & S8 & S9 & S10 & S11 & S12 & \\\\\n",
       "\t\\hline\n",
       "\t& Int64 & Int64 & Int64 & Int64 & Int64 & Int64 & Int64 & Int64 & Int64 & Int64 & Int64 & Int64 & \\\\\n",
       "\t\\hline\n",
       "\t1 & -1 & 1 & 0 & 0 & 0 & 0 & 0 & 0 & 0 & 0 & 0 & 0 & $\\dots$ \\\\\n",
       "\t2 & -1 & 0 & 1 & 0 & 0 & 0 & 0 & 0 & 0 & 0 & 0 & 0 & $\\dots$ \\\\\n",
       "\t3 & -1 & 0 & 0 & 1 & 0 & 0 & 0 & 0 & 0 & 0 & 0 & 0 & $\\dots$ \\\\\n",
       "\t4 & -1 & 0 & 0 & 0 & 1 & 0 & 0 & 0 & 0 & 0 & 0 & 0 & $\\dots$ \\\\\n",
       "\t5 & -1 & 0 & 0 & 0 & 0 & 1 & 0 & 0 & 0 & 0 & 0 & 0 & $\\dots$ \\\\\n",
       "\t6 & -1 & 0 & 0 & 0 & 0 & 0 & 1 & 0 & 0 & 0 & 0 & 0 & $\\dots$ \\\\\n",
       "\t7 & -1 & 0 & 0 & 0 & 0 & 0 & 0 & 1 & 0 & 0 & 0 & 0 & $\\dots$ \\\\\n",
       "\t8 & -1 & 0 & 0 & 0 & 0 & 0 & 0 & 0 & 1 & 0 & 0 & 0 & $\\dots$ \\\\\n",
       "\t9 & -1 & 0 & 0 & 0 & 0 & 0 & 0 & 0 & 0 & 1 & 0 & 0 & $\\dots$ \\\\\n",
       "\t10 & -1 & 0 & 0 & 0 & 0 & 0 & 0 & 0 & 0 & 0 & 1 & 0 & $\\dots$ \\\\\n",
       "\t11 & -1 & 0 & 0 & 0 & 0 & 0 & 0 & 0 & 0 & 0 & 0 & 1 & $\\dots$ \\\\\n",
       "\t12 & -1 & 0 & 0 & 0 & 0 & 0 & 0 & 0 & 0 & 0 & 0 & 0 & $\\dots$ \\\\\n",
       "\t13 & -1 & 0 & 0 & 0 & 0 & 0 & 0 & 0 & 0 & 0 & 0 & 0 & $\\dots$ \\\\\n",
       "\t14 & -1 & 0 & 0 & 0 & 0 & 0 & 0 & 0 & 0 & 0 & 0 & 0 & $\\dots$ \\\\\n",
       "\t15 & -1 & 0 & 0 & 0 & 0 & 0 & 0 & 0 & 0 & 0 & 0 & 0 & $\\dots$ \\\\\n",
       "\t16 & -1 & 0 & 0 & 0 & 0 & 0 & 0 & 0 & 0 & 0 & 0 & 0 & $\\dots$ \\\\\n",
       "\t17 & -1 & 0 & 0 & 0 & 0 & 0 & 0 & 0 & 0 & 0 & 0 & 0 & $\\dots$ \\\\\n",
       "\t18 & -2 & -1 & -1 & -1 & -1 & -1 & -1 & -1 & -1 & -1 & -1 & -1 & $\\dots$ \\\\\n",
       "\t19 & 1 & -1 & 0 & 0 & 0 & 0 & 0 & 0 & 0 & 0 & 0 & 0 & $\\dots$ \\\\\n",
       "\t20 & 0 & -1 & 1 & 0 & 0 & 0 & 0 & 0 & 0 & 0 & 0 & 0 & $\\dots$ \\\\\n",
       "\t21 & 0 & -1 & 0 & 1 & 0 & 0 & 0 & 0 & 0 & 0 & 0 & 0 & $\\dots$ \\\\\n",
       "\t22 & 0 & -1 & 0 & 0 & 1 & 0 & 0 & 0 & 0 & 0 & 0 & 0 & $\\dots$ \\\\\n",
       "\t23 & 0 & -1 & 0 & 0 & 0 & 1 & 0 & 0 & 0 & 0 & 0 & 0 & $\\dots$ \\\\\n",
       "\t24 & 0 & -1 & 0 & 0 & 0 & 0 & 1 & 0 & 0 & 0 & 0 & 0 & $\\dots$ \\\\\n",
       "\t25 & 0 & -1 & 0 & 0 & 0 & 0 & 0 & 1 & 0 & 0 & 0 & 0 & $\\dots$ \\\\\n",
       "\t26 & 0 & -1 & 0 & 0 & 0 & 0 & 0 & 0 & 1 & 0 & 0 & 0 & $\\dots$ \\\\\n",
       "\t27 & 0 & -1 & 0 & 0 & 0 & 0 & 0 & 0 & 0 & 1 & 0 & 0 & $\\dots$ \\\\\n",
       "\t28 & 0 & -1 & 0 & 0 & 0 & 0 & 0 & 0 & 0 & 0 & 1 & 0 & $\\dots$ \\\\\n",
       "\t29 & 0 & -1 & 0 & 0 & 0 & 0 & 0 & 0 & 0 & 0 & 0 & 1 & $\\dots$ \\\\\n",
       "\t30 & 0 & -1 & 0 & 0 & 0 & 0 & 0 & 0 & 0 & 0 & 0 & 0 & $\\dots$ \\\\\n",
       "\t$\\dots$ & $\\dots$ & $\\dots$ & $\\dots$ & $\\dots$ & $\\dots$ & $\\dots$ & $\\dots$ & $\\dots$ & $\\dots$ & $\\dots$ & $\\dots$ & $\\dots$ &  \\\\\n",
       "\\end{tabular}\n"
      ],
      "text/plain": [
       "\u001b[1m342×36 DataFrame\u001b[0m\n",
       "\u001b[1m Row \u001b[0m│\u001b[1m S1    \u001b[0m\u001b[1m S2    \u001b[0m\u001b[1m S3    \u001b[0m\u001b[1m S4    \u001b[0m\u001b[1m S5    \u001b[0m\u001b[1m S6    \u001b[0m\u001b[1m S7    \u001b[0m\u001b[1m S8    \u001b[0m\u001b[1m S9    \u001b[0m\u001b[1m S10   \u001b[0m\u001b[1m S\u001b[0m ⋯\n",
       "\u001b[1m     \u001b[0m│\u001b[90m Int64 \u001b[0m\u001b[90m Int64 \u001b[0m\u001b[90m Int64 \u001b[0m\u001b[90m Int64 \u001b[0m\u001b[90m Int64 \u001b[0m\u001b[90m Int64 \u001b[0m\u001b[90m Int64 \u001b[0m\u001b[90m Int64 \u001b[0m\u001b[90m Int64 \u001b[0m\u001b[90m Int64 \u001b[0m\u001b[90m I\u001b[0m ⋯\n",
       "─────┼──────────────────────────────────────────────────────────────────────────\n",
       "   1 │    -1      1      0      0      0      0      0      0      0      0    ⋯\n",
       "   2 │    -1      0      1      0      0      0      0      0      0      0\n",
       "   3 │    -1      0      0      1      0      0      0      0      0      0\n",
       "   4 │    -1      0      0      0      1      0      0      0      0      0\n",
       "   5 │    -1      0      0      0      0      1      0      0      0      0    ⋯\n",
       "   6 │    -1      0      0      0      0      0      1      0      0      0\n",
       "   7 │    -1      0      0      0      0      0      0      1      0      0\n",
       "   8 │    -1      0      0      0      0      0      0      0      1      0\n",
       "   9 │    -1      0      0      0      0      0      0      0      0      1    ⋯\n",
       "  10 │    -1      0      0      0      0      0      0      0      0      0\n",
       "  11 │    -1      0      0      0      0      0      0      0      0      0\n",
       "  ⋮  │   ⋮      ⋮      ⋮      ⋮      ⋮      ⋮      ⋮      ⋮      ⋮      ⋮      ⋱\n",
       " 333 │     1      1      1      1      1      1      1      1      2      1\n",
       " 334 │     1      1      1      1      1      1      1      1      1      2    ⋯\n",
       " 335 │     1      1      1      1      1      1      1      1      1      1\n",
       " 336 │     1      1      1      1      1      1      1      1      1      1\n",
       " 337 │     1      1      1      1      1      1      1      1      1      1\n",
       " 338 │     1      1      1      1      1      1      1      1      1      1    ⋯\n",
       " 339 │     1      1      1      1      1      1      1      1      1      1\n",
       " 340 │     1      1      1      1      1      1      1      1      1      1\n",
       " 341 │     1      1      1      1      1      1      1      1      1      1\n",
       " 342 │     1      1      1      1      1      1      1      1      1      1    ⋯\n",
       "\u001b[36m                                                 26 columns and 321 rows omitted\u001b[0m"
      ]
     },
     "execution_count": 89,
     "metadata": {},
     "output_type": "execute_result"
    }
   ],
   "source": [
    "# destinations and sources index\n",
    "n_index_valid = n_index[valid_index]\n",
    "i_index_valid = i_index[valid_index]\n",
    "\n",
    "# ln(X'ni/X'nn)\n",
    "normalized_trade_prime_valid = normalized_trade_prime[valid_index]\n",
    "\n",
    "# ln (Xni/Xn)/(Xii/Xi)\n",
    "normalized_trade_share_valid = normalized_trade_share[valid_index]\n",
    "\n",
    "# exp(D_{ni})，用于 Figure 2\n",
    "Dni_valid = Dni[valid_index]\n",
    "price_measure = exp.(Dni_valid) \n",
    "\n",
    "# ln_distance\n",
    "ln_distance_valid = ln_distance[valid_index]\n",
    "\n",
    "# 距离、边界、语言、RTA等虚拟变量\n",
    "geography_dummy_valid = geography_dummy[valid_index, :]\n",
    "\n",
    "# 国家虚拟变量\n",
    "relative_source_dummy_valid = relative_source_dummy[valid_index, :]\n",
    "relative_destination_dummy_valid = relative_destination_dummy[valid_index, :]\n",
    "country_dummy_valid = hcat(relative_source_dummy_valid, relative_destination_dummy_valid)\n",
    "# names(country_dummy_valid) # country_dummy_valid 是一个 DataFrame"
   ]
  },
  {
   "cell_type": "markdown",
   "metadata": {},
   "source": [
    "## Section 3\n",
    "\n",
    "\n",
    "\n",
    "\n",
    "\n",
    "\n"
   ]
  },
  {
   "cell_type": "markdown",
   "metadata": {},
   "source": [
    "### Figure I"
   ]
  },
  {
   "cell_type": "code",
   "execution_count": 90,
   "metadata": {},
   "outputs": [
    {
     "data": {
      "text/plain": [
       "(3.70330780199431e-5, 0.35848984394233474)"
      ]
     },
     "execution_count": 90,
     "metadata": {},
     "output_type": "execute_result"
    }
   ],
   "source": [
    "lowest, highest = exp.(normalized_trade_share_valid) |> extrema"
   ]
  },
  {
   "cell_type": "code",
   "execution_count": 95,
   "metadata": {},
   "outputs": [
    {
     "name": "stdout",
     "output_type": "stream",
     "text": [
      "0.35848984394233474\n"
     ]
    }
   ],
   "source": [
    "# 标准化贸易份额的最大值\n",
    "println(highest)"
   ]
  },
  {
   "cell_type": "code",
   "execution_count": 92,
   "metadata": {},
   "outputs": [
    {
     "data": {
      "text/plain": [
       "3.9858870464473295"
      ]
     },
     "execution_count": 92,
     "metadata": {},
     "output_type": "execute_result"
    }
   ],
   "source": [
    "# 横跨近四个数量级\n",
    "log(10, highest/lowest)"
   ]
  },
  {
   "cell_type": "markdown",
   "metadata": {},
   "source": [
    "### Figure II"
   ]
  },
  {
   "cell_type": "code",
   "execution_count": 96,
   "metadata": {},
   "outputs": [
    {
     "data": {
      "text/plain": [
       "-0.40417825378100086"
      ]
     },
     "execution_count": 96,
     "metadata": {},
     "output_type": "execute_result"
    }
   ],
   "source": [
    "# 相关系数 correlation\n",
    "cor(Dni_valid, normalized_trade_share_valid)"
   ]
  },
  {
   "cell_type": "markdown",
   "metadata": {},
   "source": [
    "### Table II\n",
    "\n",
    "略"
   ]
  },
  {
   "cell_type": "markdown",
   "metadata": {},
   "source": [
    "### 用 (12) 式估计 $\\theta$\n",
    "\n",
    "以 $\\ln (Xni/Xn)/(Xii/Xi)$ 为被解释变量，以 $D_{ni}$ 为解释变量，估计出来的系数是 $-\\theta$，因此 $\\theta$ 值还要取一个负号。"
   ]
  },
  {
   "cell_type": "markdown",
   "metadata": {},
   "source": [
    "#### Moments Estimation\n",
    "\n",
    "最简单的一阶矩估计"
   ]
  },
  {
   "cell_type": "code",
   "execution_count": 98,
   "metadata": {},
   "outputs": [
    {
     "data": {
      "text/plain": [
       "-8.27592961561157"
      ]
     },
     "execution_count": 98,
     "metadata": {},
     "output_type": "execute_result"
    }
   ],
   "source": [
    "x_center = mean(Dni_valid)\n",
    "y_center = mean(normalized_trade_share_valid)\n",
    "theta = y_center / x_center"
   ]
  },
  {
   "cell_type": "markdown",
   "metadata": {},
   "source": [
    "$\\therefore  \\theta=8.28$"
   ]
  },
  {
   "cell_type": "markdown",
   "metadata": {},
   "source": [
    "## Section 5.3\n",
    "\n",
    "估计一个模型：以 $\\ln (X_{ni}'/X_{nn}')$ 为被解释变量，以 geography_dummies 为工具变量，包括距离、边界、语言、RTA 等，以 source & destination dummies 为外生解释变量，解释内生变量 $D_{ni}$\n",
    "\n",
    "### IV Estimation\n",
    "\n",
    "调用计量生态非常完善的 R 语言进行 IV 回归"
   ]
  },
  {
   "cell_type": "code",
   "execution_count": 102,
   "metadata": {},
   "outputs": [
    {
     "data": {
      "text/plain": [
       "RObject{VecSxp}\n",
       "  normalized_trade_prime_valid Dni_valid dist2 dist3 dist4 dist5 dist6 border\n",
       "1                       -7.410 0.4218053     0     0     0     0     1      0\n",
       "2                      -10.074 0.3989645     0     0     0     0     1      0\n",
       "3                       -5.826 0.4690127     0     0     0     0     1      0\n",
       "4                       -8.206 0.5839384     0     0     0     0     1      0\n",
       "5                       -6.461 0.6069042     0     0     0     0     1      0\n",
       "6                       -5.176 0.4485565     0     0     0     0     1      0\n",
       "  common_language both_in_EU both_in_EFTA S1 S2 S3 S4 S5 S6 S7 S8 S9 S10 S11\n",
       "1               0          0            0 -1  1  0  0  0  0  0  0  0   0   0\n",
       "2               0          0            0 -1  0  1  0  0  0  0  0  0   0   0\n",
       "3               1          0            0 -1  0  0  1  0  0  0  0  0   0   0\n",
       "4               0          0            0 -1  0  0  0  1  0  0  0  0   0   0\n",
       "5               0          0            0 -1  0  0  0  0  1  0  0  0   0   0\n",
       "6               0          0            0 -1  0  0  0  0  0  1  0  0   0   0\n",
       "  S12 S13 S14 S15 S16 S17 S18 m1 m2 m3 m4 m5 m6 m7 m8 m9 m10 m11 m12 m13 m14\n",
       "1   0   0   0   0   0   0   0  1  0  0  0  0  0  0  0  0   0   0   0   0   0\n",
       "2   0   0   0   0   0   0   0  1  0  0  0  0  0  0  0  0   0   0   0   0   0\n",
       "3   0   0   0   0   0   0   0  1  0  0  0  0  0  0  0  0   0   0   0   0   0\n",
       "4   0   0   0   0   0   0   0  1  0  0  0  0  0  0  0  0   0   0   0   0   0\n",
       "5   0   0   0   0   0   0   0  1  0  0  0  0  0  0  0  0   0   0   0   0   0\n",
       "6   0   0   0   0   0   0   0  1  0  0  0  0  0  0  0  0   0   0   0   0   0\n",
       "  m15 m16 m17 m18\n",
       "1   0   0   0   0\n",
       "2   0   0   0   0\n",
       "3   0   0   0   0\n",
       "4   0   0   0   0\n",
       "5   0   0   0   0\n",
       "6   0   0   0   0\n"
      ]
     },
     "execution_count": 102,
     "metadata": {},
     "output_type": "execute_result"
    }
   ],
   "source": [
    "# 将 julia 变量转变为 R 变量\n",
    "R\"\"\"\n",
    "normalized_trade_prime_valid <- $normalized_trade_prime_valid\n",
    "geography_dummy_valid <- $geography_dummy_valid\n",
    "country_dummy_valid <- $country_dummy_valid\n",
    "Dni_valid <- $Dni_valid\n",
    "\n",
    "TSLS_data <- cbind(normalized_trade_prime_valid, Dni_valid, geography_dummy_valid, country_dummy_valid)\n",
    "\n",
    "head(TSLS_data)\n",
    "\"\"\""
   ]
  },
  {
   "cell_type": "code",
   "execution_count": 103,
   "metadata": {
    "tags": []
   },
   "outputs": [
    {
     "data": {
      "text/plain": [
       "RObject{StrSxp}\n",
       "[1] \"normalized_trade_prime_valid ~ Dni_valid + S1 + S2 + S3 + S4 + S5 + S6 + S7 + S8 + S9 + S10 + S11 + S12 + S13 + S14 + S15 + S16 + S17 + S18 + m1 + m2 + m3 + m4 + m5 + m6 + m7 + m8 + m9 + m10 + m11 + m12 + m13 + m14 + m15 + m16 + m17 + m18 | dist2 + dist3 + dist4 + dist5 + dist6 + border + common_language + both_in_EU + both_in_EFTA + S1 + S2 + S3 + S4 + S5 + S6 + S7 + S8 + S9 + S10 + S11 + S12 + S13 + S14 + S15 + S16 + S17 + S18 + m1 + m2 + m3 + m4 + m5 + m6 + m7 + m8 + m9 + m10 + m11 + m12 + m13 + m14 + m15 + m16 + m17 + m18\"\n"
      ]
     },
     "execution_count": 103,
     "metadata": {},
     "output_type": "execute_result"
    }
   ],
   "source": [
    "# IV Regression 的公式\n",
    "R\"\"\"\n",
    "formula_exogenous <- colnames($country_dummy_valid) %>% str_c(collapse = \" + \")\n",
    "formula_instrument <- colnames($geography_dummy_valid) %>% str_c(collapse = \" + \")\n",
    "formula <- str_c(\n",
    "  \"normalized_trade_prime_valid ~ Dni_valid + \", formula_exogenous, \" | \",\n",
    "  formula_instrument, \" + \", formula_exogenous\n",
    ")\n",
    "\"\"\""
   ]
  },
  {
   "cell_type": "code",
   "execution_count": 105,
   "metadata": {},
   "outputs": [
    {
     "data": {
      "text/plain": [
       "RObject{VecSxp}\n",
       "\n",
       "Call:\n",
       "ivreg(formula = formula, data = TSLS_data)\n",
       "\n",
       "Residuals:\n",
       "     Min       1Q   Median       3Q      Max \n",
       "-4.03108 -0.87353 -0.07295  0.91475  5.54823 \n",
       "\n",
       "Coefficients:\n",
       "              Estimate Std. Error t value Pr(>|t|)    \n",
       "(Intercept)   2.690744   1.021376   2.634 0.008860 ** \n",
       "Dni_valid   -12.862154   1.736076  -7.409 1.27e-12 ***\n",
       "S1           -1.842036   0.330782  -5.569 5.65e-08 ***\n",
       "S2           -1.314255   0.336172  -3.909 0.000114 ***\n",
       "S3           -4.478607   0.398783 -11.231  < 2e-16 ***\n",
       "S4           -0.904355   0.324455  -2.787 0.005649 ** \n",
       "S5           -1.987282   0.339413  -5.855 1.24e-08 ***\n",
       "S6           -0.116991   0.323000  -0.362 0.717454    \n",
       "S7            1.468290   0.327295   4.486 1.03e-05 ***\n",
       "S8            1.982772   0.353079   5.616 4.42e-08 ***\n",
       "S9           -2.055326   0.330982  -6.210 1.74e-09 ***\n",
       "S10           1.167665   0.349046   3.345 0.000925 ***\n",
       "S11           5.101323   0.453382  11.252  < 2e-16 ***\n",
       "S12          -2.475357   0.343273  -7.211 4.43e-12 ***\n",
       "S13           0.247988   0.512895   0.484 0.629084    \n",
       "S14          -1.556102   0.337816  -4.606 6.03e-06 ***\n",
       "S15           0.932966   0.446422   2.090 0.037460 *  \n",
       "S16           0.219792   0.327012   0.672 0.502017    \n",
       "S17          -0.097743   0.334265  -0.292 0.770172    \n",
       "S18           1.245900   0.336963   3.697 0.000258 ***\n",
       "m1           -4.379061   0.516788  -8.474 1.04e-15 ***\n",
       "m2           -2.373090   0.526655  -4.506 9.44e-06 ***\n",
       "m3           -0.762720   0.625382  -1.220 0.223560    \n",
       "m4           -1.195235   0.470969  -2.538 0.011654 *  \n",
       "m5           -0.886755   0.508505  -1.744 0.082197 .  \n",
       "m6           -0.634263   0.469543  -1.351 0.177761    \n",
       "m7            0.461957   0.485230   0.952 0.341834    \n",
       "m8            0.638974   0.524368   1.219 0.223956    \n",
       "m9           -0.455004   0.508776  -0.894 0.371863    \n",
       "m10          -0.867693   0.520670  -1.666 0.096645 .  \n",
       "m11           3.217836   0.772093   4.168 4.02e-05 ***\n",
       "m12           0.455939   0.522336   0.873 0.383415    \n",
       "m13           0.621791   0.672382   0.925 0.355825    \n",
       "m14           0.008904   0.469333   0.019 0.984876    \n",
       "m15           1.569687   0.564966   2.778 0.005803 ** \n",
       "m16          -1.578771   0.488795  -3.230 0.001374 ** \n",
       "m17           0.990810   0.469322   2.111 0.035575 *  \n",
       "m18           1.106633   0.483976   2.287 0.022910 *  \n",
       "\n",
       "Diagnostic tests:\n",
       "                 df1 df2 statistic  p-value    \n",
       "Weak instruments   9 296     8.176 7.44e-11 ***\n",
       "Wu-Hausman         1 303   173.953  < 2e-16 ***\n",
       "Sargan             8  NA    47.419 1.28e-07 ***\n",
       "---\n",
       "Signif. codes:  0 '***' 0.001 '**' 0.01 '*' 0.05 '.' 0.1 ' ' 1\n",
       "\n",
       "Residual standard error: 1.406 on 304 degrees of freedom\n",
       "Multiple R-Squared: 0.7955,\tAdjusted R-squared: 0.7706 \n",
       "Wald test: 38.05 on 37 and 304 DF,  p-value: < 2.2e-16 \n",
       "\n"
      ]
     },
     "execution_count": 105,
     "metadata": {},
     "output_type": "execute_result"
    }
   ],
   "source": [
    "R\"\"\"\n",
    "fit_iv_3 <- ivreg(formula = formula, data = TSLS_data)\n",
    "summary(fit_iv_3, test = TRUE)\n",
    "\"\"\""
   ]
  },
  {
   "cell_type": "markdown",
   "metadata": {},
   "source": [
    "由 Dni_valid 的系数可知 $\\theta=12.86(1.74)$"
   ]
  },
  {
   "cell_type": "markdown",
   "metadata": {},
   "source": [
    "## Section 5.1"
   ]
  },
  {
   "cell_type": "markdown",
   "metadata": {},
   "source": [
    "### Table III\n",
    "\n",
    "估计 (30) 式"
   ]
  },
  {
   "cell_type": "markdown",
   "metadata": {},
   "source": [
    "#### OLS Estimation"
   ]
  },
  {
   "cell_type": "code",
   "execution_count": 107,
   "metadata": {},
   "outputs": [
    {
     "data": {
      "text/plain": [
       "RObject{VecSxp}\n",
       "\n",
       "Call:\n",
       "lm(formula = normalized_trade_prime_valid ~ 0 + ., data = table3_data)\n",
       "\n",
       "Residuals:\n",
       "     Min       1Q   Median       3Q      Max \n",
       "-1.37812 -0.28260  0.00324  0.27485  1.35971 \n",
       "\n",
       "Coefficients:\n",
       "                 Estimate Std. Error t value Pr(>|t|)    \n",
       "dist1           -3.102440   0.154903 -20.028  < 2e-16 ***\n",
       "dist2           -3.665941   0.106969 -34.271  < 2e-16 ***\n",
       "dist3           -4.033395   0.095713 -42.141  < 2e-16 ***\n",
       "dist4           -4.218077   0.153080 -27.555  < 2e-16 ***\n",
       "dist5           -6.064372   0.087005 -69.701  < 2e-16 ***\n",
       "dist6           -6.558933   0.097792 -67.070  < 2e-16 ***\n",
       "border           0.303564   0.137159   2.213 0.027645 *  \n",
       "common_language  0.510080   0.145505   3.506 0.000526 ***\n",
       "both_in_EU       0.035912   0.121613   0.295 0.767974    \n",
       "both_in_EFTA     0.536071   0.182563   2.936 0.003581 ** \n",
       "S1               0.192558   0.149741   1.286 0.199471    \n",
       "S2              -1.161839   0.128054  -9.073  < 2e-16 ***\n",
       "S3              -3.335625   0.118827 -28.071  < 2e-16 ***\n",
       "S4               0.411561   0.141915   2.900 0.004010 ** \n",
       "S5              -1.749550   0.121735 -14.372  < 2e-16 ***\n",
       "S6              -0.522466   0.129777  -4.026 7.22e-05 ***\n",
       "S7               1.281384   0.118952  10.772  < 2e-16 ***\n",
       "S8               2.352748   0.121609  19.347  < 2e-16 ***\n",
       "S9              -2.813521   0.122484 -22.971  < 2e-16 ***\n",
       "S10              1.781510   0.120437  14.792  < 2e-16 ***\n",
       "S11              4.198787   0.132413  31.710  < 2e-16 ***\n",
       "S12             -2.189319   0.120839 -18.118  < 2e-16 ***\n",
       "S13             -1.197687   0.149741  -7.998 2.87e-14 ***\n",
       "S14             -1.346152   0.129424 -10.401  < 2e-16 ***\n",
       "S15             -1.573180   0.126130 -12.473  < 2e-16 ***\n",
       "S16              0.303089   0.121268   2.499 0.012984 *  \n",
       "S17              0.009816   0.129869   0.076 0.939800    \n",
       "S18              1.374167   0.121654  11.296  < 2e-16 ***\n",
       "m1               0.236221   0.256161   0.922 0.357197    \n",
       "m2              -1.678415   0.203764  -8.237 5.75e-15 ***\n",
       "m3               1.120118   0.180023   6.222 1.67e-09 ***\n",
       "m4               0.688596   0.237671   2.897 0.004045 ** \n",
       "m5              -0.505889   0.187633  -2.696 0.007416 ** \n",
       "m6              -1.334488   0.207808  -6.422 5.36e-10 ***\n",
       "m7               0.218294   0.180352   1.210 0.227099    \n",
       "m8               0.998812   0.187305   5.333 1.93e-07 ***\n",
       "m9              -2.356411   0.189573 -12.430  < 2e-16 ***\n",
       "m10              0.070178   0.184252   0.381 0.703566    \n",
       "m11              1.584890   0.214620   7.385 1.56e-12 ***\n",
       "m12              1.004782   0.185301   5.422 1.22e-07 ***\n",
       "m13              0.066574   0.256161   0.260 0.795129    \n",
       "m14             -1.000409   0.207199  -4.828 2.21e-06 ***\n",
       "m15             -1.206780   0.198907  -6.067 3.97e-09 ***\n",
       "m16             -1.156611   0.186420  -6.204 1.85e-09 ***\n",
       "m17             -0.024864   0.208183  -0.119 0.905012    \n",
       "m18              0.816808   0.187422   4.358 1.81e-05 ***\n",
       "---\n",
       "Signif. codes:  0 '***' 0.001 '**' 0.01 '*' 0.05 '.' 0.1 ' ' 1\n",
       "\n",
       "Residual standard error: 0.4913 on 296 degrees of freedom\n",
       "Multiple R-squared:  0.9935,\tAdjusted R-squared:  0.9925 \n",
       "F-statistic: 984.2 on 46 and 296 DF,  p-value: < 2.2e-16\n",
       "\n"
      ]
     },
     "execution_count": 107,
     "metadata": {},
     "output_type": "execute_result"
    }
   ],
   "source": [
    "# 组织数据框 country_dummy_valid\n",
    "dist1_valid = select(regression_data, :dist1)[valid_index, :]\n",
    "\n",
    "R\"\"\"\n",
    "dist1_valid = $dist1_valid\n",
    "table3_data <- cbind(\n",
    "  normalized_trade_prime_valid, dist1_valid, \n",
    "  geography_dummy_valid, country_dummy_valid\n",
    ") %>%\n",
    "  as.data.table()\n",
    "\"\"\"\n",
    "\n",
    "# OLS\n",
    "R\"\"\"\n",
    "lm_table3 <- lm(normalized_trade_prime_valid ~ 0 + ., data = table3_data)\n",
    "summary(lm_table3)\n",
    "\"\"\""
   ]
  },
  {
   "cell_type": "markdown",
   "metadata": {},
   "source": [
    "#### GLS Estimation"
   ]
  },
  {
   "cell_type": "markdown",
   "metadata": {},
   "source": [
    "由 OLS 求得所有观测的残差，并将其扩展为矩阵，作为估计误差协方差的材料"
   ]
  },
  {
   "cell_type": "code",
   "execution_count": 145,
   "metadata": {},
   "outputs": [
    {
     "data": {
      "text/plain": [
       "342-element Vector{Float64}:\n",
       "  0.26710921745985877\n",
       " -0.22310474152276913\n",
       " -0.23237131020166074\n",
       "  0.05882016120789624\n",
       "  0.5767360492265539\n",
       "  0.0578861212953678\n",
       "  0.2445219105565101\n",
       "  0.2367914225540818\n",
       "  0.20576016358833596\n",
       " -0.21807789105839218\n",
       " -0.09641040317678974\n",
       " -0.2826610870634795\n",
       " -0.27557808278459445\n",
       "  ⋮\n",
       "  0.24311124375067117\n",
       "  0.21974703301183413\n",
       "  0.058016545009404785\n",
       "  0.14098528604366617\n",
       "  0.8312692293526632\n",
       " -0.15918528072144278\n",
       " -0.11033725447412963\n",
       "  0.048647039670719226\n",
       " -0.461325116217156\n",
       "  0.03840621065375502\n",
       "  0.13167913039185403\n",
       "  0.10924793985045207"
      ]
     },
     "execution_count": 145,
     "metadata": {},
     "output_type": "execute_result"
    }
   ],
   "source": [
    "R\"res <-lm_table3$residuals\"\n",
    "@rget res"
   ]
  },
  {
   "cell_type": "code",
   "execution_count": 146,
   "metadata": {},
   "outputs": [
    {
     "data": {
      "text/plain": [
       "342×342 Matrix{Float64}:\n",
       "  0.0713473  -0.0595933   -0.0620685  …   0.0351727    0.0291811\n",
       " -0.0595933   0.0497757    0.0518431     -0.0293782   -0.0243737\n",
       " -0.0620685   0.0518431    0.0539964     -0.0305985   -0.0253861\n",
       "  0.0157114  -0.0131231   -0.0136681      0.00774539   0.00642598\n",
       "  0.154052   -0.128673    -0.134017       0.0759441    0.0630072\n",
       "  0.0154619  -0.0129147   -0.0134511  …   0.00762239   0.00632394\n",
       "  0.0653141  -0.054554    -0.0568199      0.0321984    0.0267135\n",
       "  0.0632492  -0.0528293   -0.0550235      0.0311805    0.025869\n",
       "  0.0549604  -0.0459061   -0.0478128      0.0270943    0.0224789\n",
       " -0.0582506   0.0486542    0.050675      -0.0287163   -0.0238246\n",
       " -0.0257521   0.0215096    0.022403   …  -0.0126952   -0.0105326\n",
       " -0.0755014   0.063063     0.0656823     -0.0372206   -0.0308801\n",
       " -0.0736094   0.0614828    0.0640364     -0.0362879   -0.0301063\n",
       "  ⋮                                   ⋱   ⋮           \n",
       "  0.0649373  -0.0542393   -0.0564921  …   0.0320127    0.0265594\n",
       "  0.0586965  -0.0490266   -0.0510629      0.0289361    0.0240069\n",
       "  0.0154968  -0.0129438   -0.0134814      0.00763957   0.00633819\n",
       "  0.0376585  -0.0314545   -0.0327609      0.0185648    0.0154024\n",
       "  0.22204    -0.18546     -0.193163       0.109461     0.0908145\n",
       " -0.0425199   0.035515     0.0369901  …  -0.0209614   -0.0173907\n",
       " -0.0294721   0.0246168    0.0256392     -0.0145291   -0.0120541\n",
       "  0.0129941  -0.0108534   -0.0113042      0.0064058    0.00531459\n",
       " -0.123224    0.102924     0.107199      -0.0607469   -0.0503988\n",
       "  0.0102587  -0.00856861  -0.0089245      0.0050573    0.0041958\n",
       "  0.0351727  -0.0293782   -0.0305985  …   0.0173394    0.0143857\n",
       "  0.0291811  -0.0243737   -0.0253861      0.0143857    0.0119351"
      ]
     },
     "execution_count": 146,
     "metadata": {},
     "output_type": "execute_result"
    }
   ],
   "source": [
    "ee_matrix = res * res'"
   ]
  },
  {
   "cell_type": "markdown",
   "metadata": {},
   "source": [
    "估计 $\\sigma_1^2 + \\sigma_2^2$"
   ]
  },
  {
   "cell_type": "code",
   "execution_count": 110,
   "metadata": {},
   "outputs": [
    {
     "data": {
      "text/plain": [
       "0.20891654679896704"
      ]
     },
     "execution_count": 110,
     "metadata": {},
     "output_type": "execute_result"
    }
   ],
   "source": [
    "sigma_square_sum = diag(ee_matrix) |> mean"
   ]
  },
  {
   "cell_type": "markdown",
   "metadata": {},
   "source": [
    "和大概是 $0.21$\n",
    "\n",
    "然后估计 $\\sigma_2^2$，关键是计算国家对 (n, i) 和 (i, n) 分别在 `ee_matrix` 中的 indice"
   ]
  },
  {
   "cell_type": "code",
   "execution_count": 129,
   "metadata": {},
   "outputs": [
    {
     "data": {
      "text/plain": [
       "RObject{VecSxp}\n",
       "      n  i index\n",
       "  1:  1  2     1\n",
       "  2:  1  3     2\n",
       "  3:  1  4     3\n",
       "  4:  1  5     4\n",
       "  5:  1  6     5\n",
       " ---            \n",
       "338: 19 14   338\n",
       "339: 19 15   339\n",
       "340: 19 16   340\n",
       "341: 19 17   341\n",
       "342: 19 18   342\n"
      ]
     },
     "execution_count": 129,
     "metadata": {},
     "output_type": "execute_result"
    }
   ],
   "source": [
    "R\"\"\"\n",
    "observation_valid <- data.table(n = $n_index_valid, i = $i_index_valid) %>%\n",
    "  `[`(, index := .I)\n",
    "\n",
    "print(observation_valid)\n",
    "\"\"\""
   ]
  },
  {
   "cell_type": "code",
   "execution_count": 134,
   "metadata": {},
   "outputs": [
    {
     "data": {
      "text/plain": [
       "RObject{RealSxp}\n",
       "[1] 0.05064993\n"
      ]
     },
     "execution_count": 134,
     "metadata": {},
     "output_type": "execute_result"
    }
   ],
   "source": [
    "# 遍历每一对 (n, i)，找到其与 (i, n) 在 ee_matrix 中对应的元素\n",
    "# 把这 342 个元素加起来就平均，就是 σ2^2 的估计值\n",
    "R\"\"\"\n",
    "sigma2_square <- observation_valid$index %>%\n",
    "  map_dbl(function(row_index) {\n",
    "    n_row <- observation_valid$n[row_index]\n",
    "    i_row <- observation_valid$i[row_index]\n",
    "    col_index <- observation_valid[n == i_row & i == n_row, ]$index\n",
    "    $ee_matrix[row_index, col_index]\n",
    "  }) %>%\n",
    "  mean()\n",
    "\n",
    "sigma2_square\n",
    "\"\"\"\n",
    "# $ee_matrix 前面的 $ 表示这个矩阵本来是 julia 变量"
   ]
  },
  {
   "cell_type": "markdown",
   "metadata": {},
   "source": [
    "$\\sigma_2^2=0.05$"
   ]
  },
  {
   "cell_type": "code",
   "execution_count": 135,
   "metadata": {},
   "outputs": [
    {
     "data": {
      "text/plain": [
       "0.1582666192392282"
      ]
     },
     "execution_count": 135,
     "metadata": {},
     "output_type": "execute_result"
    }
   ],
   "source": [
    "sigma_square_sum - @rget sigma2_square "
   ]
  },
  {
   "cell_type": "markdown",
   "metadata": {},
   "source": [
    "$\\sigma_1^2 = 0.16$\n",
    "\n",
    "有了 $\\sigma_1^2$ 和 $\\sigma_2^2$，就可以构建 $342 \\times 342$ 的误差协方差矩阵 $\\Omega$ "
   ]
  },
  {
   "cell_type": "code",
   "execution_count": 138,
   "metadata": {},
   "outputs": [],
   "source": [
    "R\"\"\"\n",
    "Omega <- diag(nrow(observation_valid)) * $sigma_square_sum\n",
    "\n",
    "observation_valid$index %>%\n",
    "  walk(function(row_index) {\n",
    "    n_row <- observation_valid$n[row_index]\n",
    "    i_row <- observation_valid$i[row_index]\n",
    "    col_index <- observation_valid[n == i_row & i == n_row, ]$index\n",
    "    Omega[row_index, col_index] <<- sigma2_square \n",
    "  })\n",
    "\n",
    "Omega %>%\n",
    "  round(2) %>%\n",
    "  as.data.table()\n",
    "\"\"\";"
   ]
  },
  {
   "cell_type": "code",
   "execution_count": 142,
   "metadata": {},
   "outputs": [
    {
     "data": {
      "text/plain": [
       "RObject{RealSxp}\n",
       "[1] 0.2464564\n"
      ]
     },
     "execution_count": 142,
     "metadata": {},
     "output_type": "execute_result"
    }
   ],
   "source": [
    "# 求逆\n",
    "R\"Omega_inverse <- solve(Omega)\"\n",
    "\n",
    "# GLS estimation\n",
    "R\"\"\"\n",
    "Y <- table3_data$normalized_trade_prime_valid\n",
    "X <- table3_data[, -1] %>% as.matrix()\n",
    "\n",
    "# 3 most important results\n",
    "estimate <- solve(t(X) %*% Omega_inverse %*% X) %*% t(X) %*% Omega_inverse %*% Y\n",
    "estimate_S19 <- -estimate[11:28] %>% sum() \n",
    "estimate_m19 <- -estimate[29:46] %>% sum()\n",
    "\n",
    "var_estimate <- solve(t(X) %*% Omega_inverse %*% X)\n",
    "stand_error <- diag(var_estimate) %>% sqrt()\n",
    "stand_error_S19 <- var_estimate[11:28, 11:28] %>%\n",
    "  sum() %>% \n",
    "  sqrt()\n",
    "stand_error_m19 <- var_estimate[29:46, 29:46] %>%\n",
    "  sum() %>%\n",
    "  sqrt()\n",
    "\"\"\""
   ]
  },
  {
   "cell_type": "code",
   "execution_count": 140,
   "metadata": {},
   "outputs": [
    {
     "data": {
      "text/plain": [
       "RObject{VecSxp}\n",
       "                               Variable         parameter  est.   s.e.\n",
       " 1:                   Distance [0, 375)  $-\\\\theta d_{1}$ -3.10 (0.16)\n",
       " 2:                 Distance [375, 750)  $-\\\\theta d_{2}$ -3.66 (0.11)\n",
       " 3:                Distance [750, 1500)  $-\\\\theta d_{3}$ -4.03  (0.1)\n",
       " 4:               Distance [1500, 3000)  $-\\\\theta d_{4}$ -4.22 (0.16)\n",
       " 5:               Distance [3000, 6000)  $-\\\\theta d_{5}$ -6.06 (0.09)\n",
       " 6:            Distance [6000, maximum)  $-\\\\theta d_{6}$ -6.56  (0.1)\n",
       " 7:                       Shared border      $-\\\\theta b$  0.30 (0.14)\n",
       " 8:                     Shared language      $-\\\\theta l$  0.51 (0.15)\n",
       " 9:                      Both in EEC/EU    $-\\\\theta e_1$  0.04 (0.13)\n",
       "10:                        Both in EFTA    $-\\\\theta e_2$  0.54 (0.19)\n",
       "11:           Source country: Australia           $S_{1}$  0.19 (0.15)\n",
       "12:             Source country: Austria           $S_{2}$ -1.16 (0.12)\n",
       "13:             Source country: Belgium           $S_{3}$ -3.34 (0.11)\n",
       "14:              Source country: Canada           $S_{4}$  0.41 (0.14)\n",
       "15:             Source country: Denmark           $S_{5}$ -1.75 (0.12)\n",
       "16:             Source country: Finland           $S_{6}$ -0.52 (0.12)\n",
       "17:              Source country: France           $S_{7}$  1.28 (0.11)\n",
       "18:             Source country: Germany           $S_{8}$  2.35 (0.12)\n",
       "19:              Source country: Greece           $S_{9}$ -2.81 (0.12)\n",
       "20:               Source country: Italy          $S_{10}$  1.78 (0.11)\n",
       "21:               Source country: Japan          $S_{11}$  4.20 (0.13)\n",
       "22:         Source country: Netherlands          $S_{12}$ -2.19 (0.11)\n",
       "23:         Source country: New Zealand          $S_{13}$ -1.20 (0.15)\n",
       "24:              Source country: Norway          $S_{14}$ -1.35 (0.12)\n",
       "25:            Source country: Portugal          $S_{15}$ -1.57 (0.12)\n",
       "26:               Source country: Spain          $S_{16}$  0.30 (0.12)\n",
       "27:              Source country: Sweden          $S_{17}$  0.01 (0.12)\n",
       "28:      Source country: United Kingdom          $S_{18}$  1.37 (0.12)\n",
       "29:       Source country: United States          $S_{19}$  3.98 (0.14)\n",
       "30:      Destination country: Australia  $-\\\\theta m_{1}$  0.24 (0.27)\n",
       "31:        Destination country: Austria  $-\\\\theta m_{2}$ -1.68 (0.21)\n",
       "32:        Destination country: Belgium  $-\\\\theta m_{3}$  1.12 (0.19)\n",
       "33:         Destination country: Canada  $-\\\\theta m_{4}$  0.69 (0.25)\n",
       "34:        Destination country: Denmark  $-\\\\theta m_{5}$ -0.51 (0.19)\n",
       "35:        Destination country: Finland  $-\\\\theta m_{6}$ -1.33 (0.22)\n",
       "36:         Destination country: France  $-\\\\theta m_{7}$  0.22 (0.19)\n",
       "37:        Destination country: Germany  $-\\\\theta m_{8}$  1.00 (0.19)\n",
       "38:         Destination country: Greece  $-\\\\theta m_{9}$ -2.36  (0.2)\n",
       "39:          Destination country: Italy $-\\\\theta m_{10}$  0.07 (0.19)\n",
       "40:          Destination country: Japan $-\\\\theta m_{11}$  1.59 (0.22)\n",
       "41:    Destination country: Netherlands $-\\\\theta m_{12}$  1.00 (0.19)\n",
       "42:    Destination country: New Zealand $-\\\\theta m_{13}$  0.07 (0.27)\n",
       "43:         Destination country: Norway $-\\\\theta m_{14}$ -1.00 (0.21)\n",
       "44:       Destination country: Portugal $-\\\\theta m_{15}$ -1.21 (0.21)\n",
       "45:          Destination country: Spain $-\\\\theta m_{16}$ -1.16 (0.19)\n",
       "46:         Destination country: Sweden $-\\\\theta m_{17}$ -0.02 (0.22)\n",
       "47: Destination country: United Kingdom $-\\\\theta m_{18}$  0.81 (0.19)\n",
       "48:  Destination country: United States $-\\\\theta m_{19}$  2.46 (0.25)\n",
       "                               Variable         parameter  est.   s.e.\n"
      ]
     },
     "execution_count": 140,
     "metadata": {},
     "output_type": "execute_result"
    }
   ],
   "source": [
    "# Table III\n",
    "R\"\"\"\n",
    "country_table = $country_table\n",
    "\n",
    "gls_estimate <- c(\n",
    "  estimate[1:28], estimate_S19,\n",
    "  estimate[29:46], estimate_m19\n",
    ")\n",
    "gls_stand_error <- c(\n",
    "  stand_error[1:28], stand_error_S19,\n",
    "  stand_error[29:46], stand_error_m19\n",
    ")\n",
    "gls_parameters <- c(\n",
    "  1:6 %>% str_c(\"$-\\\\theta d_{\", ., \"}$\"),\n",
    "  \"$-\\\\theta b$\", \"$-\\\\theta l$\", \"$-\\\\theta e_1$\", \"$-\\\\theta e_2$\",\n",
    "  1:19 %>% str_c(\"$S_{\", ., \"}$\"),\n",
    "  1:19 %>% str_c(\"$-\\\\theta m_{\", ., \"}$\")\n",
    ")\n",
    "variable_names <- c(\n",
    "  \"Distance [0, 375)\", \"Distance [375, 750)\", \"Distance [750, 1500)\",\n",
    "  \"Distance [1500, 3000)\", \"Distance [3000, 6000)\", \"Distance [6000, maximum)\",\n",
    "  \"Shared border\", \"Shared language\", \"Both in EEC/EU\", \"Both in EFTA\",\n",
    "  country_table$name %>% str_c(\"Source country: \", .),\n",
    "  country_table$name %>% str_c(\"Destination country: \", .)\n",
    ")\n",
    "table3 <- data.table(\n",
    "  variables = variable_names,\n",
    "  parameters = gls_parameters,\n",
    "  estimate = round(gls_estimate, 2),\n",
    "  std_error = round(gls_stand_error, 2)\n",
    ")\n",
    "table3 %>%\n",
    "  mutate(std_error = str_c(\"(\", std_error, \")\")) %>%\n",
    "  set_colnames(c(\"Variable\", \"parameter\", \"est.\", \"s.e.\"))\n",
    "\"\"\""
   ]
  },
  {
   "cell_type": "markdown",
   "metadata": {},
   "source": [
    "#### 保存估计结果\n",
    "\n",
    "TABLE III 的估计值对于下一步的 simulation 非常重要。\n",
    "\n",
    "1. Source country dummy 的估计值可用于计算各国技术水平\n",
    "2. 由其他虚拟变量系数的估计值可计算 $-\\theta \\ln(d_{ni})$ 的拟合值。将此拟合值命名为 dni_measure，作为 simulation 阶段 $d_{ni}$ 的数据来源。"
   ]
  },
  {
   "cell_type": "code",
   "execution_count": 143,
   "metadata": {},
   "outputs": [
    {
     "data": {
      "text/plain": [
       "48-element Vector{Float64}:\n",
       " -3.0988894382941896\n",
       " -3.6644746503792227\n",
       " -4.033913793181222\n",
       " -4.218119636563016\n",
       " -6.064611056788359\n",
       " -6.559242863313434\n",
       "  0.29589042753579237\n",
       "  0.5116435425033292\n",
       "  0.036852237752088256\n",
       "  0.5368873669181912\n",
       "  0.19252598565463772\n",
       " -1.1615203059402226\n",
       " -3.335687477302917\n",
       "  ⋮\n",
       "  1.0009288113630217\n",
       " -2.356858064009086\n",
       "  0.07168151511607489\n",
       "  1.5854458660400519\n",
       "  1.003693320323712\n",
       "  0.06651017564366984\n",
       " -1.0010808302309326\n",
       " -1.2066736106364142\n",
       " -1.1556673871638703\n",
       " -0.024863434966116288\n",
       "  0.8138898124115957\n",
       "  2.4590933456243835"
      ]
     },
     "execution_count": 143,
     "metadata": {},
     "output_type": "execute_result"
    }
   ],
   "source": [
    "# Table III 估计出的 48 个系数\n",
    "table3_estimate = @rget gls_estimate"
   ]
  },
  {
   "cell_type": "code",
   "execution_count": 186,
   "metadata": {},
   "outputs": [
    {
     "data": {
      "text/plain": [
       "361×29 Matrix{Int64}:\n",
       " 1  0  0  0  0  0  0  1  0  0  1  0  0  …  0  0  0  0  0  0  0  0  0  0  0  0\n",
       " 0  0  0  0  0  1  0  0  0  0  1  0  0     0  0  0  0  0  0  0  0  0  0  0  0\n",
       " 0  0  0  0  0  1  0  0  0  0  1  0  0     0  0  0  0  0  0  0  0  0  0  0  0\n",
       " 0  0  0  0  0  1  0  1  0  0  1  0  0     0  0  0  0  0  0  0  0  0  0  0  0\n",
       " 0  0  0  0  0  1  0  0  0  0  1  0  0     0  0  0  0  0  0  0  0  0  0  0  0\n",
       " 0  0  0  0  0  1  0  0  0  0  1  0  0  …  0  0  0  0  0  0  0  0  0  0  0  0\n",
       " 0  0  0  0  0  1  0  0  0  0  1  0  0     0  0  0  0  0  0  0  0  0  0  0  0\n",
       " 0  0  0  0  0  1  0  0  0  0  1  0  0     0  0  0  0  0  0  0  0  0  0  0  0\n",
       " 0  0  0  0  0  1  0  0  0  0  1  0  0     0  0  0  0  0  0  0  0  0  0  0  0\n",
       " 0  0  0  0  0  1  0  0  0  0  1  0  0     0  0  0  0  0  0  0  0  0  0  0  0\n",
       " 0  0  0  0  1  0  0  0  0  0  1  0  0  …  0  0  0  0  0  0  0  0  0  0  0  0\n",
       " 0  0  0  0  0  1  0  0  0  0  1  0  0     0  0  0  0  0  0  0  0  0  0  0  0\n",
       " 0  0  1  0  0  0  0  1  0  0  1  0  0     0  0  0  0  0  0  0  0  0  0  0  0\n",
       " ⋮              ⋮              ⋮        ⋱           ⋮              ⋮        \n",
       " 0  0  0  0  1  0  0  0  0  0  0  0  0     0  0  0  0  0  0  0  0  0  0  0  1\n",
       " 0  0  0  0  1  0  0  0  0  0  0  0  0  …  0  0  0  0  0  0  0  0  0  0  0  1\n",
       " 0  0  0  0  1  0  0  0  0  0  0  0  0     0  0  0  0  0  0  0  0  0  0  0  1\n",
       " 0  0  0  0  0  1  0  0  0  0  0  0  0     0  0  0  0  0  0  0  0  0  0  0  1\n",
       " 0  0  0  0  1  0  0  0  0  0  0  0  0     0  0  0  0  0  0  0  0  0  0  0  1\n",
       " 0  0  0  0  0  1  0  1  0  0  0  0  0     0  0  0  0  0  0  0  0  0  0  0  1\n",
       " 0  0  0  0  1  0  0  0  0  0  0  0  0  …  0  0  0  0  0  0  0  0  0  0  0  1\n",
       " 0  0  0  0  1  0  0  0  0  0  0  0  0     0  0  0  0  0  0  0  0  0  0  0  1\n",
       " 0  0  0  0  1  0  0  0  0  0  0  0  0     0  0  0  0  0  0  0  0  0  0  0  1\n",
       " 0  0  0  0  1  0  0  0  0  0  0  0  0     0  0  0  0  0  0  0  0  0  0  0  1\n",
       " 0  0  0  0  1  0  0  1  0  0  0  0  0     0  0  0  0  0  0  0  0  0  0  0  1\n",
       " 1  0  0  0  0  0  0  1  0  0  0  0  0  …  0  0  0  0  0  0  0  0  0  0  0  1"
      ]
     },
     "execution_count": 186,
     "metadata": {},
     "output_type": "execute_result"
    }
   ],
   "source": [
    "# 拟合值: d_measure\n",
    "geography_dummy = Matrix(regression_data[!, [6:12;18:20]])\n",
    "barrier_dummy = hcat(geography_dummy, destination_dummy) # 保留 invalid 行，与前面不同"
   ]
  },
  {
   "cell_type": "code",
   "execution_count": 194,
   "metadata": {},
   "outputs": [
    {
     "data": {
      "text/plain": [
       "19×19 Matrix{Float64}:\n",
       "  0.0      -6.32309  -6.32309  -5.81144   …  -6.32309  -5.81144  -5.81144\n",
       " -8.23702   0.0      -5.34225  -7.74239      -5.1748   -5.71169  -7.74239\n",
       " -5.43925  -2.54448   0.0      -4.94462      -2.91392  -1.94204  -4.94462\n",
       " -5.35851  -5.37552  -5.37552   0.0          -5.37552  -4.86387  -2.16785\n",
       " -7.06717  -4.1724   -4.13555  -6.57254      -3.60681  -4.13555  -6.57254\n",
       " -7.89396  -4.83175  -5.36864  -7.39933   …  -3.60083  -5.36864  -7.39933\n",
       " -6.34016  -3.44539  -2.03542  -5.84553      -3.81483  -2.84296  -5.84553\n",
       " -5.55831  -1.29043  -2.3308   -5.06368      -2.66355  -2.62669  -5.06368\n",
       " -8.9161   -6.39077  -6.35392  -8.42147      -6.39077  -6.35392  -8.42147\n",
       " -6.48756  -3.2969   -3.55594  -5.99293      -3.96223  -3.92538  -5.99293\n",
       " -4.47917  -4.47917  -4.47917  -4.9738    …  -4.47917  -4.47917  -4.9738\n",
       " -5.55555  -2.66078  -1.76245  -5.06092      -2.66078  -2.05834  -5.06092\n",
       " -3.45576  -6.49273  -6.49273  -5.98109      -6.49273  -5.98109  -5.98109\n",
       " -7.56032  -4.49811  -4.66556  -7.06569      -3.26719  -4.66556  -7.06569\n",
       " -7.76592  -5.24059  -5.20374  -7.27128      -5.42479  -5.20374  -7.27128\n",
       " -7.71491  -5.18958  -5.15273  -7.22028   …  -5.37379  -5.15273  -7.22028\n",
       " -6.58411  -3.52189  -4.05878  -6.08947       0.0      -4.05878  -6.08947\n",
       " -5.23371  -3.22002  -2.24815  -4.73908      -3.22002   0.0      -4.73908\n",
       " -3.58851  -3.60552  -3.60552  -0.397847     -3.60552  -3.09387   0.0"
      ]
     },
     "execution_count": 194,
     "metadata": {},
     "output_type": "execute_result"
    }
   ],
   "source": [
    "barrier_estimate =table3_estimate[[1:10;30:48]] \n",
    "barrier_sum = barrier_dummy * barrier_estimate\n",
    "barrier_sum[n_index .== i_index] .= 0\n",
    "dni_measure = reshape(barrier_sum, N, N)' |> Matrix"
   ]
  },
  {
   "cell_type": "code",
   "execution_count": null,
   "metadata": {},
   "outputs": [],
   "source": [
    "\n"
   ]
  },
  {
   "cell_type": "code",
   "execution_count": 44,
   "metadata": {},
   "outputs": [],
   "source": [
    "save(\"../data/table3-output.jld\", \"table3_estimate\", table3_estimate, \"dni_measure\", dni_measure) "
   ]
  },
  {
   "cell_type": "markdown",
   "metadata": {},
   "source": [
    "# Counterfactual Simulation"
   ]
  },
  {
   "cell_type": "markdown",
   "metadata": {},
   "source": [
    "## Data Processing"
   ]
  },
  {
   "cell_type": "markdown",
   "metadata": {},
   "source": [
    "### Read Data"
   ]
  },
  {
   "cell_type": "code",
   "execution_count": 45,
   "metadata": {},
   "outputs": [
    {
     "data": {
      "text/plain": [
       "Dict{String, Any} with 2 entries:\n",
       "  \"table3_estimate\" => [-3.09889, -3.66447, -4.03391, -4.21812, -6.06461, -6.55…\n",
       "  \"dni_measure\"     => [0.0 -6.32309 … -5.81144 -5.81144; -8.23702 0.0 … -5.711…"
      ]
     },
     "execution_count": 45,
     "metadata": {},
     "output_type": "execute_result"
    }
   ],
   "source": [
    "# 国别原始数据\n",
    "nominal_variables = CSV.read(\"../data/nominal_variable.csv\", DataFrame)\n",
    "\n",
    "# TABLE III 中所有虚拟变量的系数估计值\n",
    "estimators = load(\"../data/table3-output.jld\")"
   ]
  },
  {
   "cell_type": "markdown",
   "metadata": {},
   "source": [
    "### Data Transformation"
   ]
  },
  {
   "cell_type": "code",
   "execution_count": 46,
   "metadata": {},
   "outputs": [],
   "source": [
    "## 1. θ\n",
    "θ = θs[2];\n",
    "\n",
    "## 2. exchange rate\n",
    "exchange_rate = nominal_variables.exchange_rate;"
   ]
  },
  {
   "cell_type": "code",
   "execution_count": 47,
   "metadata": {},
   "outputs": [],
   "source": [
    "## 3. bilateral trade data\n",
    "\n",
    "# nominal bilateral trade\n",
    "Xni_nominal = (select(nominal_variables, Not(1:6)) |> Matrix) .* 10^6 \n",
    "# real bilateral trade\n",
    "Xni = Xni_nominal ./ exchange_rate # 自动扩展除数为矩阵\n",
    "Xnn = diag(Xni)\n",
    "\n",
    "# expenditure on manufacturing goods\n",
    "Xn = mapslices(sum, Xni; dims=2)\n",
    "\n",
    "\n",
    "imports = Xn .- Xnn\n",
    "exports = mapslices(sum, Xni; dims=1)' .- Xnn;"
   ]
  },
  {
   "cell_type": "code",
   "execution_count": 48,
   "metadata": {},
   "outputs": [],
   "source": [
    "## 4. manufacturing labor and wage\n",
    "\n",
    "industrial_labor = nominal_variables.industrial_labor\n",
    "nominal_wage = nominal_variables.nominal_wage # 已经以美元计价\n",
    "edu_year = nominal_variables.edu_year\n",
    "effective_labor = industrial_labor .* exp.(0.06 .* edu_year)\n",
    "effective_wage = nominal_wage .* exp.(-0.06 .* edu_year);"
   ]
  },
  {
   "cell_type": "code",
   "execution_count": 49,
   "metadata": {},
   "outputs": [],
   "source": [
    "## 5. income/expenditure\n",
    "\n",
    "# GDP in dollars\n",
    "Y = nominal_variables.gdp .* (10^6) ./ exchange_rate\n",
    "# manufacturing labor income\n",
    "Y_l = effective_wage .* effective_labor\n",
    "# non-manufacturing income\n",
    "Y_o = Y .- Y_l;"
   ]
  },
  {
   "cell_type": "code",
   "execution_count": 50,
   "metadata": {},
   "outputs": [],
   "source": [
    "## 6. beta and alpha\n",
    "\n",
    "# beta = manufacturing labor income / manufacturing output\n",
    "βs = Y_l ./ (Xnn .+ exports); # 不知作者如何加权得出了 beta = 0.21221 这个数值"
   ]
  },
  {
   "cell_type": "code",
   "execution_count": 51,
   "metadata": {},
   "outputs": [
    {
     "data": {
      "text/plain": [
       "0.13481359059266587"
      ]
     },
     "execution_count": 51,
     "metadata": {},
     "output_type": "execute_result"
    }
   ],
   "source": [
    "# α = manufacturing expenditure / total expenditure\n",
    "αs = (Y_l .+ imports .- exports) ./ Y\n",
    "# 各国按 GDP 加权计算 α\n",
    "α = (αs .* Y ./ sum(Y)) |> sum"
   ]
  },
  {
   "cell_type": "code",
   "execution_count": 52,
   "metadata": {},
   "outputs": [
    {
     "data": {
      "text/plain": [
       "19-element Vector{Float64}:\n",
       " 1.7544529237502992e7\n",
       " 1.698955875089377e7\n",
       " 1.5833399009036487e7\n",
       " 3.0265746941543512e7\n",
       " 2.2674316460757434e7\n",
       " 2.961032442657884e7\n",
       " 4.16692756755408e7\n",
       " 5.2500947100976706e7\n",
       " 4.554426141833929e6\n",
       " 3.287115257228382e7\n",
       " 5.783901263733462e7\n",
       " 1.9592682687809773e7\n",
       " 8.0134737765731e6\n",
       " 2.799211710900181e7\n",
       " 2.666854947899769e6\n",
       " 1.4010278584995361e7\n",
       " 3.3529609708770443e7\n",
       " 3.165803122854782e7\n",
       " 6.5174433889454156e7"
      ]
     },
     "execution_count": 52,
     "metadata": {},
     "output_type": "execute_result"
    }
   ],
   "source": [
    "## 7. technology\n",
    "\n",
    "# 表示技术的 T 来源于 (27) 式，计算所需的 source dummies 的估计系数见 TABLE VI\n",
    "table3_estimate = estimators[\"table3_estimate\"]\n",
    "source_estimate = table3_estimate[11:29]\n",
    "# 这个 tech 使用的都是绝对数据，保持准确量纲，便于 wL 直接与 Y/Y_o 相比\n",
    "absolute_tech = (log.(effective_wage) .* θ .+ source_estimate) .* β .|> exp"
   ]
  },
  {
   "cell_type": "code",
   "execution_count": 53,
   "metadata": {},
   "outputs": [
    {
     "data": {
      "text/plain": [
       "19×19 Matrix{Float64}:\n",
       " 1.0          0.0017944   0.0017944   …  0.0017944   0.00299311  0.00299311\n",
       " 0.000264672  1.0         0.00478508     0.00565733  0.00330707  0.000434034\n",
       " 0.00434274   0.0785138   1.0            0.0542626   0.143411    0.00712164\n",
       " 0.00470793   0.00462852  0.00462852     0.00462852  0.00772052  0.114424\n",
       " 0.000852644  0.0154152   0.0159939      0.0271382   0.0159939   0.00139825\n",
       " 0.000372988  0.00797257  0.00466049  …  0.027301    0.00466049  0.000611661\n",
       " 0.00176402   0.0318922   0.130625       0.0220414   0.0582532   0.0028928\n",
       " 0.00385527   0.275153    0.0972176      0.0697006   0.0723172   0.00632224\n",
       " 0.000134211  0.00167696  0.00173991     0.00167696  0.00173991  0.000220091\n",
       " 0.00152226   0.0369976   0.0285545      0.0190206   0.0197346   0.00249634\n",
       " 0.0113429    0.0113429   0.0113429   …  0.0113429   0.0113429   0.00691683\n",
       " 0.00386594   0.0698936   0.171623       0.0698936   0.127665    0.00633974\n",
       " 0.0315633    0.0015144   0.0015144      0.0015144   0.00252607  0.00252607\n",
       " 0.000520707  0.01113     0.00941402     0.0381133   0.00941402  0.000853904\n",
       " 0.000423941  0.00529714  0.005496       0.00440598  0.005496    0.000695218\n",
       " 0.000446126  0.00557434  0.0057836   …  0.00463654  0.0057836   0.000731599\n",
       " 0.00138216   0.0295435   0.0172701      1.0         0.0172701   0.0022666\n",
       " 0.0053337    0.0399541   0.105595       0.0399541   1.0         0.00874671\n",
       " 0.0276396    0.0271734   0.0271734      0.0271734   0.045326    1.0"
      ]
     },
     "execution_count": 53,
     "metadata": {},
     "output_type": "execute_result"
    }
   ],
   "source": [
    "## 8. geography barrier\n",
    "# barrier_measure 来源于 (28) 式，为 -theta ln(dni)\n",
    "dni_measure = estimators[\"dni_measure\"]\n",
    "Dni = exp.(dni_measure) # dni^{-theta} 矩阵"
   ]
  },
  {
   "cell_type": "code",
   "execution_count": 54,
   "metadata": {},
   "outputs": [
    {
     "data": {
      "text/plain": [
       "72.2176306769607"
      ]
     },
     "execution_count": 54,
     "metadata": {},
     "output_type": "execute_result"
    }
   ],
   "source": [
    "## 9. gamma constant\n",
    "γ = β^β * (1 - β)^(1 - β) # 不知为何 γ 可以由 β 推出\n",
    "g = γ^(-θ)"
   ]
  },
  {
   "cell_type": "markdown",
   "metadata": {},
   "source": [
    "## Calibration\n",
    "\n",
    "求解一般均衡模型的多元非线性方程组，作为反事实模拟的 baseline"
   ]
  },
  {
   "cell_type": "code",
   "execution_count": 55,
   "metadata": {},
   "outputs": [],
   "source": [
    "struct Solve\n",
    "  p\n",
    "  L\n",
    "  W\n",
    "  Xni\n",
    "  trade_volumn\n",
    "end"
   ]
  },
  {
   "cell_type": "markdown",
   "metadata": {},
   "source": [
    "### 情境一 劳动力可以跨部门流动"
   ]
  },
  {
   "cell_type": "code",
   "execution_count": 56,
   "metadata": {},
   "outputs": [
    {
     "data": {
      "text/plain": [
       "Dict{String, Any} with 5 entries:\n",
       "  \"trade_volumn\" => 1.92072e12\n",
       "  \"W\"            => [4.19262e11, 2.23337e11, 2.8212e11, 8.30919e11, 1.83804e11,…\n",
       "  \"Xni\"          => [9.42192e10 9.46421e7 … 1.47821e9 8.75686e9; 2.68663e7 5.68…\n",
       "  \"L\"            => [1.64588e6, 1.20563e6, 1.314e6, 7.57545e6, 7.60466e5, 8.502…\n",
       "  \"p\"            => [0.0748662, 0.078304, 0.0615964, 0.0594699, 0.0728381, 0.07…"
      ]
     },
     "execution_count": 56,
     "metadata": {},
     "output_type": "execute_result"
    }
   ],
   "source": [
    "function model_mobile(tech, Dni)\n",
    "\n",
    "  # 不变参数\n",
    "  w = effective_wage\n",
    "  # Y = Y\n",
    "\n",
    "  # 可变参数\n",
    "  T = tech\n",
    "  D = Dni\n",
    "  k = g .* T .* (w .^ (-β * θ))\n",
    "\n",
    "  # 设定 P 的迭代初值\n",
    "  P_low = k .^ (1 / β)\n",
    "  P_high = sum(k)^(1 / β) .* ones(N)\n",
    "  P_start = (P_low .+ P_high) / 2\n",
    "\n",
    "  # (16) 式\n",
    "  function f!(F, P)\n",
    "    S = inv(D) * P .- k .* (P .^ (1 - β))\n",
    "    for i in 1:length(P)\n",
    "      F[i] = S[i]\n",
    "    end\n",
    "  end\n",
    "    \n",
    "  # 解 P\n",
    "  if D == ones(Int, N, N)\n",
    "    P = P_high\n",
    "  else\n",
    "    P = nlsolve(f!, P_start, iterations=200).zero\n",
    "  end\n",
    "\n",
    "  # 根据 P 推导其他变量\n",
    "  Pi = D .* kron(1 ./ P, (k .* P .^ (1 - β))')\n",
    "  L = α * β .* (1 ./ w) .* (inv(diagm(ones(Int, N)) .- (1 - β) .* Pi') * Pi' * Y)\n",
    "  Xn = w .* L .* (1 - β) / β + α .* Y\n",
    "  Xni = Pi .* kron(Xn, ones(Int, 1, N))\n",
    "  trade_volumn = sum(Xni) - sum(diag(Xni)) \n",
    "  W = Y .* P .^ (α / θ)\n",
    "\n",
    "  return Dict(\"p\" => P .^ (-1 / θ), \"L\" => L,\n",
    "    \"W\" => W, \"Xni\" => Xni, \"trade_volumn\" => trade_volumn)\n",
    "end\n",
    "\n",
    "\n",
    "baseline_mobile = model_mobile(absolute_tech, Dni)"
   ]
  },
  {
   "cell_type": "markdown",
   "metadata": {},
   "source": [
    "### 情境二 劳动力不能跨部门流动"
   ]
  },
  {
   "cell_type": "markdown",
   "metadata": {},
   "source": [
    "## Simulation"
   ]
  },
  {
   "cell_type": "code",
   "execution_count": null,
   "metadata": {},
   "outputs": [],
   "source": []
  },
  {
   "cell_type": "code",
   "execution_count": null,
   "metadata": {},
   "outputs": [],
   "source": []
  }
 ],
 "metadata": {
  "kernelspec": {
   "display_name": "Julia 1.7.3",
   "language": "julia",
   "name": "julia-1.7"
  },
  "language_info": {
   "file_extension": ".jl",
   "mimetype": "application/julia",
   "name": "julia",
   "version": "1.7.3"
  },
  "toc-autonumbering": true,
  "toc-showcode": false,
  "toc-showmarkdowntxt": false,
  "toc-showtags": false
 },
 "nbformat": 4,
 "nbformat_minor": 4
}
